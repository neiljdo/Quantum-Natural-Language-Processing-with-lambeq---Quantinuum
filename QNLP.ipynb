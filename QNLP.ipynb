{
 "cells": [
  {
   "cell_type": "markdown",
   "id": "d62aeddb-431d-4da5-a604-cfa78b629d36",
   "metadata": {},
   "source": [
    "# Quantum NLP Challenge"
   ]
  },
  {
   "cell_type": "code",
   "execution_count": 1,
   "id": "d8384c50-e218-4748-8d3f-9d6a18f7c264",
   "metadata": {},
   "outputs": [
    {
     "name": "stdout",
     "output_type": "stream",
     "text": [
      "Automatic pdb calling has been turned OFF\n"
     ]
    }
   ],
   "source": [
    "%pdb 0"
   ]
  },
  {
   "cell_type": "code",
   "execution_count": 2,
   "id": "02ad7c72-73bb-4bac-b1f2-5575e4994cef",
   "metadata": {},
   "outputs": [
    {
     "name": "stderr",
     "output_type": "stream",
     "text": [
      "UsageError: Line magic function `%matpotlib` not found.\n"
     ]
    }
   ],
   "source": [
    "%matpotlib inline"
   ]
  },
  {
   "cell_type": "code",
   "execution_count": 3,
   "id": "658ca4c9-759f-4aa7-b62b-55e3d768fe66",
   "metadata": {},
   "outputs": [],
   "source": [
    "import sys"
   ]
  },
  {
   "cell_type": "code",
   "execution_count": 4,
   "id": "0e348b11-5fad-402e-b8ab-a7bc353650e1",
   "metadata": {},
   "outputs": [],
   "source": [
    "# !{sys.executable} -m pip install pandas\n",
    "# !{sys.executable} -m pip install scikit-learn"
   ]
  },
  {
   "cell_type": "markdown",
   "id": "09019c59-286b-4983-8bdc-5a40c37191ab",
   "metadata": {},
   "source": [
    "## Data"
   ]
  },
  {
   "cell_type": "code",
   "execution_count": 5,
   "id": "996b0423-d07a-45e6-9e9e-91f7c4570b64",
   "metadata": {},
   "outputs": [],
   "source": [
    "import pandas as pd\n",
    "import numpy as np\n",
    "import sklearn as sk\n",
    "\n",
    "RANDOM_SEED = 220811\n",
    "np.random.seed(RANDOM_SEED)"
   ]
  },
  {
   "cell_type": "code",
   "execution_count": 12,
   "id": "9015dfc8-fa54-47a8-a099-7ccba346c18a",
   "metadata": {},
   "outputs": [],
   "source": [
    "import os\n",
    "import warnings\n",
    "\n",
    "warnings.filterwarnings(\"ignore\")\n",
    "os.environ[\"TOKENIZERS_PARALLELISM\"] = \"true\""
   ]
  },
  {
   "cell_type": "code",
   "execution_count": 11,
   "id": "f8c0b0f1-b807-422c-abb1-30a228b01814",
   "metadata": {},
   "outputs": [
    {
     "name": "stderr",
     "output_type": "stream",
     "text": [
      "/home/jovyan/.qbraid/environments/womanium_go14xk/pyenv/lib/python3.9/site-packages/lambeq/text2diagram/ccg_parser.py:24: TqdmExperimentalWarning: Using `tqdm.autonotebook.tqdm` in notebook mode. Use `tqdm.tqdm` instead to force console mode (e.g. in jupyter console)\n",
      "  from tqdm.autonotebook import tqdm\n"
     ]
    }
   ],
   "source": [
    "from lambeq import BobcatParser, DepCCGParser\n",
    "from discopy import grammar"
   ]
  },
  {
   "cell_type": "code",
   "execution_count": 13,
   "id": "85818514-b7e7-47e9-b85c-7bf2783375a9",
   "metadata": {},
   "outputs": [],
   "source": [
    "from lambeq import Rewriter"
   ]
  },
  {
   "cell_type": "code",
   "execution_count": 40,
   "id": "b98bf715-1af8-4ad9-8fcb-ea7eabde5a0d",
   "metadata": {},
   "outputs": [],
   "source": [
    "from lambeq import AtomicType, IQPAnsatz, remove_cups"
   ]
  },
  {
   "cell_type": "code",
   "execution_count": 48,
   "id": "7ab0cfc9-f775-4d44-9b55-4588ad216deb",
   "metadata": {},
   "outputs": [],
   "source": [
    "from pytket.extensions.qiskit import AerBackend\n",
    "from lambeq import TketModel"
   ]
  },
  {
   "cell_type": "code",
   "execution_count": 6,
   "id": "e1440d9e-f9fd-4a49-b330-dfc552b3f67b",
   "metadata": {},
   "outputs": [],
   "source": [
    "df = pd.read_csv(\"MC1.TXT\", header=None, sep=\", \", engine=\"python\")"
   ]
  },
  {
   "cell_type": "code",
   "execution_count": 7,
   "id": "cc9c15c0-982e-430f-a385-8cafdb0e6b21",
   "metadata": {},
   "outputs": [],
   "source": [
    "df.columns = [\"s1\", \"s2\", \"label\"]"
   ]
  },
  {
   "cell_type": "code",
   "execution_count": 8,
   "id": "d336df5e-0d38-493f-968d-1eeb99d3a853",
   "metadata": {},
   "outputs": [
    {
     "data": {
      "text/html": [
       "<div>\n",
       "<style scoped>\n",
       "    .dataframe tbody tr th:only-of-type {\n",
       "        vertical-align: middle;\n",
       "    }\n",
       "\n",
       "    .dataframe tbody tr th {\n",
       "        vertical-align: top;\n",
       "    }\n",
       "\n",
       "    .dataframe thead th {\n",
       "        text-align: right;\n",
       "    }\n",
       "</style>\n",
       "<table border=\"1\" class=\"dataframe\">\n",
       "  <thead>\n",
       "    <tr style=\"text-align: right;\">\n",
       "      <th></th>\n",
       "      <th>s1</th>\n",
       "      <th>s2</th>\n",
       "      <th>label</th>\n",
       "    </tr>\n",
       "  </thead>\n",
       "  <tbody>\n",
       "    <tr>\n",
       "      <th>0</th>\n",
       "      <td>cook creates complicated dish</td>\n",
       "      <td>experienced chef prepares complicated dish</td>\n",
       "      <td>1</td>\n",
       "    </tr>\n",
       "    <tr>\n",
       "      <th>1</th>\n",
       "      <td>skilful programmer creates code</td>\n",
       "      <td>devoted hacker writes code</td>\n",
       "      <td>1</td>\n",
       "    </tr>\n",
       "    <tr>\n",
       "      <th>2</th>\n",
       "      <td>skilful cook creates meal</td>\n",
       "      <td>devoted hacker creates complicated code</td>\n",
       "      <td>0</td>\n",
       "    </tr>\n",
       "    <tr>\n",
       "      <th>3</th>\n",
       "      <td>hacker writes code</td>\n",
       "      <td>skilful hacker creates code</td>\n",
       "      <td>1</td>\n",
       "    </tr>\n",
       "    <tr>\n",
       "      <th>4</th>\n",
       "      <td>devoted hacker writes code</td>\n",
       "      <td>hacker writes complicated code</td>\n",
       "      <td>1</td>\n",
       "    </tr>\n",
       "  </tbody>\n",
       "</table>\n",
       "</div>"
      ],
      "text/plain": [
       "                                s1  \\\n",
       "0    cook creates complicated dish   \n",
       "1  skilful programmer creates code   \n",
       "2        skilful cook creates meal   \n",
       "3               hacker writes code   \n",
       "4       devoted hacker writes code   \n",
       "\n",
       "                                           s2  label  \n",
       "0  experienced chef prepares complicated dish      1  \n",
       "1                  devoted hacker writes code      1  \n",
       "2     devoted hacker creates complicated code      0  \n",
       "3                 skilful hacker creates code      1  \n",
       "4              hacker writes complicated code      1  "
      ]
     },
     "execution_count": 8,
     "metadata": {},
     "output_type": "execute_result"
    }
   ],
   "source": [
    "df.head()"
   ]
  },
  {
   "cell_type": "code",
   "execution_count": 9,
   "id": "20daaeac-1e03-44ba-8024-edd3ac2ffc09",
   "metadata": {},
   "outputs": [],
   "source": [
    "vocab = set()\n",
    "lengths = set()\n",
    "\n",
    "for i, r in df.iterrows():\n",
    "    tokens = r.s1.split(\" \")\n",
    "    lengths.add(len(tokens))\n",
    "    [vocab.add(w) for w in tokens]\n",
    "    tokens = r.s2.split(\" \")\n",
    "    lengths.add(len(tokens))\n",
    "    [vocab.add(w) for w in tokens]"
   ]
  },
  {
   "cell_type": "code",
   "execution_count": 10,
   "id": "91f9b3f5-9f3f-463d-a4e6-c62b40c8f2d1",
   "metadata": {},
   "outputs": [
    {
     "name": "stdout",
     "output_type": "stream",
     "text": [
      "{'prepares', 'advanced', 'devoted', 'hacker', 'experienced', 'chef', 'tasty', 'writes', 'skilful', 'code', 'meal', 'cook', 'complicated', 'dish', 'creates', 'programmer'} 16 5\n"
     ]
    }
   ],
   "source": [
    "print(vocab, len(vocab), max(lengths))"
   ]
  },
  {
   "cell_type": "markdown",
   "id": "910dad7c-023c-4639-96ea-2fbbede0ee75",
   "metadata": {
    "tags": []
   },
   "source": [
    "## Lambeq tutorial"
   ]
  },
  {
   "cell_type": "markdown",
   "id": "d4f6626b-fc30-4e2c-b798-f53068782e12",
   "metadata": {},
   "source": [
    "### Sentence input"
   ]
  },
  {
   "cell_type": "code",
   "execution_count": 10,
   "id": "9c9b1054-5418-4e37-9b77-b4f3ca7f980b",
   "metadata": {},
   "outputs": [],
   "source": [
    "sentence = \"John walks in the park\""
   ]
  },
  {
   "cell_type": "code",
   "execution_count": 11,
   "id": "e2ec635d-f20c-491c-952c-8627329cd45c",
   "metadata": {},
   "outputs": [],
   "source": [
    "parser = BobcatParser()\n",
    "diagram = parser.sentence2diagram(sentence)"
   ]
  },
  {
   "cell_type": "code",
   "execution_count": 12,
   "id": "443184b7-5fb4-4c00-91da-83cd2cb0398a",
   "metadata": {},
   "outputs": [
    {
     "data": {
      "image/png": "[encoded data removed]",
      "text/plain": [
       "<Figure size 1152x288 with 1 Axes>"
      ]
     },
     "metadata": {},
     "output_type": "display_data"
    }
   ],
   "source": [
    "grammar.draw(diagram, figsize=(16, 4), fontsize=12)"
   ]
  },
  {
   "cell_type": "markdown",
   "id": "2cf117b3-7590-4d0d-bef5-106202c73bcc",
   "metadata": {},
   "source": [
    "### Diagram rewriting"
   ]
  },
  {
   "cell_type": "code",
   "execution_count": 14,
   "id": "401443d6-6a3a-4813-9794-e052a359e630",
   "metadata": {},
   "outputs": [],
   "source": [
    "# Prepositional phrase rewrite rule\n",
    "rewriter = Rewriter([\"prepositional_phrase\", \"determiner\"])\n",
    "rewritten_diagram = rewriter(diagram)"
   ]
  },
  {
   "cell_type": "code",
   "execution_count": 15,
   "id": "b2c9c1dd-590b-4b57-90c0-e931fffcefa4",
   "metadata": {},
   "outputs": [
    {
     "data": {
      "image/png": "[encoded data removed]",
      "text/plain": [
       "<Figure size 1152x288 with 1 Axes>"
      ]
     },
     "metadata": {},
     "output_type": "display_data"
    }
   ],
   "source": [
    "rewritten_diagram.draw(figsize=(16, 4), fontsize=12)"
   ]
  },
  {
   "cell_type": "code",
   "execution_count": 16,
   "id": "cb365b04-bdc8-475d-bf39-420240aafca6",
   "metadata": {},
   "outputs": [
    {
     "data": {
      "image/png": "[encoded data removed]",
      "text/plain": [
       "<Figure size 1152x288 with 1 Axes>"
      ]
     },
     "metadata": {},
     "output_type": "display_data"
    }
   ],
   "source": [
    "# Normalize\n",
    "normalized_diagram = rewritten_diagram.normal_form()\n",
    "normalized_diagram.draw(figsize=(16, 4), fontsize=12)"
   ]
  },
  {
   "cell_type": "markdown",
   "id": "9d557f18-d778-4ae0-aaee-e9e797fcc015",
   "metadata": {},
   "source": [
    "### Parametrization"
   ]
  },
  {
   "cell_type": "code",
   "execution_count": 18,
   "id": "d4b74a8c-5161-4693-ab2b-063fba751471",
   "metadata": {},
   "outputs": [],
   "source": [
    "# Atomic types\n",
    "N = AtomicType.NOUN\n",
    "S = AtomicType.SENTENCE"
   ]
  },
  {
   "cell_type": "code",
   "execution_count": 30,
   "id": "f67172ac-2435-4a95-9067-ac2faa422d92",
   "metadata": {},
   "outputs": [
    {
     "data": {
      "image/png": "[encoded data removed]",
      "text/plain": [
       "<Figure size 2880x1152 with 1 Axes>"
      ]
     },
     "metadata": {},
     "output_type": "display_data"
    }
   ],
   "source": [
    "# Convert string diagram to qc - 1 qubit per atomic type\n",
    "ansatz = IQPAnsatz({N: 1, S: 1}, n_layers=2)\n",
    "discopy_circuit = ansatz(normalized_diagram)\n",
    "discopy_circuit.draw(figsize=(40, 16), fontsize=12)"
   ]
  },
  {
   "cell_type": "code",
   "execution_count": 20,
   "id": "56c3f270-2292-496a-aa29-ba4ba9077b35",
   "metadata": {},
   "outputs": [],
   "source": [
    "# Convert qc from DisCoPy to pytket format\n",
    "from pytket.circuit.display import render_circuit_jupyter"
   ]
  },
  {
   "cell_type": "code",
   "execution_count": 21,
   "id": "226b5d20-f009-4b05-ab14-40587a736e45",
   "metadata": {},
   "outputs": [
    {
     "data": {
      "text/html": [
       "\n",
       "\n",
       "\n",
       "\n",
       "\n",
       "\n",
       "<iframe srcdoc=\"\n",
       "&lt;!DOCTYPE html&gt;\n",
       "&lt;html lang=&#34;en&#34;&gt;\n",
       "&lt;head&gt;\n",
       "    &lt;meta charset=&#34;UTF-8&#34;&gt;\n",
       "\n",
       "    &lt;script type=&#34;application/javascript&#34; src=&#34;https://cdn.jsdelivr.net/npm/vue@3&#34;&gt;&lt;/script&gt;\n",
       "    &lt;script type=&#34;application/javascript&#34; src=&#34;https://unpkg.com/pytket-circuit-renderer@0.2/dist/pytket-circuit-renderer.umd.js&#34;&gt;&lt;/script&gt;\n",
       "    &lt;link rel=&#34;stylesheet&#34; href=&#34;https://unpkg.com/pytket-circuit-renderer@0.2/dist/pytket-circuit-renderer.css&#34;&gt;\n",
       "&lt;/head&gt;\n",
       "&lt;body&gt;\n",
       "    &lt;div id=&#34;circuit-display-vue-container-9ce84e5b-e51f-49fc-905c-2e899b511b92&#34; class=&#34;pytket-circuit-display-container&#34;&gt;\n",
       "        &lt;div style=&#34;display: none&#34;&gt;\n",
       "            &lt;div id=&#34;circuit-json-to-display&#34;&gt;{&#34;bits&#34;: [[&#34;c&#34;, [0]], [&#34;c&#34;, [1]], [&#34;c&#34;, [2]], [&#34;c&#34;, [3]], [&#34;c&#34;, [4]], [&#34;c&#34;, [5]]], &#34;commands&#34;: [{&#34;args&#34;: [[&#34;q&#34;, [0]]], &#34;op&#34;: {&#34;params&#34;: [&#34;2*John__n_0&#34;], &#34;type&#34;: &#34;Rx&#34;}}, {&#34;args&#34;: [[&#34;q&#34;, [1]]], &#34;op&#34;: {&#34;type&#34;: &#34;H&#34;}}, {&#34;args&#34;: [[&#34;q&#34;, [2]]], &#34;op&#34;: {&#34;type&#34;: &#34;H&#34;}}, {&#34;args&#34;: [[&#34;q&#34;, [3]]], &#34;op&#34;: {&#34;type&#34;: &#34;H&#34;}}, {&#34;args&#34;: [[&#34;q&#34;, [4]]], &#34;op&#34;: {&#34;type&#34;: &#34;H&#34;}}, {&#34;args&#34;: [[&#34;q&#34;, [5]]], &#34;op&#34;: {&#34;type&#34;: &#34;H&#34;}}, {&#34;args&#34;: [[&#34;q&#34;, [6]]], &#34;op&#34;: {&#34;params&#34;: [&#34;2*park__n_0&#34;], &#34;type&#34;: &#34;Rx&#34;}}, {&#34;args&#34;: [[&#34;q&#34;, [0]]], &#34;op&#34;: {&#34;params&#34;: [&#34;2*John__n_1&#34;], &#34;type&#34;: &#34;Rz&#34;}}, {&#34;args&#34;: [[&#34;q&#34;, [1]], [&#34;q&#34;, [2]]], &#34;op&#34;: {&#34;params&#34;: [&#34;2*walks__n.r@s_0&#34;], &#34;type&#34;: &#34;CRz&#34;}}, {&#34;args&#34;: [[&#34;q&#34;, [3]], [&#34;q&#34;, [4]]], &#34;op&#34;: {&#34;params&#34;: [&#34;2*in__s.r@s@n.l_0&#34;], &#34;type&#34;: &#34;CRz&#34;}}, {&#34;args&#34;: [[&#34;q&#34;, [6]]], &#34;op&#34;: {&#34;params&#34;: [&#34;2*park__n_1&#34;], &#34;type&#34;: &#34;Rz&#34;}}, {&#34;args&#34;: [[&#34;q&#34;, [0]]], &#34;op&#34;: {&#34;params&#34;: [&#34;2*John__n_2&#34;], &#34;type&#34;: &#34;Rx&#34;}}, {&#34;args&#34;: [[&#34;q&#34;, [1]]], &#34;op&#34;: {&#34;type&#34;: &#34;H&#34;}}, {&#34;args&#34;: [[&#34;q&#34;, [2]]], &#34;op&#34;: {&#34;type&#34;: &#34;H&#34;}}, {&#34;args&#34;: [[&#34;q&#34;, [3]]], &#34;op&#34;: {&#34;type&#34;: &#34;H&#34;}}, {&#34;args&#34;: [[&#34;q&#34;, [4]], [&#34;q&#34;, [5]]], &#34;op&#34;: {&#34;params&#34;: [&#34;2*in__s.r@s@n.l_1&#34;], &#34;type&#34;: &#34;CRz&#34;}}, {&#34;args&#34;: [[&#34;q&#34;, [6]]], &#34;op&#34;: {&#34;params&#34;: [&#34;2*park__n_2&#34;], &#34;type&#34;: &#34;Rx&#34;}}, {&#34;args&#34;: [[&#34;q&#34;, [1]], [&#34;q&#34;, [2]]], &#34;op&#34;: {&#34;params&#34;: [&#34;2*walks__n.r@s_1&#34;], &#34;type&#34;: &#34;CRz&#34;}}, {&#34;args&#34;: [[&#34;q&#34;, [4]]], &#34;op&#34;: {&#34;type&#34;: &#34;H&#34;}}, {&#34;args&#34;: [[&#34;q&#34;, [5]]], &#34;op&#34;: {&#34;type&#34;: &#34;H&#34;}}, {&#34;args&#34;: [[&#34;q&#34;, [0]], [&#34;q&#34;, [1]]], &#34;op&#34;: {&#34;type&#34;: &#34;CX&#34;}}, {&#34;args&#34;: [[&#34;q&#34;, [3]], [&#34;q&#34;, [4]]], &#34;op&#34;: {&#34;params&#34;: [&#34;2*in__s.r@s@n.l_2&#34;], &#34;type&#34;: &#34;CRz&#34;}}, {&#34;args&#34;: [[&#34;q&#34;, [1]], [&#34;c&#34;, [1]]], &#34;op&#34;: {&#34;type&#34;: &#34;Measure&#34;}}, {&#34;args&#34;: [[&#34;q&#34;, [0]]], &#34;op&#34;: {&#34;type&#34;: &#34;H&#34;}}, {&#34;args&#34;: [[&#34;q&#34;, [2]], [&#34;q&#34;, [3]]], &#34;op&#34;: {&#34;type&#34;: &#34;CX&#34;}}, {&#34;args&#34;: [[&#34;q&#34;, [4]], [&#34;q&#34;, [5]]], &#34;op&#34;: {&#34;params&#34;: [&#34;2*in__s.r@s@n.l_3&#34;], &#34;type&#34;: &#34;CRz&#34;}}, {&#34;args&#34;: [[&#34;q&#34;, [0]], [&#34;c&#34;, [0]]], &#34;op&#34;: {&#34;type&#34;: &#34;Measure&#34;}}, {&#34;args&#34;: [[&#34;q&#34;, [3]], [&#34;c&#34;, [3]]], &#34;op&#34;: {&#34;type&#34;: &#34;Measure&#34;}}, {&#34;args&#34;: [[&#34;q&#34;, [2]]], &#34;op&#34;: {&#34;type&#34;: &#34;H&#34;}}, {&#34;args&#34;: [[&#34;q&#34;, [5]], [&#34;q&#34;, [6]]], &#34;op&#34;: {&#34;type&#34;: &#34;CX&#34;}}, {&#34;args&#34;: [[&#34;q&#34;, [2]], [&#34;c&#34;, [2]]], &#34;op&#34;: {&#34;type&#34;: &#34;Measure&#34;}}, {&#34;args&#34;: [[&#34;q&#34;, [6]], [&#34;c&#34;, [5]]], &#34;op&#34;: {&#34;type&#34;: &#34;Measure&#34;}}, {&#34;args&#34;: [[&#34;q&#34;, [5]]], &#34;op&#34;: {&#34;type&#34;: &#34;H&#34;}}, {&#34;args&#34;: [[&#34;q&#34;, [5]], [&#34;c&#34;, [4]]], &#34;op&#34;: {&#34;type&#34;: &#34;Measure&#34;}}], &#34;implicit_permutation&#34;: [[[&#34;q&#34;, [0]], [&#34;q&#34;, [0]]], [[&#34;q&#34;, [1]], [&#34;q&#34;, [1]]], [[&#34;q&#34;, [2]], [&#34;q&#34;, [2]]], [[&#34;q&#34;, [3]], [&#34;q&#34;, [3]]], [[&#34;q&#34;, [4]], [&#34;q&#34;, [4]]], [[&#34;q&#34;, [5]], [&#34;q&#34;, [5]]], [[&#34;q&#34;, [6]], [&#34;q&#34;, [6]]]], &#34;phase&#34;: &#34;0.0&#34;, &#34;qubits&#34;: [[&#34;q&#34;, [0]], [&#34;q&#34;, [1]], [&#34;q&#34;, [2]], [&#34;q&#34;, [3]], [&#34;q&#34;, [4]], [&#34;q&#34;, [5]], [&#34;q&#34;, [6]]]}&lt;/div&gt;\n",
       "        &lt;/div&gt;\n",
       "        &lt;circuit-display-container :circuit-element-str=&#34;&#39;#circuit-json-to-display&#39;&#34;&gt;&lt;/circuit-display-container&gt;\n",
       "    &lt;/div&gt;\n",
       "\n",
       "    &lt;script type=&#34;application/javascript&#34;&gt;\n",
       "        const { createApp } = Vue;\n",
       "        const circuitDisplayContainer = window[&#34;pytket-circuit-renderer&#34;].default;\n",
       "\n",
       "        // Init variables to be shared between circuit display instances\n",
       "        if (typeof window.pytketCircuitDisplays === &#34;undefined&#34;) {\n",
       "            window.pytketCircuitDisplays = {};\n",
       "        }\n",
       "\n",
       "        const uid = &#34;9ce84e5b-e51f-49fc-905c-2e899b511b92&#34;;\n",
       "\n",
       "        // Create the root Vue component\n",
       "        window.pytketCircuitDisplays[uid] = createApp({\n",
       "            delimiters: [&#39;[[#&#39;, &#39;#]]&#39;],\n",
       "            components: { circuitDisplayContainer },\n",
       "        }).mount(&#34;#circuit-display-vue-container-&#34;+uid);\n",
       "    &lt;/script&gt;\n",
       "&lt;/body&gt;\n",
       "&lt;/html&gt;\n",
       "\"\n",
       "        width=\"100%\" height=\"200px\"\n",
       "        style=\"border: none; outline: none; resize: vertical; overflow: auto\"></iframe>\n",
       "\n"
      ],
      "text/plain": [
       "<IPython.core.display.HTML object>"
      ]
     },
     "metadata": {},
     "output_type": "display_data"
    }
   ],
   "source": [
    "tket_circuit = discopy_circuit.to_tk()\n",
    "render_circuit_jupyter(tket_circuit)"
   ]
  },
  {
   "cell_type": "markdown",
   "id": "25d4bd56-ba47-4f2e-a17b-234a4d7f72f0",
   "metadata": {},
   "source": [
    "### Training: Quantum case"
   ]
  },
  {
   "cell_type": "code",
   "execution_count": 13,
   "id": "44c9d0cc-a3f2-40c9-ac93-4a2007025034",
   "metadata": {},
   "outputs": [],
   "source": [
    "BATCH_SIZE = 30\n",
    "EPOCHS = 1"
   ]
  },
  {
   "cell_type": "code",
   "execution_count": 14,
   "id": "7c3dea6c-cb15-4fa4-80d4-1886313848f9",
   "metadata": {},
   "outputs": [
    {
     "data": {
      "text/html": [
       "<div>\n",
       "<style scoped>\n",
       "    .dataframe tbody tr th:only-of-type {\n",
       "        vertical-align: middle;\n",
       "    }\n",
       "\n",
       "    .dataframe tbody tr th {\n",
       "        vertical-align: top;\n",
       "    }\n",
       "\n",
       "    .dataframe thead th {\n",
       "        text-align: right;\n",
       "    }\n",
       "</style>\n",
       "<table border=\"1\" class=\"dataframe\">\n",
       "  <thead>\n",
       "    <tr style=\"text-align: right;\">\n",
       "      <th></th>\n",
       "      <th>s1</th>\n",
       "      <th>s2</th>\n",
       "      <th>label</th>\n",
       "    </tr>\n",
       "  </thead>\n",
       "  <tbody>\n",
       "    <tr>\n",
       "      <th>0</th>\n",
       "      <td>cook creates complicated dish</td>\n",
       "      <td>experienced chef prepares complicated dish</td>\n",
       "      <td>1</td>\n",
       "    </tr>\n",
       "    <tr>\n",
       "      <th>1</th>\n",
       "      <td>skilful programmer creates code</td>\n",
       "      <td>devoted hacker writes code</td>\n",
       "      <td>1</td>\n",
       "    </tr>\n",
       "    <tr>\n",
       "      <th>2</th>\n",
       "      <td>skilful cook creates meal</td>\n",
       "      <td>devoted hacker creates complicated code</td>\n",
       "      <td>0</td>\n",
       "    </tr>\n",
       "    <tr>\n",
       "      <th>3</th>\n",
       "      <td>hacker writes code</td>\n",
       "      <td>skilful hacker creates code</td>\n",
       "      <td>1</td>\n",
       "    </tr>\n",
       "    <tr>\n",
       "      <th>4</th>\n",
       "      <td>devoted hacker writes code</td>\n",
       "      <td>hacker writes complicated code</td>\n",
       "      <td>1</td>\n",
       "    </tr>\n",
       "  </tbody>\n",
       "</table>\n",
       "</div>"
      ],
      "text/plain": [
       "                                s1  \\\n",
       "0    cook creates complicated dish   \n",
       "1  skilful programmer creates code   \n",
       "2        skilful cook creates meal   \n",
       "3               hacker writes code   \n",
       "4       devoted hacker writes code   \n",
       "\n",
       "                                           s2  label  \n",
       "0  experienced chef prepares complicated dish      1  \n",
       "1                  devoted hacker writes code      1  \n",
       "2     devoted hacker creates complicated code      0  \n",
       "3                 skilful hacker creates code      1  \n",
       "4              hacker writes complicated code      1  "
      ]
     },
     "execution_count": 14,
     "metadata": {},
     "output_type": "execute_result"
    }
   ],
   "source": [
    "df.head()"
   ]
  },
  {
   "cell_type": "markdown",
   "id": "9d4909c1-0056-4a35-ae9e-82eeb8f0f3ab",
   "metadata": {},
   "source": [
    "Inspecting `grammar.json`:"
   ]
  },
  {
   "cell_type": "code",
   "execution_count": 16,
   "id": "f0e89bcc-f8e0-4e4b-bc4f-c80f203630b0",
   "metadata": {},
   "outputs": [],
   "source": [
    "import json"
   ]
  },
  {
   "cell_type": "code",
   "execution_count": 17,
   "id": "8f265f52-4bc3-4af5-a6a0-ae7698c4e0b1",
   "metadata": {},
   "outputs": [],
   "source": [
    "grammar_json_path = \"/home/jovyan/.cache/lambeq/bobcat/bert/grammar.json\""
   ]
  },
  {
   "cell_type": "code",
   "execution_count": 18,
   "id": "68f59f0c-c5fc-4b20-b016-ccc3bb129646",
   "metadata": {},
   "outputs": [],
   "source": [
    "with open(grammar_json_path, \"r\") as f:\n",
    "    grammar_json = json.load(f)"
   ]
  },
  {
   "cell_type": "markdown",
   "id": "25f91e34-7fed-42f9-91ca-afb2438d1156",
   "metadata": {},
   "source": [
    "Based on the sentence structures, we have the following grammatical structures. This might be important later.\n",
    "- Noun\n",
    "- Noun phrase\n",
    "- Sentence\n",
    "- Verb (transitive)\n",
    "- Adjective"
   ]
  },
  {
   "cell_type": "code",
   "execution_count": 15,
   "id": "9f412f83-8c59-4b4f-9579-f0a04b4cf53e",
   "metadata": {},
   "outputs": [
    {
     "data": {
      "text/plain": [
       "(100, 3)"
      ]
     },
     "execution_count": 15,
     "metadata": {},
     "output_type": "execute_result"
    }
   ],
   "source": [
    "df.shape"
   ]
  },
  {
   "cell_type": "code",
   "execution_count": 16,
   "id": "b41610dd-14d3-4e65-b92d-a8dbac716330",
   "metadata": {},
   "outputs": [
    {
     "data": {
      "text/plain": [
       "(53, 3)"
      ]
     },
     "execution_count": 16,
     "metadata": {},
     "output_type": "execute_result"
    }
   ],
   "source": [
    "df[df[\"label\"] == 1].shape"
   ]
  },
  {
   "cell_type": "code",
   "execution_count": 17,
   "id": "f6cace6f-c9e4-492a-93dc-5f898fa47fda",
   "metadata": {},
   "outputs": [],
   "source": [
    "from sklearn.model_selection import train_test_split, RepeatedKFold"
   ]
  },
  {
   "cell_type": "code",
   "execution_count": 18,
   "id": "14ba728f-d3b0-4c50-b037-029e5d121d47",
   "metadata": {},
   "outputs": [],
   "source": [
    "df_train_val, df_test = train_test_split(df, test_size=0.2, shuffle=True)"
   ]
  },
  {
   "cell_type": "code",
   "execution_count": 19,
   "id": "75cdb169-3eb1-45b2-94af-0e61f25d429c",
   "metadata": {},
   "outputs": [
    {
     "data": {
      "text/plain": [
       "(80, 3)"
      ]
     },
     "execution_count": 19,
     "metadata": {},
     "output_type": "execute_result"
    }
   ],
   "source": [
    "df_train_val.shape"
   ]
  },
  {
   "cell_type": "code",
   "execution_count": 20,
   "id": "529f01e7-2853-4163-87a5-b0a7c401e143",
   "metadata": {},
   "outputs": [],
   "source": [
    "rkf = RepeatedKFold(n_splits=5, n_repeats=5)"
   ]
  },
  {
   "cell_type": "code",
   "execution_count": 21,
   "id": "fe3bacaa-da27-41b9-a526-b976e7a2dc29",
   "metadata": {},
   "outputs": [],
   "source": [
    "rkf_splits = list(rkf.split(df_train_val))"
   ]
  },
  {
   "cell_type": "code",
   "execution_count": 22,
   "id": "cbf3f9ea-b26a-40e4-a3b5-f1d1138a27d0",
   "metadata": {},
   "outputs": [],
   "source": [
    "parser = BobcatParser()"
   ]
  },
  {
   "cell_type": "code",
   "execution_count": 41,
   "id": "71c1f756-117f-46c6-980c-39df1e48bdb5",
   "metadata": {},
   "outputs": [],
   "source": [
    "ansatz = IQPAnsatz({AtomicType.NOUN: 1, AtomicType.SENTENCE: 1},\n",
    "                   n_layers=1, n_single_qubit_params=3)"
   ]
  },
  {
   "cell_type": "code",
   "execution_count": 23,
   "id": "a6f1d386-830e-4e2b-aff3-3a54589d10f7",
   "metadata": {},
   "outputs": [],
   "source": [
    "train_idx, val_idx = rkf_splits[0]\n",
    "df_train, df_val = df_train_val.iloc[train_idx], df_train_val.iloc[val_idx]"
   ]
  },
  {
   "cell_type": "code",
   "execution_count": 51,
   "id": "899ee093-31de-4b7b-a6b5-5e080913aed2",
   "metadata": {},
   "outputs": [],
   "source": [
    "def preprocess_df(df):\n",
    "    # Create raw diagram for both datasets.\n",
    "    # We require both sentences to have a diagram\n",
    "    # so it can be part of the dataset.\n",
    "    df[\"s1_diagram\"] = parser.sentences2diagrams(list(df[\"s1\"].values), suppress_exceptions=True)\n",
    "    df[\"s2_diagram\"] = parser.sentences2diagrams(list(df[\"s2\"].values), suppress_exceptions=True)\n",
    "    df.dropna(inplace=True)\n",
    "\n",
    "    # Convert to normal form\n",
    "    df[\"s1_diagram\"] = df[\"s1_diagram\"].apply(lambda d: d.normal_form())\n",
    "    df[\"s2_diagram\"] = df[\"s2_diagram\"].apply(lambda d: d.normal_form())\n",
    "\n",
    "    # Vectorize label\n",
    "    df[\"label_v\"] = df[\"label\"].apply(lambda l: [1, 0] if l == 0 else [0, 1])\n",
    "\n",
    "    # Create circuits\n",
    "    df[\"s1_circuit\"] = df[\"s1_diagram\"].apply(lambda d: ansatz(remove_cups(d)))\n",
    "    df[\"s2_circuit\"] = df[\"s2_diagram\"].apply(lambda d: ansatz(remove_cups(d)))"
   ]
  },
  {
   "cell_type": "code",
   "execution_count": 52,
   "id": "c240f299-0076-4b6f-a7a1-25760c57814b",
   "metadata": {},
   "outputs": [
    {
     "data": {
      "application/vnd.jupyter.widget-view+json": {
       "model_id": "",
       "version_major": 2,
       "version_minor": 0
      },
      "text/plain": [
       "Tagging sentences:   0%|          | 0/16 [00:00<?, ?it/s]"
      ]
     },
     "metadata": {},
     "output_type": "display_data"
    },
    {
     "data": {
      "application/vnd.jupyter.widget-view+json": {
       "model_id": "",
       "version_major": 2,
       "version_minor": 0
      },
      "text/plain": [
       "Parsing tagged sentences:   0%|          | 0/64 [00:00<?, ?it/s]"
      ]
     },
     "metadata": {},
     "output_type": "display_data"
    },
    {
     "data": {
      "application/vnd.jupyter.widget-view+json": {
       "model_id": "",
       "version_major": 2,
       "version_minor": 0
      },
      "text/plain": [
       "Parse trees to diagrams:   0%|          | 0/64 [00:00<?, ?it/s]"
      ]
     },
     "metadata": {},
     "output_type": "display_data"
    },
    {
     "data": {
      "application/vnd.jupyter.widget-view+json": {
       "model_id": "",
       "version_major": 2,
       "version_minor": 0
      },
      "text/plain": [
       "Tagging sentences:   0%|          | 0/16 [00:00<?, ?it/s]"
      ]
     },
     "metadata": {},
     "output_type": "display_data"
    },
    {
     "data": {
      "application/vnd.jupyter.widget-view+json": {
       "model_id": "",
       "version_major": 2,
       "version_minor": 0
      },
      "text/plain": [
       "Parsing tagged sentences:   0%|          | 0/64 [00:00<?, ?it/s]"
      ]
     },
     "metadata": {},
     "output_type": "display_data"
    },
    {
     "data": {
      "application/vnd.jupyter.widget-view+json": {
       "model_id": "",
       "version_major": 2,
       "version_minor": 0
      },
      "text/plain": [
       "Parse trees to diagrams:   0%|          | 0/64 [00:00<?, ?it/s]"
      ]
     },
     "metadata": {},
     "output_type": "display_data"
    }
   ],
   "source": [
    "preprocess_df(df_train)"
   ]
  },
  {
   "cell_type": "code",
   "execution_count": 53,
   "id": "717e2054-1bce-4820-a148-88775247a55f",
   "metadata": {},
   "outputs": [
    {
     "data": {
      "text/html": [
       "<div>\n",
       "<style scoped>\n",
       "    .dataframe tbody tr th:only-of-type {\n",
       "        vertical-align: middle;\n",
       "    }\n",
       "\n",
       "    .dataframe tbody tr th {\n",
       "        vertical-align: top;\n",
       "    }\n",
       "\n",
       "    .dataframe thead th {\n",
       "        text-align: right;\n",
       "    }\n",
       "</style>\n",
       "<table border=\"1\" class=\"dataframe\">\n",
       "  <thead>\n",
       "    <tr style=\"text-align: right;\">\n",
       "      <th></th>\n",
       "      <th>s1</th>\n",
       "      <th>s2</th>\n",
       "      <th>label</th>\n",
       "      <th>s1_diagram</th>\n",
       "      <th>s2_diagram</th>\n",
       "      <th>label_v</th>\n",
       "      <th>s1_circuit</th>\n",
       "      <th>s2_circuit</th>\n",
       "    </tr>\n",
       "  </thead>\n",
       "  <tbody>\n",
       "    <tr>\n",
       "      <th>40</th>\n",
       "      <td>hacker creates code</td>\n",
       "      <td>skilful chef creates meal</td>\n",
       "      <td>0</td>\n",
       "      <td>(((hacker)), ((Id(n) @ creates)), ((Cup(n, n.r...</td>\n",
       "      <td>(((skilful)), ((Id(n) @ creates @ Id(n.l))), (...</td>\n",
       "      <td>[1, 0]</td>\n",
       "      <td>(((Ket(0, 0, 0))), ((H @ Id(2))), ((Id(1) @ H ...</td>\n",
       "      <td>(((Ket(0, 0))), ((H @ Id(1))), ((Id(1) @ H)), ...</td>\n",
       "    </tr>\n",
       "    <tr>\n",
       "      <th>80</th>\n",
       "      <td>devoted hacker creates complicated code</td>\n",
       "      <td>skilful cook prepares complicated meal</td>\n",
       "      <td>0</td>\n",
       "      <td>(((devoted)), ((Id(n) @ creates @ Id(n.l))), (...</td>\n",
       "      <td>(((skilful)), ((Id(n) @ prepares @ Id(n.l))), ...</td>\n",
       "      <td>[1, 0]</td>\n",
       "      <td>(((Ket(0, 0))), ((H @ Id(1))), ((Id(1) @ H)), ...</td>\n",
       "      <td>(((Ket(0, 0))), ((H @ Id(1))), ((Id(1) @ H)), ...</td>\n",
       "    </tr>\n",
       "    <tr>\n",
       "      <th>7</th>\n",
       "      <td>devoted programmer creates advanced code</td>\n",
       "      <td>skilful programmer writes advanced code</td>\n",
       "      <td>1</td>\n",
       "      <td>(((devoted)), ((Id(n) @ creates @ Id(n.l))), (...</td>\n",
       "      <td>(((skilful)), ((Id(n) @ writes @ Id(n.l))), ((...</td>\n",
       "      <td>[0, 1]</td>\n",
       "      <td>(((Ket(0, 0))), ((H @ Id(1))), ((Id(1) @ H)), ...</td>\n",
       "      <td>(((Ket(0, 0))), ((H @ Id(1))), ((Id(1) @ H)), ...</td>\n",
       "    </tr>\n",
       "    <tr>\n",
       "      <th>76</th>\n",
       "      <td>devoted hacker writes complicated code</td>\n",
       "      <td>skilful chef creates dish</td>\n",
       "      <td>0</td>\n",
       "      <td>(((devoted)), ((Id(n) @ writes @ Id(n.l))), ((...</td>\n",
       "      <td>(((skilful)), ((Id(n) @ creates @ Id(n.l))), (...</td>\n",
       "      <td>[1, 0]</td>\n",
       "      <td>(((Ket(0, 0))), ((H @ Id(1))), ((Id(1) @ H)), ...</td>\n",
       "      <td>(((Ket(0, 0))), ((H @ Id(1))), ((Id(1) @ H)), ...</td>\n",
       "    </tr>\n",
       "    <tr>\n",
       "      <th>79</th>\n",
       "      <td>skilful programmer creates complicated code</td>\n",
       "      <td>chef creates meal</td>\n",
       "      <td>0</td>\n",
       "      <td>(((skilful)), ((Id(n) @ creates @ Id(n.l))), (...</td>\n",
       "      <td>(((chef)), ((Id(n) @ creates)), ((Cup(n, n.r) ...</td>\n",
       "      <td>[1, 0]</td>\n",
       "      <td>(((Ket(0, 0))), ((H @ Id(1))), ((Id(1) @ H)), ...</td>\n",
       "      <td>(((Ket(0, 0, 0))), ((H @ Id(2))), ((Id(1) @ H ...</td>\n",
       "    </tr>\n",
       "  </tbody>\n",
       "</table>\n",
       "</div>"
      ],
      "text/plain": [
       "                                             s1  \\\n",
       "40                          hacker creates code   \n",
       "80      devoted hacker creates complicated code   \n",
       "7      devoted programmer creates advanced code   \n",
       "76       devoted hacker writes complicated code   \n",
       "79  skilful programmer creates complicated code   \n",
       "\n",
       "                                         s2  label  \\\n",
       "40                skilful chef creates meal      0   \n",
       "80   skilful cook prepares complicated meal      0   \n",
       "7   skilful programmer writes advanced code      1   \n",
       "76                skilful chef creates dish      0   \n",
       "79                        chef creates meal      0   \n",
       "\n",
       "                                           s1_diagram  \\\n",
       "40  (((hacker)), ((Id(n) @ creates)), ((Cup(n, n.r...   \n",
       "80  (((devoted)), ((Id(n) @ creates @ Id(n.l))), (...   \n",
       "7   (((devoted)), ((Id(n) @ creates @ Id(n.l))), (...   \n",
       "76  (((devoted)), ((Id(n) @ writes @ Id(n.l))), ((...   \n",
       "79  (((skilful)), ((Id(n) @ creates @ Id(n.l))), (...   \n",
       "\n",
       "                                           s2_diagram label_v  \\\n",
       "40  (((skilful)), ((Id(n) @ creates @ Id(n.l))), (...  [1, 0]   \n",
       "80  (((skilful)), ((Id(n) @ prepares @ Id(n.l))), ...  [1, 0]   \n",
       "7   (((skilful)), ((Id(n) @ writes @ Id(n.l))), ((...  [0, 1]   \n",
       "76  (((skilful)), ((Id(n) @ creates @ Id(n.l))), (...  [1, 0]   \n",
       "79  (((chef)), ((Id(n) @ creates)), ((Cup(n, n.r) ...  [1, 0]   \n",
       "\n",
       "                                           s1_circuit  \\\n",
       "40  (((Ket(0, 0, 0))), ((H @ Id(2))), ((Id(1) @ H ...   \n",
       "80  (((Ket(0, 0))), ((H @ Id(1))), ((Id(1) @ H)), ...   \n",
       "7   (((Ket(0, 0))), ((H @ Id(1))), ((Id(1) @ H)), ...   \n",
       "76  (((Ket(0, 0))), ((H @ Id(1))), ((Id(1) @ H)), ...   \n",
       "79  (((Ket(0, 0))), ((H @ Id(1))), ((Id(1) @ H)), ...   \n",
       "\n",
       "                                           s2_circuit  \n",
       "40  (((Ket(0, 0))), ((H @ Id(1))), ((Id(1) @ H)), ...  \n",
       "80  (((Ket(0, 0))), ((H @ Id(1))), ((Id(1) @ H)), ...  \n",
       "7   (((Ket(0, 0))), ((H @ Id(1))), ((Id(1) @ H)), ...  \n",
       "76  (((Ket(0, 0))), ((H @ Id(1))), ((Id(1) @ H)), ...  \n",
       "79  (((Ket(0, 0, 0))), ((H @ Id(2))), ((Id(1) @ H ...  "
      ]
     },
     "execution_count": 53,
     "metadata": {},
     "output_type": "execute_result"
    }
   ],
   "source": [
    "df_train.head()"
   ]
  },
  {
   "cell_type": "code",
   "execution_count": 54,
   "id": "4d8eee66-c164-402e-b6d2-0f6fd082154c",
   "metadata": {},
   "outputs": [
    {
     "data": {
      "image/png": "[encoded data removed]",
      "text/plain": [
       "<Figure size 288x216 with 1 Axes>"
      ]
     },
     "metadata": {},
     "output_type": "display_data"
    }
   ],
   "source": [
    "df_train[\"s1_diagram\"][40].draw(figsize=(4, 3), fontsize=12)"
   ]
  },
  {
   "cell_type": "code",
   "execution_count": 55,
   "id": "79ebed54-c51c-490d-9562-6d43a6937954",
   "metadata": {},
   "outputs": [
    {
     "data": {
      "image/png": "[encoded data removed]",
      "text/plain": [
       "<Figure size 288x216 with 1 Axes>"
      ]
     },
     "metadata": {},
     "output_type": "display_data"
    }
   ],
   "source": [
    "df_train[\"s2_diagram\"][40].draw(figsize=(4, 3), fontsize=12)"
   ]
  },
  {
   "cell_type": "code",
   "execution_count": 56,
   "id": "255717cc-2da7-4141-abc4-2c0e5aaafacb",
   "metadata": {},
   "outputs": [
    {
     "data": {
      "image/png": "[encoded data removed]",
      "text/plain": [
       "<Figure size 288x216 with 1 Axes>"
      ]
     },
     "metadata": {},
     "output_type": "display_data"
    }
   ],
   "source": [
    "df_train[\"s1_circuit\"][40].draw(figsize=(4, 3), fontsize=12)"
   ]
  },
  {
   "cell_type": "code",
   "execution_count": 57,
   "id": "f28aa2e5-d9a0-4d3e-a075-ff7217f5578c",
   "metadata": {},
   "outputs": [
    {
     "data": {
      "image/png": "[encoded data removed]",
      "text/plain": [
       "<Figure size 288x216 with 1 Axes>"
      ]
     },
     "metadata": {},
     "output_type": "display_data"
    }
   ],
   "source": [
    "df_train[\"s2_circuit\"][40].draw(figsize=(4, 3), fontsize=12)"
   ]
  },
  {
   "cell_type": "code",
   "execution_count": 58,
   "id": "3d1e6f14-0a24-4745-830e-c5dce4efbfbb",
   "metadata": {},
   "outputs": [
    {
     "data": {
      "application/vnd.jupyter.widget-view+json": {
       "model_id": "",
       "version_major": 2,
       "version_minor": 0
      },
      "text/plain": [
       "Tagging sentences:   0%|          | 0/4 [00:00<?, ?it/s]"
      ]
     },
     "metadata": {},
     "output_type": "display_data"
    },
    {
     "data": {
      "application/vnd.jupyter.widget-view+json": {
       "model_id": "",
       "version_major": 2,
       "version_minor": 0
      },
      "text/plain": [
       "Parsing tagged sentences:   0%|          | 0/16 [00:00<?, ?it/s]"
      ]
     },
     "metadata": {},
     "output_type": "display_data"
    },
    {
     "data": {
      "application/vnd.jupyter.widget-view+json": {
       "model_id": "",
       "version_major": 2,
       "version_minor": 0
      },
      "text/plain": [
       "Parse trees to diagrams:   0%|          | 0/16 [00:00<?, ?it/s]"
      ]
     },
     "metadata": {},
     "output_type": "display_data"
    },
    {
     "data": {
      "application/vnd.jupyter.widget-view+json": {
       "model_id": "",
       "version_major": 2,
       "version_minor": 0
      },
      "text/plain": [
       "Tagging sentences:   0%|          | 0/4 [00:00<?, ?it/s]"
      ]
     },
     "metadata": {},
     "output_type": "display_data"
    },
    {
     "data": {
      "application/vnd.jupyter.widget-view+json": {
       "model_id": "",
       "version_major": 2,
       "version_minor": 0
      },
      "text/plain": [
       "Parsing tagged sentences:   0%|          | 0/16 [00:00<?, ?it/s]"
      ]
     },
     "metadata": {},
     "output_type": "display_data"
    },
    {
     "data": {
      "application/vnd.jupyter.widget-view+json": {
       "model_id": "",
       "version_major": 2,
       "version_minor": 0
      },
      "text/plain": [
       "Parse trees to diagrams:   0%|          | 0/16 [00:00<?, ?it/s]"
      ]
     },
     "metadata": {},
     "output_type": "display_data"
    }
   ],
   "source": [
    "preprocess_df(df_val)"
   ]
  },
  {
   "cell_type": "code",
   "execution_count": 64,
   "id": "ae9656e3-ec37-4f68-85e9-2ca9277f939d",
   "metadata": {},
   "outputs": [],
   "source": [
    "all_circuits = (list(df_train[\"s1_circuit\"].values) + list(df_train[\"s2_circuit\"].values) +\n",
    "                list(df_val[\"s1_circuit\"].values) + list(df_val[\"s2_circuit\"].values))"
   ]
  },
  {
   "cell_type": "code",
   "execution_count": 65,
   "id": "f21649ff-54ed-4b26-8db3-26d740bebb50",
   "metadata": {},
   "outputs": [],
   "source": [
    "backend = AerBackend()\n",
    "backend_config = {\n",
    "    \"backend\": backend,\n",
    "    \"compilation\": backend.default_compilation_pass(2),\n",
    "    \"shots\": 8192,\n",
    "}"
   ]
  },
  {
   "cell_type": "code",
   "execution_count": 66,
   "id": "b8dd063f-430a-4a3a-81f8-e5a1676e48c7",
   "metadata": {},
   "outputs": [],
   "source": [
    "model = TketModel.from_diagrams(all_circuits, backend_config=backend_config)"
   ]
  },
  {
   "cell_type": "code",
   "execution_count": 67,
   "id": "ba400f65-377a-43f2-b009-9ae8c9e5daef",
   "metadata": {},
   "outputs": [],
   "source": [
    "loss = lambda y_hat, y: -np.sum(y * np.log(y_hat)) / len(y)\n",
    "acc = lambda y_hat, y: np.sum(np.round(y_hat) == y) / len(y) / 2\n",
    "eval_metrics = {\"acc\": acc}"
   ]
  },
  {
   "cell_type": "code",
   "execution_count": null,
   "id": "81901ab1-ab8f-46c7-9848-9f979fd73708",
   "metadata": {},
   "outputs": [],
   "source": []
  }
 ],
 "metadata": {
  "kernelspec": {
   "display_name": "Python 3 [Womanium]",
   "language": "python",
   "name": "python3_womanium_go14xk"
  },
  "language_info": {
   "codemirror_mode": {
    "name": "ipython",
    "version": 3
   },
   "file_extension": ".py",
   "mimetype": "text/x-python",
   "name": "python",
   "nbconvert_exporter": "python",
   "pygments_lexer": "ipython3",
   "version": "3.9.10"
  }
 },
 "nbformat": 4,
 "nbformat_minor": 5
}
