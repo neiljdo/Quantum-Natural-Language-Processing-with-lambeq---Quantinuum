{
 "cells": [
  {
   "cell_type": "markdown",
   "id": "d62aeddb-431d-4da5-a604-cfa78b629d36",
   "metadata": {},
   "source": [
    "# Quantum NLP Challenge"
   ]
  },
  {
   "cell_type": "code",
   "execution_count": 1,
   "id": "d8384c50-e218-4748-8d3f-9d6a18f7c264",
   "metadata": {},
   "outputs": [
    {
     "name": "stdout",
     "output_type": "stream",
     "text": [
      "Automatic pdb calling has been turned OFF\n"
     ]
    }
   ],
   "source": [
    "%pdb 0"
   ]
  },
  {
   "cell_type": "code",
   "execution_count": 2,
   "id": "02ad7c72-73bb-4bac-b1f2-5575e4994cef",
   "metadata": {},
   "outputs": [
    {
     "name": "stderr",
     "output_type": "stream",
     "text": [
      "UsageError: Line magic function `%matpotlib` not found.\n"
     ]
    }
   ],
   "source": [
    "%matpotlib inline"
   ]
  },
  {
   "cell_type": "code",
   "execution_count": 3,
   "id": "658ca4c9-759f-4aa7-b62b-55e3d768fe66",
   "metadata": {},
   "outputs": [],
   "source": [
    "import sys"
   ]
  },
  {
   "cell_type": "code",
   "execution_count": 4,
   "id": "0e348b11-5fad-402e-b8ab-a7bc353650e1",
   "metadata": {},
   "outputs": [],
   "source": [
    "# !{sys.executable} -m pip install pandas\n",
    "# !{sys.executable} -m pip install scikit-learn"
   ]
  },
  {
   "cell_type": "markdown",
   "id": "09019c59-286b-4983-8bdc-5a40c37191ab",
   "metadata": {},
   "source": [
    "## Data"
   ]
  },
  {
   "cell_type": "code",
   "execution_count": 5,
   "id": "996b0423-d07a-45e6-9e9e-91f7c4570b64",
   "metadata": {},
   "outputs": [],
   "source": [
    "import pandas as pd\n",
    "import numpy as np\n",
    "import sklearn as sk\n",
    "\n",
    "RANDOM_SEED = 220811\n",
    "np.random.seed(RANDOM_SEED)"
   ]
  },
  {
   "cell_type": "code",
   "execution_count": 6,
   "id": "9015dfc8-fa54-47a8-a099-7ccba346c18a",
   "metadata": {},
   "outputs": [],
   "source": [
    "import os\n",
    "import warnings\n",
    "\n",
    "warnings.filterwarnings(\"ignore\")\n",
    "os.environ[\"TOKENIZERS_PARALLELISM\"] = \"true\""
   ]
  },
  {
   "cell_type": "code",
   "execution_count": 7,
   "id": "f8c0b0f1-b807-422c-abb1-30a228b01814",
   "metadata": {},
   "outputs": [],
   "source": [
    "from lambeq import BobcatParser, DepCCGParser\n",
    "from discopy import grammar"
   ]
  },
  {
   "cell_type": "code",
   "execution_count": 8,
   "id": "85818514-b7e7-47e9-b85c-7bf2783375a9",
   "metadata": {},
   "outputs": [],
   "source": [
    "from lambeq import Rewriter\n",
    "from lambeq import AtomicType, IQPAnsatz, remove_cups\n",
    "from lambeq import TketModel, NumpyModel\n",
    "from lambeq import QuantumTrainer, SPSAOptimizer\n",
    "from lambeq import Dataset"
   ]
  },
  {
   "cell_type": "code",
   "execution_count": 9,
   "id": "56c3f270-2292-496a-aa29-ba4ba9077b35",
   "metadata": {},
   "outputs": [],
   "source": [
    "from pytket.circuit.display import render_circuit_jupyter"
   ]
  },
  {
   "cell_type": "code",
   "execution_count": 10,
   "id": "7ab0cfc9-f775-4d44-9b55-4588ad216deb",
   "metadata": {},
   "outputs": [],
   "source": [
    "from pytket.extensions.qiskit import AerBackend"
   ]
  },
  {
   "cell_type": "code",
   "execution_count": 11,
   "id": "d9852ae6-ae20-448d-ad7d-653848b62db1",
   "metadata": {},
   "outputs": [],
   "source": [
    "from discopy.tensor import Diagram"
   ]
  },
  {
   "cell_type": "code",
   "execution_count": 12,
   "id": "e1440d9e-f9fd-4a49-b330-dfc552b3f67b",
   "metadata": {},
   "outputs": [],
   "source": [
    "df = pd.read_csv(\"MC1.TXT\", header=None, sep=\", \", engine=\"python\")"
   ]
  },
  {
   "cell_type": "code",
   "execution_count": 13,
   "id": "cc9c15c0-982e-430f-a385-8cafdb0e6b21",
   "metadata": {},
   "outputs": [],
   "source": [
    "df.columns = [\"s1\", \"s2\", \"label\"]"
   ]
  },
  {
   "cell_type": "code",
   "execution_count": 14,
   "id": "d336df5e-0d38-493f-968d-1eeb99d3a853",
   "metadata": {},
   "outputs": [
    {
     "data": {
      "text/html": [
       "<div>\n",
       "<style scoped>\n",
       "    .dataframe tbody tr th:only-of-type {\n",
       "        vertical-align: middle;\n",
       "    }\n",
       "\n",
       "    .dataframe tbody tr th {\n",
       "        vertical-align: top;\n",
       "    }\n",
       "\n",
       "    .dataframe thead th {\n",
       "        text-align: right;\n",
       "    }\n",
       "</style>\n",
       "<table border=\"1\" class=\"dataframe\">\n",
       "  <thead>\n",
       "    <tr style=\"text-align: right;\">\n",
       "      <th></th>\n",
       "      <th>s1</th>\n",
       "      <th>s2</th>\n",
       "      <th>label</th>\n",
       "    </tr>\n",
       "  </thead>\n",
       "  <tbody>\n",
       "    <tr>\n",
       "      <th>0</th>\n",
       "      <td>cook creates complicated dish</td>\n",
       "      <td>experienced chef prepares complicated dish</td>\n",
       "      <td>1</td>\n",
       "    </tr>\n",
       "    <tr>\n",
       "      <th>1</th>\n",
       "      <td>skilful programmer creates code</td>\n",
       "      <td>devoted hacker writes code</td>\n",
       "      <td>1</td>\n",
       "    </tr>\n",
       "    <tr>\n",
       "      <th>2</th>\n",
       "      <td>skilful cook creates meal</td>\n",
       "      <td>devoted hacker creates complicated code</td>\n",
       "      <td>0</td>\n",
       "    </tr>\n",
       "    <tr>\n",
       "      <th>3</th>\n",
       "      <td>hacker writes code</td>\n",
       "      <td>skilful hacker creates code</td>\n",
       "      <td>1</td>\n",
       "    </tr>\n",
       "    <tr>\n",
       "      <th>4</th>\n",
       "      <td>devoted hacker writes code</td>\n",
       "      <td>hacker writes complicated code</td>\n",
       "      <td>1</td>\n",
       "    </tr>\n",
       "  </tbody>\n",
       "</table>\n",
       "</div>"
      ],
      "text/plain": [
       "                                s1  \\\n",
       "0    cook creates complicated dish   \n",
       "1  skilful programmer creates code   \n",
       "2        skilful cook creates meal   \n",
       "3               hacker writes code   \n",
       "4       devoted hacker writes code   \n",
       "\n",
       "                                           s2  label  \n",
       "0  experienced chef prepares complicated dish      1  \n",
       "1                  devoted hacker writes code      1  \n",
       "2     devoted hacker creates complicated code      0  \n",
       "3                 skilful hacker creates code      1  \n",
       "4              hacker writes complicated code      1  "
      ]
     },
     "execution_count": 14,
     "metadata": {},
     "output_type": "execute_result"
    }
   ],
   "source": [
    "df.head()"
   ]
  },
  {
   "cell_type": "code",
   "execution_count": 15,
   "id": "20daaeac-1e03-44ba-8024-edd3ac2ffc09",
   "metadata": {},
   "outputs": [],
   "source": [
    "vocab = set()\n",
    "lengths = set()\n",
    "\n",
    "for i, r in df.iterrows():\n",
    "    tokens = r.s1.split(\" \")\n",
    "    lengths.add(len(tokens))\n",
    "    [vocab.add(w) for w in tokens]\n",
    "    tokens = r.s2.split(\" \")\n",
    "    lengths.add(len(tokens))\n",
    "    [vocab.add(w) for w in tokens]"
   ]
  },
  {
   "cell_type": "code",
   "execution_count": 16,
   "id": "91f9b3f5-9f3f-463d-a4e6-c62b40c8f2d1",
   "metadata": {},
   "outputs": [
    {
     "name": "stdout",
     "output_type": "stream",
     "text": [
      "{'creates', 'cook', 'code', 'hacker', 'writes', 'tasty', 'prepares', 'devoted', 'experienced', 'chef', 'advanced', 'programmer', 'skilful', 'complicated', 'meal', 'dish'} 16 5\n"
     ]
    }
   ],
   "source": [
    "print(vocab, len(vocab), max(lengths))"
   ]
  },
  {
   "cell_type": "markdown",
   "id": "910dad7c-023c-4639-96ea-2fbbede0ee75",
   "metadata": {
    "tags": []
   },
   "source": [
    "## Lambeq tutorial"
   ]
  },
  {
   "cell_type": "markdown",
   "id": "d4f6626b-fc30-4e2c-b798-f53068782e12",
   "metadata": {},
   "source": [
    "### Sentence input"
   ]
  },
  {
   "cell_type": "code",
   "execution_count": 17,
   "id": "9c9b1054-5418-4e37-9b77-b4f3ca7f980b",
   "metadata": {},
   "outputs": [],
   "source": [
    "sentence = \"John cooks delicious food\""
   ]
  },
  {
   "cell_type": "code",
   "execution_count": 18,
   "id": "e2ec635d-f20c-491c-952c-8627329cd45c",
   "metadata": {},
   "outputs": [],
   "source": [
    "parser = BobcatParser()"
   ]
  },
  {
   "cell_type": "code",
   "execution_count": 19,
   "id": "460f56a1-bd75-4b7d-8a89-65d2716e14a0",
   "metadata": {},
   "outputs": [],
   "source": [
    "diagram = parser.sentence2diagram(sentence)"
   ]
  },
  {
   "cell_type": "code",
   "execution_count": 20,
   "id": "443184b7-5fb4-4c00-91da-83cd2cb0398a",
   "metadata": {},
   "outputs": [
    {
     "data": {
      "image/png": "[encoded data removed]",
      "text/plain": [
       "<Figure size 1152x288 with 1 Axes>"
      ]
     },
     "metadata": {},
     "output_type": "display_data"
    }
   ],
   "source": [
    "grammar.draw(diagram, figsize=(16, 4), fontsize=12)"
   ]
  },
  {
   "cell_type": "markdown",
   "id": "2cf117b3-7590-4d0d-bef5-106202c73bcc",
   "metadata": {},
   "source": [
    "### Diagram rewriting"
   ]
  },
  {
   "cell_type": "code",
   "execution_count": 21,
   "id": "401443d6-6a3a-4813-9794-e052a359e630",
   "metadata": {},
   "outputs": [],
   "source": [
    "# Prepositional phrase rewrite rule\n",
    "rewriter = Rewriter([\"prepositional_phrase\", \"determiner\"])\n",
    "rewritten_diagram = rewriter(diagram)"
   ]
  },
  {
   "cell_type": "code",
   "execution_count": 22,
   "id": "b2c9c1dd-590b-4b57-90c0-e931fffcefa4",
   "metadata": {},
   "outputs": [
    {
     "data": {
      "image/png": "[encoded data removed]",
      "text/plain": [
       "<Figure size 1152x288 with 1 Axes>"
      ]
     },
     "metadata": {},
     "output_type": "display_data"
    }
   ],
   "source": [
    "rewritten_diagram.draw(figsize=(16, 4), fontsize=12)"
   ]
  },
  {
   "cell_type": "code",
   "execution_count": 23,
   "id": "cb365b04-bdc8-475d-bf39-420240aafca6",
   "metadata": {},
   "outputs": [
    {
     "data": {
      "image/png": "[encoded data removed]",
      "text/plain": [
       "<Figure size 1152x288 with 1 Axes>"
      ]
     },
     "metadata": {},
     "output_type": "display_data"
    }
   ],
   "source": [
    "# Normalize\n",
    "normalized_diagram = rewritten_diagram.normal_form()\n",
    "normalized_diagram.draw(figsize=(16, 4), fontsize=12)"
   ]
  },
  {
   "cell_type": "code",
   "execution_count": 24,
   "id": "64d0a88e-5cf5-4c66-82d2-242cda9b2f62",
   "metadata": {},
   "outputs": [
    {
     "data": {
      "image/png": "[encoded data removed]",
      "text/plain": [
       "<Figure size 1152x288 with 1 Axes>"
      ]
     },
     "metadata": {},
     "output_type": "display_data"
    }
   ],
   "source": [
    "# Remove cups\n",
    "decupped_diagram = remove_cups(normalized_diagram)\n",
    "decupped_diagram.draw(figsize=(16, 4), fontsize=12)"
   ]
  },
  {
   "cell_type": "markdown",
   "id": "9d557f18-d778-4ae0-aaee-e9e797fcc015",
   "metadata": {
    "tags": []
   },
   "source": [
    "### Parametrization"
   ]
  },
  {
   "cell_type": "code",
   "execution_count": 25,
   "id": "d4b74a8c-5161-4693-ab2b-063fba751471",
   "metadata": {},
   "outputs": [],
   "source": [
    "# Atomic types\n",
    "N = AtomicType.NOUN\n",
    "S = AtomicType.SENTENCE"
   ]
  },
  {
   "cell_type": "code",
   "execution_count": 26,
   "id": "f67172ac-2435-4a95-9067-ac2faa422d92",
   "metadata": {},
   "outputs": [
    {
     "data": {
      "image/png": "[encoded data removed]",
      "text/plain": [
       "<Figure size 2880x1152 with 1 Axes>"
      ]
     },
     "metadata": {},
     "output_type": "display_data"
    }
   ],
   "source": [
    "# Convert string diagram to qc - 1 qubit per atomic type\n",
    "ansatz = IQPAnsatz({N: 1, S: 1}, n_layers=1)\n",
    "discopy_circuit = ansatz(decupped_diagram)\n",
    "discopy_circuit.draw(figsize=(40, 16), fontsize=12)"
   ]
  },
  {
   "cell_type": "code",
   "execution_count": 27,
   "id": "60fe84f7-18ee-4763-be31-81fa637f1bed",
   "metadata": {},
   "outputs": [
    {
     "data": {
      "text/html": [
       "\n",
       "\n",
       "\n",
       "\n",
       "\n",
       "\n",
       "<iframe srcdoc=\"\n",
       "&lt;!DOCTYPE html&gt;\n",
       "&lt;html lang=&#34;en&#34;&gt;\n",
       "&lt;head&gt;\n",
       "    &lt;meta charset=&#34;UTF-8&#34;&gt;\n",
       "\n",
       "    &lt;script type=&#34;application/javascript&#34; src=&#34;https://cdn.jsdelivr.net/npm/vue@3&#34;&gt;&lt;/script&gt;\n",
       "    &lt;script type=&#34;application/javascript&#34; src=&#34;https://unpkg.com/pytket-circuit-renderer@0.2/dist/pytket-circuit-renderer.umd.js&#34;&gt;&lt;/script&gt;\n",
       "    &lt;link rel=&#34;stylesheet&#34; href=&#34;https://unpkg.com/pytket-circuit-renderer@0.2/dist/pytket-circuit-renderer.css&#34;&gt;\n",
       "&lt;/head&gt;\n",
       "&lt;body&gt;\n",
       "    &lt;div id=&#34;circuit-display-vue-container-1188f858-7925-4d38-aa93-b4d523bd2b97&#34; class=&#34;pytket-circuit-display-container&#34;&gt;\n",
       "        &lt;div style=&#34;display: none&#34;&gt;\n",
       "            &lt;div id=&#34;circuit-json-to-display&#34;&gt;{&#34;bits&#34;: [[&#34;c&#34;, [0]], [&#34;c&#34;, [1]], [&#34;c&#34;, [2]], [&#34;c&#34;, [3]]], &#34;commands&#34;: [{&#34;args&#34;: [[&#34;q&#34;, [0]]], &#34;op&#34;: {&#34;type&#34;: &#34;H&#34;}}, {&#34;args&#34;: [[&#34;q&#34;, [1]]], &#34;op&#34;: {&#34;type&#34;: &#34;H&#34;}}, {&#34;args&#34;: [[&#34;q&#34;, [2]]], &#34;op&#34;: {&#34;type&#34;: &#34;H&#34;}}, {&#34;args&#34;: [[&#34;q&#34;, [3]]], &#34;op&#34;: {&#34;type&#34;: &#34;H&#34;}}, {&#34;args&#34;: [[&#34;q&#34;, [4]]], &#34;op&#34;: {&#34;type&#34;: &#34;H&#34;}}, {&#34;args&#34;: [[&#34;q&#34;, [0]], [&#34;q&#34;, [1]]], &#34;op&#34;: {&#34;params&#34;: [&#34;2*cooks__n.r@s@n.l_0&#34;], &#34;type&#34;: &#34;CRz&#34;}}, {&#34;args&#34;: [[&#34;q&#34;, [3]], [&#34;q&#34;, [4]]], &#34;op&#34;: {&#34;params&#34;: [&#34;2*delicious__n@n.l_0&#34;], &#34;type&#34;: &#34;CRz&#34;}}, {&#34;args&#34;: [[&#34;q&#34;, [0]]], &#34;op&#34;: {&#34;params&#34;: [&#34;2*John__n_2&#34;], &#34;type&#34;: &#34;Rx&#34;}}, {&#34;args&#34;: [[&#34;q&#34;, [1]], [&#34;q&#34;, [2]]], &#34;op&#34;: {&#34;params&#34;: [&#34;2*cooks__n.r@s@n.l_1&#34;], &#34;type&#34;: &#34;CRz&#34;}}, {&#34;args&#34;: [[&#34;q&#34;, [4]]], &#34;op&#34;: {&#34;params&#34;: [&#34;2*food__n_2&#34;], &#34;type&#34;: &#34;Rx&#34;}}, {&#34;args&#34;: [[&#34;q&#34;, [0]]], &#34;op&#34;: {&#34;params&#34;: [&#34;2*John__n_1&#34;], &#34;type&#34;: &#34;Rz&#34;}}, {&#34;args&#34;: [[&#34;q&#34;, [2]], [&#34;q&#34;, [3]]], &#34;op&#34;: {&#34;type&#34;: &#34;CX&#34;}}, {&#34;args&#34;: [[&#34;q&#34;, [4]]], &#34;op&#34;: {&#34;params&#34;: [&#34;2*food__n_1&#34;], &#34;type&#34;: &#34;Rz&#34;}}, {&#34;args&#34;: [[&#34;q&#34;, [3]], [&#34;c&#34;, [2]]], &#34;op&#34;: {&#34;type&#34;: &#34;Measure&#34;}}, {&#34;args&#34;: [[&#34;q&#34;, [0]]], &#34;op&#34;: {&#34;params&#34;: [&#34;2*John__n_0&#34;], &#34;type&#34;: &#34;Rx&#34;}}, {&#34;args&#34;: [[&#34;q&#34;, [2]]], &#34;op&#34;: {&#34;type&#34;: &#34;H&#34;}}, {&#34;args&#34;: [[&#34;q&#34;, [4]]], &#34;op&#34;: {&#34;params&#34;: [&#34;2*food__n_0&#34;], &#34;type&#34;: &#34;Rx&#34;}}, {&#34;args&#34;: [[&#34;q&#34;, [0]], [&#34;c&#34;, [0]]], &#34;op&#34;: {&#34;type&#34;: &#34;Measure&#34;}}, {&#34;args&#34;: [[&#34;q&#34;, [2]], [&#34;c&#34;, [1]]], &#34;op&#34;: {&#34;type&#34;: &#34;Measure&#34;}}, {&#34;args&#34;: [[&#34;q&#34;, [4]], [&#34;c&#34;, [3]]], &#34;op&#34;: {&#34;type&#34;: &#34;Measure&#34;}}], &#34;implicit_permutation&#34;: [[[&#34;q&#34;, [0]], [&#34;q&#34;, [0]]], [[&#34;q&#34;, [1]], [&#34;q&#34;, [1]]], [[&#34;q&#34;, [2]], [&#34;q&#34;, [2]]], [[&#34;q&#34;, [3]], [&#34;q&#34;, [3]]], [[&#34;q&#34;, [4]], [&#34;q&#34;, [4]]]], &#34;phase&#34;: &#34;0.0&#34;, &#34;qubits&#34;: [[&#34;q&#34;, [0]], [&#34;q&#34;, [1]], [&#34;q&#34;, [2]], [&#34;q&#34;, [3]], [&#34;q&#34;, [4]]]}&lt;/div&gt;\n",
       "        &lt;/div&gt;\n",
       "        &lt;circuit-display-container :circuit-element-str=&#34;&#39;#circuit-json-to-display&#39;&#34;&gt;&lt;/circuit-display-container&gt;\n",
       "    &lt;/div&gt;\n",
       "\n",
       "    &lt;script type=&#34;application/javascript&#34;&gt;\n",
       "        const { createApp } = Vue;\n",
       "        const circuitDisplayContainer = window[&#34;pytket-circuit-renderer&#34;].default;\n",
       "\n",
       "        // Init variables to be shared between circuit display instances\n",
       "        if (typeof window.pytketCircuitDisplays === &#34;undefined&#34;) {\n",
       "            window.pytketCircuitDisplays = {};\n",
       "        }\n",
       "\n",
       "        const uid = &#34;1188f858-7925-4d38-aa93-b4d523bd2b97&#34;;\n",
       "\n",
       "        // Create the root Vue component\n",
       "        window.pytketCircuitDisplays[uid] = createApp({\n",
       "            delimiters: [&#39;[[#&#39;, &#39;#]]&#39;],\n",
       "            components: { circuitDisplayContainer },\n",
       "        }).mount(&#34;#circuit-display-vue-container-&#34;+uid);\n",
       "    &lt;/script&gt;\n",
       "&lt;/body&gt;\n",
       "&lt;/html&gt;\n",
       "\"\n",
       "        width=\"100%\" height=\"200px\"\n",
       "        style=\"border: none; outline: none; resize: vertical; overflow: auto\"></iframe>\n",
       "\n"
      ],
      "text/plain": [
       "<IPython.core.display.HTML object>"
      ]
     },
     "metadata": {},
     "output_type": "display_data"
    }
   ],
   "source": [
    "# Convert qc from DisCoPy to pytket format\n",
    "tket_circuit = discopy_circuit.to_tk()\n",
    "render_circuit_jupyter(tket_circuit)"
   ]
  },
  {
   "cell_type": "markdown",
   "id": "a9e410d8-a309-4509-bd5c-f0c63a204bc8",
   "metadata": {
    "tags": []
   },
   "source": [
    "### DisCoPy's IQPansatz Deep-Dive"
   ]
  },
  {
   "cell_type": "code",
   "execution_count": 28,
   "id": "1869abfc-8120-48d7-8409-e8d202416030",
   "metadata": {},
   "outputs": [],
   "source": [
    "from discopy.quantum.circuit import IQPansatz as IQP"
   ]
  },
  {
   "cell_type": "code",
   "execution_count": 29,
   "id": "0be9c421-e269-416d-8410-9b22ee2d1da7",
   "metadata": {},
   "outputs": [
    {
     "name": "stdout",
     "output_type": "stream",
     "text": [
      "H @ Id(1)\n",
      "  >> Id(1) @ H\n",
      "  >> CRz(0.1)\n",
      "  >> H @ Id(1)\n",
      "  >> Id(1) @ H\n",
      "  >> CRz(0.3)\n"
     ]
    }
   ],
   "source": [
    "pprint = lambda c: print(str(c).replace(' >>', '\\n  >>'))\n",
    "pprint(IQP(2, [[0.1], [0.3]]))"
   ]
  },
  {
   "cell_type": "code",
   "execution_count": 30,
   "id": "c54a529e-394d-472a-9163-9451405f2e29",
   "metadata": {},
   "outputs": [],
   "source": [
    "from discopy.quantum.circuit import Circuit, Id\n",
    "from discopy.quantum.gates import CX, Controlled, X\n",
    "from discopy.tensor import Tensor\n",
    "from math import pi\n",
    "\n",
    "class Customansatz(Circuit):\n",
    "    \"\"\"\n",
    "    Builds an IQP ansatz on n qubits, if n = 1 returns an Euler decomposition\n",
    "\n",
    "    >>> pprint = lambda c: print(str(c).replace(' >>', '\\\\n  >>'))\n",
    "    >>> pprint(IQPansatz(3, [[0.1, 0.2], [0.3, 0.4]]))\n",
    "    H @ Id(2)\n",
    "      >> Id(1) @ H @ Id(1)\n",
    "      >> Id(2) @ H\n",
    "      >> CRz(0.1) @ Id(1)\n",
    "      >> Id(1) @ CRz(0.2)\n",
    "      >> H @ Id(2)\n",
    "      >> Id(1) @ H @ Id(1)\n",
    "      >> Id(2) @ H\n",
    "      >> CRz(0.3) @ Id(1)\n",
    "      >> Id(1) @ CRz(0.4)\n",
    "    >>> print(IQPansatz(1, [0.3, 0.8, 0.4]))\n",
    "    Rx(0.3) >> Rz(0.8) >> Rx(0.4)\n",
    "    \"\"\"\n",
    "    def __init__(self, n_qubits, params):\n",
    "        from discopy.quantum.gates import H, Rx, Rz, CRz\n",
    "\n",
    "        def layer(thetas):\n",
    "            # hadamards = Id(0).tensor(*(n_qubits * [H]))\n",
    "            eulers = Rz(thetas[0][0]) >> Rx(pi/2) >> Rz(thetas[0][1]) >> Rx(-pi/2) >> Rz(thetas[0][2])\n",
    "            for i in range(1, len(thetas)):\n",
    "                eulers = eulers @ (Rz(thetas[i][0]) >> Rx(pi/2) >> Rz(thetas[i][1]) >> Rx(-pi/2) >> Rz(thetas[i][2]))\n",
    "            eulers = Id(n_qubits) >> eulers\n",
    "            cxs = Id(n_qubits).then(*(\n",
    "                Id(i) @ CX @ Id(n_qubits - 2 - i)\n",
    "                for i in range(n_qubits - 1)))\n",
    "            # cxs = cxs >> CX(0, n_qubits - 1)\n",
    "            return eulers >> cxs >> Controlled(X, distance=-(n_qubits - 1))\n",
    "        if n_qubits == 1:\n",
    "            circuit = Rx(params[0]) >> Rz(params[1]) >> Rx(params[2])\n",
    "        else:\n",
    "            depth = Tensor.np.shape(params)[0]\n",
    "            circuit = Id(n_qubits).then(*(\n",
    "                layer(params[i]) for i in range(depth)))\n",
    "        super().__init__(\n",
    "            circuit.dom, circuit.cod, circuit.boxes, circuit.offsets)"
   ]
  },
  {
   "cell_type": "code",
   "execution_count": 31,
   "id": "7a039554-2494-4000-a016-0f049a12ae2d",
   "metadata": {},
   "outputs": [],
   "source": [
    "params = [[[0.1, 0.2, 0.3], [0.3, 0.4, 0.5], [0.5, 0.6, 0.7]],\n",
    "          [[0.2, 0.2, 0.3], [0.3, 0.3, 0.5], [0.6, 0.6, 0.7]]]"
   ]
  },
  {
   "cell_type": "code",
   "execution_count": 32,
   "id": "a2e2c9aa-4340-4ae0-b75c-def983d8469d",
   "metadata": {},
   "outputs": [
    {
     "data": {
      "text/plain": [
       "(2, 3, 3)"
      ]
     },
     "execution_count": 32,
     "metadata": {},
     "output_type": "execute_result"
    }
   ],
   "source": [
    "Tensor.np.shape(params)"
   ]
  },
  {
   "cell_type": "code",
   "execution_count": 33,
   "id": "b5a02aeb-8bc1-4e56-a7dd-aa5513141779",
   "metadata": {},
   "outputs": [
    {
     "data": {
      "text/plain": [
       "[[0.1, 0.2, 0.3], [0.3, 0.4, 0.5], [0.5, 0.6, 0.7]]"
      ]
     },
     "execution_count": 33,
     "metadata": {},
     "output_type": "execute_result"
    }
   ],
   "source": [
    "params[0]"
   ]
  },
  {
   "cell_type": "code",
   "execution_count": 34,
   "id": "bf2ef5a4-c7c7-4618-b2b9-fb25d56db8b4",
   "metadata": {},
   "outputs": [
    {
     "data": {
      "image/png": "[encoded data removed]",
      "text/plain": [
       "<Figure size 576x432 with 1 Axes>"
      ]
     },
     "metadata": {},
     "output_type": "display_data"
    }
   ],
   "source": [
    "circuit = Customansatz(3, params)\n",
    "circuit.draw(figsize=(8, 6))"
   ]
  },
  {
   "cell_type": "code",
   "execution_count": 35,
   "id": "93260e95-fbc8-4cb4-8b90-7b1d870b19d6",
   "metadata": {},
   "outputs": [
    {
     "data": {
      "image/png": "[encoded data removed]",
      "text/plain": [
       "<Figure size 288x216 with 1 Axes>"
      ]
     },
     "metadata": {},
     "output_type": "display_data"
    }
   ],
   "source": [
    "circuit2 = Customansatz(1, [0.1, 0.2, 0.3])\n",
    "circuit2.draw(figsize=(4, 3))"
   ]
  },
  {
   "cell_type": "markdown",
   "id": "9bd6230f-b1bf-4ed3-8485-4ad1b95a50a2",
   "metadata": {
    "tags": []
   },
   "source": [
    "### Lambeq's IQPAnsatz Deep-Dive"
   ]
  },
  {
   "cell_type": "code",
   "execution_count": 36,
   "id": "064c568c-501a-47fb-ad80-07d73a15fa10",
   "metadata": {},
   "outputs": [],
   "source": [
    "from collections.abc import Mapping\n",
    "from lambeq import CircuitAnsatz\n",
    "from typing import Any, Callable, Optional\n",
    "\n",
    "from discopy.quantum.circuit import (Circuit, Discard, Functor, Id,\n",
    "                                     IQPansatz as IQP, qubit)\n",
    "from discopy.quantum.gates import Bra, Ket, Rx, Rz\n",
    "from discopy.rigid import Box, Diagram, Ty\n",
    "\n",
    "from lambeq.ansatz import Symbol\n",
    "from lambeq.ansatz.circuit import _ArMapT\n",
    "\n",
    "\n",
    "class CustomIQPAnsatz(CircuitAnsatz):\n",
    "    \"\"\"Instantaneous Quantum Polynomial ansatz.\n",
    "\n",
    "    An IQP ansatz interleaves layers of Hadamard gates with diagonal\n",
    "    unitaries. This class uses :py:obj:`n_layers-1` adjacent CRz gates\n",
    "    to implement each diagonal unitary.\n",
    "\n",
    "    \"\"\"\n",
    "\n",
    "    def __init__(self,\n",
    "                 ob_map: Mapping[Ty, int],\n",
    "                 n_layers: int,\n",
    "                 n_single_qubit_params: int = 3,\n",
    "                 discard: bool = False,\n",
    "                 special_cases: Optional[Callable[[_ArMapT], _ArMapT]] = None):\n",
    "        \"\"\"Instantiate an IQP ansatz.\n",
    "\n",
    "        Parameters\n",
    "        ----------\n",
    "        ob_map : dict\n",
    "            A mapping from :py:class:`discopy.rigid.Ty` to the number of\n",
    "            qubits it uses in a circuit.\n",
    "        n_layers : int\n",
    "            The number of IQP layers used by the ansatz.\n",
    "        n_single_qubit_params : int, default: 3\n",
    "            The number of single qubit rotations used by the ansatz.\n",
    "        discard : bool, default: False\n",
    "            Discard open wires instead of post-selecting.\n",
    "        special_cases : callable, optional\n",
    "            A function that transforms an arrow map into one specifying\n",
    "            special cases that should not be converted by the Ansatz\n",
    "            class.\n",
    "\n",
    "        \"\"\"\n",
    "        super().__init__(ob_map=ob_map, n_layers=n_layers,\n",
    "                         n_single_qubit_params=n_single_qubit_params)\n",
    "\n",
    "        if special_cases is None:\n",
    "            special_cases = self._special_cases\n",
    "\n",
    "        self.n_layers = n_layers\n",
    "        self.n_single_qubit_params = n_single_qubit_params\n",
    "        self.discard = discard\n",
    "        self.functor = Functor(ob=self.ob_map,\n",
    "                               ar=special_cases(self._ar))\n",
    "\n",
    "    def _ar(self, box: Box) -> Circuit:\n",
    "        label = self._summarise_box(box)\n",
    "        dom, cod = self._ob(box.dom), self._ob(box.cod)\n",
    "\n",
    "        n_qubits = max(dom, cod)\n",
    "        n_layers = self.n_layers\n",
    "        n_1qubit_params = self.n_single_qubit_params\n",
    "        \n",
    "        # print(\"box\", box, label)\n",
    "        # print(\"n_qubits\", n_qubits)\n",
    "        # print(\"n_layers\", n_layers)\n",
    "        # print(\"n_1qubit_params\", n_1qubit_params)\n",
    "\n",
    "        if n_qubits == 0:\n",
    "            circuit = Id()\n",
    "        elif n_qubits == 1:\n",
    "            syms = [Symbol(f'{label}_{i}') for i in range(n_1qubit_params)]\n",
    "            rots = [Rx, Rz]\n",
    "            circuit = Id(qubit)\n",
    "            for i, sym in enumerate(syms):\n",
    "                circuit >>= rots[i % 2](sym)\n",
    "        else:\n",
    "            # We have three rotations for each qubit corresponding to\n",
    "            # the Euler decomposition\n",
    "            n_params = n_layers * n_qubits * 3\n",
    "            # print(\"n_params\", n_params)\n",
    "            syms = [Symbol(f'{label}_{i}') for i in range(n_params)]\n",
    "            # print(\"syms\", syms)\n",
    "            params: np.ndarray[Any, np.dtype[Any]] = np.array(syms).reshape(\n",
    "                    (n_layers, n_qubits, 3))\n",
    "            # print(\"params\")\n",
    "            # print(params)\n",
    "            circuit = Customansatz(n_qubits, params)\n",
    "\n",
    "        if cod > dom:\n",
    "            circuit <<= Id(dom) @ Ket(*[0]*(cod - dom))\n",
    "        elif self.discard:\n",
    "            circuit >>= Id(cod) @ Discard(dom - cod)\n",
    "        else:\n",
    "            circuit >>= Id(cod) @ Bra(*[0]*(dom - cod))\n",
    "        return circuit\n"
   ]
  },
  {
   "cell_type": "code",
   "execution_count": 37,
   "id": "e26cdf51-1c8f-4f70-a784-b15e772d2a48",
   "metadata": {},
   "outputs": [],
   "source": [
    "# Atomic types\n",
    "N = AtomicType.NOUN\n",
    "S = AtomicType.SENTENCE"
   ]
  },
  {
   "cell_type": "code",
   "execution_count": 38,
   "id": "f77e4f38-7665-45c6-abb2-3fb2b7bebc1f",
   "metadata": {},
   "outputs": [
    {
     "data": {
      "image/png": "[encoded data removed]",
      "text/plain": [
       "<Figure size 2880x1152 with 1 Axes>"
      ]
     },
     "metadata": {},
     "output_type": "display_data"
    }
   ],
   "source": [
    "# Convert string diagram to qc - 1 qubit per atomic type\n",
    "ansatz = CustomIQPAnsatz({N: 1, S: 1}, n_layers=1)\n",
    "discopy_circuit = ansatz(decupped_diagram)\n",
    "discopy_circuit.draw(figsize=(40, 16), fontsize=12)"
   ]
  },
  {
   "cell_type": "markdown",
   "id": "5f51c1ae-63c8-4ac2-8f10-d2edf62f196a",
   "metadata": {},
   "source": [
    "### Custom Model Implementations"
   ]
  },
  {
   "cell_type": "markdown",
   "id": "74e28b43-057f-484f-bcf5-f5e09ab25b77",
   "metadata": {},
   "source": [
    "We modify the forward pass for the models to get the correct output."
   ]
  },
  {
   "cell_type": "code",
   "execution_count": 39,
   "id": "d6187f29-1c32-4d24-a357-3ba8e616f0c9",
   "metadata": {},
   "outputs": [],
   "source": [
    "class CustomTketModel(TketModel):\n",
    "    def forward(self, x: list[[Diagram, Diagram]]) -> np.ndarray:\n",
    "        # The forward pass takes x with 2 circuits\n",
    "        # for each of the sentence being compared\n",
    "        s1_diagrams = []\n",
    "        s2_diagrams = []\n",
    "        for s1d, s2d in x:\n",
    "            s1_diagrams.append(s1d)\n",
    "            s2_diagrams.append(s2d)\n",
    "        \n",
    "        s1_output = self.get_diagram_output(s1_diagrams)\n",
    "        s2_output = self.get_diagram_output(s2_diagrams)\n",
    "        \n",
    "        s1_dot_s2 = np.sum(s1_output * s2_output, axis=1)\n",
    "        complement = np.ones_like(s1_dot_s2) - s1_dot_s2\n",
    "        # dot ~ 0 -> orthogonal -> corresponds to diff topic -> 0 label\n",
    "        out = np.array([s1_dot_s2,\n",
    "                        complement]).T\n",
    "\n",
    "        return out"
   ]
  },
  {
   "cell_type": "code",
   "execution_count": 40,
   "id": "df724861-9099-4598-b9d5-076a6dbc57d9",
   "metadata": {},
   "outputs": [],
   "source": [
    "class CustomNumpyModel(NumpyModel):\n",
    "    def forward(self, x: list[[Diagram, Diagram]]) -> np.ndarray:\n",
    "        # The forward pass takes x with 2 circuits\n",
    "        # for each of the sentence being compared\n",
    "        s1_diagrams = []\n",
    "        s2_diagrams = []\n",
    "        for s1d, s2d in x:\n",
    "            s1_diagrams.append(s1d)\n",
    "            s2_diagrams.append(s2d)\n",
    "        \n",
    "        s1_output = self.get_diagram_output(s1_diagrams)\n",
    "        s2_output = self.get_diagram_output(s2_diagrams)\n",
    "        \n",
    "        s1_dot_s2 = np.sum(s1_output * s2_output, axis=1)\n",
    "        complement = np.ones_like(s1_dot_s2) - s1_dot_s2\n",
    "        out = np.array([s1_dot_s2,\n",
    "                        complement]).T\n",
    "\n",
    "        return out"
   ]
  },
  {
   "cell_type": "code",
   "execution_count": 41,
   "id": "ba400f65-377a-43f2-b009-9ae8c9e5daef",
   "metadata": {},
   "outputs": [],
   "source": [
    "loss = lambda y_hat, y: -np.sum(y * np.log(y_hat + 1e-6)) / len(y)\n",
    "acc = lambda y_hat, y: np.sum(np.round(y_hat) == y) / len(y) / 2\n",
    "eval_metrics = {\"acc\": acc}"
   ]
  },
  {
   "cell_type": "markdown",
   "id": "25d4bd56-ba47-4f2e-a17b-234a4d7f72f0",
   "metadata": {
    "tags": []
   },
   "source": [
    "### Training: Quantum case"
   ]
  },
  {
   "cell_type": "markdown",
   "id": "9d4909c1-0056-4a35-ae9e-82eeb8f0f3ab",
   "metadata": {},
   "source": [
    "Inspecting `grammar.json`:"
   ]
  },
  {
   "cell_type": "code",
   "execution_count": 42,
   "id": "f0e89bcc-f8e0-4e4b-bc4f-c80f203630b0",
   "metadata": {},
   "outputs": [],
   "source": [
    "import json"
   ]
  },
  {
   "cell_type": "code",
   "execution_count": 17,
   "id": "8f265f52-4bc3-4af5-a6a0-ae7698c4e0b1",
   "metadata": {},
   "outputs": [],
   "source": [
    "grammar_json_path = \"/home/jovyan/.cache/lambeq/bobcat/bert/grammar.json\""
   ]
  },
  {
   "cell_type": "code",
   "execution_count": 18,
   "id": "68f59f0c-c5fc-4b20-b016-ccc3bb129646",
   "metadata": {},
   "outputs": [],
   "source": [
    "with open(grammar_json_path, \"r\") as f:\n",
    "    grammar_json = json.load(f)"
   ]
  },
  {
   "cell_type": "markdown",
   "id": "25f91e34-7fed-42f9-91ca-afb2438d1156",
   "metadata": {},
   "source": [
    "Based on the sentence structures, we have the following grammatical structures. This might be important later.\n",
    "- Noun\n",
    "- Noun phrase\n",
    "- Sentence\n",
    "- Verb (transitive)\n",
    "- Adjective"
   ]
  },
  {
   "cell_type": "code",
   "execution_count": 43,
   "id": "7c3dea6c-cb15-4fa4-80d4-1886313848f9",
   "metadata": {},
   "outputs": [
    {
     "data": {
      "text/html": [
       "<div>\n",
       "<style scoped>\n",
       "    .dataframe tbody tr th:only-of-type {\n",
       "        vertical-align: middle;\n",
       "    }\n",
       "\n",
       "    .dataframe tbody tr th {\n",
       "        vertical-align: top;\n",
       "    }\n",
       "\n",
       "    .dataframe thead th {\n",
       "        text-align: right;\n",
       "    }\n",
       "</style>\n",
       "<table border=\"1\" class=\"dataframe\">\n",
       "  <thead>\n",
       "    <tr style=\"text-align: right;\">\n",
       "      <th></th>\n",
       "      <th>s1</th>\n",
       "      <th>s2</th>\n",
       "      <th>label</th>\n",
       "    </tr>\n",
       "  </thead>\n",
       "  <tbody>\n",
       "    <tr>\n",
       "      <th>0</th>\n",
       "      <td>cook creates complicated dish</td>\n",
       "      <td>experienced chef prepares complicated dish</td>\n",
       "      <td>1</td>\n",
       "    </tr>\n",
       "    <tr>\n",
       "      <th>1</th>\n",
       "      <td>skilful programmer creates code</td>\n",
       "      <td>devoted hacker writes code</td>\n",
       "      <td>1</td>\n",
       "    </tr>\n",
       "    <tr>\n",
       "      <th>2</th>\n",
       "      <td>skilful cook creates meal</td>\n",
       "      <td>devoted hacker creates complicated code</td>\n",
       "      <td>0</td>\n",
       "    </tr>\n",
       "    <tr>\n",
       "      <th>3</th>\n",
       "      <td>hacker writes code</td>\n",
       "      <td>skilful hacker creates code</td>\n",
       "      <td>1</td>\n",
       "    </tr>\n",
       "    <tr>\n",
       "      <th>4</th>\n",
       "      <td>devoted hacker writes code</td>\n",
       "      <td>hacker writes complicated code</td>\n",
       "      <td>1</td>\n",
       "    </tr>\n",
       "  </tbody>\n",
       "</table>\n",
       "</div>"
      ],
      "text/plain": [
       "                                s1  \\\n",
       "0    cook creates complicated dish   \n",
       "1  skilful programmer creates code   \n",
       "2        skilful cook creates meal   \n",
       "3               hacker writes code   \n",
       "4       devoted hacker writes code   \n",
       "\n",
       "                                           s2  label  \n",
       "0  experienced chef prepares complicated dish      1  \n",
       "1                  devoted hacker writes code      1  \n",
       "2     devoted hacker creates complicated code      0  \n",
       "3                 skilful hacker creates code      1  \n",
       "4              hacker writes complicated code      1  "
      ]
     },
     "execution_count": 43,
     "metadata": {},
     "output_type": "execute_result"
    }
   ],
   "source": [
    "df.head()"
   ]
  },
  {
   "cell_type": "code",
   "execution_count": 44,
   "id": "9f412f83-8c59-4b4f-9579-f0a04b4cf53e",
   "metadata": {},
   "outputs": [
    {
     "data": {
      "text/plain": [
       "(100, 3)"
      ]
     },
     "execution_count": 44,
     "metadata": {},
     "output_type": "execute_result"
    }
   ],
   "source": [
    "df.shape"
   ]
  },
  {
   "cell_type": "code",
   "execution_count": 45,
   "id": "b41610dd-14d3-4e65-b92d-a8dbac716330",
   "metadata": {},
   "outputs": [
    {
     "data": {
      "text/plain": [
       "(53, 3)"
      ]
     },
     "execution_count": 45,
     "metadata": {},
     "output_type": "execute_result"
    }
   ],
   "source": [
    "df[df[\"label\"] == 1].shape"
   ]
  },
  {
   "cell_type": "code",
   "execution_count": 46,
   "id": "f6cace6f-c9e4-492a-93dc-5f898fa47fda",
   "metadata": {},
   "outputs": [],
   "source": [
    "from sklearn.model_selection import train_test_split, RepeatedStratifiedKFold"
   ]
  },
  {
   "cell_type": "code",
   "execution_count": 47,
   "id": "14ba728f-d3b0-4c50-b037-029e5d121d47",
   "metadata": {},
   "outputs": [],
   "source": [
    "df_train_val, df_test = train_test_split(df, test_size=0.1, shuffle=True)"
   ]
  },
  {
   "cell_type": "code",
   "execution_count": 48,
   "id": "75cdb169-3eb1-45b2-94af-0e61f25d429c",
   "metadata": {},
   "outputs": [
    {
     "data": {
      "text/plain": [
       "((90, 3), (10, 3))"
      ]
     },
     "execution_count": 48,
     "metadata": {},
     "output_type": "execute_result"
    }
   ],
   "source": [
    "df_train_val.shape, df_test.shape"
   ]
  },
  {
   "cell_type": "code",
   "execution_count": 49,
   "id": "529f01e7-2853-4163-87a5-b0a7c401e143",
   "metadata": {},
   "outputs": [],
   "source": [
    "rskf = RepeatedStratifiedKFold(n_splits=5, n_repeats=4)"
   ]
  },
  {
   "cell_type": "code",
   "execution_count": 50,
   "id": "04e500a5-0d44-48fa-babb-109d60d5299b",
   "metadata": {},
   "outputs": [
    {
     "data": {
      "text/plain": [
       "Index(['s1', 's2', 'label'], dtype='object')"
      ]
     },
     "execution_count": 50,
     "metadata": {},
     "output_type": "execute_result"
    }
   ],
   "source": [
    "df_train_val.columns"
   ]
  },
  {
   "cell_type": "code",
   "execution_count": 51,
   "id": "fe3bacaa-da27-41b9-a526-b976e7a2dc29",
   "metadata": {},
   "outputs": [],
   "source": [
    "rskf_splits = list(rskf.split(df_train_val[[\"s1\", \"s2\"]], y=df_train_val[\"label\"]))"
   ]
  },
  {
   "cell_type": "code",
   "execution_count": 52,
   "id": "3da12a8a-abe8-43b7-8c91-ad6448ef3a86",
   "metadata": {},
   "outputs": [
    {
     "data": {
      "text/plain": [
       "20"
      ]
     },
     "execution_count": 52,
     "metadata": {},
     "output_type": "execute_result"
    }
   ],
   "source": [
    "len(rskf_splits)"
   ]
  },
  {
   "cell_type": "code",
   "execution_count": 53,
   "id": "899ee093-31de-4b7b-a6b5-5e080913aed2",
   "metadata": {},
   "outputs": [],
   "source": [
    "def preprocess_df(df, ansatz, verbose=\"text\"):\n",
    "    # Create raw diagram for both datasets.\n",
    "    # We require both sentences to have a diagram\n",
    "    # so it can be part of the dataset.\n",
    "    df_out = df.copy(deep=True)\n",
    "    df_out[\"s1_diagram\"] = parser.sentences2diagrams(list(df_out[\"s1\"].values), suppress_exceptions=True, verbose=verbose)\n",
    "    df_out[\"s2_diagram\"] = parser.sentences2diagrams(list(df_out[\"s2\"].values), suppress_exceptions=True, verbose=verbose)\n",
    "    df.dropna(inplace=True)\n",
    "\n",
    "    # Convert to normal form\n",
    "    df_out[\"s1_diagram\"] = df_out[\"s1_diagram\"].apply(lambda d: d.normal_form())\n",
    "    df_out[\"s2_diagram\"] = df_out[\"s2_diagram\"].apply(lambda d: d.normal_form())\n",
    "\n",
    "    # Vectorize label\n",
    "    df_out[\"label_v\"] = df_out[\"label\"].apply(lambda l: [0, 1] if l == 0 else [1, 0])\n",
    "\n",
    "    # Create circuits\n",
    "    df_out[\"s1_circuit\"] = df_out[\"s1_diagram\"].apply(lambda d: ansatz(remove_cups(d)))\n",
    "    df_out[\"s2_circuit\"] = df_out[\"s2_diagram\"].apply(lambda d: ansatz(remove_cups(d)))\n",
    "    \n",
    "    return df_out"
   ]
  },
  {
   "cell_type": "code",
   "execution_count": 54,
   "id": "ea0a097e-f7f0-4064-8572-c36ee01c67d0",
   "metadata": {},
   "outputs": [],
   "source": [
    "qsn, qss, pn, d = (1, 1, 1, 1)"
   ]
  },
  {
   "cell_type": "code",
   "execution_count": 55,
   "id": "71c1f756-117f-46c6-980c-39df1e48bdb5",
   "metadata": {},
   "outputs": [],
   "source": [
    "ansatz = CustomIQPAnsatz(\n",
    "    {AtomicType.NOUN: qsn, AtomicType.SENTENCE: qss},\n",
    "    n_layers=d,\n",
    "    n_single_qubit_params=pn\n",
    ")"
   ]
  },
  {
   "cell_type": "code",
   "execution_count": 56,
   "id": "52e3c16c-6e71-458a-a1ca-01a515bffad0",
   "metadata": {},
   "outputs": [
    {
     "data": {
      "text/plain": [
       "((72,), (18,))"
      ]
     },
     "execution_count": 56,
     "metadata": {},
     "output_type": "execute_result"
    }
   ],
   "source": [
    "rskf_splits[0][0].shape, rskf_splits[0][1].shape"
   ]
  },
  {
   "cell_type": "code",
   "execution_count": 57,
   "id": "a6f1d386-830e-4e2b-aff3-3a54589d10f7",
   "metadata": {},
   "outputs": [],
   "source": [
    "train_idx, val_idx = rskf_splits[0]\n",
    "df_train, df_val = df_train_val.iloc[train_idx], df_train_val.iloc[val_idx]"
   ]
  },
  {
   "cell_type": "code",
   "execution_count": 58,
   "id": "3151c1f1-d59f-4665-a0d0-2c498f376f32",
   "metadata": {},
   "outputs": [
    {
     "name": "stdout",
     "output_type": "stream",
     "text": [
      "(32, 3)\n",
      "(40, 3)\n"
     ]
    }
   ],
   "source": [
    "print(df_train[df_train[\"label\"] == 0].shape)\n",
    "print(df_train[df_train[\"label\"] == 1].shape)"
   ]
  },
  {
   "cell_type": "code",
   "execution_count": 58,
   "id": "c240f299-0076-4b6f-a7a1-25760c57814b",
   "metadata": {},
   "outputs": [
    {
     "name": "stderr",
     "output_type": "stream",
     "text": [
      "Tagging sentences.\n",
      "Parsing tagged sentences.\n",
      "Turning parse trees to diagrams.\n",
      "Tagging sentences.\n",
      "Parsing tagged sentences.\n",
      "Turning parse trees to diagrams.\n"
     ]
    },
    {
     "data": {
      "text/html": [
       "<div>\n",
       "<style scoped>\n",
       "    .dataframe tbody tr th:only-of-type {\n",
       "        vertical-align: middle;\n",
       "    }\n",
       "\n",
       "    .dataframe tbody tr th {\n",
       "        vertical-align: top;\n",
       "    }\n",
       "\n",
       "    .dataframe thead th {\n",
       "        text-align: right;\n",
       "    }\n",
       "</style>\n",
       "<table border=\"1\" class=\"dataframe\">\n",
       "  <thead>\n",
       "    <tr style=\"text-align: right;\">\n",
       "      <th></th>\n",
       "      <th>s1</th>\n",
       "      <th>s2</th>\n",
       "      <th>label</th>\n",
       "      <th>s1_diagram</th>\n",
       "      <th>s2_diagram</th>\n",
       "      <th>label_v</th>\n",
       "      <th>s1_circuit</th>\n",
       "      <th>s2_circuit</th>\n",
       "    </tr>\n",
       "  </thead>\n",
       "  <tbody>\n",
       "    <tr>\n",
       "      <th>87</th>\n",
       "      <td>skilful chef creates meal</td>\n",
       "      <td>skilful hacker creates advanced code</td>\n",
       "      <td>0</td>\n",
       "      <td>(((skilful)), ((Id(n) @ creates @ Id(n.l))), (...</td>\n",
       "      <td>(((skilful)), ((Id(n) @ creates @ Id(n.l))), (...</td>\n",
       "      <td>[0, 1]</td>\n",
       "      <td>(((Ket(0, 0))), ((Rz(skilful__n@n.l_0) @ Id(1)...</td>\n",
       "      <td>(((Ket(0, 0))), ((Rz(skilful__n@n.l_0) @ Id(1)...</td>\n",
       "    </tr>\n",
       "    <tr>\n",
       "      <th>74</th>\n",
       "      <td>hacker creates advanced code</td>\n",
       "      <td>programmer creates code</td>\n",
       "      <td>1</td>\n",
       "      <td>(((hacker)), ((Id(n) @ creates)), ((Cup(n, n.r...</td>\n",
       "      <td>(((programmer)), ((Id(n) @ creates)), ((Cup(n,...</td>\n",
       "      <td>[1, 0]</td>\n",
       "      <td>(((Ket(0, 0, 0))), ((Rz(creates__n.r@s@n.l_0) ...</td>\n",
       "      <td>(((Ket(0, 0, 0))), ((Rz(creates__n.r@s@n.l_0) ...</td>\n",
       "    </tr>\n",
       "    <tr>\n",
       "      <th>12</th>\n",
       "      <td>cook creates complicated dish</td>\n",
       "      <td>hacker writes code</td>\n",
       "      <td>0</td>\n",
       "      <td>(((cook)), ((Id(n) @ creates)), ((Cup(n, n.r) ...</td>\n",
       "      <td>(((hacker)), ((Id(n) @ writes)), ((Cup(n, n.r)...</td>\n",
       "      <td>[0, 1]</td>\n",
       "      <td>(((Ket(0, 0, 0))), ((Rz(creates__n.r@s@n.l_0) ...</td>\n",
       "      <td>(((Ket(0, 0, 0))), ((Rz(writes__n.r@s@n.l_0) @...</td>\n",
       "    </tr>\n",
       "    <tr>\n",
       "      <th>96</th>\n",
       "      <td>programmer creates code</td>\n",
       "      <td>chef creates dish</td>\n",
       "      <td>0</td>\n",
       "      <td>(((programmer)), ((Id(n) @ creates)), ((Cup(n,...</td>\n",
       "      <td>(((chef)), ((Id(n) @ creates)), ((Cup(n, n.r) ...</td>\n",
       "      <td>[0, 1]</td>\n",
       "      <td>(((Ket(0, 0, 0))), ((Rz(creates__n.r@s@n.l_0) ...</td>\n",
       "      <td>(((Ket(0, 0, 0))), ((Rz(creates__n.r@s@n.l_0) ...</td>\n",
       "    </tr>\n",
       "    <tr>\n",
       "      <th>22</th>\n",
       "      <td>cook creates meal</td>\n",
       "      <td>chef prepares complicated dish</td>\n",
       "      <td>1</td>\n",
       "      <td>(((cook)), ((Id(n) @ creates)), ((Cup(n, n.r) ...</td>\n",
       "      <td>(((chef)), ((Id(n) @ prepares)), ((Cup(n, n.r)...</td>\n",
       "      <td>[1, 0]</td>\n",
       "      <td>(((Ket(0, 0, 0))), ((Rz(creates__n.r@s@n.l_0) ...</td>\n",
       "      <td>(((Ket(0, 0, 0))), ((Rz(prepares__n.r@s@n.l_0)...</td>\n",
       "    </tr>\n",
       "    <tr>\n",
       "      <th>...</th>\n",
       "      <td>...</td>\n",
       "      <td>...</td>\n",
       "      <td>...</td>\n",
       "      <td>...</td>\n",
       "      <td>...</td>\n",
       "      <td>...</td>\n",
       "      <td>...</td>\n",
       "      <td>...</td>\n",
       "    </tr>\n",
       "    <tr>\n",
       "      <th>27</th>\n",
       "      <td>chef prepares meal</td>\n",
       "      <td>skilful chef creates tasty dish</td>\n",
       "      <td>1</td>\n",
       "      <td>(((chef)), ((Id(n) @ prepares)), ((Cup(n, n.r)...</td>\n",
       "      <td>(((skilful)), ((Id(n) @ creates @ Id(n.l))), (...</td>\n",
       "      <td>[1, 0]</td>\n",
       "      <td>(((Ket(0, 0, 0))), ((Rz(prepares__n.r@s@n.l_0)...</td>\n",
       "      <td>(((Ket(0, 0))), ((Rz(skilful__n@n.l_0) @ Id(1)...</td>\n",
       "    </tr>\n",
       "    <tr>\n",
       "      <th>8</th>\n",
       "      <td>hacker creates code</td>\n",
       "      <td>programmer creates complicated code</td>\n",
       "      <td>1</td>\n",
       "      <td>(((hacker)), ((Id(n) @ creates)), ((Cup(n, n.r...</td>\n",
       "      <td>(((programmer)), ((Id(n) @ creates)), ((Cup(n,...</td>\n",
       "      <td>[1, 0]</td>\n",
       "      <td>(((Ket(0, 0, 0))), ((Rz(creates__n.r@s@n.l_0) ...</td>\n",
       "      <td>(((Ket(0, 0, 0))), ((Rz(creates__n.r@s@n.l_0) ...</td>\n",
       "    </tr>\n",
       "    <tr>\n",
       "      <th>56</th>\n",
       "      <td>devoted hacker writes code</td>\n",
       "      <td>experienced cook creates meal</td>\n",
       "      <td>0</td>\n",
       "      <td>(((devoted)), ((Id(n) @ writes @ Id(n.l))), ((...</td>\n",
       "      <td>(((experienced)), ((Id(n) @ creates @ Id(n.l))...</td>\n",
       "      <td>[0, 1]</td>\n",
       "      <td>(((Ket(0, 0))), ((Rz(devoted__n@n.l_0) @ Id(1)...</td>\n",
       "      <td>(((Ket(0, 0))), ((Rz(experienced__n@n.l_0) @ I...</td>\n",
       "    </tr>\n",
       "    <tr>\n",
       "      <th>26</th>\n",
       "      <td>cook creates complicated meal</td>\n",
       "      <td>cook prepares dish</td>\n",
       "      <td>1</td>\n",
       "      <td>(((cook)), ((Id(n) @ creates)), ((Cup(n, n.r) ...</td>\n",
       "      <td>(((cook)), ((Id(n) @ prepares)), ((Cup(n, n.r)...</td>\n",
       "      <td>[1, 0]</td>\n",
       "      <td>(((Ket(0, 0, 0))), ((Rz(creates__n.r@s@n.l_0) ...</td>\n",
       "      <td>(((Ket(0, 0, 0))), ((Rz(prepares__n.r@s@n.l_0)...</td>\n",
       "    </tr>\n",
       "    <tr>\n",
       "      <th>41</th>\n",
       "      <td>skilful chef prepares tasty dish</td>\n",
       "      <td>chef prepares tasty dish</td>\n",
       "      <td>1</td>\n",
       "      <td>(((skilful)), ((Id(n) @ prepares @ Id(n.l))), ...</td>\n",
       "      <td>(((chef)), ((Id(n) @ prepares)), ((Cup(n, n.r)...</td>\n",
       "      <td>[1, 0]</td>\n",
       "      <td>(((Ket(0, 0))), ((Rz(skilful__n@n.l_0) @ Id(1)...</td>\n",
       "      <td>(((Ket(0, 0, 0))), ((Rz(prepares__n.r@s@n.l_0)...</td>\n",
       "    </tr>\n",
       "  </tbody>\n",
       "</table>\n",
       "<p>72 rows × 8 columns</p>\n",
       "</div>"
      ],
      "text/plain": [
       "                                  s1                                    s2  \\\n",
       "87         skilful chef creates meal  skilful hacker creates advanced code   \n",
       "74      hacker creates advanced code               programmer creates code   \n",
       "12     cook creates complicated dish                    hacker writes code   \n",
       "96           programmer creates code                     chef creates dish   \n",
       "22                 cook creates meal        chef prepares complicated dish   \n",
       "..                               ...                                   ...   \n",
       "27                chef prepares meal       skilful chef creates tasty dish   \n",
       "8                hacker creates code   programmer creates complicated code   \n",
       "56        devoted hacker writes code         experienced cook creates meal   \n",
       "26     cook creates complicated meal                    cook prepares dish   \n",
       "41  skilful chef prepares tasty dish              chef prepares tasty dish   \n",
       "\n",
       "    label                                         s1_diagram  \\\n",
       "87      0  (((skilful)), ((Id(n) @ creates @ Id(n.l))), (...   \n",
       "74      1  (((hacker)), ((Id(n) @ creates)), ((Cup(n, n.r...   \n",
       "12      0  (((cook)), ((Id(n) @ creates)), ((Cup(n, n.r) ...   \n",
       "96      0  (((programmer)), ((Id(n) @ creates)), ((Cup(n,...   \n",
       "22      1  (((cook)), ((Id(n) @ creates)), ((Cup(n, n.r) ...   \n",
       "..    ...                                                ...   \n",
       "27      1  (((chef)), ((Id(n) @ prepares)), ((Cup(n, n.r)...   \n",
       "8       1  (((hacker)), ((Id(n) @ creates)), ((Cup(n, n.r...   \n",
       "56      0  (((devoted)), ((Id(n) @ writes @ Id(n.l))), ((...   \n",
       "26      1  (((cook)), ((Id(n) @ creates)), ((Cup(n, n.r) ...   \n",
       "41      1  (((skilful)), ((Id(n) @ prepares @ Id(n.l))), ...   \n",
       "\n",
       "                                           s2_diagram label_v  \\\n",
       "87  (((skilful)), ((Id(n) @ creates @ Id(n.l))), (...  [0, 1]   \n",
       "74  (((programmer)), ((Id(n) @ creates)), ((Cup(n,...  [1, 0]   \n",
       "12  (((hacker)), ((Id(n) @ writes)), ((Cup(n, n.r)...  [0, 1]   \n",
       "96  (((chef)), ((Id(n) @ creates)), ((Cup(n, n.r) ...  [0, 1]   \n",
       "22  (((chef)), ((Id(n) @ prepares)), ((Cup(n, n.r)...  [1, 0]   \n",
       "..                                                ...     ...   \n",
       "27  (((skilful)), ((Id(n) @ creates @ Id(n.l))), (...  [1, 0]   \n",
       "8   (((programmer)), ((Id(n) @ creates)), ((Cup(n,...  [1, 0]   \n",
       "56  (((experienced)), ((Id(n) @ creates @ Id(n.l))...  [0, 1]   \n",
       "26  (((cook)), ((Id(n) @ prepares)), ((Cup(n, n.r)...  [1, 0]   \n",
       "41  (((chef)), ((Id(n) @ prepares)), ((Cup(n, n.r)...  [1, 0]   \n",
       "\n",
       "                                           s1_circuit  \\\n",
       "87  (((Ket(0, 0))), ((Rz(skilful__n@n.l_0) @ Id(1)...   \n",
       "74  (((Ket(0, 0, 0))), ((Rz(creates__n.r@s@n.l_0) ...   \n",
       "12  (((Ket(0, 0, 0))), ((Rz(creates__n.r@s@n.l_0) ...   \n",
       "96  (((Ket(0, 0, 0))), ((Rz(creates__n.r@s@n.l_0) ...   \n",
       "22  (((Ket(0, 0, 0))), ((Rz(creates__n.r@s@n.l_0) ...   \n",
       "..                                                ...   \n",
       "27  (((Ket(0, 0, 0))), ((Rz(prepares__n.r@s@n.l_0)...   \n",
       "8   (((Ket(0, 0, 0))), ((Rz(creates__n.r@s@n.l_0) ...   \n",
       "56  (((Ket(0, 0))), ((Rz(devoted__n@n.l_0) @ Id(1)...   \n",
       "26  (((Ket(0, 0, 0))), ((Rz(creates__n.r@s@n.l_0) ...   \n",
       "41  (((Ket(0, 0))), ((Rz(skilful__n@n.l_0) @ Id(1)...   \n",
       "\n",
       "                                           s2_circuit  \n",
       "87  (((Ket(0, 0))), ((Rz(skilful__n@n.l_0) @ Id(1)...  \n",
       "74  (((Ket(0, 0, 0))), ((Rz(creates__n.r@s@n.l_0) ...  \n",
       "12  (((Ket(0, 0, 0))), ((Rz(writes__n.r@s@n.l_0) @...  \n",
       "96  (((Ket(0, 0, 0))), ((Rz(creates__n.r@s@n.l_0) ...  \n",
       "22  (((Ket(0, 0, 0))), ((Rz(prepares__n.r@s@n.l_0)...  \n",
       "..                                                ...  \n",
       "27  (((Ket(0, 0))), ((Rz(skilful__n@n.l_0) @ Id(1)...  \n",
       "8   (((Ket(0, 0, 0))), ((Rz(creates__n.r@s@n.l_0) ...  \n",
       "56  (((Ket(0, 0))), ((Rz(experienced__n@n.l_0) @ I...  \n",
       "26  (((Ket(0, 0, 0))), ((Rz(prepares__n.r@s@n.l_0)...  \n",
       "41  (((Ket(0, 0, 0))), ((Rz(prepares__n.r@s@n.l_0)...  \n",
       "\n",
       "[72 rows x 8 columns]"
      ]
     },
     "execution_count": 58,
     "metadata": {},
     "output_type": "execute_result"
    }
   ],
   "source": [
    "preprocess_df(df_train, ansatz)"
   ]
  },
  {
   "cell_type": "code",
   "execution_count": 59,
   "id": "717e2054-1bce-4820-a148-88775247a55f",
   "metadata": {},
   "outputs": [
    {
     "data": {
      "text/html": [
       "<div>\n",
       "<style scoped>\n",
       "    .dataframe tbody tr th:only-of-type {\n",
       "        vertical-align: middle;\n",
       "    }\n",
       "\n",
       "    .dataframe tbody tr th {\n",
       "        vertical-align: top;\n",
       "    }\n",
       "\n",
       "    .dataframe thead th {\n",
       "        text-align: right;\n",
       "    }\n",
       "</style>\n",
       "<table border=\"1\" class=\"dataframe\">\n",
       "  <thead>\n",
       "    <tr style=\"text-align: right;\">\n",
       "      <th></th>\n",
       "      <th>s1</th>\n",
       "      <th>s2</th>\n",
       "      <th>label</th>\n",
       "    </tr>\n",
       "  </thead>\n",
       "  <tbody>\n",
       "    <tr>\n",
       "      <th>87</th>\n",
       "      <td>skilful chef creates meal</td>\n",
       "      <td>skilful hacker creates advanced code</td>\n",
       "      <td>0</td>\n",
       "    </tr>\n",
       "    <tr>\n",
       "      <th>74</th>\n",
       "      <td>hacker creates advanced code</td>\n",
       "      <td>programmer creates code</td>\n",
       "      <td>1</td>\n",
       "    </tr>\n",
       "    <tr>\n",
       "      <th>12</th>\n",
       "      <td>cook creates complicated dish</td>\n",
       "      <td>hacker writes code</td>\n",
       "      <td>0</td>\n",
       "    </tr>\n",
       "    <tr>\n",
       "      <th>96</th>\n",
       "      <td>programmer creates code</td>\n",
       "      <td>chef creates dish</td>\n",
       "      <td>0</td>\n",
       "    </tr>\n",
       "    <tr>\n",
       "      <th>22</th>\n",
       "      <td>cook creates meal</td>\n",
       "      <td>chef prepares complicated dish</td>\n",
       "      <td>1</td>\n",
       "    </tr>\n",
       "  </tbody>\n",
       "</table>\n",
       "</div>"
      ],
      "text/plain": [
       "                               s1                                    s2  label\n",
       "87      skilful chef creates meal  skilful hacker creates advanced code      0\n",
       "74   hacker creates advanced code               programmer creates code      1\n",
       "12  cook creates complicated dish                    hacker writes code      0\n",
       "96        programmer creates code                     chef creates dish      0\n",
       "22              cook creates meal        chef prepares complicated dish      1"
      ]
     },
     "execution_count": 59,
     "metadata": {},
     "output_type": "execute_result"
    }
   ],
   "source": [
    "df_train.head()"
   ]
  },
  {
   "cell_type": "code",
   "execution_count": 60,
   "id": "4d8eee66-c164-402e-b6d2-0f6fd082154c",
   "metadata": {},
   "outputs": [
    {
     "ename": "KeyError",
     "evalue": "'s1_diagram'",
     "output_type": "error",
     "traceback": [
      "\u001b[0;31m---------------------------------------------------------------------------\u001b[0m",
      "\u001b[0;31mKeyError\u001b[0m                                  Traceback (most recent call last)",
      "File \u001b[0;32m~/.qbraid/environments/womanium_go14xk/pyenv/lib/python3.9/site-packages/pandas/core/indexes/base.py:3621\u001b[0m, in \u001b[0;36mIndex.get_loc\u001b[0;34m(self, key, method, tolerance)\u001b[0m\n\u001b[1;32m   3620\u001b[0m \u001b[38;5;28;01mtry\u001b[39;00m:\n\u001b[0;32m-> 3621\u001b[0m     \u001b[38;5;28;01mreturn\u001b[39;00m \u001b[38;5;28;43mself\u001b[39;49m\u001b[38;5;241;43m.\u001b[39;49m\u001b[43m_engine\u001b[49m\u001b[38;5;241;43m.\u001b[39;49m\u001b[43mget_loc\u001b[49m\u001b[43m(\u001b[49m\u001b[43mcasted_key\u001b[49m\u001b[43m)\u001b[49m\n\u001b[1;32m   3622\u001b[0m \u001b[38;5;28;01mexcept\u001b[39;00m \u001b[38;5;167;01mKeyError\u001b[39;00m \u001b[38;5;28;01mas\u001b[39;00m err:\n",
      "File \u001b[0;32m~/.qbraid/environments/womanium_go14xk/pyenv/lib/python3.9/site-packages/pandas/_libs/index.pyx:136\u001b[0m, in \u001b[0;36mpandas._libs.index.IndexEngine.get_loc\u001b[0;34m()\u001b[0m\n",
      "File \u001b[0;32m~/.qbraid/environments/womanium_go14xk/pyenv/lib/python3.9/site-packages/pandas/_libs/index.pyx:163\u001b[0m, in \u001b[0;36mpandas._libs.index.IndexEngine.get_loc\u001b[0;34m()\u001b[0m\n",
      "File \u001b[0;32mpandas/_libs/hashtable_class_helper.pxi:5198\u001b[0m, in \u001b[0;36mpandas._libs.hashtable.PyObjectHashTable.get_item\u001b[0;34m()\u001b[0m\n",
      "File \u001b[0;32mpandas/_libs/hashtable_class_helper.pxi:5206\u001b[0m, in \u001b[0;36mpandas._libs.hashtable.PyObjectHashTable.get_item\u001b[0;34m()\u001b[0m\n",
      "\u001b[0;31mKeyError\u001b[0m: 's1_diagram'",
      "\nThe above exception was the direct cause of the following exception:\n",
      "\u001b[0;31mKeyError\u001b[0m                                  Traceback (most recent call last)",
      "Input \u001b[0;32mIn [60]\u001b[0m, in \u001b[0;36m<cell line: 1>\u001b[0;34m()\u001b[0m\n\u001b[0;32m----> 1\u001b[0m \u001b[43mdf_train\u001b[49m\u001b[43m[\u001b[49m\u001b[38;5;124;43m\"\u001b[39;49m\u001b[38;5;124;43ms1_diagram\u001b[39;49m\u001b[38;5;124;43m\"\u001b[39;49m\u001b[43m]\u001b[49m[\u001b[38;5;241m40\u001b[39m]\u001b[38;5;241m.\u001b[39mdraw(figsize\u001b[38;5;241m=\u001b[39m(\u001b[38;5;241m4\u001b[39m, \u001b[38;5;241m3\u001b[39m), fontsize\u001b[38;5;241m=\u001b[39m\u001b[38;5;241m12\u001b[39m)\n",
      "File \u001b[0;32m~/.qbraid/environments/womanium_go14xk/pyenv/lib/python3.9/site-packages/pandas/core/frame.py:3505\u001b[0m, in \u001b[0;36mDataFrame.__getitem__\u001b[0;34m(self, key)\u001b[0m\n\u001b[1;32m   3503\u001b[0m \u001b[38;5;28;01mif\u001b[39;00m \u001b[38;5;28mself\u001b[39m\u001b[38;5;241m.\u001b[39mcolumns\u001b[38;5;241m.\u001b[39mnlevels \u001b[38;5;241m>\u001b[39m \u001b[38;5;241m1\u001b[39m:\n\u001b[1;32m   3504\u001b[0m     \u001b[38;5;28;01mreturn\u001b[39;00m \u001b[38;5;28mself\u001b[39m\u001b[38;5;241m.\u001b[39m_getitem_multilevel(key)\n\u001b[0;32m-> 3505\u001b[0m indexer \u001b[38;5;241m=\u001b[39m \u001b[38;5;28;43mself\u001b[39;49m\u001b[38;5;241;43m.\u001b[39;49m\u001b[43mcolumns\u001b[49m\u001b[38;5;241;43m.\u001b[39;49m\u001b[43mget_loc\u001b[49m\u001b[43m(\u001b[49m\u001b[43mkey\u001b[49m\u001b[43m)\u001b[49m\n\u001b[1;32m   3506\u001b[0m \u001b[38;5;28;01mif\u001b[39;00m is_integer(indexer):\n\u001b[1;32m   3507\u001b[0m     indexer \u001b[38;5;241m=\u001b[39m [indexer]\n",
      "File \u001b[0;32m~/.qbraid/environments/womanium_go14xk/pyenv/lib/python3.9/site-packages/pandas/core/indexes/base.py:3623\u001b[0m, in \u001b[0;36mIndex.get_loc\u001b[0;34m(self, key, method, tolerance)\u001b[0m\n\u001b[1;32m   3621\u001b[0m     \u001b[38;5;28;01mreturn\u001b[39;00m \u001b[38;5;28mself\u001b[39m\u001b[38;5;241m.\u001b[39m_engine\u001b[38;5;241m.\u001b[39mget_loc(casted_key)\n\u001b[1;32m   3622\u001b[0m \u001b[38;5;28;01mexcept\u001b[39;00m \u001b[38;5;167;01mKeyError\u001b[39;00m \u001b[38;5;28;01mas\u001b[39;00m err:\n\u001b[0;32m-> 3623\u001b[0m     \u001b[38;5;28;01mraise\u001b[39;00m \u001b[38;5;167;01mKeyError\u001b[39;00m(key) \u001b[38;5;28;01mfrom\u001b[39;00m \u001b[38;5;21;01merr\u001b[39;00m\n\u001b[1;32m   3624\u001b[0m \u001b[38;5;28;01mexcept\u001b[39;00m \u001b[38;5;167;01mTypeError\u001b[39;00m:\n\u001b[1;32m   3625\u001b[0m     \u001b[38;5;66;03m# If we have a listlike key, _check_indexing_error will raise\u001b[39;00m\n\u001b[1;32m   3626\u001b[0m     \u001b[38;5;66;03m#  InvalidIndexError. Otherwise we fall through and re-raise\u001b[39;00m\n\u001b[1;32m   3627\u001b[0m     \u001b[38;5;66;03m#  the TypeError.\u001b[39;00m\n\u001b[1;32m   3628\u001b[0m     \u001b[38;5;28mself\u001b[39m\u001b[38;5;241m.\u001b[39m_check_indexing_error(key)\n",
      "\u001b[0;31mKeyError\u001b[0m: 's1_diagram'"
     ]
    }
   ],
   "source": [
    "df_train[\"s1_diagram\"][40].draw(figsize=(4, 3), fontsize=12)"
   ]
  },
  {
   "cell_type": "code",
   "execution_count": null,
   "id": "79ebed54-c51c-490d-9562-6d43a6937954",
   "metadata": {},
   "outputs": [],
   "source": [
    "df_train[\"s2_diagram\"][40].draw(figsize=(4, 3), fontsize=12)"
   ]
  },
  {
   "cell_type": "code",
   "execution_count": null,
   "id": "255717cc-2da7-4141-abc4-2c0e5aaafacb",
   "metadata": {},
   "outputs": [],
   "source": [
    "df_train[\"s1_circuit\"][40].draw(figsize=(4, 3), fontsize=12)"
   ]
  },
  {
   "cell_type": "code",
   "execution_count": null,
   "id": "f28aa2e5-d9a0-4d3e-a075-ff7217f5578c",
   "metadata": {},
   "outputs": [],
   "source": [
    "df_train[\"s2_circuit\"][40].draw(figsize=(4, 3), fontsize=12)"
   ]
  },
  {
   "cell_type": "code",
   "execution_count": null,
   "id": "29e63e01-afe5-4979-b01f-f1b3087f26ad",
   "metadata": {},
   "outputs": [],
   "source": [
    "render_circuit_jupyter(df_train[\"s1_circuit\"][40].to_tk())"
   ]
  },
  {
   "cell_type": "code",
   "execution_count": null,
   "id": "0f5363ff-0e83-4b6c-bdff-ce4cd8d98dfb",
   "metadata": {},
   "outputs": [],
   "source": [
    "render_circuit_jupyter(df_train[\"s2_circuit\"][40].to_tk())"
   ]
  },
  {
   "cell_type": "code",
   "execution_count": null,
   "id": "3d1e6f14-0a24-4745-830e-c5dce4efbfbb",
   "metadata": {},
   "outputs": [],
   "source": [
    "preprocess_df(df_val, ansatz)"
   ]
  },
  {
   "cell_type": "code",
   "execution_count": null,
   "id": "e73a0ade-f71e-44a8-9e02-c2679bb17ba5",
   "metadata": {},
   "outputs": [],
   "source": [
    "preprocess_df(df_test, ansatz)"
   ]
  },
  {
   "cell_type": "code",
   "execution_count": null,
   "id": "9332b8c1-2850-40f5-a985-45985cba32ca",
   "metadata": {},
   "outputs": [],
   "source": [
    "train_circuits = list(df_train[[\"s1_circuit\", \"s2_circuit\"]].values)\n",
    "val_circuits = list(df_val[[\"s1_circuit\", \"s2_circuit\"]].values)\n",
    "test_circuits = list(df_test[[\"s1_circuit\", \"s2_circuit\"]].values)"
   ]
  },
  {
   "cell_type": "code",
   "execution_count": null,
   "id": "ae9656e3-ec37-4f68-85e9-2ca9277f939d",
   "metadata": {},
   "outputs": [],
   "source": [
    "all_circuits = train_circuits + val_circuits + test_circuits"
   ]
  },
  {
   "cell_type": "code",
   "execution_count": null,
   "id": "abfb1646-b578-42d1-b67a-af651fd8caff",
   "metadata": {},
   "outputs": [],
   "source": [
    "assert len(all_circuits) == len(df)"
   ]
  },
  {
   "cell_type": "code",
   "execution_count": null,
   "id": "d61e2d7d-3018-49b4-9731-029ca9e4cb6b",
   "metadata": {},
   "outputs": [],
   "source": [
    "train_diagrams = list(df_train[[\"s1_diagram\", \"s2_diagram\"]].values)\n",
    "val_diagrams = list(df_val[[\"s1_diagram\", \"s2_diagram\"]].values)\n",
    "test_diagrams = list(df_test[[\"s1_diagram\", \"s2_diagram\"]].values)"
   ]
  },
  {
   "cell_type": "code",
   "execution_count": null,
   "id": "9ee705d6-9164-4a79-8c4f-89237d241693",
   "metadata": {},
   "outputs": [],
   "source": [
    "all_diagrams = train_diagrams + val_diagrams + test_diagrams             "
   ]
  },
  {
   "cell_type": "code",
   "execution_count": null,
   "id": "5eac98b6-962d-49b4-9563-5ea66e84413e",
   "metadata": {},
   "outputs": [],
   "source": [
    "train_labels = list(df_train[\"label_v\"].values)\n",
    "val_labels = list(df_val[\"label_v\"].values)\n",
    "test_labels = list(df_test[\"label_v\"].values)"
   ]
  },
  {
   "cell_type": "code",
   "execution_count": null,
   "id": "f21649ff-54ed-4b26-8db3-26d740bebb50",
   "metadata": {},
   "outputs": [],
   "source": [
    "backend = AerBackend()\n",
    "backend_config = {\n",
    "    \"backend\": backend,\n",
    "    \"compilation\": backend.default_compilation_pass(2),\n",
    "    \"shots\": 2**12,\n",
    "}"
   ]
  },
  {
   "cell_type": "code",
   "execution_count": null,
   "id": "4c2ecb9f-d26c-45a2-9edf-c7d631aefabe",
   "metadata": {},
   "outputs": [],
   "source": [
    "np.array(all_circuits).reshape(-1).shape"
   ]
  },
  {
   "cell_type": "code",
   "execution_count": 59,
   "id": "44c9d0cc-a3f2-40c9-ac93-4a2007025034",
   "metadata": {},
   "outputs": [],
   "source": [
    "BATCH_SIZE = 32\n",
    "EPOCHS = 500"
   ]
  },
  {
   "cell_type": "code",
   "execution_count": null,
   "id": "5df5798c-38d3-49cf-b693-4aee891278da",
   "metadata": {},
   "outputs": [],
   "source": [
    "train_dataset = Dataset(train_circuits,\n",
    "                        train_labels,\n",
    "                        batch_size=BATCH_SIZE)"
   ]
  },
  {
   "cell_type": "code",
   "execution_count": null,
   "id": "c692e226-eb84-48a6-84fd-e86b81d59875",
   "metadata": {},
   "outputs": [],
   "source": [
    "val_dataset = Dataset(val_circuits,\n",
    "                      val_labels,\n",
    "                      shuffle=False)"
   ]
  },
  {
   "cell_type": "code",
   "execution_count": null,
   "id": "cd2ebc2d-798f-4746-aa05-17d717a0bf3e",
   "metadata": {},
   "outputs": [],
   "source": [
    "tket_model = CustomTketModel.from_diagrams(np.array(all_circuits).reshape(-1),\n",
    "                                           backend_config=backend_config)"
   ]
  },
  {
   "cell_type": "code",
   "execution_count": null,
   "id": "83d5759d-fc8f-49ee-8c51-5c69e5d6b619",
   "metadata": {},
   "outputs": [],
   "source": [
    "npy_model = CustomNumpyModel.from_diagrams(np.array(all_circuits).reshape(-1),\n",
    "                                           use_jit=True)\n",
    "                                           #backend_config=backend_config)"
   ]
  },
  {
   "cell_type": "code",
   "execution_count": null,
   "id": "da28d029-3742-4150-b2cc-6660c89f722b",
   "metadata": {},
   "outputs": [],
   "source": [
    "tket_trainer = QuantumTrainer(\n",
    "    tket_model,\n",
    "    loss_function=loss,\n",
    "    epochs=EPOCHS,\n",
    "    optimizer=SPSAOptimizer,\n",
    "    optim_hyperparams={\"a\": 0.05, \"c\": 0.06, \"A\": 0.01 * EPOCHS},\n",
    "    evaluate_functions=eval_metrics,\n",
    "    verbose=\"text\",\n",
    "    # from_checkpoint=True,\n",
    "    # log_dir=\"runs/Aug12_08-52-24_jupyter-neiljohn-2eortega-40gmail-2ecom/\",\n",
    "    seed=RANDOM_SEED,\n",
    ")"
   ]
  },
  {
   "cell_type": "code",
   "execution_count": 60,
   "id": "7d122426-47ef-4c60-bcd4-db7b3a15dd8a",
   "metadata": {},
   "outputs": [],
   "source": [
    "def run_experiment(df_train_val,\n",
    "                   train_val_splits,\n",
    "                   df_test,\n",
    "                   model_cls=NumpyModel,\n",
    "                   model_params={\"use_jit\": True},\n",
    "                   ansatz_cls=IQPAnsatz,\n",
    "                   ansatz_params=(1, 1, 1, 1,),\n",
    "                   batch_size=32,\n",
    "                   epochs=50,\n",
    "                   loss=loss,\n",
    "                   optimizer=SPSAOptimizer,\n",
    "                   optim_hyperparams={\"a\": 0.05, \"c\": 0.06},\n",
    "                   eval_metrics={\"acc\": acc},\n",
    "                   eval_step=5,\n",
    "                   log_step=5,\n",
    "                   random_seed=None,\n",
    "                   verbose=\"text\"):\n",
    "    # For each experiment, we vary\n",
    "    # 1. Word ansatz\n",
    "    # 2. Ansatz configuration\n",
    "    # 3. Model class, i.e. tket vs numpy\n",
    "    #    (mostly for performance, as tket models take longer to train)\n",
    "    \n",
    "    qsn, qss, pn, d = ansatz_params\n",
    "    \n",
    "    ansatz = ansatz_cls({\n",
    "        AtomicType.NOUN: qsn,\n",
    "        AtomicType.SENTENCE: qss\n",
    "    }, n_single_qubit_params=pn, n_layers=d)\n",
    "\n",
    "    # Need to preprocess testing dataset, as well\n",
    "    df_test_procd = preprocess_df(df_test, ansatz, verbose=\"suppress\")\n",
    "    test_circs = list(df_test_procd[[\"s1_circuit\", \"s2_circuit\"]].values)\n",
    "    test_labels = list(df_test_procd[\"label_v\"].values)\n",
    "    \n",
    "    # Metrics to collect\n",
    "    log_dirs = []\n",
    "    train_costs = []\n",
    "    val_costs = []\n",
    "    train_results = {k: [] for k in eval_metrics}\n",
    "    val_results = {k: [] for k in eval_metrics}\n",
    "    val_metrics = {k: [] for k in eval_metrics}\n",
    "    \n",
    "    for i, (train_idx, val_idx) in enumerate(train_val_splits):\n",
    "        print(f\"Training for split {i+1}/{len(train_val_splits)}.\")\n",
    "        df_train, df_val = df_train_val.iloc[train_idx], df_train_val.iloc[val_idx]\n",
    "        df_train_procd = preprocess_df(df_train, ansatz, verbose=\"suppress\")\n",
    "        df_val_procd = preprocess_df(df_val, ansatz, verbose=\"suppress\")\n",
    "        \n",
    "        # Get circuits\n",
    "        train_circs = list(df_train_procd[[\"s1_circuit\", \"s2_circuit\"]].values)\n",
    "        val_circs = list(df_val_procd[[\"s1_circuit\", \"s2_circuit\"]].values)\n",
    "        all_circs = train_circs + val_circs + test_circs\n",
    "        \n",
    "        # Get labels\n",
    "        train_labels = list(df_train_procd[\"label_v\"].values)\n",
    "        val_labels = list(df_val_procd[\"label_v\"].values)\n",
    "\n",
    "        # Create datasets\n",
    "        train_ds = Dataset(train_circs, train_labels, batch_size=batch_size)\n",
    "        val_ds = Dataset(val_circs, val_labels, shuffle=False)\n",
    "        \n",
    "        # Create model\n",
    "        model = model_cls.from_diagrams(np.array(all_circs).reshape(-1),\n",
    "                                        **model_params)\n",
    "        \n",
    "        # Create trainer\n",
    "        optim_hyperparams[\"A\"] = 0.01 * epochs\n",
    "        trainer = QuantumTrainer(\n",
    "            model,\n",
    "            loss_function=loss,\n",
    "            epochs=epochs,\n",
    "            optimizer=optimizer,\n",
    "            optim_hyperparams=optim_hyperparams,\n",
    "            evaluate_functions=eval_metrics,\n",
    "            verbose=verbose,\n",
    "            # from_checkpoint=True,\n",
    "            # log_dir=\"runs/Aug12_08-52-24_jupyter-neiljohn-2eortega-40gmail-2ecom/\",\n",
    "            seed=random_seed,\n",
    "        )\n",
    "        \n",
    "        # Fit model\n",
    "        trainer.fit(train_ds, val_ds, evaluation_step=eval_step, logging_step=log_step)\n",
    "        \n",
    "        # Collect metrics\n",
    "        log_dirs.append(trainer.log_dir)\n",
    "        train_costs.append(trainer.train_epoch_costs)\n",
    "        val_costs.append(trainer.val_costs)\n",
    "        for k in eval_metrics:\n",
    "            train_results[k].append(trainer.train_results[k])\n",
    "            val_results[k].append(trainer.val_results[k])\n",
    "            val_metrics[k].append(\n",
    "                eval_metrics[k](model(val_circs), val_labels)\n",
    "            )\n",
    "\n",
    "        # print test accuracy\n",
    "        val_metrics_i = {k: func(model(val_circs), val_labels) for k, func in eval_metrics.items()}\n",
    "        print(f\"Validation metrics for split {i+1}/{len(train_val_splits)}:\")\n",
    "        print(val_metrics_i)\n",
    "    \n",
    "   \n",
    "    return {\n",
    "        \"log_dirs\": log_dirs,\n",
    "        \"train_costs\": train_costs,\n",
    "        \"val_costs\": val_costs,\n",
    "        \"train_results\": train_results,\n",
    "        \"val_results\": val_results,\n",
    "        \"val_metrics\": val_metrics,\n",
    "    }"
   ]
  },
  {
   "cell_type": "code",
   "execution_count": 68,
   "id": "da18750f-d943-49f1-a891-6bffd7deb90e",
   "metadata": {},
   "outputs": [],
   "source": [
    "# Collect several experimental results for different\n",
    "# ansatz, config, etc.\n",
    "import itertools\n",
    "\n",
    "qsns = [1, 2]\n",
    "qsss = [1]\n",
    "pns = [1, 3]\n",
    "ds = [1, 2]\n",
    "\n",
    "ansatz_params_lists = itertools.product(qsns, qsss, pns, ds)"
   ]
  },
  {
   "cell_type": "code",
   "execution_count": null,
   "id": "6ddd326b-8339-4468-8577-766081feca62",
   "metadata": {},
   "outputs": [
    {
     "name": "stdout",
     "output_type": "stream",
     "text": [
      "Training experiment 'IQPAnsatz_(1, 1, 1, 1)'.\n",
      "Training for split 1/2.\n"
     ]
    },
    {
     "name": "stderr",
     "output_type": "stream",
     "text": [
      "Epoch 1:  train/loss: 0.7165   valid/loss: 0.7582   train/acc: 0.5139   valid/acc: 0.3333\n",
      "Epoch 5:  train/loss: 0.6921   valid/loss: 0.7582   train/acc: 0.5694   valid/acc: 0.3333\n",
      "\n",
      "Training completed!\n"
     ]
    },
    {
     "name": "stdout",
     "output_type": "stream",
     "text": [
      "Validation metrics for split 1/2:\n",
      "{'acc': 0.3333333333333333}\n",
      "Training for split 2/2.\n"
     ]
    },
    {
     "name": "stderr",
     "output_type": "stream",
     "text": [
      "Epoch 1:  train/loss: 0.7171   valid/loss: 0.7197   train/acc: 0.5278   valid/acc: 0.6667\n",
      "Epoch 5:  train/loss: 0.6923   valid/loss: 0.7197   train/acc: 0.5556   valid/acc: 0.6667\n",
      "\n",
      "Training completed!\n"
     ]
    },
    {
     "name": "stdout",
     "output_type": "stream",
     "text": [
      "Validation metrics for split 2/2:\n",
      "{'acc': 0.6111111111111112}\n",
      "Done.\n",
      "Training experiment 'IQPAnsatz_(1, 1, 1, 2)'.\n",
      "Training for split 1/2.\n"
     ]
    },
    {
     "name": "stderr",
     "output_type": "stream",
     "text": [
      "Epoch 1:  train/loss: 0.6978   valid/loss: 0.6869   train/acc: 0.5000   valid/acc: 0.5556\n",
      "Epoch 5:  train/loss: 0.6986   valid/loss: 0.6869   train/acc: 0.5278   valid/acc: 0.5556\n",
      "\n",
      "Training completed!\n"
     ]
    },
    {
     "name": "stdout",
     "output_type": "stream",
     "text": [
      "Validation metrics for split 1/2:\n",
      "{'acc': 0.6111111111111112}\n",
      "Training for split 2/2.\n"
     ]
    },
    {
     "name": "stderr",
     "output_type": "stream",
     "text": [
      "Epoch 1:  train/loss: 0.6856   valid/loss: 0.7097   train/acc: 0.5556   valid/acc: 0.5556\n",
      "Epoch 5:  train/loss: 0.6880   valid/loss: 0.7097   train/acc: 0.5139   valid/acc: 0.5556\n",
      "\n",
      "Training completed!\n"
     ]
    },
    {
     "name": "stdout",
     "output_type": "stream",
     "text": [
      "Validation metrics for split 2/2:\n",
      "{'acc': 0.5}\n",
      "Done.\n",
      "Training experiment 'IQPAnsatz_(1, 1, 3, 1)'.\n",
      "Training for split 1/2.\n"
     ]
    },
    {
     "name": "stderr",
     "output_type": "stream",
     "text": [
      "Epoch 1:  train/loss: 0.6887   valid/loss: 0.7069   train/acc: 0.5556   valid/acc: 0.6111\n",
      "Epoch 5:  train/loss: 0.6768   valid/loss: 0.7069   train/acc: 0.5972   valid/acc: 0.6111\n",
      "\n",
      "Training completed!\n"
     ]
    },
    {
     "name": "stdout",
     "output_type": "stream",
     "text": [
      "Validation metrics for split 1/2:\n",
      "{'acc': 0.3888888888888889}\n",
      "Training for split 2/2.\n"
     ]
    },
    {
     "name": "stderr",
     "output_type": "stream",
     "text": [
      "Epoch 1:  train/loss: 0.6893   valid/loss: 0.7058   train/acc: 0.6250   valid/acc: 0.5000\n",
      "Epoch 5:  train/loss: 0.6947   valid/loss: 0.7058   train/acc: 0.5417   valid/acc: 0.5000\n",
      "\n",
      "Training completed!\n"
     ]
    },
    {
     "name": "stdout",
     "output_type": "stream",
     "text": [
      "Validation metrics for split 2/2:\n",
      "{'acc': 0.5555555555555556}\n",
      "Done.\n",
      "Training experiment 'IQPAnsatz_(1, 1, 3, 2)'.\n",
      "Training for split 1/2.\n"
     ]
    },
    {
     "name": "stderr",
     "output_type": "stream",
     "text": [
      "Epoch 1:  train/loss: 0.6768   valid/loss: 0.6452   train/acc: 0.5556   valid/acc: 0.6667\n",
      "Epoch 5:  train/loss: 0.6736   valid/loss: 0.6452   train/acc: 0.5556   valid/acc: 0.6667\n",
      "\n",
      "Training completed!\n"
     ]
    },
    {
     "name": "stdout",
     "output_type": "stream",
     "text": [
      "Validation metrics for split 1/2:\n",
      "{'acc': 0.7222222222222222}\n",
      "Training for split 2/2.\n"
     ]
    },
    {
     "name": "stderr",
     "output_type": "stream",
     "text": [
      "Epoch 1:  train/loss: 0.6843   valid/loss: 0.6865   train/acc: 0.5556   valid/acc: 0.5556\n",
      "Epoch 5:  train/loss: 0.6570   valid/loss: 0.6865   train/acc: 0.6389   valid/acc: 0.5556\n",
      "\n",
      "Training completed!\n"
     ]
    },
    {
     "name": "stdout",
     "output_type": "stream",
     "text": [
      "Validation metrics for split 2/2:\n",
      "{'acc': 0.4444444444444444}\n",
      "Done.\n",
      "Training experiment 'IQPAnsatz_(2, 1, 1, 1)'.\n",
      "Training for split 1/2.\n"
     ]
    },
    {
     "name": "stderr",
     "output_type": "stream",
     "text": [
      "Epoch 1:  train/loss: 0.7126   valid/loss: 0.6158   train/acc: 0.5972   valid/acc: 0.8333\n",
      "Epoch 5:  train/loss: 0.6391   valid/loss: 0.6158   train/acc: 0.6528   valid/acc: 0.8333\n",
      "\n",
      "Training completed!\n"
     ]
    },
    {
     "name": "stdout",
     "output_type": "stream",
     "text": [
      "Validation metrics for split 1/2:\n",
      "{'acc': 0.7777777777777778}\n",
      "Training for split 2/2.\n"
     ]
    },
    {
     "name": "stderr",
     "output_type": "stream",
     "text": [
      "Epoch 1:  train/loss: 0.6995   valid/loss: 0.6690   train/acc: 0.6389   valid/acc: 0.6667\n",
      "Epoch 5:  train/loss: 0.6422   valid/loss: 0.6690   train/acc: 0.6389   valid/acc: 0.6667\n",
      "\n",
      "Training completed!\n"
     ]
    },
    {
     "name": "stdout",
     "output_type": "stream",
     "text": [
      "Validation metrics for split 2/2:\n",
      "{'acc': 0.6111111111111112}\n",
      "Done.\n",
      "Training experiment 'IQPAnsatz_(2, 1, 1, 2)'.\n",
      "Training for split 1/2.\n"
     ]
    },
    {
     "name": "stderr",
     "output_type": "stream",
     "text": [
      "Epoch 1:  train/loss: 0.6905   valid/loss: 0.6973   train/acc: 0.5833   valid/acc: 0.6667\n",
      "Epoch 5:  train/loss: 0.6991   valid/loss: 0.6973   train/acc: 0.5417   valid/acc: 0.6667\n",
      "\n",
      "Training completed!\n"
     ]
    },
    {
     "name": "stdout",
     "output_type": "stream",
     "text": [
      "Validation metrics for split 1/2:\n",
      "{'acc': 0.6111111111111112}\n",
      "Training for split 2/2.\n"
     ]
    },
    {
     "name": "stderr",
     "output_type": "stream",
     "text": [
      "Epoch 1:  train/loss: 0.6969   valid/loss: 0.6838   train/acc: 0.5417   valid/acc: 0.6667\n",
      "Epoch 5:  train/loss: 0.6881   valid/loss: 0.6838   train/acc: 0.5833   valid/acc: 0.6667\n",
      "\n",
      "Training completed!\n"
     ]
    },
    {
     "name": "stdout",
     "output_type": "stream",
     "text": [
      "Validation metrics for split 2/2:\n",
      "{'acc': 0.7222222222222222}\n",
      "Done.\n",
      "Training experiment 'IQPAnsatz_(2, 1, 3, 1)'.\n",
      "Training for split 1/2.\n"
     ]
    },
    {
     "name": "stderr",
     "output_type": "stream",
     "text": [
      "Epoch 1:  train/loss: 0.7126   valid/loss: 0.6158   train/acc: 0.5972   valid/acc: 0.8333\n",
      "Epoch 5:  train/loss: 0.6391   valid/loss: 0.6158   train/acc: 0.6528   valid/acc: 0.8333\n",
      "\n",
      "Training completed!\n"
     ]
    },
    {
     "name": "stdout",
     "output_type": "stream",
     "text": [
      "Validation metrics for split 1/2:\n",
      "{'acc': 0.7777777777777778}\n",
      "Training for split 2/2.\n"
     ]
    },
    {
     "name": "stderr",
     "output_type": "stream",
     "text": [
      "Epoch 1:  train/loss: 0.6995   valid/loss: 0.6690   train/acc: 0.6389   valid/acc: 0.6667\n",
      "Epoch 5:  train/loss: 0.6422   valid/loss: 0.6690   train/acc: 0.6389   valid/acc: 0.6667\n",
      "\n",
      "Training completed!\n"
     ]
    },
    {
     "name": "stdout",
     "output_type": "stream",
     "text": [
      "Validation metrics for split 2/2:\n",
      "{'acc': 0.6111111111111112}\n",
      "Done.\n",
      "Training experiment 'IQPAnsatz_(2, 1, 3, 2)'.\n",
      "Training for split 1/2.\n"
     ]
    }
   ],
   "source": [
    "BATCH_SIZE = 32\n",
    "EPOCHS = 5\n",
    "\n",
    "all_experiments_out = {}\n",
    "for ansatz_cls in [IQPAnsatz, CustomIQPAnsatz]:\n",
    "    for ansatz_params in ansatz_params_lists:\n",
    "        experiment_label = f\"{ansatz_cls.__name__}_{ansatz_params}\"\n",
    "        print(f\"Training experiment '{experiment_label}'.\")\n",
    "        experiment_out = run_experiment(\n",
    "            df_train_val, rskf_splits[:2], df_test,\n",
    "            model_cls=CustomNumpyModel,\n",
    "            ansatz_cls=ansatz_cls,\n",
    "            ansatz_params=ansatz_params,\n",
    "            batch_size=BATCH_SIZE,\n",
    "            epochs=EPOCHS,\n",
    "            loss=loss,\n",
    "            optimizer=SPSAOptimizer,\n",
    "            optim_hyperparams={\"a\": 0.05, \"c\": 0.06},\n",
    "            eval_metrics={\"acc\": acc},\n",
    "            eval_step=5,\n",
    "            log_step=5,\n",
    "            random_seed=RANDOM_SEED,\n",
    "            verbose=\"text\"\n",
    "        )\n",
    "        all_experiments_out[experiment_label] = experiment_out\n",
    "        print(\"Done.\")"
   ]
  },
  {
   "cell_type": "code",
   "execution_count": null,
   "id": "39ba940e-e84b-42fc-9734-f612adad47e6",
   "metadata": {},
   "outputs": [],
   "source": [
    "all_experiments_out"
   ]
  },
  {
   "cell_type": "code",
   "execution_count": 190,
   "id": "00cfd708-5649-4c29-b12c-de0374ca6da5",
   "metadata": {},
   "outputs": [
    {
     "ename": "KeyboardInterrupt",
     "evalue": "",
     "output_type": "error",
     "traceback": [
      "\u001b[0;31m---------------------------------------------------------------------------\u001b[0m",
      "\u001b[0;31mKeyboardInterrupt\u001b[0m                         Traceback (most recent call last)",
      "Input \u001b[0;32mIn [190]\u001b[0m, in \u001b[0;36m<cell line: 1>\u001b[0;34m()\u001b[0m\n\u001b[0;32m----> 1\u001b[0m \u001b[43mtket_trainer\u001b[49m\u001b[38;5;241;43m.\u001b[39;49m\u001b[43mfit\u001b[49m\u001b[43m(\u001b[49m\u001b[43mtrain_dataset\u001b[49m\u001b[43m,\u001b[49m\u001b[43m \u001b[49m\u001b[43mval_dataset\u001b[49m\u001b[43m,\u001b[49m\u001b[43m \u001b[49m\u001b[43mevaluation_step\u001b[49m\u001b[38;5;241;43m=\u001b[39;49m\u001b[38;5;241;43m1\u001b[39;49m\u001b[43m,\u001b[49m\u001b[43m \u001b[49m\u001b[43mlogging_step\u001b[49m\u001b[38;5;241;43m=\u001b[39;49m\u001b[38;5;241;43m1\u001b[39;49m\u001b[43m)\u001b[49m\n",
      "File \u001b[0;32m~/.qbraid/environments/womanium_go14xk/pyenv/lib/python3.9/site-packages/lambeq/training/trainer.py:371\u001b[0m, in \u001b[0;36mTrainer.fit\u001b[0;34m(self, train_dataset, val_dataset, evaluation_step, logging_step)\u001b[0m\n\u001b[1;32m    369\u001b[0m step \u001b[38;5;241m+\u001b[39m\u001b[38;5;241m=\u001b[39m \u001b[38;5;241m1\u001b[39m\n\u001b[1;32m    370\u001b[0m x, y_label \u001b[38;5;241m=\u001b[39m batch\n\u001b[0;32m--> 371\u001b[0m y_hat, loss \u001b[38;5;241m=\u001b[39m \u001b[38;5;28;43mself\u001b[39;49m\u001b[38;5;241;43m.\u001b[39;49m\u001b[43mtraining_step\u001b[49m\u001b[43m(\u001b[49m\u001b[43mbatch\u001b[49m\u001b[43m)\u001b[49m\n\u001b[1;32m    372\u001b[0m \u001b[38;5;28;01mif\u001b[39;00m (\u001b[38;5;28mself\u001b[39m\u001b[38;5;241m.\u001b[39mevaluate_on_train\n\u001b[1;32m    373\u001b[0m         \u001b[38;5;129;01mand\u001b[39;00m \u001b[38;5;28mself\u001b[39m\u001b[38;5;241m.\u001b[39mevaluate_functions \u001b[38;5;129;01mis\u001b[39;00m \u001b[38;5;129;01mnot\u001b[39;00m \u001b[38;5;28;01mNone\u001b[39;00m):\n\u001b[1;32m    374\u001b[0m     \u001b[38;5;28;01mfor\u001b[39;00m metr, func \u001b[38;5;129;01min\u001b[39;00m \u001b[38;5;28mself\u001b[39m\u001b[38;5;241m.\u001b[39mevaluate_functions\u001b[38;5;241m.\u001b[39mitems():\n",
      "File \u001b[0;32m~/.qbraid/environments/womanium_go14xk/pyenv/lib/python3.9/site-packages/lambeq/training/quantum_trainer.py:153\u001b[0m, in \u001b[0;36mQuantumTrainer.training_step\u001b[0;34m(self, batch)\u001b[0m\n\u001b[1;32m    137\u001b[0m \u001b[38;5;28;01mdef\u001b[39;00m \u001b[38;5;21mtraining_step\u001b[39m(\n\u001b[1;32m    138\u001b[0m         \u001b[38;5;28mself\u001b[39m,\n\u001b[1;32m    139\u001b[0m         batch: \u001b[38;5;28mtuple\u001b[39m[\u001b[38;5;28mlist\u001b[39m[Any], np\u001b[38;5;241m.\u001b[39mndarray]) \u001b[38;5;241m-\u001b[39m\u001b[38;5;241m>\u001b[39m \u001b[38;5;28mtuple\u001b[39m[np\u001b[38;5;241m.\u001b[39mndarray, \u001b[38;5;28mfloat\u001b[39m]:\n\u001b[1;32m    140\u001b[0m     \u001b[38;5;124;03m\"\"\"Perform a training step.\u001b[39;00m\n\u001b[1;32m    141\u001b[0m \n\u001b[1;32m    142\u001b[0m \u001b[38;5;124;03m    Parameters\u001b[39;00m\n\u001b[0;32m   (...)\u001b[0m\n\u001b[1;32m    151\u001b[0m \n\u001b[1;32m    152\u001b[0m \u001b[38;5;124;03m    \"\"\"\u001b[39;00m\n\u001b[0;32m--> 153\u001b[0m     y_hat, loss \u001b[38;5;241m=\u001b[39m \u001b[38;5;28;43mself\u001b[39;49m\u001b[38;5;241;43m.\u001b[39;49m\u001b[43moptimizer\u001b[49m\u001b[38;5;241;43m.\u001b[39;49m\u001b[43mbackward\u001b[49m\u001b[43m(\u001b[49m\u001b[43mbatch\u001b[49m\u001b[43m)\u001b[49m\n\u001b[1;32m    154\u001b[0m     \u001b[38;5;28mself\u001b[39m\u001b[38;5;241m.\u001b[39mtrain_costs\u001b[38;5;241m.\u001b[39mappend(loss)\n\u001b[1;32m    155\u001b[0m     \u001b[38;5;28mself\u001b[39m\u001b[38;5;241m.\u001b[39moptimizer\u001b[38;5;241m.\u001b[39mstep()\n",
      "File \u001b[0;32m~/.qbraid/environments/womanium_go14xk/pyenv/lib/python3.9/site-packages/lambeq/training/spsa_optimizer.py:134\u001b[0m, in \u001b[0;36mSPSAOptimizer.backward\u001b[0;34m(self, batch)\u001b[0m\n\u001b[1;32m    132\u001b[0m xplus \u001b[38;5;241m=\u001b[39m \u001b[38;5;28mself\u001b[39m\u001b[38;5;241m.\u001b[39mproject(x \u001b[38;5;241m+\u001b[39m \u001b[38;5;28mself\u001b[39m\u001b[38;5;241m.\u001b[39mck \u001b[38;5;241m*\u001b[39m delta)\n\u001b[1;32m    133\u001b[0m \u001b[38;5;28mself\u001b[39m\u001b[38;5;241m.\u001b[39mmodel\u001b[38;5;241m.\u001b[39mweights \u001b[38;5;241m=\u001b[39m xplus\n\u001b[0;32m--> 134\u001b[0m y0 \u001b[38;5;241m=\u001b[39m \u001b[38;5;28;43mself\u001b[39;49m\u001b[38;5;241;43m.\u001b[39;49m\u001b[43mmodel\u001b[49m\u001b[43m(\u001b[49m\u001b[43mdiagrams\u001b[49m\u001b[43m)\u001b[49m\n\u001b[1;32m    135\u001b[0m loss0 \u001b[38;5;241m=\u001b[39m \u001b[38;5;28mself\u001b[39m\u001b[38;5;241m.\u001b[39mloss_fn(y0, targets)\n\u001b[1;32m    136\u001b[0m xminus \u001b[38;5;241m=\u001b[39m \u001b[38;5;28mself\u001b[39m\u001b[38;5;241m.\u001b[39mproject(x \u001b[38;5;241m-\u001b[39m \u001b[38;5;28mself\u001b[39m\u001b[38;5;241m.\u001b[39mck \u001b[38;5;241m*\u001b[39m delta)\n",
      "File \u001b[0;32m~/.qbraid/environments/womanium_go14xk/pyenv/lib/python3.9/site-packages/lambeq/training/model.py:64\u001b[0m, in \u001b[0;36mModel.__call__\u001b[0;34m(self, *args, **kwds)\u001b[0m\n\u001b[1;32m     63\u001b[0m \u001b[38;5;28;01mdef\u001b[39;00m \u001b[38;5;21m__call__\u001b[39m(\u001b[38;5;28mself\u001b[39m, \u001b[38;5;241m*\u001b[39margs: Any, \u001b[38;5;241m*\u001b[39m\u001b[38;5;241m*\u001b[39mkwds: Any) \u001b[38;5;241m-\u001b[39m\u001b[38;5;241m>\u001b[39m Any:\n\u001b[0;32m---> 64\u001b[0m     \u001b[38;5;28;01mreturn\u001b[39;00m \u001b[38;5;28;43mself\u001b[39;49m\u001b[38;5;241;43m.\u001b[39;49m\u001b[43mforward\u001b[49m\u001b[43m(\u001b[49m\u001b[38;5;241;43m*\u001b[39;49m\u001b[43margs\u001b[49m\u001b[43m,\u001b[49m\u001b[43m \u001b[49m\u001b[38;5;241;43m*\u001b[39;49m\u001b[38;5;241;43m*\u001b[39;49m\u001b[43mkwds\u001b[49m\u001b[43m)\u001b[49m\n",
      "Input \u001b[0;32mIn [124]\u001b[0m, in \u001b[0;36mCustomTketModel.forward\u001b[0;34m(self, x)\u001b[0m\n\u001b[1;32m      8\u001b[0m     s1_diagrams\u001b[38;5;241m.\u001b[39mappend(s1d)\n\u001b[1;32m      9\u001b[0m     s2_diagrams\u001b[38;5;241m.\u001b[39mappend(s2d)\n\u001b[0;32m---> 11\u001b[0m s1_output \u001b[38;5;241m=\u001b[39m \u001b[38;5;28;43mself\u001b[39;49m\u001b[38;5;241;43m.\u001b[39;49m\u001b[43mget_diagram_output\u001b[49m\u001b[43m(\u001b[49m\u001b[43ms1_diagrams\u001b[49m\u001b[43m)\u001b[49m\n\u001b[1;32m     12\u001b[0m s2_output \u001b[38;5;241m=\u001b[39m \u001b[38;5;28mself\u001b[39m\u001b[38;5;241m.\u001b[39mget_diagram_output(s2_diagrams)\n\u001b[1;32m     14\u001b[0m s1_dot_s2 \u001b[38;5;241m=\u001b[39m np\u001b[38;5;241m.\u001b[39msum(s1_output \u001b[38;5;241m*\u001b[39m s2_output, axis\u001b[38;5;241m=\u001b[39m\u001b[38;5;241m1\u001b[39m)\n",
      "File \u001b[0;32m~/.qbraid/environments/womanium_go14xk/pyenv/lib/python3.9/site-packages/lambeq/training/tket_model.py:106\u001b[0m, in \u001b[0;36mTketModel.get_diagram_output\u001b[0;34m(self, diagrams)\u001b[0m\n\u001b[1;32m     98\u001b[0m     \u001b[38;5;28;01mraise\u001b[39;00m \u001b[38;5;167;01mValueError\u001b[39;00m(\u001b[38;5;124m'\u001b[39m\u001b[38;5;124mWeights and/or symbols not initialised. \u001b[39m\u001b[38;5;124m'\u001b[39m\n\u001b[1;32m     99\u001b[0m                      \u001b[38;5;124m'\u001b[39m\u001b[38;5;124mInstantiate through \u001b[39m\u001b[38;5;124m'\u001b[39m\n\u001b[1;32m    100\u001b[0m                      \u001b[38;5;124m'\u001b[39m\u001b[38;5;124m`TketModel.from_diagrams()` first, \u001b[39m\u001b[38;5;124m'\u001b[39m\n\u001b[1;32m    101\u001b[0m                      \u001b[38;5;124m'\u001b[39m\u001b[38;5;124mthen call `initialise_weights()`, or load \u001b[39m\u001b[38;5;124m'\u001b[39m\n\u001b[1;32m    102\u001b[0m                      \u001b[38;5;124m'\u001b[39m\u001b[38;5;124mfrom pre-trained checkpoint.\u001b[39m\u001b[38;5;124m'\u001b[39m)\n\u001b[1;32m    104\u001b[0m lambdified_diagrams \u001b[38;5;241m=\u001b[39m [\u001b[38;5;28mself\u001b[39m\u001b[38;5;241m.\u001b[39m_make_lambda(d) \u001b[38;5;28;01mfor\u001b[39;00m d \u001b[38;5;129;01min\u001b[39;00m diagrams]\n\u001b[1;32m    105\u001b[0m tensors \u001b[38;5;241m=\u001b[39m Circuit\u001b[38;5;241m.\u001b[39meval(\n\u001b[0;32m--> 106\u001b[0m     \u001b[38;5;241m*\u001b[39m[diag_f(\u001b[38;5;241m*\u001b[39m\u001b[38;5;28mself\u001b[39m\u001b[38;5;241m.\u001b[39mweights) \u001b[38;5;28;01mfor\u001b[39;00m diag_f \u001b[38;5;129;01min\u001b[39;00m lambdified_diagrams],\n\u001b[1;32m    107\u001b[0m     \u001b[38;5;241m*\u001b[39m\u001b[38;5;241m*\u001b[39m\u001b[38;5;28mself\u001b[39m\u001b[38;5;241m.\u001b[39mbackend_config,\n\u001b[1;32m    108\u001b[0m     seed\u001b[38;5;241m=\u001b[39m\u001b[38;5;28mself\u001b[39m\u001b[38;5;241m.\u001b[39m_randint()\n\u001b[1;32m    109\u001b[0m )\n\u001b[1;32m    110\u001b[0m \u001b[38;5;28mself\u001b[39m\u001b[38;5;241m.\u001b[39mbackend_config[\u001b[38;5;124m'\u001b[39m\u001b[38;5;124mbackend\u001b[39m\u001b[38;5;124m'\u001b[39m]\u001b[38;5;241m.\u001b[39mempty_cache()\n\u001b[1;32m    111\u001b[0m \u001b[38;5;66;03m# discopy evals a single diagram into a single result\u001b[39;00m\n\u001b[1;32m    112\u001b[0m \u001b[38;5;66;03m# and not a list of results\u001b[39;00m\n",
      "File \u001b[0;32m~/.qbraid/environments/womanium_go14xk/pyenv/lib/python3.9/site-packages/lambeq/training/tket_model.py:106\u001b[0m, in \u001b[0;36m<listcomp>\u001b[0;34m(.0)\u001b[0m\n\u001b[1;32m     98\u001b[0m     \u001b[38;5;28;01mraise\u001b[39;00m \u001b[38;5;167;01mValueError\u001b[39;00m(\u001b[38;5;124m'\u001b[39m\u001b[38;5;124mWeights and/or symbols not initialised. \u001b[39m\u001b[38;5;124m'\u001b[39m\n\u001b[1;32m     99\u001b[0m                      \u001b[38;5;124m'\u001b[39m\u001b[38;5;124mInstantiate through \u001b[39m\u001b[38;5;124m'\u001b[39m\n\u001b[1;32m    100\u001b[0m                      \u001b[38;5;124m'\u001b[39m\u001b[38;5;124m`TketModel.from_diagrams()` first, \u001b[39m\u001b[38;5;124m'\u001b[39m\n\u001b[1;32m    101\u001b[0m                      \u001b[38;5;124m'\u001b[39m\u001b[38;5;124mthen call `initialise_weights()`, or load \u001b[39m\u001b[38;5;124m'\u001b[39m\n\u001b[1;32m    102\u001b[0m                      \u001b[38;5;124m'\u001b[39m\u001b[38;5;124mfrom pre-trained checkpoint.\u001b[39m\u001b[38;5;124m'\u001b[39m)\n\u001b[1;32m    104\u001b[0m lambdified_diagrams \u001b[38;5;241m=\u001b[39m [\u001b[38;5;28mself\u001b[39m\u001b[38;5;241m.\u001b[39m_make_lambda(d) \u001b[38;5;28;01mfor\u001b[39;00m d \u001b[38;5;129;01min\u001b[39;00m diagrams]\n\u001b[1;32m    105\u001b[0m tensors \u001b[38;5;241m=\u001b[39m Circuit\u001b[38;5;241m.\u001b[39meval(\n\u001b[0;32m--> 106\u001b[0m     \u001b[38;5;241m*\u001b[39m[\u001b[43mdiag_f\u001b[49m\u001b[43m(\u001b[49m\u001b[38;5;241;43m*\u001b[39;49m\u001b[38;5;28;43mself\u001b[39;49m\u001b[38;5;241;43m.\u001b[39;49m\u001b[43mweights\u001b[49m\u001b[43m)\u001b[49m \u001b[38;5;28;01mfor\u001b[39;00m diag_f \u001b[38;5;129;01min\u001b[39;00m lambdified_diagrams],\n\u001b[1;32m    107\u001b[0m     \u001b[38;5;241m*\u001b[39m\u001b[38;5;241m*\u001b[39m\u001b[38;5;28mself\u001b[39m\u001b[38;5;241m.\u001b[39mbackend_config,\n\u001b[1;32m    108\u001b[0m     seed\u001b[38;5;241m=\u001b[39m\u001b[38;5;28mself\u001b[39m\u001b[38;5;241m.\u001b[39m_randint()\n\u001b[1;32m    109\u001b[0m )\n\u001b[1;32m    110\u001b[0m \u001b[38;5;28mself\u001b[39m\u001b[38;5;241m.\u001b[39mbackend_config[\u001b[38;5;124m'\u001b[39m\u001b[38;5;124mbackend\u001b[39m\u001b[38;5;124m'\u001b[39m]\u001b[38;5;241m.\u001b[39mempty_cache()\n\u001b[1;32m    111\u001b[0m \u001b[38;5;66;03m# discopy evals a single diagram into a single result\u001b[39;00m\n\u001b[1;32m    112\u001b[0m \u001b[38;5;66;03m# and not a list of results\u001b[39;00m\n",
      "File \u001b[0;32m~/.qbraid/environments/womanium_go14xk/pyenv/lib/python3.9/site-packages/discopy/monoidal.py:509\u001b[0m, in \u001b[0;36mDiagram.lambdify.<locals>.<lambda>\u001b[0;34m(*xs)\u001b[0m\n\u001b[1;32m    508\u001b[0m \u001b[38;5;28;01mdef\u001b[39;00m \u001b[38;5;21mlambdify\u001b[39m(\u001b[38;5;28mself\u001b[39m, \u001b[38;5;241m*\u001b[39msymbols, \u001b[38;5;241m*\u001b[39m\u001b[38;5;241m*\u001b[39mkwargs):\n\u001b[0;32m--> 509\u001b[0m     \u001b[38;5;28;01mreturn\u001b[39;00m \u001b[38;5;28;01mlambda\u001b[39;00m \u001b[38;5;241m*\u001b[39mxs: \u001b[38;5;28;43mself\u001b[39;49m\u001b[38;5;241;43m.\u001b[39;49m\u001b[43mid\u001b[49m\u001b[43m(\u001b[49m\u001b[38;5;28;43mself\u001b[39;49m\u001b[38;5;241;43m.\u001b[39;49m\u001b[43mdom\u001b[49m\u001b[43m)\u001b[49m\u001b[38;5;241;43m.\u001b[39;49m\u001b[43mthen\u001b[49m\u001b[43m(\u001b[49m\u001b[38;5;241;43m*\u001b[39;49m\u001b[43m(\u001b[49m\n\u001b[1;32m    510\u001b[0m \u001b[43m        \u001b[49m\u001b[38;5;28;43mself\u001b[39;49m\u001b[38;5;241;43m.\u001b[39;49m\u001b[43mid\u001b[49m\u001b[43m(\u001b[49m\u001b[43mleft\u001b[49m\u001b[43m)\u001b[49m\u001b[43m \u001b[49m\u001b[38;5;241;43m@\u001b[39;49m\u001b[43m \u001b[49m\u001b[43mbox\u001b[49m\u001b[38;5;241;43m.\u001b[39;49m\u001b[43mlambdify\u001b[49m\u001b[43m(\u001b[49m\u001b[38;5;241;43m*\u001b[39;49m\u001b[43msymbols\u001b[49m\u001b[43m,\u001b[49m\u001b[43m \u001b[49m\u001b[38;5;241;43m*\u001b[39;49m\u001b[38;5;241;43m*\u001b[39;49m\u001b[43mkwargs\u001b[49m\u001b[43m)\u001b[49m\u001b[43m(\u001b[49m\u001b[38;5;241;43m*\u001b[39;49m\u001b[43mxs\u001b[49m\u001b[43m)\u001b[49m\n\u001b[1;32m    511\u001b[0m \u001b[43m        \u001b[49m\u001b[38;5;241;43m@\u001b[39;49m\u001b[43m \u001b[49m\u001b[38;5;28;43mself\u001b[39;49m\u001b[38;5;241;43m.\u001b[39;49m\u001b[43mid\u001b[49m\u001b[43m(\u001b[49m\u001b[43mright\u001b[49m\u001b[43m)\u001b[49m\u001b[43m \u001b[49m\u001b[38;5;28;43;01mfor\u001b[39;49;00m\u001b[43m \u001b[49m\u001b[43mleft\u001b[49m\u001b[43m,\u001b[49m\u001b[43m \u001b[49m\u001b[43mbox\u001b[49m\u001b[43m,\u001b[49m\u001b[43m \u001b[49m\u001b[43mright\u001b[49m\u001b[43m \u001b[49m\u001b[38;5;129;43;01min\u001b[39;49;00m\u001b[43m \u001b[49m\u001b[38;5;28;43mself\u001b[39;49m\u001b[38;5;241;43m.\u001b[39;49m\u001b[43mlayers\u001b[49m\u001b[43m)\u001b[49m\u001b[43m)\u001b[49m\n",
      "File \u001b[0;32m~/.qbraid/environments/womanium_go14xk/pyenv/lib/python3.9/site-packages/discopy/monoidal.py:510\u001b[0m, in \u001b[0;36m<genexpr>\u001b[0;34m(.0)\u001b[0m\n\u001b[1;32m    508\u001b[0m \u001b[38;5;28;01mdef\u001b[39;00m \u001b[38;5;21mlambdify\u001b[39m(\u001b[38;5;28mself\u001b[39m, \u001b[38;5;241m*\u001b[39msymbols, \u001b[38;5;241m*\u001b[39m\u001b[38;5;241m*\u001b[39mkwargs):\n\u001b[1;32m    509\u001b[0m     \u001b[38;5;28;01mreturn\u001b[39;00m \u001b[38;5;28;01mlambda\u001b[39;00m \u001b[38;5;241m*\u001b[39mxs: \u001b[38;5;28mself\u001b[39m\u001b[38;5;241m.\u001b[39mid(\u001b[38;5;28mself\u001b[39m\u001b[38;5;241m.\u001b[39mdom)\u001b[38;5;241m.\u001b[39mthen(\u001b[38;5;241m*\u001b[39m(\n\u001b[0;32m--> 510\u001b[0m         \u001b[38;5;28mself\u001b[39m\u001b[38;5;241m.\u001b[39mid(left) \u001b[38;5;241m@\u001b[39m \u001b[43mbox\u001b[49m\u001b[38;5;241;43m.\u001b[39;49m\u001b[43mlambdify\u001b[49m\u001b[43m(\u001b[49m\u001b[38;5;241;43m*\u001b[39;49m\u001b[43msymbols\u001b[49m\u001b[43m,\u001b[49m\u001b[43m \u001b[49m\u001b[38;5;241;43m*\u001b[39;49m\u001b[38;5;241;43m*\u001b[39;49m\u001b[43mkwargs\u001b[49m\u001b[43m)\u001b[49m(\u001b[38;5;241m*\u001b[39mxs)\n\u001b[1;32m    511\u001b[0m         \u001b[38;5;241m@\u001b[39m \u001b[38;5;28mself\u001b[39m\u001b[38;5;241m.\u001b[39mid(right) \u001b[38;5;28;01mfor\u001b[39;00m left, box, right \u001b[38;5;129;01min\u001b[39;00m \u001b[38;5;28mself\u001b[39m\u001b[38;5;241m.\u001b[39mlayers))\n",
      "File \u001b[0;32m~/.qbraid/environments/womanium_go14xk/pyenv/lib/python3.9/site-packages/discopy/quantum/gates.py:447\u001b[0m, in \u001b[0;36mParametrized.lambdify\u001b[0;34m(self, *symbols, **kwargs)\u001b[0m\n\u001b[1;32m    445\u001b[0m \u001b[38;5;28;01mdef\u001b[39;00m \u001b[38;5;21mlambdify\u001b[39m(\u001b[38;5;28mself\u001b[39m, \u001b[38;5;241m*\u001b[39msymbols, \u001b[38;5;241m*\u001b[39m\u001b[38;5;241m*\u001b[39mkwargs):\n\u001b[1;32m    446\u001b[0m     \u001b[38;5;28;01mfrom\u001b[39;00m \u001b[38;5;21;01msympy\u001b[39;00m \u001b[38;5;28;01mimport\u001b[39;00m lambdify\n\u001b[0;32m--> 447\u001b[0m     data \u001b[38;5;241m=\u001b[39m \u001b[43mlambdify\u001b[49m\u001b[43m(\u001b[49m\u001b[43msymbols\u001b[49m\u001b[43m,\u001b[49m\u001b[43m \u001b[49m\u001b[38;5;28;43mself\u001b[39;49m\u001b[38;5;241;43m.\u001b[39;49m\u001b[43mdata\u001b[49m\u001b[43m,\u001b[49m\u001b[43m \u001b[49m\u001b[38;5;28;43mdict\u001b[39;49m\u001b[43m(\u001b[49m\u001b[43mkwargs\u001b[49m\u001b[43m,\u001b[49m\u001b[43m \u001b[49m\u001b[43mmodules\u001b[49m\u001b[38;5;241;43m=\u001b[39;49m\u001b[43mTensor\u001b[49m\u001b[38;5;241;43m.\u001b[39;49m\u001b[43mnp\u001b[49m\u001b[43m)\u001b[49m\u001b[43m)\u001b[49m\n\u001b[1;32m    448\u001b[0m     \u001b[38;5;28;01mreturn\u001b[39;00m \u001b[38;5;28;01mlambda\u001b[39;00m \u001b[38;5;241m*\u001b[39mxs: \u001b[38;5;28mtype\u001b[39m(\u001b[38;5;28mself\u001b[39m)(data(\u001b[38;5;241m*\u001b[39mxs))\n",
      "File \u001b[0;32m~/.qbraid/environments/womanium_go14xk/pyenv/lib/python3.9/site-packages/sympy/utilities/lambdify.py:875\u001b[0m, in \u001b[0;36mlambdify\u001b[0;34m(args, expr, modules, printer, use_imps, dummify, cse)\u001b[0m\n\u001b[1;32m    873\u001b[0m \u001b[38;5;28;01melse\u001b[39;00m:\n\u001b[1;32m    874\u001b[0m     cses, _expr \u001b[38;5;241m=\u001b[39m (), expr\n\u001b[0;32m--> 875\u001b[0m funcstr \u001b[38;5;241m=\u001b[39m \u001b[43mfuncprinter\u001b[49m\u001b[38;5;241;43m.\u001b[39;49m\u001b[43mdoprint\u001b[49m\u001b[43m(\u001b[49m\u001b[43mfuncname\u001b[49m\u001b[43m,\u001b[49m\u001b[43m \u001b[49m\u001b[43miterable_args\u001b[49m\u001b[43m,\u001b[49m\u001b[43m \u001b[49m\u001b[43m_expr\u001b[49m\u001b[43m,\u001b[49m\u001b[43m \u001b[49m\u001b[43mcses\u001b[49m\u001b[38;5;241;43m=\u001b[39;49m\u001b[43mcses\u001b[49m\u001b[43m)\u001b[49m\n\u001b[1;32m    877\u001b[0m \u001b[38;5;66;03m# Collect the module imports from the code printers.\u001b[39;00m\n\u001b[1;32m    878\u001b[0m imp_mod_lines \u001b[38;5;241m=\u001b[39m []\n",
      "File \u001b[0;32m~/.qbraid/environments/womanium_go14xk/pyenv/lib/python3.9/site-packages/sympy/utilities/lambdify.py:1126\u001b[0m, in \u001b[0;36m_EvaluatorPrinter.doprint\u001b[0;34m(self, funcname, args, expr, cses)\u001b[0m\n\u001b[1;32m   1123\u001b[0m \u001b[38;5;28;01mif\u001b[39;00m \u001b[38;5;129;01mnot\u001b[39;00m iterable(args):\n\u001b[1;32m   1124\u001b[0m     args \u001b[38;5;241m=\u001b[39m [args]\n\u001b[0;32m-> 1126\u001b[0m argstrs, expr \u001b[38;5;241m=\u001b[39m \u001b[38;5;28;43mself\u001b[39;49m\u001b[38;5;241;43m.\u001b[39;49m\u001b[43m_preprocess\u001b[49m\u001b[43m(\u001b[49m\u001b[43margs\u001b[49m\u001b[43m,\u001b[49m\u001b[43m \u001b[49m\u001b[43mexpr\u001b[49m\u001b[43m)\u001b[49m\n\u001b[1;32m   1128\u001b[0m \u001b[38;5;66;03m# Generate argument unpacking and final argument list\u001b[39;00m\n\u001b[1;32m   1129\u001b[0m funcargs \u001b[38;5;241m=\u001b[39m []\n",
      "File \u001b[0;32m~/.qbraid/environments/womanium_go14xk/pyenv/lib/python3.9/site-packages/sympy/utilities/lambdify.py:1189\u001b[0m, in \u001b[0;36m_EvaluatorPrinter._preprocess\u001b[0;34m(self, args, expr)\u001b[0m\n\u001b[1;32m   1185\u001b[0m dummify \u001b[38;5;241m=\u001b[39m \u001b[38;5;28mself\u001b[39m\u001b[38;5;241m.\u001b[39m_dummify \u001b[38;5;129;01mor\u001b[39;00m \u001b[38;5;28many\u001b[39m(\n\u001b[1;32m   1186\u001b[0m     \u001b[38;5;28misinstance\u001b[39m(arg, Dummy) \u001b[38;5;28;01mfor\u001b[39;00m arg \u001b[38;5;129;01min\u001b[39;00m flatten(args))\n\u001b[1;32m   1188\u001b[0m argstrs \u001b[38;5;241m=\u001b[39m [\u001b[38;5;28;01mNone\u001b[39;00m]\u001b[38;5;241m*\u001b[39m\u001b[38;5;28mlen\u001b[39m(args)\n\u001b[0;32m-> 1189\u001b[0m \u001b[38;5;28;01mfor\u001b[39;00m arg, i \u001b[38;5;129;01min\u001b[39;00m \u001b[38;5;28mreversed\u001b[39m(\u001b[38;5;28;43mlist\u001b[39;49m\u001b[43m(\u001b[49m\u001b[43mordered\u001b[49m\u001b[43m(\u001b[49m\u001b[38;5;28;43mzip\u001b[39;49m\u001b[43m(\u001b[49m\u001b[43margs\u001b[49m\u001b[43m,\u001b[49m\u001b[43m \u001b[49m\u001b[38;5;28;43mrange\u001b[39;49m\u001b[43m(\u001b[49m\u001b[38;5;28;43mlen\u001b[39;49m\u001b[43m(\u001b[49m\u001b[43margs\u001b[49m\u001b[43m)\u001b[49m\u001b[43m)\u001b[49m\u001b[43m)\u001b[49m\u001b[43m)\u001b[49m\u001b[43m)\u001b[49m):\n\u001b[1;32m   1190\u001b[0m     \u001b[38;5;28;01mif\u001b[39;00m iterable(arg):\n\u001b[1;32m   1191\u001b[0m         s, expr \u001b[38;5;241m=\u001b[39m \u001b[38;5;28mself\u001b[39m\u001b[38;5;241m.\u001b[39m_preprocess(arg, expr)\n",
      "File \u001b[0;32m~/.qbraid/environments/womanium_go14xk/pyenv/lib/python3.9/site-packages/sympy/core/sorting.py:308\u001b[0m, in \u001b[0;36mordered\u001b[0;34m(seq, keys, default, warn)\u001b[0m\n\u001b[1;32m    305\u001b[0m         \u001b[38;5;28;01mif\u001b[39;00m \u001b[38;5;28mlen\u001b[39m(u) \u001b[38;5;241m>\u001b[39m \u001b[38;5;241m1\u001b[39m:\n\u001b[1;32m    306\u001b[0m             \u001b[38;5;28;01mraise\u001b[39;00m \u001b[38;5;167;01mValueError\u001b[39;00m(\n\u001b[1;32m    307\u001b[0m                 \u001b[38;5;124m'\u001b[39m\u001b[38;5;124mnot enough keys to break ties: \u001b[39m\u001b[38;5;132;01m%s\u001b[39;00m\u001b[38;5;124m'\u001b[39m \u001b[38;5;241m%\u001b[39m u)\n\u001b[0;32m--> 308\u001b[0m \u001b[38;5;28;01myield from\u001b[39;00m d[k]\n\u001b[1;32m    309\u001b[0m d\u001b[38;5;241m.\u001b[39mpop(k)\n",
      "File \u001b[0;32m~/.qbraid/environments/womanium_go14xk/pyenv/lib/python3.9/site-packages/sympy/core/sorting.py:308\u001b[0m, in \u001b[0;36mordered\u001b[0;34m(seq, keys, default, warn)\u001b[0m\n\u001b[1;32m    305\u001b[0m         \u001b[38;5;28;01mif\u001b[39;00m \u001b[38;5;28mlen\u001b[39m(u) \u001b[38;5;241m>\u001b[39m \u001b[38;5;241m1\u001b[39m:\n\u001b[1;32m    306\u001b[0m             \u001b[38;5;28;01mraise\u001b[39;00m \u001b[38;5;167;01mValueError\u001b[39;00m(\n\u001b[1;32m    307\u001b[0m                 \u001b[38;5;124m'\u001b[39m\u001b[38;5;124mnot enough keys to break ties: \u001b[39m\u001b[38;5;132;01m%s\u001b[39;00m\u001b[38;5;124m'\u001b[39m \u001b[38;5;241m%\u001b[39m u)\n\u001b[0;32m--> 308\u001b[0m \u001b[38;5;28;01myield from\u001b[39;00m d[k]\n\u001b[1;32m    309\u001b[0m d\u001b[38;5;241m.\u001b[39mpop(k)\n",
      "File \u001b[0;32m~/.qbraid/environments/womanium_go14xk/pyenv/lib/python3.9/site-packages/sympy/core/sorting.py:290\u001b[0m, in \u001b[0;36mordered\u001b[0;34m(seq, keys, default, warn)\u001b[0m\n\u001b[1;32m    288\u001b[0m     f \u001b[38;5;241m=\u001b[39m keys\u001b[38;5;241m.\u001b[39mpop(\u001b[38;5;241m0\u001b[39m)\n\u001b[1;32m    289\u001b[0m     \u001b[38;5;28;01mfor\u001b[39;00m a \u001b[38;5;129;01min\u001b[39;00m seq:\n\u001b[0;32m--> 290\u001b[0m         d[\u001b[43mf\u001b[49m\u001b[43m(\u001b[49m\u001b[43ma\u001b[49m\u001b[43m)\u001b[49m]\u001b[38;5;241m.\u001b[39mappend(a)\n\u001b[1;32m    291\u001b[0m \u001b[38;5;28;01melse\u001b[39;00m:\n\u001b[1;32m    292\u001b[0m     \u001b[38;5;28;01mif\u001b[39;00m \u001b[38;5;129;01mnot\u001b[39;00m default:\n",
      "File \u001b[0;32m~/.qbraid/environments/womanium_go14xk/pyenv/lib/python3.9/site-packages/sympy/core/sorting.py:142\u001b[0m, in \u001b[0;36mdefault_sort_key\u001b[0;34m(item, order)\u001b[0m\n\u001b[1;32m    139\u001b[0m     args \u001b[38;5;241m=\u001b[39m \u001b[38;5;28mlist\u001b[39m(item)\n\u001b[1;32m    140\u001b[0m     unordered \u001b[38;5;241m=\u001b[39m \u001b[38;5;28;01mFalse\u001b[39;00m\n\u001b[0;32m--> 142\u001b[0m args \u001b[38;5;241m=\u001b[39m [default_sort_key(arg, order\u001b[38;5;241m=\u001b[39morder) \u001b[38;5;28;01mfor\u001b[39;00m arg \u001b[38;5;129;01min\u001b[39;00m args]\n\u001b[1;32m    144\u001b[0m \u001b[38;5;28;01mif\u001b[39;00m unordered:\n\u001b[1;32m    145\u001b[0m     \u001b[38;5;66;03m# e.g. dict, set\u001b[39;00m\n\u001b[1;32m    146\u001b[0m     args \u001b[38;5;241m=\u001b[39m \u001b[38;5;28msorted\u001b[39m(args)\n",
      "File \u001b[0;32m~/.qbraid/environments/womanium_go14xk/pyenv/lib/python3.9/site-packages/sympy/core/sorting.py:142\u001b[0m, in \u001b[0;36m<listcomp>\u001b[0;34m(.0)\u001b[0m\n\u001b[1;32m    139\u001b[0m     args \u001b[38;5;241m=\u001b[39m \u001b[38;5;28mlist\u001b[39m(item)\n\u001b[1;32m    140\u001b[0m     unordered \u001b[38;5;241m=\u001b[39m \u001b[38;5;28;01mFalse\u001b[39;00m\n\u001b[0;32m--> 142\u001b[0m args \u001b[38;5;241m=\u001b[39m [\u001b[43mdefault_sort_key\u001b[49m\u001b[43m(\u001b[49m\u001b[43marg\u001b[49m\u001b[43m,\u001b[49m\u001b[43m \u001b[49m\u001b[43morder\u001b[49m\u001b[38;5;241;43m=\u001b[39;49m\u001b[43morder\u001b[49m\u001b[43m)\u001b[49m \u001b[38;5;28;01mfor\u001b[39;00m arg \u001b[38;5;129;01min\u001b[39;00m args]\n\u001b[1;32m    144\u001b[0m \u001b[38;5;28;01mif\u001b[39;00m unordered:\n\u001b[1;32m    145\u001b[0m     \u001b[38;5;66;03m# e.g. dict, set\u001b[39;00m\n\u001b[1;32m    146\u001b[0m     args \u001b[38;5;241m=\u001b[39m \u001b[38;5;28msorted\u001b[39m(args)\n",
      "File \u001b[0;32m~/.qbraid/environments/womanium_go14xk/pyenv/lib/python3.9/site-packages/sympy/core/sorting.py:159\u001b[0m, in \u001b[0;36mdefault_sort_key\u001b[0;34m(item, order)\u001b[0m\n\u001b[1;32m    156\u001b[0m     \u001b[38;5;28;01melse\u001b[39;00m:\n\u001b[1;32m    157\u001b[0m         \u001b[38;5;28;01mif\u001b[39;00m \u001b[38;5;28misinstance\u001b[39m(item, Basic):\n\u001b[1;32m    158\u001b[0m             \u001b[38;5;66;03m# e.g int -> Integer\u001b[39;00m\n\u001b[0;32m--> 159\u001b[0m             \u001b[38;5;28;01mreturn\u001b[39;00m \u001b[43mdefault_sort_key\u001b[49m\u001b[43m(\u001b[49m\u001b[43mitem\u001b[49m\u001b[43m)\u001b[49m\n\u001b[1;32m    160\u001b[0m         \u001b[38;5;66;03m# e.g. UndefinedFunction\u001b[39;00m\n\u001b[1;32m    161\u001b[0m \n\u001b[1;32m    162\u001b[0m \u001b[38;5;66;03m# e.g. str\u001b[39;00m\n\u001b[1;32m    163\u001b[0m cls_index, args \u001b[38;5;241m=\u001b[39m \u001b[38;5;241m0\u001b[39m, (\u001b[38;5;241m1\u001b[39m, (\u001b[38;5;28mstr\u001b[39m(item),))\n",
      "File \u001b[0;32m~/.qbraid/environments/womanium_go14xk/pyenv/lib/python3.9/site-packages/sympy/core/sorting.py:124\u001b[0m, in \u001b[0;36mdefault_sort_key\u001b[0;34m(item, order)\u001b[0m\n\u001b[1;32m     10\u001b[0m \u001b[38;5;28;01mdef\u001b[39;00m \u001b[38;5;21mdefault_sort_key\u001b[39m(item, order\u001b[38;5;241m=\u001b[39m\u001b[38;5;28;01mNone\u001b[39;00m):\n\u001b[1;32m     11\u001b[0m     \u001b[38;5;124;03m\"\"\"Return a key that can be used for sorting.\u001b[39;00m\n\u001b[1;32m     12\u001b[0m \n\u001b[1;32m     13\u001b[0m \u001b[38;5;124;03m    The key has the structure:\u001b[39;00m\n\u001b[0;32m   (...)\u001b[0m\n\u001b[1;32m    122\u001b[0m \n\u001b[1;32m    123\u001b[0m \u001b[38;5;124;03m    \"\"\"\u001b[39;00m\n\u001b[0;32m--> 124\u001b[0m     \u001b[38;5;28;01mfrom\u001b[39;00m \u001b[38;5;21;01m.\u001b[39;00m\u001b[38;5;21;01mbasic\u001b[39;00m \u001b[38;5;28;01mimport\u001b[39;00m Basic\n\u001b[1;32m    125\u001b[0m     \u001b[38;5;28;01mfrom\u001b[39;00m \u001b[38;5;21;01m.\u001b[39;00m\u001b[38;5;21;01msingleton\u001b[39;00m \u001b[38;5;28;01mimport\u001b[39;00m S\n\u001b[1;32m    127\u001b[0m     \u001b[38;5;28;01mif\u001b[39;00m \u001b[38;5;28misinstance\u001b[39m(item, Basic):\n",
      "\u001b[0;31mKeyboardInterrupt\u001b[0m: "
     ]
    }
   ],
   "source": [
    "tket_trainer.fit(train_dataset, val_dataset, evaluation_step=1, logging_step=1)"
   ]
  },
  {
   "cell_type": "code",
   "execution_count": 135,
   "id": "1ffa02e2-e3a3-4bcc-9902-9dd938036aca",
   "metadata": {},
   "outputs": [
    {
     "name": "stderr",
     "output_type": "stream",
     "text": [
      "Epoch 1:     train/loss: 0.9037   valid/loss: 1.8953   train/acc: 0.6406   valid/acc: 0.3125\n",
      "Epoch 2:     train/loss: 0.7223   valid/loss: 1.1375   train/acc: 0.5938   valid/acc: 0.3750\n",
      "Epoch 3:     train/loss: 0.6824   valid/loss: 0.9230   train/acc: 0.5938   valid/acc: 0.3750\n",
      "Epoch 4:     train/loss: 0.9927   valid/loss: 1.3406   train/acc: 0.5469   valid/acc: 0.2500\n",
      "Epoch 5:     train/loss: 0.7703   valid/loss: 0.9556   train/acc: 0.5703   valid/acc: 0.4062\n",
      "Epoch 6:     train/loss: 0.9581   valid/loss: 0.9449   train/acc: 0.6719   valid/acc: 0.5000\n",
      "Epoch 7:     train/loss: 1.1552   valid/loss: 0.6400   train/acc: 0.6094   valid/acc: 0.7188\n",
      "Epoch 8:     train/loss: 0.8387   valid/loss: 0.9968   train/acc: 0.5781   valid/acc: 0.4375\n",
      "Epoch 9:     train/loss: 0.7496   valid/loss: 0.7159   train/acc: 0.5078   valid/acc: 0.4688\n",
      "Epoch 10:    train/loss: 0.9604   valid/loss: 0.6972   train/acc: 0.6016   valid/acc: 0.5000\n",
      "Epoch 11:    train/loss: 0.9510   valid/loss: 0.7907   train/acc: 0.5312   valid/acc: 0.5000\n",
      "Epoch 12:    train/loss: 0.7483   valid/loss: 1.7214   train/acc: 0.5469   valid/acc: 0.4375\n",
      "Epoch 13:    train/loss: 0.7308   valid/loss: 1.6482   train/acc: 0.5156   valid/acc: 0.5938\n",
      "Epoch 14:    train/loss: 0.6558   valid/loss: 1.7269   train/acc: 0.6406   valid/acc: 0.7188\n",
      "Epoch 15:    train/loss: 0.9563   valid/loss: 0.5665   train/acc: 0.4375   valid/acc: 0.6562\n",
      "Epoch 16:    train/loss: 0.8029   valid/loss: 0.6366   train/acc: 0.6094   valid/acc: 0.6875\n",
      "Epoch 17:    train/loss: 0.7224   valid/loss: 0.6247   train/acc: 0.4688   valid/acc: 0.6250\n",
      "Epoch 18:    train/loss: 0.8939   valid/loss: 0.6686   train/acc: 0.5000   valid/acc: 0.5938\n",
      "Epoch 19:    train/loss: 0.7121   valid/loss: 0.6573   train/acc: 0.5938   valid/acc: 0.5625\n",
      "Epoch 20:    train/loss: 0.6949   valid/loss: 0.6826   train/acc: 0.6250   valid/acc: 0.5625\n",
      "Epoch 21:    train/loss: 0.8283   valid/loss: 0.7742   train/acc: 0.6094   valid/acc: 0.5000\n",
      "Epoch 22:    train/loss: 0.7380   valid/loss: 0.7103   train/acc: 0.5625   valid/acc: 0.5938\n",
      "Epoch 23:    train/loss: 0.6987   valid/loss: 0.6853   train/acc: 0.6406   valid/acc: 0.5938\n",
      "Epoch 24:    train/loss: 0.7281   valid/loss: 0.8760   train/acc: 0.5000   valid/acc: 0.4375\n",
      "Epoch 25:    train/loss: 0.7375   valid/loss: 0.6877   train/acc: 0.6094   valid/acc: 0.5625\n",
      "Epoch 26:    train/loss: 0.7984   valid/loss: 0.6756   train/acc: 0.5625   valid/acc: 0.5000\n",
      "Epoch 27:    train/loss: 0.6438   valid/loss: 0.6368   train/acc: 0.6250   valid/acc: 0.4688\n",
      "Epoch 28:    train/loss: 0.7184   valid/loss: 0.6459   train/acc: 0.4922   valid/acc: 0.4688\n",
      "Epoch 29:    train/loss: 0.7087   valid/loss: 0.6017   train/acc: 0.5781   valid/acc: 0.6562\n",
      "Epoch 30:    train/loss: 0.6947   valid/loss: 0.6522   train/acc: 0.5000   valid/acc: 0.4688\n",
      "Epoch 31:    train/loss: 0.8211   valid/loss: 0.5845   train/acc: 0.5781   valid/acc: 0.7500\n",
      "Epoch 32:    train/loss: 0.8106   valid/loss: 0.5313   train/acc: 0.5938   valid/acc: 0.8750\n",
      "Epoch 33:    train/loss: 0.6756   valid/loss: 0.5555   train/acc: 0.6016   valid/acc: 0.9062\n",
      "Epoch 34:    train/loss: 0.9064   valid/loss: 0.6358   train/acc: 0.6094   valid/acc: 0.6250\n",
      "Epoch 35:    train/loss: 0.8857   valid/loss: 0.6666   train/acc: 0.5312   valid/acc: 0.5938\n",
      "Epoch 36:    train/loss: 0.6813   valid/loss: 0.7384   train/acc: 0.5391   valid/acc: 0.5000\n",
      "Epoch 37:    train/loss: 0.7885   valid/loss: 0.6183   train/acc: 0.5156   valid/acc: 0.5312\n",
      "Epoch 38:    train/loss: 0.7028   valid/loss: 0.6263   train/acc: 0.5781   valid/acc: 0.6562\n",
      "Epoch 39:    train/loss: 0.6932   valid/loss: 0.5961   train/acc: 0.5781   valid/acc: 0.7188\n",
      "Epoch 40:    train/loss: 0.7636   valid/loss: 0.6298   train/acc: 0.6250   valid/acc: 0.6250\n",
      "Epoch 41:    train/loss: 0.6428   valid/loss: 0.5913   train/acc: 0.6562   valid/acc: 0.6875\n",
      "Epoch 42:    train/loss: 0.6474   valid/loss: 0.6014   train/acc: 0.6328   valid/acc: 0.7188\n",
      "Epoch 43:    train/loss: 0.6859   valid/loss: 0.6361   train/acc: 0.6328   valid/acc: 0.5312\n",
      "Epoch 44:    train/loss: 0.6668   valid/loss: 0.5453   train/acc: 0.5938   valid/acc: 0.6875\n",
      "Epoch 45:    train/loss: 0.6455   valid/loss: 0.6345   train/acc: 0.6641   valid/acc: 0.5000\n",
      "Epoch 46:    train/loss: 0.6383   valid/loss: 0.5814   train/acc: 0.6719   valid/acc: 0.5625\n",
      "Epoch 47:    train/loss: 0.7216   valid/loss: 0.6053   train/acc: 0.5469   valid/acc: 0.5938\n",
      "Epoch 48:    train/loss: 0.6814   valid/loss: 0.5831   train/acc: 0.5781   valid/acc: 0.6562\n",
      "Epoch 49:    train/loss: 0.6487   valid/loss: 0.6472   train/acc: 0.6719   valid/acc: 0.5625\n",
      "Epoch 50:    train/loss: 0.6548   valid/loss: 0.5519   train/acc: 0.7031   valid/acc: 0.6250\n",
      "Epoch 51:    train/loss: 0.6452   valid/loss: 0.5772   train/acc: 0.7188   valid/acc: 0.7188\n",
      "Epoch 52:    train/loss: 0.6406   valid/loss: 0.5868   train/acc: 0.6562   valid/acc: 0.6250\n",
      "Epoch 53:    train/loss: 0.6314   valid/loss: 0.6428   train/acc: 0.6250   valid/acc: 0.6250\n",
      "Epoch 54:    train/loss: 0.6553   valid/loss: 0.6211   train/acc: 0.6875   valid/acc: 0.6250\n",
      "Epoch 55:    train/loss: 0.7523   valid/loss: 0.6212   train/acc: 0.7188   valid/acc: 0.6875\n",
      "Epoch 56:    train/loss: 0.6263   valid/loss: 0.6891   train/acc: 0.7188   valid/acc: 0.5625\n",
      "Epoch 57:    train/loss: 0.6225   valid/loss: 0.6463   train/acc: 0.7266   valid/acc: 0.5000\n",
      "Epoch 58:    train/loss: 0.6492   valid/loss: 0.6946   train/acc: 0.6641   valid/acc: 0.6250\n",
      "Epoch 59:    train/loss: 0.6285   valid/loss: 0.7138   train/acc: 0.6641   valid/acc: 0.5625\n",
      "Epoch 60:    train/loss: 0.6520   valid/loss: 0.7213   train/acc: 0.7031   valid/acc: 0.4375\n",
      "Epoch 61:    train/loss: 0.6210   valid/loss: 0.5646   train/acc: 0.7188   valid/acc: 0.7812\n",
      "Epoch 62:    train/loss: 0.6375   valid/loss: 0.5913   train/acc: 0.6406   valid/acc: 0.6562\n",
      "Epoch 63:    train/loss: 0.6438   valid/loss: 0.6641   train/acc: 0.6562   valid/acc: 0.5312\n",
      "Epoch 64:    train/loss: 0.6469   valid/loss: 0.5838   train/acc: 0.6875   valid/acc: 0.7188\n",
      "Epoch 65:    train/loss: 0.7727   valid/loss: 0.5891   train/acc: 0.6562   valid/acc: 0.5938\n",
      "Epoch 66:    train/loss: 0.5975   valid/loss: 0.5576   train/acc: 0.7188   valid/acc: 0.6562\n",
      "Epoch 67:    train/loss: 0.6411   valid/loss: 0.6010   train/acc: 0.6016   valid/acc: 0.7500\n",
      "Epoch 68:    train/loss: 0.6358   valid/loss: 0.6013   train/acc: 0.6562   valid/acc: 0.4688\n",
      "Epoch 69:    train/loss: 0.5928   valid/loss: 0.6521   train/acc: 0.7422   valid/acc: 0.5938\n",
      "Epoch 70:    train/loss: 0.7929   valid/loss: 0.6311   train/acc: 0.6719   valid/acc: 0.6562\n",
      "Epoch 71:    train/loss: 0.7441   valid/loss: 0.6261   train/acc: 0.7031   valid/acc: 0.7812\n",
      "Epoch 72:    train/loss: 0.7265   valid/loss: 0.5513   train/acc: 0.5156   valid/acc: 0.8438\n",
      "Epoch 73:    train/loss: 0.7541   valid/loss: 0.6099   train/acc: 0.7188   valid/acc: 0.7188\n",
      "Epoch 74:    train/loss: 0.6173   valid/loss: 0.6440   train/acc: 0.7188   valid/acc: 0.7188\n",
      "Epoch 75:    train/loss: 0.6613   valid/loss: 0.6380   train/acc: 0.5938   valid/acc: 0.6250\n",
      "Epoch 76:    train/loss: 0.6451   valid/loss: 0.6685   train/acc: 0.6562   valid/acc: 0.5938\n",
      "Epoch 77:    train/loss: 0.7336   valid/loss: 0.7363   train/acc: 0.7109   valid/acc: 0.5625\n",
      "Epoch 78:    train/loss: 0.6632   valid/loss: 0.6511   train/acc: 0.6797   valid/acc: 0.7812\n",
      "Epoch 79:    train/loss: 0.6128   valid/loss: 0.6590   train/acc: 0.7344   valid/acc: 0.6562\n",
      "Epoch 80:    train/loss: 0.5984   valid/loss: 0.6296   train/acc: 0.7969   valid/acc: 0.6875\n",
      "Epoch 81:    train/loss: 0.6737   valid/loss: 0.7046   train/acc: 0.6172   valid/acc: 0.6250\n",
      "Epoch 82:    train/loss: 0.5925   valid/loss: 0.7346   train/acc: 0.8125   valid/acc: 0.5312\n",
      "Epoch 83:    train/loss: 0.6094   valid/loss: 0.7169   train/acc: 0.6953   valid/acc: 0.5625\n",
      "Epoch 84:    train/loss: 0.5818   valid/loss: 0.6506   train/acc: 0.6875   valid/acc: 0.7500\n",
      "Epoch 85:    train/loss: 0.5984   valid/loss: 0.6650   train/acc: 0.6875   valid/acc: 0.6875\n",
      "Epoch 86:    train/loss: 0.6756   valid/loss: 0.6936   train/acc: 0.7344   valid/acc: 0.6250\n",
      "Epoch 87:    train/loss: 0.6686   valid/loss: 0.7086   train/acc: 0.5781   valid/acc: 0.6875\n",
      "Epoch 88:    train/loss: 0.8358   valid/loss: 0.6292   train/acc: 0.7188   valid/acc: 0.5312\n",
      "Epoch 89:    train/loss: 0.6439   valid/loss: 0.7072   train/acc: 0.7344   valid/acc: 0.5938\n",
      "Epoch 90:    train/loss: 0.8093   valid/loss: 0.7267   train/acc: 0.5938   valid/acc: 0.4688\n",
      "Epoch 91:    train/loss: 0.6142   valid/loss: 0.7320   train/acc: 0.6641   valid/acc: 0.6250\n",
      "Epoch 92:    train/loss: 0.6262   valid/loss: 0.7293   train/acc: 0.6016   valid/acc: 0.5000\n",
      "Epoch 93:    train/loss: 0.7025   valid/loss: 0.7220   train/acc: 0.6875   valid/acc: 0.5938\n",
      "Epoch 94:    train/loss: 0.6209   valid/loss: 0.6472   train/acc: 0.6562   valid/acc: 0.6875\n",
      "Epoch 95:    train/loss: 0.6093   valid/loss: 1.6562   train/acc: 0.7344   valid/acc: 0.5000\n",
      "Epoch 96:    train/loss: 0.5722   valid/loss: 1.6700   train/acc: 0.7656   valid/acc: 0.4688\n",
      "Epoch 97:    train/loss: 0.7592   valid/loss: 0.6960   train/acc: 0.7188   valid/acc: 0.5625\n",
      "Epoch 98:    train/loss: 0.6592   valid/loss: 0.7072   train/acc: 0.6328   valid/acc: 0.5625\n",
      "Epoch 99:    train/loss: 0.9107   valid/loss: 0.8458   train/acc: 0.6094   valid/acc: 0.7188\n",
      "Epoch 100:   train/loss: 1.1439   valid/loss: 0.7612   train/acc: 0.4609   valid/acc: 0.5000\n",
      "Epoch 101:   train/loss: 0.8431   valid/loss: 0.6820   train/acc: 0.5781   valid/acc: 0.5938\n",
      "Epoch 102:   train/loss: 0.7099   valid/loss: 0.6684   train/acc: 0.6250   valid/acc: 0.6250\n",
      "Epoch 103:   train/loss: 0.7112   valid/loss: 0.7094   train/acc: 0.6406   valid/acc: 0.5938\n",
      "Epoch 104:   train/loss: 0.7158   valid/loss: 0.6998   train/acc: 0.5469   valid/acc: 0.6562\n",
      "Epoch 105:   train/loss: 0.7457   valid/loss: 0.7951   train/acc: 0.4219   valid/acc: 0.4375\n",
      "Epoch 106:   train/loss: 0.6840   valid/loss: 0.6916   train/acc: 0.5859   valid/acc: 0.5938\n",
      "Epoch 107:   train/loss: 0.6952   valid/loss: 0.7817   train/acc: 0.6562   valid/acc: 0.5312\n",
      "Epoch 108:   train/loss: 0.6738   valid/loss: 0.6775   train/acc: 0.5938   valid/acc: 0.6250\n",
      "Epoch 109:   train/loss: 0.8473   valid/loss: 0.7178   train/acc: 0.5781   valid/acc: 0.5625\n",
      "Epoch 110:   train/loss: 0.7325   valid/loss: 0.6659   train/acc: 0.5234   valid/acc: 0.5938\n",
      "Epoch 111:   train/loss: 0.7173   valid/loss: 1.6818   train/acc: 0.5156   valid/acc: 0.4062\n",
      "Epoch 112:   train/loss: 0.6996   valid/loss: 0.6391   train/acc: 0.5703   valid/acc: 0.5625\n",
      "Epoch 113:   train/loss: 0.7177   valid/loss: 0.6718   train/acc: 0.4922   valid/acc: 0.5312\n",
      "Epoch 114:   train/loss: 0.7447   valid/loss: 0.7032   train/acc: 0.5234   valid/acc: 0.6875\n",
      "Epoch 115:   train/loss: 0.7015   valid/loss: 0.6378   train/acc: 0.5781   valid/acc: 0.6562\n"
     ]
    },
    {
     "ename": "KeyboardInterrupt",
     "evalue": "",
     "output_type": "error",
     "traceback": [
      "\u001b[0;31m---------------------------------------------------------------------------\u001b[0m",
      "\u001b[0;31mKeyboardInterrupt\u001b[0m                         Traceback (most recent call last)",
      "Input \u001b[0;32mIn [135]\u001b[0m, in \u001b[0;36m<cell line: 1>\u001b[0;34m()\u001b[0m\n\u001b[0;32m----> 1\u001b[0m \u001b[43mtrainer\u001b[49m\u001b[38;5;241;43m.\u001b[39;49m\u001b[43mfit\u001b[49m\u001b[43m(\u001b[49m\u001b[43mtrain_dataset\u001b[49m\u001b[43m,\u001b[49m\u001b[43m \u001b[49m\u001b[43mval_dataset\u001b[49m\u001b[43m,\u001b[49m\u001b[43m \u001b[49m\u001b[43mevaluation_step\u001b[49m\u001b[38;5;241;43m=\u001b[39;49m\u001b[38;5;241;43m1\u001b[39;49m\u001b[43m,\u001b[49m\u001b[43m \u001b[49m\u001b[43mlogging_step\u001b[49m\u001b[38;5;241;43m=\u001b[39;49m\u001b[38;5;241;43m1\u001b[39;49m\u001b[43m)\u001b[49m\n",
      "File \u001b[0;32m~/.qbraid/environments/womanium_go14xk/pyenv/lib/python3.9/site-packages/lambeq/training/trainer.py:423\u001b[0m, in \u001b[0;36mTrainer.fit\u001b[0;34m(self, train_dataset, val_dataset, evaluation_step, logging_step)\u001b[0m\n\u001b[1;32m    416\u001b[0m \u001b[38;5;28;01mfor\u001b[39;00m v_batch \u001b[38;5;129;01min\u001b[39;00m tqdm(val_dataset,\n\u001b[1;32m    417\u001b[0m                     desc\u001b[38;5;241m=\u001b[39m\u001b[38;5;124m'\u001b[39m\u001b[38;5;124mValidation batch\u001b[39m\u001b[38;5;124m'\u001b[39m,\n\u001b[1;32m    418\u001b[0m                     total\u001b[38;5;241m=\u001b[39mbatches_per_validation,\n\u001b[1;32m    419\u001b[0m                     disable\u001b[38;5;241m=\u001b[39mdisable_tqdm,\n\u001b[1;32m    420\u001b[0m                     leave\u001b[38;5;241m=\u001b[39m\u001b[38;5;28;01mFalse\u001b[39;00m,\n\u001b[1;32m    421\u001b[0m                     position\u001b[38;5;241m=\u001b[39m\u001b[38;5;241m2\u001b[39m):\n\u001b[1;32m    422\u001b[0m     x_val, y_label_val \u001b[38;5;241m=\u001b[39m v_batch\n\u001b[0;32m--> 423\u001b[0m     y_hat_val, cur_loss \u001b[38;5;241m=\u001b[39m \u001b[38;5;28;43mself\u001b[39;49m\u001b[38;5;241;43m.\u001b[39;49m\u001b[43mvalidation_step\u001b[49m\u001b[43m(\u001b[49m\u001b[43mv_batch\u001b[49m\u001b[43m)\u001b[49m\n\u001b[1;32m    424\u001b[0m     val_loss \u001b[38;5;241m+\u001b[39m\u001b[38;5;241m=\u001b[39m cur_loss \u001b[38;5;241m*\u001b[39m \u001b[38;5;28mlen\u001b[39m(x_val)\n\u001b[1;32m    425\u001b[0m     \u001b[38;5;28;01mif\u001b[39;00m \u001b[38;5;28mself\u001b[39m\u001b[38;5;241m.\u001b[39mevaluate_functions \u001b[38;5;129;01mis\u001b[39;00m \u001b[38;5;129;01mnot\u001b[39;00m \u001b[38;5;28;01mNone\u001b[39;00m:\n",
      "File \u001b[0;32m~/.qbraid/environments/womanium_go14xk/pyenv/lib/python3.9/site-packages/lambeq/training/quantum_trainer.py:176\u001b[0m, in \u001b[0;36mQuantumTrainer.validation_step\u001b[0;34m(self, batch)\u001b[0m\n\u001b[1;32m    162\u001b[0m \u001b[38;5;124;03m\"\"\"Perform a validation step.\u001b[39;00m\n\u001b[1;32m    163\u001b[0m \n\u001b[1;32m    164\u001b[0m \u001b[38;5;124;03mParameters\u001b[39;00m\n\u001b[0;32m   (...)\u001b[0m\n\u001b[1;32m    173\u001b[0m \n\u001b[1;32m    174\u001b[0m \u001b[38;5;124;03m\"\"\"\u001b[39;00m\n\u001b[1;32m    175\u001b[0m x, y \u001b[38;5;241m=\u001b[39m batch\n\u001b[0;32m--> 176\u001b[0m y_hat \u001b[38;5;241m=\u001b[39m \u001b[38;5;28;43mself\u001b[39;49m\u001b[38;5;241;43m.\u001b[39;49m\u001b[43mmodel\u001b[49m\u001b[43m(\u001b[49m\u001b[43mx\u001b[49m\u001b[43m)\u001b[49m\n\u001b[1;32m    177\u001b[0m loss \u001b[38;5;241m=\u001b[39m \u001b[38;5;28mself\u001b[39m\u001b[38;5;241m.\u001b[39mloss_function(y_hat, y)\n\u001b[1;32m    178\u001b[0m \u001b[38;5;28;01mreturn\u001b[39;00m y_hat, loss\n",
      "File \u001b[0;32m~/.qbraid/environments/womanium_go14xk/pyenv/lib/python3.9/site-packages/lambeq/training/model.py:64\u001b[0m, in \u001b[0;36mModel.__call__\u001b[0;34m(self, *args, **kwds)\u001b[0m\n\u001b[1;32m     63\u001b[0m \u001b[38;5;28;01mdef\u001b[39;00m \u001b[38;5;21m__call__\u001b[39m(\u001b[38;5;28mself\u001b[39m, \u001b[38;5;241m*\u001b[39margs: Any, \u001b[38;5;241m*\u001b[39m\u001b[38;5;241m*\u001b[39mkwds: Any) \u001b[38;5;241m-\u001b[39m\u001b[38;5;241m>\u001b[39m Any:\n\u001b[0;32m---> 64\u001b[0m     \u001b[38;5;28;01mreturn\u001b[39;00m \u001b[38;5;28;43mself\u001b[39;49m\u001b[38;5;241;43m.\u001b[39;49m\u001b[43mforward\u001b[49m\u001b[43m(\u001b[49m\u001b[38;5;241;43m*\u001b[39;49m\u001b[43margs\u001b[49m\u001b[43m,\u001b[49m\u001b[43m \u001b[49m\u001b[38;5;241;43m*\u001b[39;49m\u001b[38;5;241;43m*\u001b[39;49m\u001b[43mkwds\u001b[49m\u001b[43m)\u001b[49m\n",
      "Input \u001b[0;32mIn [124]\u001b[0m, in \u001b[0;36mCustomTketModel.forward\u001b[0;34m(self, x)\u001b[0m\n\u001b[1;32m      8\u001b[0m     s1_diagrams\u001b[38;5;241m.\u001b[39mappend(s1d)\n\u001b[1;32m      9\u001b[0m     s2_diagrams\u001b[38;5;241m.\u001b[39mappend(s2d)\n\u001b[0;32m---> 11\u001b[0m s1_output \u001b[38;5;241m=\u001b[39m \u001b[38;5;28;43mself\u001b[39;49m\u001b[38;5;241;43m.\u001b[39;49m\u001b[43mget_diagram_output\u001b[49m\u001b[43m(\u001b[49m\u001b[43ms1_diagrams\u001b[49m\u001b[43m)\u001b[49m\n\u001b[1;32m     12\u001b[0m s2_output \u001b[38;5;241m=\u001b[39m \u001b[38;5;28mself\u001b[39m\u001b[38;5;241m.\u001b[39mget_diagram_output(s2_diagrams)\n\u001b[1;32m     14\u001b[0m s1_dot_s2 \u001b[38;5;241m=\u001b[39m np\u001b[38;5;241m.\u001b[39msum(s1_output \u001b[38;5;241m*\u001b[39m s2_output, axis\u001b[38;5;241m=\u001b[39m\u001b[38;5;241m1\u001b[39m)\n",
      "File \u001b[0;32m~/.qbraid/environments/womanium_go14xk/pyenv/lib/python3.9/site-packages/lambeq/training/tket_model.py:105\u001b[0m, in \u001b[0;36mTketModel.get_diagram_output\u001b[0;34m(self, diagrams)\u001b[0m\n\u001b[1;32m     98\u001b[0m     \u001b[38;5;28;01mraise\u001b[39;00m \u001b[38;5;167;01mValueError\u001b[39;00m(\u001b[38;5;124m'\u001b[39m\u001b[38;5;124mWeights and/or symbols not initialised. \u001b[39m\u001b[38;5;124m'\u001b[39m\n\u001b[1;32m     99\u001b[0m                      \u001b[38;5;124m'\u001b[39m\u001b[38;5;124mInstantiate through \u001b[39m\u001b[38;5;124m'\u001b[39m\n\u001b[1;32m    100\u001b[0m                      \u001b[38;5;124m'\u001b[39m\u001b[38;5;124m`TketModel.from_diagrams()` first, \u001b[39m\u001b[38;5;124m'\u001b[39m\n\u001b[1;32m    101\u001b[0m                      \u001b[38;5;124m'\u001b[39m\u001b[38;5;124mthen call `initialise_weights()`, or load \u001b[39m\u001b[38;5;124m'\u001b[39m\n\u001b[1;32m    102\u001b[0m                      \u001b[38;5;124m'\u001b[39m\u001b[38;5;124mfrom pre-trained checkpoint.\u001b[39m\u001b[38;5;124m'\u001b[39m)\n\u001b[1;32m    104\u001b[0m lambdified_diagrams \u001b[38;5;241m=\u001b[39m [\u001b[38;5;28mself\u001b[39m\u001b[38;5;241m.\u001b[39m_make_lambda(d) \u001b[38;5;28;01mfor\u001b[39;00m d \u001b[38;5;129;01min\u001b[39;00m diagrams]\n\u001b[0;32m--> 105\u001b[0m tensors \u001b[38;5;241m=\u001b[39m \u001b[43mCircuit\u001b[49m\u001b[38;5;241;43m.\u001b[39;49m\u001b[43meval\u001b[49m\u001b[43m(\u001b[49m\n\u001b[1;32m    106\u001b[0m \u001b[43m    \u001b[49m\u001b[38;5;241;43m*\u001b[39;49m\u001b[43m[\u001b[49m\u001b[43mdiag_f\u001b[49m\u001b[43m(\u001b[49m\u001b[38;5;241;43m*\u001b[39;49m\u001b[38;5;28;43mself\u001b[39;49m\u001b[38;5;241;43m.\u001b[39;49m\u001b[43mweights\u001b[49m\u001b[43m)\u001b[49m\u001b[43m \u001b[49m\u001b[38;5;28;43;01mfor\u001b[39;49;00m\u001b[43m \u001b[49m\u001b[43mdiag_f\u001b[49m\u001b[43m \u001b[49m\u001b[38;5;129;43;01min\u001b[39;49;00m\u001b[43m \u001b[49m\u001b[43mlambdified_diagrams\u001b[49m\u001b[43m]\u001b[49m\u001b[43m,\u001b[49m\n\u001b[1;32m    107\u001b[0m \u001b[43m    \u001b[49m\u001b[38;5;241;43m*\u001b[39;49m\u001b[38;5;241;43m*\u001b[39;49m\u001b[38;5;28;43mself\u001b[39;49m\u001b[38;5;241;43m.\u001b[39;49m\u001b[43mbackend_config\u001b[49m\u001b[43m,\u001b[49m\n\u001b[1;32m    108\u001b[0m \u001b[43m    \u001b[49m\u001b[43mseed\u001b[49m\u001b[38;5;241;43m=\u001b[39;49m\u001b[38;5;28;43mself\u001b[39;49m\u001b[38;5;241;43m.\u001b[39;49m\u001b[43m_randint\u001b[49m\u001b[43m(\u001b[49m\u001b[43m)\u001b[49m\n\u001b[1;32m    109\u001b[0m \u001b[43m\u001b[49m\u001b[43m)\u001b[49m\n\u001b[1;32m    110\u001b[0m \u001b[38;5;28mself\u001b[39m\u001b[38;5;241m.\u001b[39mbackend_config[\u001b[38;5;124m'\u001b[39m\u001b[38;5;124mbackend\u001b[39m\u001b[38;5;124m'\u001b[39m]\u001b[38;5;241m.\u001b[39mempty_cache()\n\u001b[1;32m    111\u001b[0m \u001b[38;5;66;03m# discopy evals a single diagram into a single result\u001b[39;00m\n\u001b[1;32m    112\u001b[0m \u001b[38;5;66;03m# and not a list of results\u001b[39;00m\n",
      "File \u001b[0;32m~/.qbraid/environments/womanium_go14xk/pyenv/lib/python3.9/site-packages/discopy/quantum/circuit.py:288\u001b[0m, in \u001b[0;36mCircuit.eval\u001b[0;34m(self, backend, mixed, contractor, *others, **params)\u001b[0m\n\u001b[1;32m    286\u001b[0m     \u001b[38;5;28;01mreturn\u001b[39;00m \u001b[38;5;28mtype\u001b[39m(box)(box\u001b[38;5;241m.\u001b[39mdom, box\u001b[38;5;241m.\u001b[39mcod, box\u001b[38;5;241m.\u001b[39marray \u001b[38;5;241m+\u001b[39m \u001b[38;5;241m0\u001b[39mj)\n\u001b[1;32m    287\u001b[0m circuits \u001b[38;5;241m=\u001b[39m [circuit\u001b[38;5;241m.\u001b[39mto_tk() \u001b[38;5;28;01mfor\u001b[39;00m circuit \u001b[38;5;129;01min\u001b[39;00m (\u001b[38;5;28mself\u001b[39m, ) \u001b[38;5;241m+\u001b[39m others]\n\u001b[0;32m--> 288\u001b[0m results, counts \u001b[38;5;241m=\u001b[39m [], \u001b[43mcircuits\u001b[49m\u001b[43m[\u001b[49m\u001b[38;5;241;43m0\u001b[39;49m\u001b[43m]\u001b[49m\u001b[38;5;241;43m.\u001b[39;49m\u001b[43mget_counts\u001b[49m\u001b[43m(\u001b[49m\n\u001b[1;32m    289\u001b[0m \u001b[43m    \u001b[49m\u001b[38;5;241;43m*\u001b[39;49m\u001b[43mcircuits\u001b[49m\u001b[43m[\u001b[49m\u001b[38;5;241;43m1\u001b[39;49m\u001b[43m:\u001b[49m\u001b[43m]\u001b[49m\u001b[43m,\u001b[49m\u001b[43m \u001b[49m\u001b[43mbackend\u001b[49m\u001b[38;5;241;43m=\u001b[39;49m\u001b[43mbackend\u001b[49m\u001b[43m,\u001b[49m\u001b[43m \u001b[49m\u001b[38;5;241;43m*\u001b[39;49m\u001b[38;5;241;43m*\u001b[39;49m\u001b[43mparams\u001b[49m\u001b[43m)\u001b[49m\n\u001b[1;32m    290\u001b[0m \u001b[38;5;28;01mfor\u001b[39;00m i, circuit \u001b[38;5;129;01min\u001b[39;00m \u001b[38;5;28menumerate\u001b[39m(circuits):\n\u001b[1;32m    291\u001b[0m     n_bits \u001b[38;5;241m=\u001b[39m \u001b[38;5;28mlen\u001b[39m(circuit\u001b[38;5;241m.\u001b[39mpost_processing\u001b[38;5;241m.\u001b[39mdom)\n",
      "File \u001b[0;32m~/.qbraid/environments/womanium_go14xk/pyenv/lib/python3.9/site-packages/discopy/quantum/tk.py:133\u001b[0m, in \u001b[0;36mCircuit.get_counts\u001b[0;34m(self, backend, *others, **params)\u001b[0m\n\u001b[1;32m    131\u001b[0m \u001b[38;5;28;01mif\u001b[39;00m compilation \u001b[38;5;129;01mis\u001b[39;00m \u001b[38;5;129;01mnot\u001b[39;00m \u001b[38;5;28;01mNone\u001b[39;00m:\n\u001b[1;32m    132\u001b[0m     \u001b[38;5;28;01mfor\u001b[39;00m circuit \u001b[38;5;129;01min\u001b[39;00m (\u001b[38;5;28mself\u001b[39m, ) \u001b[38;5;241m+\u001b[39m others:\n\u001b[0;32m--> 133\u001b[0m         \u001b[43mcompilation\u001b[49m\u001b[38;5;241;43m.\u001b[39;49m\u001b[43mapply\u001b[49m\u001b[43m(\u001b[49m\u001b[43mcircuit\u001b[49m\u001b[43m)\u001b[49m\n\u001b[1;32m    134\u001b[0m handles \u001b[38;5;241m=\u001b[39m backend\u001b[38;5;241m.\u001b[39mprocess_circuits(\n\u001b[1;32m    135\u001b[0m     (\u001b[38;5;28mself\u001b[39m, ) \u001b[38;5;241m+\u001b[39m others, n_shots\u001b[38;5;241m=\u001b[39mn_shots, seed\u001b[38;5;241m=\u001b[39mseed)\n\u001b[1;32m    136\u001b[0m counts \u001b[38;5;241m=\u001b[39m [backend\u001b[38;5;241m.\u001b[39mget_result(h)\u001b[38;5;241m.\u001b[39mget_counts() \u001b[38;5;28;01mfor\u001b[39;00m h \u001b[38;5;129;01min\u001b[39;00m handles]\n",
      "\u001b[0;31mKeyboardInterrupt\u001b[0m: "
     ]
    }
   ],
   "source": [
    "tket_trainer.fit(train_dataset, val_dataset, evaluation_step=1, logging_step=1)"
   ]
  },
  {
   "cell_type": "code",
   "execution_count": 191,
   "id": "c7c38d18-0e7c-4302-af14-346eca22759b",
   "metadata": {},
   "outputs": [],
   "source": [
    "npy_trainer = QuantumTrainer(\n",
    "    npy_model,\n",
    "    loss_function=loss,\n",
    "    epochs=EPOCHS,\n",
    "    optimizer=SPSAOptimizer,\n",
    "    optim_hyperparams={\"a\": 0.05, \"c\": 0.06, \"A\": 0.01 * EPOCHS},\n",
    "    evaluate_functions=eval_metrics,\n",
    "    verbose=\"text\",\n",
    "    # from_checkpoint=True,\n",
    "    # log_dir=\"runs/Aug12_08-52-24_jupyter-neiljohn-2eortega-40gmail-2ecom/\",\n",
    "    seed=RANDOM_SEED,\n",
    ")"
   ]
  },
  {
   "cell_type": "code",
   "execution_count": 192,
   "id": "36cb6cce-4e44-4913-a8ff-91941b80d641",
   "metadata": {},
   "outputs": [
    {
     "name": "stderr",
     "output_type": "stream",
     "text": [
      "Epoch 1:    train/loss: 0.6868   valid/loss: 0.6688   train/acc: 0.5625   valid/acc: 0.6250\n",
      "Epoch 2:    train/loss: 0.6802   valid/loss: 0.6671   train/acc: 0.5938   valid/acc: 0.6250\n",
      "Epoch 3:    train/loss: 0.6916   valid/loss: 0.6737   train/acc: 0.5938   valid/acc: 0.4375\n",
      "Epoch 4:    train/loss: 0.6997   valid/loss: 0.6719   train/acc: 0.4844   valid/acc: 0.4375\n",
      "Epoch 5:    train/loss: 0.6803   valid/loss: 0.6711   train/acc: 0.5781   valid/acc: 0.4375\n",
      "Epoch 6:    train/loss: 0.7065   valid/loss: 0.6750   train/acc: 0.5156   valid/acc: 0.4375\n",
      "Epoch 7:    train/loss: 0.6776   valid/loss: 0.6751   train/acc: 0.6094   valid/acc: 0.3750\n",
      "Epoch 8:    train/loss: 0.7047   valid/loss: 0.6698   train/acc: 0.5156   valid/acc: 0.4375\n",
      "Epoch 9:    train/loss: 0.6692   valid/loss: 0.6691   train/acc: 0.5938   valid/acc: 0.4375\n",
      "Epoch 10:   train/loss: 0.6813   valid/loss: 0.6730   train/acc: 0.6406   valid/acc: 0.4375\n",
      "Epoch 11:   train/loss: 0.6885   valid/loss: 0.6749   train/acc: 0.5469   valid/acc: 0.4375\n",
      "Epoch 12:   train/loss: 0.7048   valid/loss: 0.6792   train/acc: 0.4531   valid/acc: 0.4375\n",
      "Epoch 13:   train/loss: 0.6706   valid/loss: 0.6846   train/acc: 0.5938   valid/acc: 0.4375\n",
      "Epoch 14:   train/loss: 0.6651   valid/loss: 0.6857   train/acc: 0.6250   valid/acc: 0.4375\n",
      "Epoch 15:   train/loss: 0.6995   valid/loss: 0.6887   train/acc: 0.5000   valid/acc: 0.4375\n",
      "Epoch 16:   train/loss: 0.6546   valid/loss: 0.6976   train/acc: 0.6562   valid/acc: 0.4375\n",
      "Epoch 17:   train/loss: 0.6900   valid/loss: 0.6988   train/acc: 0.5000   valid/acc: 0.4375\n",
      "Epoch 18:   train/loss: 0.6623   valid/loss: 0.6991   train/acc: 0.6094   valid/acc: 0.4375\n",
      "Epoch 19:   train/loss: 0.6944   valid/loss: 0.7069   train/acc: 0.4688   valid/acc: 0.5000\n",
      "Epoch 20:   train/loss: 0.6751   valid/loss: 0.7064   train/acc: 0.5625   valid/acc: 0.5000\n",
      "Epoch 21:   train/loss: 0.6903   valid/loss: 0.6981   train/acc: 0.5156   valid/acc: 0.4375\n",
      "Epoch 22:   train/loss: 0.6674   valid/loss: 0.6953   train/acc: 0.5938   valid/acc: 0.4375\n",
      "Epoch 23:   train/loss: 0.6822   valid/loss: 0.6931   train/acc: 0.5156   valid/acc: 0.5625\n",
      "Epoch 24:   train/loss: 0.6668   valid/loss: 0.6922   train/acc: 0.5625   valid/acc: 0.5000\n",
      "Epoch 25:   train/loss: 0.6635   valid/loss: 0.6924   train/acc: 0.6406   valid/acc: 0.5000\n",
      "Epoch 26:   train/loss: 0.6834   valid/loss: 0.6926   train/acc: 0.5625   valid/acc: 0.4375\n",
      "Epoch 27:   train/loss: 0.6908   valid/loss: 0.6959   train/acc: 0.5312   valid/acc: 0.4375\n",
      "Epoch 28:   train/loss: 0.6828   valid/loss: 0.6948   train/acc: 0.5625   valid/acc: 0.4375\n",
      "Epoch 29:   train/loss: 0.6856   valid/loss: 0.6948   train/acc: 0.5312   valid/acc: 0.4375\n",
      "Epoch 30:   train/loss: 0.6745   valid/loss: 0.6932   train/acc: 0.6094   valid/acc: 0.4375\n",
      "Epoch 31:   train/loss: 0.6757   valid/loss: 0.6940   train/acc: 0.6250   valid/acc: 0.4375\n",
      "Epoch 32:   train/loss: 0.6812   valid/loss: 0.6988   train/acc: 0.5625   valid/acc: 0.3750\n",
      "Epoch 33:   train/loss: 0.6735   valid/loss: 0.6974   train/acc: 0.5938   valid/acc: 0.3750\n",
      "Epoch 34:   train/loss: 0.6572   valid/loss: 0.6965   train/acc: 0.5938   valid/acc: 0.3750\n",
      "Epoch 35:   train/loss: 0.6679   valid/loss: 0.6974   train/acc: 0.6406   valid/acc: 0.3750\n",
      "Epoch 36:   train/loss: 0.6661   valid/loss: 0.6930   train/acc: 0.5625   valid/acc: 0.3750\n",
      "Epoch 37:   train/loss: 0.6719   valid/loss: 0.6917   train/acc: 0.6562   valid/acc: 0.3750\n",
      "Epoch 38:   train/loss: 0.6768   valid/loss: 0.6907   train/acc: 0.5781   valid/acc: 0.3750\n",
      "Epoch 39:   train/loss: 0.6685   valid/loss: 0.6903   train/acc: 0.5938   valid/acc: 0.3750\n",
      "Epoch 40:   train/loss: 0.6834   valid/loss: 0.6908   train/acc: 0.5000   valid/acc: 0.4375\n",
      "Epoch 41:   train/loss: 0.6629   valid/loss: 0.6939   train/acc: 0.5938   valid/acc: 0.3750\n",
      "Epoch 42:   train/loss: 0.6486   valid/loss: 0.6899   train/acc: 0.6875   valid/acc: 0.3750\n",
      "Epoch 43:   train/loss: 0.6735   valid/loss: 0.6866   train/acc: 0.5156   valid/acc: 0.4375\n",
      "Epoch 44:   train/loss: 0.6741   valid/loss: 0.6911   train/acc: 0.5625   valid/acc: 0.4375\n",
      "Epoch 45:   train/loss: 0.6742   valid/loss: 0.6932   train/acc: 0.6562   valid/acc: 0.4375\n",
      "Epoch 46:   train/loss: 0.6490   valid/loss: 0.6941   train/acc: 0.5938   valid/acc: 0.4375\n",
      "Epoch 47:   train/loss: 0.6635   valid/loss: 0.6934   train/acc: 0.5781   valid/acc: 0.4375\n",
      "Epoch 48:   train/loss: 0.6510   valid/loss: 0.6937   train/acc: 0.5938   valid/acc: 0.4375\n",
      "Epoch 49:   train/loss: 0.6599   valid/loss: 0.6936   train/acc: 0.5625   valid/acc: 0.4375\n",
      "Epoch 50:   train/loss: 0.6550   valid/loss: 0.6937   train/acc: 0.5938   valid/acc: 0.4375\n",
      "Epoch 51:   train/loss: 0.6687   valid/loss: 0.6950   train/acc: 0.6094   valid/acc: 0.5000\n",
      "Epoch 52:   train/loss: 0.6631   valid/loss: 0.6960   train/acc: 0.6406   valid/acc: 0.5000\n",
      "Epoch 53:   train/loss: 0.6601   valid/loss: 0.6962   train/acc: 0.6250   valid/acc: 0.5000\n",
      "Epoch 54:   train/loss: 0.6733   valid/loss: 0.6943   train/acc: 0.5312   valid/acc: 0.5000\n",
      "Epoch 55:   train/loss: 0.6643   valid/loss: 0.6928   train/acc: 0.6250   valid/acc: 0.5000\n",
      "Epoch 56:   train/loss: 0.6478   valid/loss: 0.6928   train/acc: 0.6719   valid/acc: 0.5000\n",
      "Epoch 57:   train/loss: 0.6654   valid/loss: 0.6961   train/acc: 0.5781   valid/acc: 0.5000\n",
      "Epoch 58:   train/loss: 0.6667   valid/loss: 0.6965   train/acc: 0.6406   valid/acc: 0.5000\n",
      "Epoch 59:   train/loss: 0.6687   valid/loss: 0.6959   train/acc: 0.5625   valid/acc: 0.4375\n",
      "Epoch 60:   train/loss: 0.6459   valid/loss: 0.6942   train/acc: 0.6562   valid/acc: 0.4375\n",
      "Epoch 61:   train/loss: 0.6600   valid/loss: 0.6947   train/acc: 0.6094   valid/acc: 0.4375\n",
      "Epoch 62:   train/loss: 0.6737   valid/loss: 0.6955   train/acc: 0.6250   valid/acc: 0.5000\n",
      "Epoch 63:   train/loss: 0.6605   valid/loss: 0.6965   train/acc: 0.6094   valid/acc: 0.4375\n",
      "Epoch 64:   train/loss: 0.6597   valid/loss: 0.6971   train/acc: 0.6094   valid/acc: 0.4375\n",
      "Epoch 65:   train/loss: 0.6686   valid/loss: 0.6992   train/acc: 0.5938   valid/acc: 0.5000\n",
      "Epoch 66:   train/loss: 0.6850   valid/loss: 0.6986   train/acc: 0.6094   valid/acc: 0.5000\n",
      "Epoch 67:   train/loss: 0.6662   valid/loss: 0.6998   train/acc: 0.6562   valid/acc: 0.5000\n",
      "Epoch 68:   train/loss: 0.6667   valid/loss: 0.6981   train/acc: 0.6250   valid/acc: 0.5000\n",
      "Epoch 69:   train/loss: 0.6572   valid/loss: 0.6980   train/acc: 0.6406   valid/acc: 0.5000\n",
      "Epoch 70:   train/loss: 0.6705   valid/loss: 0.6953   train/acc: 0.5938   valid/acc: 0.5000\n",
      "Epoch 71:   train/loss: 0.6687   valid/loss: 0.6951   train/acc: 0.5625   valid/acc: 0.5000\n",
      "Epoch 72:   train/loss: 0.6763   valid/loss: 0.6944   train/acc: 0.6562   valid/acc: 0.5000\n",
      "Epoch 73:   train/loss: 0.6540   valid/loss: 0.6963   train/acc: 0.6406   valid/acc: 0.5000\n",
      "Epoch 74:   train/loss: 0.6726   valid/loss: 0.6951   train/acc: 0.5469   valid/acc: 0.5000\n",
      "Epoch 75:   train/loss: 0.6471   valid/loss: 0.6919   train/acc: 0.6406   valid/acc: 0.5000\n",
      "Epoch 76:   train/loss: 0.6466   valid/loss: 0.6920   train/acc: 0.6094   valid/acc: 0.5000\n",
      "Epoch 77:   train/loss: 0.6714   valid/loss: 0.6915   train/acc: 0.6250   valid/acc: 0.5000\n",
      "Epoch 78:   train/loss: 0.6888   valid/loss: 0.6927   train/acc: 0.5469   valid/acc: 0.5000\n",
      "Epoch 79:   train/loss: 0.6343   valid/loss: 0.6953   train/acc: 0.7188   valid/acc: 0.5000\n",
      "Epoch 80:   train/loss: 0.6554   valid/loss: 0.6960   train/acc: 0.6250   valid/acc: 0.4375\n",
      "Epoch 81:   train/loss: 0.6621   valid/loss: 0.6944   train/acc: 0.6562   valid/acc: 0.5000\n",
      "Epoch 82:   train/loss: 0.6539   valid/loss: 0.6974   train/acc: 0.7188   valid/acc: 0.5000\n",
      "Epoch 83:   train/loss: 0.6546   valid/loss: 0.6968   train/acc: 0.6875   valid/acc: 0.4375\n",
      "Epoch 84:   train/loss: 0.6679   valid/loss: 0.6983   train/acc: 0.6406   valid/acc: 0.4375\n",
      "Epoch 85:   train/loss: 0.6307   valid/loss: 0.6976   train/acc: 0.7031   valid/acc: 0.4375\n",
      "Epoch 86:   train/loss: 0.6648   valid/loss: 0.6991   train/acc: 0.6719   valid/acc: 0.4375\n",
      "Epoch 87:   train/loss: 0.6652   valid/loss: 0.7014   train/acc: 0.6562   valid/acc: 0.4375\n",
      "Epoch 88:   train/loss: 0.6485   valid/loss: 0.7015   train/acc: 0.7344   valid/acc: 0.4375\n",
      "Epoch 89:   train/loss: 0.6540   valid/loss: 0.7009   train/acc: 0.6406   valid/acc: 0.5000\n",
      "Epoch 90:   train/loss: 0.6379   valid/loss: 0.7023   train/acc: 0.7344   valid/acc: 0.5000\n",
      "Epoch 91:   train/loss: 0.6562   valid/loss: 0.7029   train/acc: 0.6406   valid/acc: 0.5000\n",
      "Epoch 92:   train/loss: 0.6400   valid/loss: 0.7027   train/acc: 0.7500   valid/acc: 0.5000\n",
      "Epoch 93:   train/loss: 0.6573   valid/loss: 0.7025   train/acc: 0.6719   valid/acc: 0.5000\n",
      "Epoch 94:   train/loss: 0.6602   valid/loss: 0.7025   train/acc: 0.6250   valid/acc: 0.5000\n",
      "Epoch 95:   train/loss: 0.6424   valid/loss: 0.7014   train/acc: 0.7031   valid/acc: 0.5000\n",
      "Epoch 96:   train/loss: 0.6449   valid/loss: 0.7014   train/acc: 0.6719   valid/acc: 0.5000\n",
      "Epoch 97:   train/loss: 0.6414   valid/loss: 0.7018   train/acc: 0.6250   valid/acc: 0.5000\n",
      "Epoch 98:   train/loss: 0.6383   valid/loss: 0.6995   train/acc: 0.7031   valid/acc: 0.5000\n",
      "Epoch 99:   train/loss: 0.6616   valid/loss: 0.7000   train/acc: 0.5938   valid/acc: 0.5000\n",
      "Epoch 100:  train/loss: 0.6334   valid/loss: 0.6995   train/acc: 0.6875   valid/acc: 0.4375\n",
      "Epoch 101:  train/loss: 0.6329   valid/loss: 0.6959   train/acc: 0.6562   valid/acc: 0.4375\n",
      "Epoch 102:  train/loss: 0.6353   valid/loss: 0.6971   train/acc: 0.6719   valid/acc: 0.4375\n",
      "Epoch 103:  train/loss: 0.6392   valid/loss: 0.6952   train/acc: 0.6562   valid/acc: 0.4375\n",
      "Epoch 104:  train/loss: 0.6610   valid/loss: 0.6914   train/acc: 0.6406   valid/acc: 0.4375\n",
      "Epoch 105:  train/loss: 0.6424   valid/loss: 0.6945   train/acc: 0.6719   valid/acc: 0.4375\n",
      "Epoch 106:  train/loss: 0.6465   valid/loss: 0.6935   train/acc: 0.5938   valid/acc: 0.4375\n",
      "Epoch 107:  train/loss: 0.6430   valid/loss: 0.6939   train/acc: 0.6250   valid/acc: 0.4375\n",
      "Epoch 108:  train/loss: 0.6482   valid/loss: 0.6973   train/acc: 0.6562   valid/acc: 0.4375\n",
      "Epoch 109:  train/loss: 0.6235   valid/loss: 0.6985   train/acc: 0.5938   valid/acc: 0.4375\n",
      "Epoch 110:  train/loss: 0.6609   valid/loss: 0.6987   train/acc: 0.6406   valid/acc: 0.4375\n",
      "Epoch 111:  train/loss: 0.6473   valid/loss: 0.6922   train/acc: 0.6719   valid/acc: 0.4375\n",
      "Epoch 112:  train/loss: 0.6647   valid/loss: 0.6943   train/acc: 0.5938   valid/acc: 0.4375\n",
      "Epoch 113:  train/loss: 0.6483   valid/loss: 0.6948   train/acc: 0.6562   valid/acc: 0.4375\n",
      "Epoch 114:  train/loss: 0.6630   valid/loss: 0.6938   train/acc: 0.5781   valid/acc: 0.4375\n",
      "Epoch 115:  train/loss: 0.6335   valid/loss: 0.6948   train/acc: 0.7344   valid/acc: 0.4375\n",
      "Epoch 116:  train/loss: 0.6373   valid/loss: 0.6943   train/acc: 0.6875   valid/acc: 0.4375\n",
      "Epoch 117:  train/loss: 0.6324   valid/loss: 0.6948   train/acc: 0.6562   valid/acc: 0.4375\n",
      "Epoch 118:  train/loss: 0.6564   valid/loss: 0.6971   train/acc: 0.5781   valid/acc: 0.5000\n",
      "Epoch 119:  train/loss: 0.6531   valid/loss: 0.6951   train/acc: 0.7031   valid/acc: 0.4375\n",
      "Epoch 120:  train/loss: 0.6519   valid/loss: 0.6900   train/acc: 0.6719   valid/acc: 0.4375\n",
      "Epoch 121:  train/loss: 0.6563   valid/loss: 0.6907   train/acc: 0.6562   valid/acc: 0.4375\n",
      "Epoch 122:  train/loss: 0.6242   valid/loss: 0.6930   train/acc: 0.6875   valid/acc: 0.4375\n",
      "Epoch 123:  train/loss: 0.6464   valid/loss: 0.7029   train/acc: 0.6875   valid/acc: 0.4375\n",
      "Epoch 124:  train/loss: 0.6286   valid/loss: 0.7034   train/acc: 0.6562   valid/acc: 0.4375\n",
      "Epoch 125:  train/loss: 0.6352   valid/loss: 0.7030   train/acc: 0.6250   valid/acc: 0.4375\n",
      "Epoch 126:  train/loss: 0.6387   valid/loss: 0.7019   train/acc: 0.7031   valid/acc: 0.4375\n",
      "Epoch 127:  train/loss: 0.6405   valid/loss: 0.7014   train/acc: 0.7031   valid/acc: 0.4375\n",
      "Epoch 128:  train/loss: 0.6360   valid/loss: 0.7010   train/acc: 0.6562   valid/acc: 0.4375\n",
      "Epoch 129:  train/loss: 0.6477   valid/loss: 0.7012   train/acc: 0.6875   valid/acc: 0.4375\n",
      "Epoch 130:  train/loss: 0.6384   valid/loss: 0.6987   train/acc: 0.6719   valid/acc: 0.5000\n",
      "Epoch 131:  train/loss: 0.6493   valid/loss: 0.7020   train/acc: 0.6406   valid/acc: 0.5000\n",
      "Epoch 132:  train/loss: 0.6183   valid/loss: 0.7012   train/acc: 0.6719   valid/acc: 0.5000\n",
      "Epoch 133:  train/loss: 0.6330   valid/loss: 0.7014   train/acc: 0.6406   valid/acc: 0.5000\n",
      "Epoch 134:  train/loss: 0.6288   valid/loss: 0.7008   train/acc: 0.6562   valid/acc: 0.5000\n",
      "Epoch 135:  train/loss: 0.6442   valid/loss: 0.7021   train/acc: 0.6406   valid/acc: 0.5000\n",
      "Epoch 136:  train/loss: 0.6416   valid/loss: 0.7015   train/acc: 0.6406   valid/acc: 0.5000\n",
      "Epoch 137:  train/loss: 0.6192   valid/loss: 0.7004   train/acc: 0.6719   valid/acc: 0.5000\n",
      "Epoch 138:  train/loss: 0.6375   valid/loss: 0.7003   train/acc: 0.6406   valid/acc: 0.5000\n",
      "Epoch 139:  train/loss: 0.6349   valid/loss: 0.7017   train/acc: 0.6406   valid/acc: 0.5000\n",
      "Epoch 140:  train/loss: 0.6469   valid/loss: 0.7038   train/acc: 0.7031   valid/acc: 0.5000\n",
      "Epoch 141:  train/loss: 0.6436   valid/loss: 0.7023   train/acc: 0.6719   valid/acc: 0.5000\n",
      "Epoch 142:  train/loss: 0.6288   valid/loss: 0.7025   train/acc: 0.7188   valid/acc: 0.5000\n",
      "Epoch 143:  train/loss: 0.6259   valid/loss: 0.7031   train/acc: 0.6719   valid/acc: 0.5000\n",
      "Epoch 144:  train/loss: 0.6307   valid/loss: 0.7038   train/acc: 0.6406   valid/acc: 0.5000\n",
      "Epoch 145:  train/loss: 0.6370   valid/loss: 0.7037   train/acc: 0.7812   valid/acc: 0.5000\n",
      "Epoch 146:  train/loss: 0.6234   valid/loss: 0.7035   train/acc: 0.6875   valid/acc: 0.5000\n",
      "Epoch 147:  train/loss: 0.6136   valid/loss: 0.7041   train/acc: 0.7188   valid/acc: 0.5000\n",
      "Epoch 148:  train/loss: 0.6385   valid/loss: 0.7030   train/acc: 0.6562   valid/acc: 0.5000\n",
      "Epoch 149:  train/loss: 0.6456   valid/loss: 0.7042   train/acc: 0.6719   valid/acc: 0.5000\n",
      "Epoch 150:  train/loss: 0.6453   valid/loss: 0.7032   train/acc: 0.6562   valid/acc: 0.5000\n",
      "Epoch 151:  train/loss: 0.6410   valid/loss: 0.7029   train/acc: 0.6250   valid/acc: 0.5000\n",
      "Epoch 152:  train/loss: 0.6039   valid/loss: 0.7047   train/acc: 0.6875   valid/acc: 0.5000\n",
      "Epoch 153:  train/loss: 0.6213   valid/loss: 0.7052   train/acc: 0.7656   valid/acc: 0.5000\n",
      "Epoch 154:  train/loss: 0.6280   valid/loss: 0.7052   train/acc: 0.6406   valid/acc: 0.5000\n",
      "Epoch 155:  train/loss: 0.6446   valid/loss: 0.7049   train/acc: 0.6094   valid/acc: 0.5000\n",
      "Epoch 156:  train/loss: 0.6331   valid/loss: 0.7048   train/acc: 0.7188   valid/acc: 0.5000\n",
      "Epoch 157:  train/loss: 0.6274   valid/loss: 0.7057   train/acc: 0.6719   valid/acc: 0.5000\n",
      "Epoch 158:  train/loss: 0.6256   valid/loss: 0.7068   train/acc: 0.7031   valid/acc: 0.5000\n",
      "Epoch 159:  train/loss: 0.6381   valid/loss: 0.7079   train/acc: 0.6719   valid/acc: 0.5000\n",
      "Epoch 160:  train/loss: 0.6242   valid/loss: 0.7083   train/acc: 0.6875   valid/acc: 0.5000\n",
      "Epoch 161:  train/loss: 0.6489   valid/loss: 0.7084   train/acc: 0.6875   valid/acc: 0.5000\n",
      "Epoch 162:  train/loss: 0.6125   valid/loss: 0.7094   train/acc: 0.7188   valid/acc: 0.5000\n",
      "Epoch 163:  train/loss: 0.6260   valid/loss: 0.7096   train/acc: 0.6094   valid/acc: 0.5000\n",
      "Epoch 164:  train/loss: 0.6257   valid/loss: 0.7117   train/acc: 0.6875   valid/acc: 0.5000\n",
      "Epoch 165:  train/loss: 0.6253   valid/loss: 0.7109   train/acc: 0.7188   valid/acc: 0.5000\n",
      "Epoch 166:  train/loss: 0.6371   valid/loss: 0.7111   train/acc: 0.5781   valid/acc: 0.5000\n",
      "Epoch 167:  train/loss: 0.6366   valid/loss: 0.7094   train/acc: 0.6406   valid/acc: 0.5000\n",
      "Epoch 168:  train/loss: 0.6194   valid/loss: 0.7095   train/acc: 0.6250   valid/acc: 0.5000\n",
      "Epoch 169:  train/loss: 0.6233   valid/loss: 0.7096   train/acc: 0.6562   valid/acc: 0.5000\n",
      "Epoch 170:  train/loss: 0.6142   valid/loss: 0.7114   train/acc: 0.7188   valid/acc: 0.5000\n",
      "Epoch 171:  train/loss: 0.6192   valid/loss: 0.7121   train/acc: 0.7344   valid/acc: 0.5000\n",
      "Epoch 172:  train/loss: 0.6268   valid/loss: 0.7113   train/acc: 0.7031   valid/acc: 0.5000\n",
      "Epoch 173:  train/loss: 0.6287   valid/loss: 0.7128   train/acc: 0.7344   valid/acc: 0.5000\n",
      "Epoch 174:  train/loss: 0.6024   valid/loss: 0.7131   train/acc: 0.7500   valid/acc: 0.5000\n",
      "Epoch 175:  train/loss: 0.6269   valid/loss: 0.7108   train/acc: 0.6250   valid/acc: 0.5000\n",
      "Epoch 176:  train/loss: 0.6456   valid/loss: 0.7065   train/acc: 0.6406   valid/acc: 0.5000\n",
      "Epoch 177:  train/loss: 0.6282   valid/loss: 0.7065   train/acc: 0.6562   valid/acc: 0.5000\n",
      "Epoch 178:  train/loss: 0.6329   valid/loss: 0.7056   train/acc: 0.6562   valid/acc: 0.5000\n",
      "Epoch 179:  train/loss: 0.6288   valid/loss: 0.7050   train/acc: 0.7500   valid/acc: 0.5000\n",
      "Epoch 180:  train/loss: 0.6270   valid/loss: 0.7011   train/acc: 0.7188   valid/acc: 0.5000\n",
      "Epoch 181:  train/loss: 0.6368   valid/loss: 0.6989   train/acc: 0.7031   valid/acc: 0.5000\n",
      "Epoch 182:  train/loss: 0.6284   valid/loss: 0.6984   train/acc: 0.6250   valid/acc: 0.5000\n",
      "Epoch 183:  train/loss: 0.6208   valid/loss: 0.6989   train/acc: 0.6875   valid/acc: 0.5000\n",
      "Epoch 184:  train/loss: 0.6254   valid/loss: 0.6990   train/acc: 0.7031   valid/acc: 0.5000\n",
      "Epoch 185:  train/loss: 0.6021   valid/loss: 0.6943   train/acc: 0.7500   valid/acc: 0.5000\n",
      "Epoch 186:  train/loss: 0.6235   valid/loss: 0.6945   train/acc: 0.7188   valid/acc: 0.5000\n",
      "Epoch 187:  train/loss: 0.6509   valid/loss: 0.6940   train/acc: 0.6250   valid/acc: 0.5000\n",
      "Epoch 188:  train/loss: 0.6171   valid/loss: 0.6935   train/acc: 0.6875   valid/acc: 0.5000\n",
      "Epoch 189:  train/loss: 0.6016   valid/loss: 0.6944   train/acc: 0.7500   valid/acc: 0.5000\n",
      "Epoch 190:  train/loss: 0.6336   valid/loss: 0.6950   train/acc: 0.6250   valid/acc: 0.5000\n",
      "Epoch 191:  train/loss: 0.6195   valid/loss: 0.6940   train/acc: 0.7188   valid/acc: 0.5000\n",
      "Epoch 192:  train/loss: 0.6188   valid/loss: 0.6940   train/acc: 0.7188   valid/acc: 0.5000\n",
      "Epoch 193:  train/loss: 0.6188   valid/loss: 0.6905   train/acc: 0.7188   valid/acc: 0.5000\n",
      "Epoch 194:  train/loss: 0.6300   valid/loss: 0.6900   train/acc: 0.6719   valid/acc: 0.5000\n",
      "Epoch 195:  train/loss: 0.5981   valid/loss: 0.6898   train/acc: 0.6719   valid/acc: 0.5000\n",
      "Epoch 196:  train/loss: 0.6339   valid/loss: 0.6912   train/acc: 0.6875   valid/acc: 0.5000\n",
      "Epoch 197:  train/loss: 0.6157   valid/loss: 0.6895   train/acc: 0.7344   valid/acc: 0.5000\n",
      "Epoch 198:  train/loss: 0.6218   valid/loss: 0.6896   train/acc: 0.7188   valid/acc: 0.5000\n",
      "Epoch 199:  train/loss: 0.6005   valid/loss: 0.6882   train/acc: 0.6719   valid/acc: 0.5000\n",
      "Epoch 200:  train/loss: 0.6084   valid/loss: 0.6866   train/acc: 0.6562   valid/acc: 0.5000\n",
      "Epoch 201:  train/loss: 0.6202   valid/loss: 0.6855   train/acc: 0.6406   valid/acc: 0.5000\n",
      "Epoch 202:  train/loss: 0.6180   valid/loss: 0.6854   train/acc: 0.7188   valid/acc: 0.5000\n",
      "Epoch 203:  train/loss: 0.6158   valid/loss: 0.6852   train/acc: 0.7344   valid/acc: 0.5000\n",
      "Epoch 204:  train/loss: 0.6109   valid/loss: 0.6855   train/acc: 0.7031   valid/acc: 0.5000\n",
      "Epoch 205:  train/loss: 0.5985   valid/loss: 0.6834   train/acc: 0.6719   valid/acc: 0.5000\n",
      "Epoch 206:  train/loss: 0.6040   valid/loss: 0.6844   train/acc: 0.7344   valid/acc: 0.5000\n",
      "Epoch 207:  train/loss: 0.6116   valid/loss: 0.6843   train/acc: 0.7031   valid/acc: 0.5000\n",
      "Epoch 208:  train/loss: 0.6262   valid/loss: 0.6847   train/acc: 0.7188   valid/acc: 0.5000\n",
      "Epoch 209:  train/loss: 0.5946   valid/loss: 0.6858   train/acc: 0.7812   valid/acc: 0.5000\n",
      "Epoch 210:  train/loss: 0.6347   valid/loss: 0.6865   train/acc: 0.6406   valid/acc: 0.5000\n",
      "Epoch 211:  train/loss: 0.6136   valid/loss: 0.6871   train/acc: 0.6562   valid/acc: 0.5000\n",
      "Epoch 212:  train/loss: 0.5955   valid/loss: 0.6878   train/acc: 0.6562   valid/acc: 0.5000\n",
      "Epoch 213:  train/loss: 0.6249   valid/loss: 0.6878   train/acc: 0.6719   valid/acc: 0.5000\n",
      "Epoch 214:  train/loss: 0.6248   valid/loss: 0.6864   train/acc: 0.7969   valid/acc: 0.5000\n",
      "Epoch 215:  train/loss: 0.6061   valid/loss: 0.6857   train/acc: 0.7188   valid/acc: 0.5000\n",
      "Epoch 216:  train/loss: 0.6244   valid/loss: 0.6851   train/acc: 0.6406   valid/acc: 0.5000\n",
      "Epoch 217:  train/loss: 0.5951   valid/loss: 0.6863   train/acc: 0.7344   valid/acc: 0.5000\n",
      "Epoch 218:  train/loss: 0.6036   valid/loss: 0.6874   train/acc: 0.6875   valid/acc: 0.5000\n",
      "Epoch 219:  train/loss: 0.5952   valid/loss: 0.6854   train/acc: 0.7500   valid/acc: 0.5000\n",
      "Epoch 220:  train/loss: 0.6035   valid/loss: 0.6826   train/acc: 0.6562   valid/acc: 0.5000\n",
      "Epoch 221:  train/loss: 0.6208   valid/loss: 0.6842   train/acc: 0.7656   valid/acc: 0.5000\n",
      "Epoch 222:  train/loss: 0.6242   valid/loss: 0.6835   train/acc: 0.7031   valid/acc: 0.5000\n",
      "Epoch 223:  train/loss: 0.5905   valid/loss: 0.6846   train/acc: 0.7188   valid/acc: 0.5000\n",
      "Epoch 224:  train/loss: 0.6116   valid/loss: 0.6850   train/acc: 0.6562   valid/acc: 0.5000\n",
      "Epoch 225:  train/loss: 0.6277   valid/loss: 0.6838   train/acc: 0.7188   valid/acc: 0.5000\n",
      "Epoch 226:  train/loss: 0.5850   valid/loss: 0.6825   train/acc: 0.7188   valid/acc: 0.5000\n",
      "Epoch 227:  train/loss: 0.5912   valid/loss: 0.6813   train/acc: 0.7500   valid/acc: 0.5000\n",
      "Epoch 228:  train/loss: 0.6029   valid/loss: 0.6808   train/acc: 0.7344   valid/acc: 0.5000\n",
      "Epoch 229:  train/loss: 0.5996   valid/loss: 0.6805   train/acc: 0.7188   valid/acc: 0.5000\n",
      "Epoch 230:  train/loss: 0.6008   valid/loss: 0.6814   train/acc: 0.6562   valid/acc: 0.5000\n",
      "Epoch 231:  train/loss: 0.6119   valid/loss: 0.6779   train/acc: 0.7188   valid/acc: 0.5000\n",
      "Epoch 232:  train/loss: 0.5879   valid/loss: 0.6768   train/acc: 0.7500   valid/acc: 0.5000\n",
      "Epoch 233:  train/loss: 0.6159   valid/loss: 0.6812   train/acc: 0.7031   valid/acc: 0.5000\n",
      "Epoch 234:  train/loss: 0.6089   valid/loss: 0.6812   train/acc: 0.7031   valid/acc: 0.5000\n",
      "Epoch 235:  train/loss: 0.5893   valid/loss: 0.6804   train/acc: 0.7344   valid/acc: 0.5000\n",
      "Epoch 236:  train/loss: 0.6123   valid/loss: 0.6794   train/acc: 0.7344   valid/acc: 0.5000\n",
      "Epoch 237:  train/loss: 0.5845   valid/loss: 0.6786   train/acc: 0.6875   valid/acc: 0.5000\n",
      "Epoch 238:  train/loss: 0.6063   valid/loss: 0.6790   train/acc: 0.6875   valid/acc: 0.5000\n",
      "Epoch 239:  train/loss: 0.5727   valid/loss: 0.6787   train/acc: 0.7188   valid/acc: 0.5000\n",
      "Epoch 240:  train/loss: 0.6039   valid/loss: 0.6792   train/acc: 0.6875   valid/acc: 0.5000\n",
      "Epoch 241:  train/loss: 0.6067   valid/loss: 0.6793   train/acc: 0.7188   valid/acc: 0.5000\n",
      "Epoch 242:  train/loss: 0.6177   valid/loss: 0.6797   train/acc: 0.7812   valid/acc: 0.5000\n",
      "Epoch 243:  train/loss: 0.5867   valid/loss: 0.6796   train/acc: 0.8125   valid/acc: 0.5000\n",
      "Epoch 244:  train/loss: 0.5928   valid/loss: 0.6778   train/acc: 0.7500   valid/acc: 0.5000\n",
      "Epoch 245:  train/loss: 0.5979   valid/loss: 0.6776   train/acc: 0.7031   valid/acc: 0.5000\n",
      "Epoch 246:  train/loss: 0.6355   valid/loss: 0.6781   train/acc: 0.7188   valid/acc: 0.5000\n",
      "Epoch 247:  train/loss: 0.5937   valid/loss: 0.6781   train/acc: 0.7188   valid/acc: 0.5000\n",
      "Epoch 248:  train/loss: 0.5943   valid/loss: 0.6780   train/acc: 0.6719   valid/acc: 0.5000\n",
      "Epoch 249:  train/loss: 0.6093   valid/loss: 0.6787   train/acc: 0.6875   valid/acc: 0.5000\n",
      "Epoch 250:  train/loss: 0.5888   valid/loss: 0.6776   train/acc: 0.7188   valid/acc: 0.5000\n",
      "Epoch 251:  train/loss: 0.6083   valid/loss: 0.6786   train/acc: 0.6875   valid/acc: 0.5000\n",
      "Epoch 252:  train/loss: 0.5872   valid/loss: 0.6782   train/acc: 0.7656   valid/acc: 0.5000\n",
      "Epoch 253:  train/loss: 0.5878   valid/loss: 0.6757   train/acc: 0.7188   valid/acc: 0.5000\n",
      "Epoch 254:  train/loss: 0.6070   valid/loss: 0.6776   train/acc: 0.7344   valid/acc: 0.5000\n",
      "Epoch 255:  train/loss: 0.5924   valid/loss: 0.6777   train/acc: 0.7031   valid/acc: 0.5000\n",
      "Epoch 256:  train/loss: 0.6173   valid/loss: 0.6763   train/acc: 0.6562   valid/acc: 0.5000\n",
      "Epoch 257:  train/loss: 0.5942   valid/loss: 0.6761   train/acc: 0.7500   valid/acc: 0.5000\n",
      "Epoch 258:  train/loss: 0.5946   valid/loss: 0.6747   train/acc: 0.7031   valid/acc: 0.5000\n",
      "Epoch 259:  train/loss: 0.6140   valid/loss: 0.6722   train/acc: 0.6562   valid/acc: 0.5000\n",
      "Epoch 260:  train/loss: 0.5970   valid/loss: 0.6700   train/acc: 0.7188   valid/acc: 0.5000\n",
      "Epoch 261:  train/loss: 0.5837   valid/loss: 0.6683   train/acc: 0.7656   valid/acc: 0.5000\n",
      "Epoch 262:  train/loss: 0.5846   valid/loss: 0.6682   train/acc: 0.7500   valid/acc: 0.5000\n",
      "Epoch 263:  train/loss: 0.5936   valid/loss: 0.6684   train/acc: 0.7500   valid/acc: 0.5000\n",
      "Epoch 264:  train/loss: 0.5947   valid/loss: 0.6677   train/acc: 0.7188   valid/acc: 0.5000\n",
      "Epoch 265:  train/loss: 0.5864   valid/loss: 0.6635   train/acc: 0.7188   valid/acc: 0.5000\n",
      "Epoch 266:  train/loss: 0.5724   valid/loss: 0.6624   train/acc: 0.7812   valid/acc: 0.5000\n",
      "Epoch 267:  train/loss: 0.5745   valid/loss: 0.6576   train/acc: 0.7812   valid/acc: 0.5000\n",
      "Epoch 268:  train/loss: 0.5905   valid/loss: 0.6564   train/acc: 0.7344   valid/acc: 0.5000\n",
      "Epoch 269:  train/loss: 0.5731   valid/loss: 0.6570   train/acc: 0.7188   valid/acc: 0.5000\n",
      "Epoch 270:  train/loss: 0.5692   valid/loss: 0.6568   train/acc: 0.7500   valid/acc: 0.5000\n",
      "Epoch 271:  train/loss: 0.5851   valid/loss: 0.6569   train/acc: 0.7969   valid/acc: 0.5000\n",
      "Epoch 272:  train/loss: 0.6002   valid/loss: 0.6584   train/acc: 0.6875   valid/acc: 0.5000\n",
      "Epoch 273:  train/loss: 0.5980   valid/loss: 0.6579   train/acc: 0.7188   valid/acc: 0.5000\n",
      "Epoch 274:  train/loss: 0.5998   valid/loss: 0.6570   train/acc: 0.7188   valid/acc: 0.5000\n",
      "Epoch 275:  train/loss: 0.6128   valid/loss: 0.6567   train/acc: 0.6719   valid/acc: 0.5000\n",
      "Epoch 276:  train/loss: 0.5819   valid/loss: 0.6551   train/acc: 0.7656   valid/acc: 0.5000\n",
      "Epoch 277:  train/loss: 0.5882   valid/loss: 0.6547   train/acc: 0.6875   valid/acc: 0.5000\n",
      "Epoch 278:  train/loss: 0.5887   valid/loss: 0.6533   train/acc: 0.7656   valid/acc: 0.5000\n",
      "Epoch 279:  train/loss: 0.5690   valid/loss: 0.6535   train/acc: 0.7500   valid/acc: 0.5000\n",
      "Epoch 280:  train/loss: 0.6074   valid/loss: 0.6537   train/acc: 0.6875   valid/acc: 0.5000\n",
      "Epoch 281:  train/loss: 0.5924   valid/loss: 0.6566   train/acc: 0.7188   valid/acc: 0.5000\n",
      "Epoch 282:  train/loss: 0.5900   valid/loss: 0.6552   train/acc: 0.6719   valid/acc: 0.5000\n",
      "Epoch 283:  train/loss: 0.5758   valid/loss: 0.6513   train/acc: 0.6875   valid/acc: 0.5000\n",
      "Epoch 284:  train/loss: 0.5821   valid/loss: 0.6505   train/acc: 0.7500   valid/acc: 0.5000\n",
      "Epoch 285:  train/loss: 0.5756   valid/loss: 0.6508   train/acc: 0.7500   valid/acc: 0.5000\n",
      "Epoch 286:  train/loss: 0.5883   valid/loss: 0.6500   train/acc: 0.7656   valid/acc: 0.5000\n",
      "Epoch 287:  train/loss: 0.5899   valid/loss: 0.6496   train/acc: 0.7812   valid/acc: 0.5000\n",
      "Epoch 288:  train/loss: 0.5803   valid/loss: 0.6497   train/acc: 0.7500   valid/acc: 0.5000\n",
      "Epoch 289:  train/loss: 0.5678   valid/loss: 0.6493   train/acc: 0.7344   valid/acc: 0.5000\n",
      "Epoch 290:  train/loss: 0.5737   valid/loss: 0.6490   train/acc: 0.7656   valid/acc: 0.5000\n",
      "Epoch 291:  train/loss: 0.5918   valid/loss: 0.6475   train/acc: 0.7969   valid/acc: 0.5000\n",
      "Epoch 292:  train/loss: 0.5879   valid/loss: 0.6472   train/acc: 0.7656   valid/acc: 0.5000\n",
      "Epoch 293:  train/loss: 0.5552   valid/loss: 0.6479   train/acc: 0.8125   valid/acc: 0.5000\n",
      "Epoch 294:  train/loss: 0.6095   valid/loss: 0.6460   train/acc: 0.6250   valid/acc: 0.5000\n",
      "Epoch 295:  train/loss: 0.5708   valid/loss: 0.6455   train/acc: 0.7656   valid/acc: 0.5000\n",
      "Epoch 296:  train/loss: 0.5898   valid/loss: 0.6445   train/acc: 0.6250   valid/acc: 0.5000\n",
      "Epoch 297:  train/loss: 0.5802   valid/loss: 0.6454   train/acc: 0.7344   valid/acc: 0.5000\n",
      "Epoch 298:  train/loss: 0.5693   valid/loss: 0.6443   train/acc: 0.7500   valid/acc: 0.5000\n",
      "Epoch 299:  train/loss: 0.5723   valid/loss: 0.6441   train/acc: 0.7188   valid/acc: 0.5000\n",
      "Epoch 300:  train/loss: 0.5679   valid/loss: 0.6447   train/acc: 0.7344   valid/acc: 0.5000\n",
      "Epoch 301:  train/loss: 0.5771   valid/loss: 0.6444   train/acc: 0.7188   valid/acc: 0.5000\n",
      "Epoch 302:  train/loss: 0.5733   valid/loss: 0.6434   train/acc: 0.7812   valid/acc: 0.5000\n",
      "Epoch 303:  train/loss: 0.5914   valid/loss: 0.6448   train/acc: 0.7031   valid/acc: 0.5000\n",
      "Epoch 304:  train/loss: 0.5692   valid/loss: 0.6432   train/acc: 0.7500   valid/acc: 0.5000\n",
      "Epoch 305:  train/loss: 0.5686   valid/loss: 0.6425   train/acc: 0.7188   valid/acc: 0.5000\n",
      "Epoch 306:  train/loss: 0.5960   valid/loss: 0.6422   train/acc: 0.7656   valid/acc: 0.5000\n",
      "Epoch 307:  train/loss: 0.5932   valid/loss: 0.6419   train/acc: 0.7500   valid/acc: 0.5000\n",
      "Epoch 308:  train/loss: 0.5897   valid/loss: 0.6421   train/acc: 0.7500   valid/acc: 0.5000\n",
      "Epoch 309:  train/loss: 0.5604   valid/loss: 0.6413   train/acc: 0.6875   valid/acc: 0.5000\n",
      "Epoch 310:  train/loss: 0.5779   valid/loss: 0.6392   train/acc: 0.7500   valid/acc: 0.5000\n",
      "Epoch 311:  train/loss: 0.5988   valid/loss: 0.6383   train/acc: 0.7344   valid/acc: 0.5000\n",
      "Epoch 312:  train/loss: 0.5551   valid/loss: 0.6395   train/acc: 0.7812   valid/acc: 0.5000\n",
      "Epoch 313:  train/loss: 0.5869   valid/loss: 0.6398   train/acc: 0.7500   valid/acc: 0.5000\n",
      "Epoch 314:  train/loss: 0.5659   valid/loss: 0.6405   train/acc: 0.7500   valid/acc: 0.5000\n",
      "Epoch 315:  train/loss: 0.5765   valid/loss: 0.6404   train/acc: 0.7500   valid/acc: 0.5000\n",
      "Epoch 316:  train/loss: 0.5886   valid/loss: 0.6407   train/acc: 0.7031   valid/acc: 0.5000\n",
      "Epoch 317:  train/loss: 0.5808   valid/loss: 0.6398   train/acc: 0.7344   valid/acc: 0.5000\n",
      "Epoch 318:  train/loss: 0.5852   valid/loss: 0.6392   train/acc: 0.7344   valid/acc: 0.5000\n",
      "Epoch 319:  train/loss: 0.5789   valid/loss: 0.6379   train/acc: 0.7812   valid/acc: 0.5000\n",
      "Epoch 320:  train/loss: 0.5617   valid/loss: 0.6357   train/acc: 0.7656   valid/acc: 0.6250\n",
      "Epoch 321:  train/loss: 0.5811   valid/loss: 0.6368   train/acc: 0.7969   valid/acc: 0.6250\n",
      "Epoch 322:  train/loss: 0.5849   valid/loss: 0.6365   train/acc: 0.7656   valid/acc: 0.6250\n",
      "Epoch 323:  train/loss: 0.5679   valid/loss: 0.6291   train/acc: 0.7500   valid/acc: 0.6250\n",
      "Epoch 324:  train/loss: 0.5956   valid/loss: 0.6260   train/acc: 0.7031   valid/acc: 0.6250\n",
      "Epoch 325:  train/loss: 0.5908   valid/loss: 0.6250   train/acc: 0.7188   valid/acc: 0.6250\n",
      "Epoch 326:  train/loss: 0.5772   valid/loss: 0.6263   train/acc: 0.7344   valid/acc: 0.6250\n",
      "Epoch 327:  train/loss: 0.5691   valid/loss: 0.6266   train/acc: 0.7656   valid/acc: 0.6250\n",
      "Epoch 328:  train/loss: 0.5643   valid/loss: 0.6273   train/acc: 0.7344   valid/acc: 0.6250\n",
      "Epoch 329:  train/loss: 0.5716   valid/loss: 0.6266   train/acc: 0.7656   valid/acc: 0.6250\n",
      "Epoch 330:  train/loss: 0.5623   valid/loss: 0.6265   train/acc: 0.7188   valid/acc: 0.6250\n",
      "Epoch 331:  train/loss: 0.5646   valid/loss: 0.6251   train/acc: 0.7812   valid/acc: 0.6250\n",
      "Epoch 332:  train/loss: 0.5504   valid/loss: 0.6257   train/acc: 0.7656   valid/acc: 0.6250\n",
      "Epoch 333:  train/loss: 0.5605   valid/loss: 0.6247   train/acc: 0.8281   valid/acc: 0.6250\n",
      "Epoch 334:  train/loss: 0.5799   valid/loss: 0.6271   train/acc: 0.7656   valid/acc: 0.6875\n",
      "Epoch 335:  train/loss: 0.5675   valid/loss: 0.6224   train/acc: 0.7812   valid/acc: 0.6875\n",
      "Epoch 336:  train/loss: 0.5489   valid/loss: 0.6226   train/acc: 0.7500   valid/acc: 0.6875\n",
      "Epoch 337:  train/loss: 0.5622   valid/loss: 0.6208   train/acc: 0.7500   valid/acc: 0.6875\n",
      "Epoch 338:  train/loss: 0.5836   valid/loss: 0.6212   train/acc: 0.7500   valid/acc: 0.6875\n",
      "Epoch 339:  train/loss: 0.5673   valid/loss: 0.6190   train/acc: 0.7656   valid/acc: 0.6875\n",
      "Epoch 340:  train/loss: 0.5602   valid/loss: 0.6180   train/acc: 0.7656   valid/acc: 0.6875\n",
      "Epoch 341:  train/loss: 0.5585   valid/loss: 0.6177   train/acc: 0.7656   valid/acc: 0.6875\n",
      "Epoch 342:  train/loss: 0.5602   valid/loss: 0.6181   train/acc: 0.7812   valid/acc: 0.7500\n",
      "Epoch 343:  train/loss: 0.5639   valid/loss: 0.6188   train/acc: 0.7500   valid/acc: 0.7500\n",
      "Epoch 344:  train/loss: 0.5506   valid/loss: 0.6176   train/acc: 0.7031   valid/acc: 0.7500\n",
      "Epoch 345:  train/loss: 0.5735   valid/loss: 0.6175   train/acc: 0.7656   valid/acc: 0.7500\n",
      "Epoch 346:  train/loss: 0.5833   valid/loss: 0.6177   train/acc: 0.7500   valid/acc: 0.7500\n",
      "Epoch 347:  train/loss: 0.5393   valid/loss: 0.6175   train/acc: 0.8594   valid/acc: 0.6875\n",
      "Epoch 348:  train/loss: 0.5193   valid/loss: 0.6171   train/acc: 0.8594   valid/acc: 0.6875\n",
      "Epoch 349:  train/loss: 0.5717   valid/loss: 0.6155   train/acc: 0.8750   valid/acc: 0.6875\n",
      "Epoch 350:  train/loss: 0.5461   valid/loss: 0.6135   train/acc: 0.7344   valid/acc: 0.6875\n",
      "Epoch 351:  train/loss: 0.5680   valid/loss: 0.6138   train/acc: 0.8438   valid/acc: 0.6875\n",
      "Epoch 352:  train/loss: 0.5388   valid/loss: 0.6137   train/acc: 0.7500   valid/acc: 0.6875\n",
      "Epoch 353:  train/loss: 0.5778   valid/loss: 0.6141   train/acc: 0.7500   valid/acc: 0.6875\n",
      "Epoch 354:  train/loss: 0.5576   valid/loss: 0.6136   train/acc: 0.7812   valid/acc: 0.6875\n",
      "Epoch 355:  train/loss: 0.5562   valid/loss: 0.6126   train/acc: 0.7344   valid/acc: 0.6875\n",
      "Epoch 356:  train/loss: 0.5771   valid/loss: 0.6085   train/acc: 0.7656   valid/acc: 0.6875\n",
      "Epoch 357:  train/loss: 0.5488   valid/loss: 0.6080   train/acc: 0.7812   valid/acc: 0.6875\n",
      "Epoch 358:  train/loss: 0.5559   valid/loss: 0.6081   train/acc: 0.7812   valid/acc: 0.6875\n",
      "Epoch 359:  train/loss: 0.5455   valid/loss: 0.6085   train/acc: 0.7656   valid/acc: 0.6875\n",
      "Epoch 360:  train/loss: 0.5345   valid/loss: 0.6082   train/acc: 0.7969   valid/acc: 0.6875\n",
      "Epoch 361:  train/loss: 0.5670   valid/loss: 0.6096   train/acc: 0.7656   valid/acc: 0.6875\n",
      "Epoch 362:  train/loss: 0.5660   valid/loss: 0.6063   train/acc: 0.7812   valid/acc: 0.6875\n",
      "Epoch 363:  train/loss: 0.5704   valid/loss: 0.6060   train/acc: 0.7344   valid/acc: 0.6875\n",
      "Epoch 364:  train/loss: 0.5472   valid/loss: 0.6068   train/acc: 0.8125   valid/acc: 0.6875\n",
      "Epoch 365:  train/loss: 0.5621   valid/loss: 0.6057   train/acc: 0.7500   valid/acc: 0.6875\n",
      "Epoch 366:  train/loss: 0.5487   valid/loss: 0.6065   train/acc: 0.7812   valid/acc: 0.6875\n",
      "Epoch 367:  train/loss: 0.5465   valid/loss: 0.6076   train/acc: 0.7188   valid/acc: 0.6875\n",
      "Epoch 368:  train/loss: 0.5749   valid/loss: 0.6062   train/acc: 0.8281   valid/acc: 0.6875\n",
      "Epoch 369:  train/loss: 0.5577   valid/loss: 0.6058   train/acc: 0.7969   valid/acc: 0.6875\n",
      "Epoch 370:  train/loss: 0.5480   valid/loss: 0.6066   train/acc: 0.8281   valid/acc: 0.6875\n",
      "Epoch 371:  train/loss: 0.5743   valid/loss: 0.6061   train/acc: 0.8125   valid/acc: 0.6875\n",
      "Epoch 372:  train/loss: 0.5529   valid/loss: 0.6055   train/acc: 0.7344   valid/acc: 0.6875\n",
      "Epoch 373:  train/loss: 0.5533   valid/loss: 0.6061   train/acc: 0.7656   valid/acc: 0.6875\n",
      "Epoch 374:  train/loss: 0.5619   valid/loss: 0.6068   train/acc: 0.7969   valid/acc: 0.6875\n",
      "Epoch 375:  train/loss: 0.5431   valid/loss: 0.6063   train/acc: 0.7969   valid/acc: 0.6875\n",
      "Epoch 376:  train/loss: 0.5250   valid/loss: 0.6057   train/acc: 0.7656   valid/acc: 0.6875\n",
      "Epoch 377:  train/loss: 0.5482   valid/loss: 0.6063   train/acc: 0.7969   valid/acc: 0.6875\n",
      "Epoch 378:  train/loss: 0.5188   valid/loss: 0.6055   train/acc: 0.7031   valid/acc: 0.6875\n",
      "Epoch 379:  train/loss: 0.5711   valid/loss: 0.6057   train/acc: 0.7500   valid/acc: 0.6875\n",
      "Epoch 380:  train/loss: 0.5527   valid/loss: 0.6073   train/acc: 0.8281   valid/acc: 0.6875\n",
      "Epoch 381:  train/loss: 0.5517   valid/loss: 0.6084   train/acc: 0.7344   valid/acc: 0.6875\n",
      "Epoch 382:  train/loss: 0.5413   valid/loss: 0.6084   train/acc: 0.8125   valid/acc: 0.6875\n",
      "Epoch 383:  train/loss: 0.5491   valid/loss: 0.6086   train/acc: 0.7812   valid/acc: 0.6875\n",
      "Epoch 384:  train/loss: 0.5429   valid/loss: 0.6083   train/acc: 0.8750   valid/acc: 0.6875\n",
      "Epoch 385:  train/loss: 0.5541   valid/loss: 0.6072   train/acc: 0.7656   valid/acc: 0.6875\n",
      "Epoch 386:  train/loss: 0.5435   valid/loss: 0.6084   train/acc: 0.7969   valid/acc: 0.6875\n",
      "Epoch 387:  train/loss: 0.5427   valid/loss: 0.6096   train/acc: 0.8281   valid/acc: 0.6875\n",
      "Epoch 388:  train/loss: 0.5644   valid/loss: 0.6103   train/acc: 0.7812   valid/acc: 0.6875\n",
      "Epoch 389:  train/loss: 0.5425   valid/loss: 0.6093   train/acc: 0.7344   valid/acc: 0.6875\n",
      "Epoch 390:  train/loss: 0.5543   valid/loss: 0.6102   train/acc: 0.7656   valid/acc: 0.6875\n",
      "Epoch 391:  train/loss: 0.5358   valid/loss: 0.6093   train/acc: 0.8594   valid/acc: 0.6875\n",
      "Epoch 392:  train/loss: 0.5479   valid/loss: 0.6085   train/acc: 0.8281   valid/acc: 0.6875\n",
      "Epoch 393:  train/loss: 0.5333   valid/loss: 0.6071   train/acc: 0.8281   valid/acc: 0.6875\n",
      "Epoch 394:  train/loss: 0.5477   valid/loss: 0.6068   train/acc: 0.8125   valid/acc: 0.6875\n",
      "Epoch 395:  train/loss: 0.5565   valid/loss: 0.6064   train/acc: 0.8125   valid/acc: 0.6875\n",
      "Epoch 396:  train/loss: 0.5591   valid/loss: 0.6075   train/acc: 0.7969   valid/acc: 0.6875\n",
      "Epoch 397:  train/loss: 0.5738   valid/loss: 0.6037   train/acc: 0.7812   valid/acc: 0.6875\n",
      "Epoch 398:  train/loss: 0.5094   valid/loss: 0.6031   train/acc: 0.8125   valid/acc: 0.6875\n",
      "Epoch 399:  train/loss: 0.5717   valid/loss: 0.6039   train/acc: 0.8281   valid/acc: 0.6875\n",
      "Epoch 400:  train/loss: 0.5370   valid/loss: 0.6000   train/acc: 0.8594   valid/acc: 0.6875\n",
      "Epoch 401:  train/loss: 0.5231   valid/loss: 0.6025   train/acc: 0.7969   valid/acc: 0.6875\n",
      "Epoch 402:  train/loss: 0.5560   valid/loss: 0.6032   train/acc: 0.8281   valid/acc: 0.6875\n",
      "Epoch 403:  train/loss: 0.5471   valid/loss: 0.6027   train/acc: 0.7969   valid/acc: 0.6875\n",
      "Epoch 404:  train/loss: 0.5333   valid/loss: 0.6014   train/acc: 0.7969   valid/acc: 0.6875\n",
      "Epoch 405:  train/loss: 0.5288   valid/loss: 0.6004   train/acc: 0.8125   valid/acc: 0.6875\n",
      "Epoch 406:  train/loss: 0.5510   valid/loss: 0.6013   train/acc: 0.8125   valid/acc: 0.6875\n",
      "Epoch 407:  train/loss: 0.5507   valid/loss: 0.6010   train/acc: 0.8594   valid/acc: 0.6875\n",
      "Epoch 408:  train/loss: 0.5349   valid/loss: 0.6034   train/acc: 0.7812   valid/acc: 0.6875\n",
      "Epoch 409:  train/loss: 0.5521   valid/loss: 0.6046   train/acc: 0.8438   valid/acc: 0.6875\n",
      "Epoch 410:  train/loss: 0.5478   valid/loss: 0.6096   train/acc: 0.7656   valid/acc: 0.6875\n",
      "Epoch 411:  train/loss: 0.5339   valid/loss: 0.6097   train/acc: 0.8750   valid/acc: 0.6875\n",
      "Epoch 412:  train/loss: 0.5383   valid/loss: 0.6097   train/acc: 0.8906   valid/acc: 0.6875\n",
      "Epoch 413:  train/loss: 0.5455   valid/loss: 0.6142   train/acc: 0.8594   valid/acc: 0.6875\n",
      "Epoch 414:  train/loss: 0.5477   valid/loss: 0.6136   train/acc: 0.8438   valid/acc: 0.6875\n",
      "Epoch 415:  train/loss: 0.5193   valid/loss: 0.6142   train/acc: 0.8750   valid/acc: 0.6875\n",
      "Epoch 416:  train/loss: 0.5231   valid/loss: 0.6143   train/acc: 0.7969   valid/acc: 0.6875\n",
      "Epoch 417:  train/loss: 0.5200   valid/loss: 0.6141   train/acc: 0.8594   valid/acc: 0.6875\n",
      "Epoch 418:  train/loss: 0.5290   valid/loss: 0.6135   train/acc: 0.8281   valid/acc: 0.6875\n",
      "Epoch 419:  train/loss: 0.5315   valid/loss: 0.6119   train/acc: 0.8750   valid/acc: 0.6875\n",
      "Epoch 420:  train/loss: 0.5249   valid/loss: 0.6060   train/acc: 0.8906   valid/acc: 0.6875\n",
      "Epoch 421:  train/loss: 0.5377   valid/loss: 0.6027   train/acc: 0.7969   valid/acc: 0.6875\n",
      "Epoch 422:  train/loss: 0.5387   valid/loss: 0.6044   train/acc: 0.8125   valid/acc: 0.6875\n",
      "Epoch 423:  train/loss: 0.5153   valid/loss: 0.6030   train/acc: 0.8906   valid/acc: 0.6875\n",
      "Epoch 424:  train/loss: 0.5265   valid/loss: 0.6026   train/acc: 0.8438   valid/acc: 0.6875\n",
      "Epoch 425:  train/loss: 0.5201   valid/loss: 0.6039   train/acc: 0.8750   valid/acc: 0.6875\n",
      "Epoch 426:  train/loss: 0.5357   valid/loss: 0.6022   train/acc: 0.8438   valid/acc: 0.6875\n",
      "Epoch 427:  train/loss: 0.5390   valid/loss: 0.6007   train/acc: 0.8594   valid/acc: 0.6875\n",
      "Epoch 428:  train/loss: 0.5261   valid/loss: 0.5981   train/acc: 0.8594   valid/acc: 0.6875\n",
      "Epoch 429:  train/loss: 0.5111   valid/loss: 0.5997   train/acc: 0.8750   valid/acc: 0.8125\n",
      "Epoch 430:  train/loss: 0.5658   valid/loss: 0.6046   train/acc: 0.7344   valid/acc: 0.6875\n",
      "Epoch 431:  train/loss: 0.5430   valid/loss: 0.6040   train/acc: 0.8594   valid/acc: 0.6875\n",
      "Epoch 432:  train/loss: 0.5298   valid/loss: 0.6055   train/acc: 0.8594   valid/acc: 0.6875\n",
      "Epoch 433:  train/loss: 0.5338   valid/loss: 0.6071   train/acc: 0.8438   valid/acc: 0.6875\n",
      "Epoch 434:  train/loss: 0.5432   valid/loss: 0.6024   train/acc: 0.8594   valid/acc: 0.6875\n",
      "Epoch 435:  train/loss: 0.5272   valid/loss: 0.6025   train/acc: 0.8281   valid/acc: 0.6875\n",
      "Epoch 436:  train/loss: 0.5215   valid/loss: 0.5974   train/acc: 0.8750   valid/acc: 0.8125\n",
      "Epoch 437:  train/loss: 0.5279   valid/loss: 0.5971   train/acc: 0.8281   valid/acc: 0.8125\n",
      "Epoch 438:  train/loss: 0.5172   valid/loss: 0.6070   train/acc: 0.9062   valid/acc: 0.8125\n",
      "Epoch 439:  train/loss: 0.5015   valid/loss: 0.6068   train/acc: 0.8438   valid/acc: 0.8125\n",
      "Epoch 440:  train/loss: 0.5267   valid/loss: 0.6064   train/acc: 0.8594   valid/acc: 0.8125\n",
      "Epoch 441:  train/loss: 0.5202   valid/loss: 0.6082   train/acc: 0.8750   valid/acc: 0.8125\n",
      "Epoch 442:  train/loss: 0.5341   valid/loss: 0.6081   train/acc: 0.7969   valid/acc: 0.8125\n",
      "Epoch 443:  train/loss: 0.4995   valid/loss: 0.6144   train/acc: 0.8594   valid/acc: 0.8125\n",
      "Epoch 444:  train/loss: 0.5355   valid/loss: 0.6164   train/acc: 0.8281   valid/acc: 0.8125\n",
      "Epoch 445:  train/loss: 0.5516   valid/loss: 0.6234   train/acc: 0.8438   valid/acc: 0.6875\n",
      "Epoch 446:  train/loss: 0.5147   valid/loss: 0.6236   train/acc: 0.8438   valid/acc: 0.6875\n",
      "Epoch 447:  train/loss: 0.4990   valid/loss: 0.6250   train/acc: 0.8750   valid/acc: 0.8125\n",
      "Epoch 448:  train/loss: 0.5519   valid/loss: 0.6268   train/acc: 0.8750   valid/acc: 0.6875\n",
      "Epoch 449:  train/loss: 0.5205   valid/loss: 0.6098   train/acc: 0.7969   valid/acc: 0.6875\n",
      "Epoch 450:  train/loss: 0.4992   valid/loss: 0.6072   train/acc: 0.8906   valid/acc: 0.8125\n",
      "Epoch 451:  train/loss: 0.5088   valid/loss: 0.6066   train/acc: 0.8750   valid/acc: 0.8125\n",
      "Epoch 452:  train/loss: 0.5218   valid/loss: 0.6086   train/acc: 0.8438   valid/acc: 0.8125\n",
      "Epoch 453:  train/loss: 0.5385   valid/loss: 0.6077   train/acc: 0.8438   valid/acc: 0.8125\n",
      "Epoch 454:  train/loss: 0.5085   valid/loss: 0.6122   train/acc: 0.8125   valid/acc: 0.8125\n",
      "Epoch 455:  train/loss: 0.5099   valid/loss: 0.6112   train/acc: 0.8906   valid/acc: 0.8125\n",
      "Epoch 456:  train/loss: 0.5178   valid/loss: 0.6044   train/acc: 0.8906   valid/acc: 0.8125\n",
      "Epoch 457:  train/loss: 0.5139   valid/loss: 0.6033   train/acc: 0.8125   valid/acc: 0.8125\n",
      "Epoch 458:  train/loss: 0.5334   valid/loss: 0.6043   train/acc: 0.8438   valid/acc: 0.8125\n",
      "Epoch 459:  train/loss: 0.5213   valid/loss: 0.6047   train/acc: 0.8594   valid/acc: 0.8125\n",
      "Epoch 460:  train/loss: 0.5400   valid/loss: 0.6007   train/acc: 0.8281   valid/acc: 0.8125\n",
      "Epoch 461:  train/loss: 0.5282   valid/loss: 0.5982   train/acc: 0.8125   valid/acc: 0.8125\n",
      "Epoch 462:  train/loss: 0.5106   valid/loss: 0.5961   train/acc: 0.9062   valid/acc: 0.8750\n",
      "Epoch 463:  train/loss: 0.5286   valid/loss: 0.5957   train/acc: 0.8906   valid/acc: 0.8750\n",
      "Epoch 464:  train/loss: 0.5091   valid/loss: 0.5949   train/acc: 0.8438   valid/acc: 0.8750\n",
      "Epoch 465:  train/loss: 0.4859   valid/loss: 0.5935   train/acc: 0.8438   valid/acc: 0.8750\n",
      "Epoch 466:  train/loss: 0.5096   valid/loss: 0.5920   train/acc: 0.8438   valid/acc: 0.8750\n",
      "Epoch 467:  train/loss: 0.5121   valid/loss: 0.5913   train/acc: 0.8125   valid/acc: 0.8750\n",
      "Epoch 468:  train/loss: 0.5273   valid/loss: 0.5879   train/acc: 0.7969   valid/acc: 0.8125\n",
      "Epoch 469:  train/loss: 0.5154   valid/loss: 0.5925   train/acc: 0.8438   valid/acc: 0.8125\n",
      "Epoch 470:  train/loss: 0.5282   valid/loss: 0.5878   train/acc: 0.8438   valid/acc: 0.8750\n",
      "Epoch 471:  train/loss: 0.5257   valid/loss: 0.5856   train/acc: 0.8281   valid/acc: 0.8750\n",
      "Epoch 472:  train/loss: 0.4947   valid/loss: 0.5852   train/acc: 0.8281   valid/acc: 0.8750\n",
      "Epoch 473:  train/loss: 0.5124   valid/loss: 0.5859   train/acc: 0.8750   valid/acc: 0.8750\n",
      "Epoch 474:  train/loss: 0.4927   valid/loss: 0.5880   train/acc: 0.8125   valid/acc: 0.8750\n",
      "Epoch 475:  train/loss: 0.5095   valid/loss: 0.5860   train/acc: 0.8125   valid/acc: 0.8750\n",
      "Epoch 476:  train/loss: 0.5201   valid/loss: 0.5863   train/acc: 0.8438   valid/acc: 0.8750\n",
      "Epoch 477:  train/loss: 0.4918   valid/loss: 0.5795   train/acc: 0.9375   valid/acc: 0.8750\n",
      "Epoch 478:  train/loss: 0.4681   valid/loss: 0.5794   train/acc: 0.9375   valid/acc: 0.8750\n",
      "Epoch 479:  train/loss: 0.4811   valid/loss: 0.5782   train/acc: 0.9219   valid/acc: 0.8750\n",
      "Epoch 480:  train/loss: 0.5113   valid/loss: 0.5786   train/acc: 0.9219   valid/acc: 0.8750\n",
      "Epoch 481:  train/loss: 0.4909   valid/loss: 0.5827   train/acc: 0.8594   valid/acc: 0.8750\n",
      "Epoch 482:  train/loss: 0.5047   valid/loss: 0.5837   train/acc: 0.8438   valid/acc: 0.8750\n",
      "Epoch 483:  train/loss: 0.5092   valid/loss: 0.5840   train/acc: 0.9219   valid/acc: 0.8750\n",
      "Epoch 484:  train/loss: 0.4901   valid/loss: 0.5821   train/acc: 0.8906   valid/acc: 0.8750\n",
      "Epoch 485:  train/loss: 0.4881   valid/loss: 0.5765   train/acc: 0.8906   valid/acc: 0.8750\n",
      "Epoch 486:  train/loss: 0.4893   valid/loss: 0.5760   train/acc: 0.9062   valid/acc: 0.8750\n",
      "Epoch 487:  train/loss: 0.5053   valid/loss: 0.5712   train/acc: 0.9219   valid/acc: 0.8750\n",
      "Epoch 488:  train/loss: 0.5294   valid/loss: 0.5696   train/acc: 0.8438   valid/acc: 0.8750\n",
      "Epoch 489:  train/loss: 0.4866   valid/loss: 0.5677   train/acc: 0.8281   valid/acc: 0.8750\n",
      "Epoch 490:  train/loss: 0.5318   valid/loss: 0.5701   train/acc: 0.9219   valid/acc: 0.8750\n",
      "Epoch 491:  train/loss: 0.5015   valid/loss: 0.5672   train/acc: 0.8906   valid/acc: 0.8750\n",
      "Epoch 492:  train/loss: 0.5045   valid/loss: 0.5720   train/acc: 0.8594   valid/acc: 0.8750\n",
      "Epoch 493:  train/loss: 0.4821   valid/loss: 0.5728   train/acc: 0.8906   valid/acc: 0.8750\n",
      "Epoch 494:  train/loss: 0.4794   valid/loss: 0.5726   train/acc: 0.9062   valid/acc: 0.8750\n",
      "Epoch 495:  train/loss: 0.5009   valid/loss: 0.5720   train/acc: 0.7812   valid/acc: 0.8750\n",
      "Epoch 496:  train/loss: 0.5043   valid/loss: 0.5733   train/acc: 0.8750   valid/acc: 0.8750\n",
      "Epoch 497:  train/loss: 0.5052   valid/loss: 0.5735   train/acc: 0.9062   valid/acc: 0.8750\n",
      "Epoch 498:  train/loss: 0.5308   valid/loss: 0.5723   train/acc: 0.8281   valid/acc: 0.8750\n",
      "Epoch 499:  train/loss: 0.5327   valid/loss: 0.5726   train/acc: 0.8125   valid/acc: 0.8750\n",
      "Epoch 500:  train/loss: 0.4610   valid/loss: 0.5739   train/acc: 0.9219   valid/acc: 0.8750\n",
      "\n",
      "Training completed!\n"
     ]
    }
   ],
   "source": [
    "npy_trainer.fit(train_dataset, val_dataset, evaluation_step=1, logging_step=1)"
   ]
  },
  {
   "cell_type": "code",
   "execution_count": null,
   "id": "a1ccbf27-28ed-4016-b85e-0bb71e50c07f",
   "metadata": {},
   "outputs": [],
   "source": [
    "fig, ((ax_tl, ax_tr), (ax_bl, ax_br)) = plt.subplots(2, 2,\n",
    "                                                     sharex=True,\n",
    "                                                     sharey=\"row\",\n",
    "                                                     figsize=(12, 12))\n",
    "\n",
    "ax_tl.set_title('Training set')\n",
    "ax_tr.set_title('Development set')\n",
    "ax_bl.set_xlabel('Iterations')\n",
    "ax_br.set_xlabel('Iterations')\n",
    "ax_bl.set_ylabel('Accuracy')\n",
    "ax_tl.set_ylabel('Loss')\n",
    "\n",
    "colours = iter(plt.rcParams['axes.prop_cycle'].by_key()['color'])\n",
    "ax_tl.plot(npy_trainer.train_epoch_costs[::], color=next(colours))\n",
    "ax_bl.plot(npy_trainer.train_results['acc'][::], color=next(colours))\n",
    "ax_tr.plot(npy_trainer.val_costs[::], color=next(colours))\n",
    "ax_br.plot(npy_trainer.val_results['acc'][::], color=next(colours))\n",
    "\n",
    "# print test accuracy\n",
    "test_acc = acc(npy_model(val_circuits), val_labels)\n",
    "print('Validation accuracy:', test_acc.item())"
   ]
  },
  {
   "cell_type": "code",
   "execution_count": 138,
   "id": "92ebccdc-6bab-4cf3-8fad-134b39235cfa",
   "metadata": {},
   "outputs": [
    {
     "name": "stderr",
     "output_type": "stream",
     "text": [
      "WARNING:absl:No GPU/TPU found, falling back to CPU. (Set TF_CPP_MIN_LOG_LEVEL=0 and rerun for more info.)\n",
      "Epoch 1:     train/loss: 0.6986   valid/loss: 0.7235   train/acc: 0.5469   valid/acc: 0.4375\n",
      "Epoch 2:     train/loss: 0.6637   valid/loss: 0.7144   train/acc: 0.6094   valid/acc: 0.4375\n",
      "Epoch 3:     train/loss: 0.6678   valid/loss: 0.7142   train/acc: 0.6250   valid/acc: 0.4375\n",
      "Epoch 4:     train/loss: 0.6883   valid/loss: 0.7283   train/acc: 0.5938   valid/acc: 0.3750\n",
      "Epoch 5:     train/loss: 0.6708   valid/loss: 0.7284   train/acc: 0.5625   valid/acc: 0.3750\n",
      "Epoch 6:     train/loss: 0.6648   valid/loss: 0.7240   train/acc: 0.5625   valid/acc: 0.4375\n",
      "Epoch 7:     train/loss: 0.6582   valid/loss: 0.7254   train/acc: 0.5938   valid/acc: 0.4375\n",
      "Epoch 8:     train/loss: 0.6409   valid/loss: 0.7188   train/acc: 0.7031   valid/acc: 0.5000\n",
      "Epoch 9:     train/loss: 0.6551   valid/loss: 0.7153   train/acc: 0.5938   valid/acc: 0.5000\n",
      "Epoch 10:    train/loss: 0.6620   valid/loss: 0.7191   train/acc: 0.5781   valid/acc: 0.4375\n",
      "Epoch 11:    train/loss: 0.6497   valid/loss: 0.7178   train/acc: 0.6250   valid/acc: 0.4375\n",
      "Epoch 12:    train/loss: 0.6506   valid/loss: 0.7168   train/acc: 0.5625   valid/acc: 0.4375\n",
      "Epoch 13:    train/loss: 0.6353   valid/loss: 0.7205   train/acc: 0.6562   valid/acc: 0.4375\n",
      "Epoch 14:    train/loss: 0.6425   valid/loss: 0.7061   train/acc: 0.5938   valid/acc: 0.4375\n",
      "Epoch 15:    train/loss: 0.6358   valid/loss: 0.7050   train/acc: 0.7188   valid/acc: 0.4375\n",
      "Epoch 16:    train/loss: 0.6620   valid/loss: 0.6974   train/acc: 0.5781   valid/acc: 0.4375\n",
      "Epoch 17:    train/loss: 0.6592   valid/loss: 0.7153   train/acc: 0.6406   valid/acc: 0.4375\n",
      "Epoch 18:    train/loss: 0.6341   valid/loss: 0.7069   train/acc: 0.6094   valid/acc: 0.4375\n",
      "Epoch 19:    train/loss: 0.6148   valid/loss: 0.7157   train/acc: 0.6094   valid/acc: 0.4375\n",
      "Epoch 20:    train/loss: 0.6391   valid/loss: 0.6995   train/acc: 0.6406   valid/acc: 0.4375\n",
      "Epoch 21:    train/loss: 0.6326   valid/loss: 0.6991   train/acc: 0.6250   valid/acc: 0.4375\n",
      "Epoch 22:    train/loss: 0.5953   valid/loss: 0.7024   train/acc: 0.6406   valid/acc: 0.4375\n",
      "Epoch 23:    train/loss: 0.6330   valid/loss: 0.7098   train/acc: 0.6719   valid/acc: 0.4375\n",
      "Epoch 24:    train/loss: 0.6644   valid/loss: 0.7168   train/acc: 0.6719   valid/acc: 0.4375\n",
      "Epoch 25:    train/loss: 0.6244   valid/loss: 0.7491   train/acc: 0.6094   valid/acc: 0.5000\n",
      "Epoch 26:    train/loss: 0.6063   valid/loss: 0.7531   train/acc: 0.6875   valid/acc: 0.5000\n",
      "Epoch 27:    train/loss: 0.6206   valid/loss: 0.7578   train/acc: 0.6562   valid/acc: 0.5000\n",
      "Epoch 28:    train/loss: 0.6150   valid/loss: 0.7545   train/acc: 0.6562   valid/acc: 0.5000\n",
      "Epoch 29:    train/loss: 0.6307   valid/loss: 0.7465   train/acc: 0.6719   valid/acc: 0.5000\n",
      "Epoch 30:    train/loss: 0.6323   valid/loss: 0.7345   train/acc: 0.6562   valid/acc: 0.5000\n",
      "Epoch 31:    train/loss: 0.6280   valid/loss: 0.7422   train/acc: 0.6406   valid/acc: 0.5000\n",
      "Epoch 32:    train/loss: 0.6084   valid/loss: 0.7423   train/acc: 0.6562   valid/acc: 0.5000\n",
      "Epoch 33:    train/loss: 0.6193   valid/loss: 0.7411   train/acc: 0.7031   valid/acc: 0.4375\n",
      "Epoch 34:    train/loss: 0.6348   valid/loss: 0.7331   train/acc: 0.6406   valid/acc: 0.5000\n",
      "Epoch 35:    train/loss: 0.6363   valid/loss: 0.7357   train/acc: 0.6562   valid/acc: 0.5000\n",
      "Epoch 36:    train/loss: 0.6095   valid/loss: 0.7597   train/acc: 0.6719   valid/acc: 0.4375\n",
      "Epoch 37:    train/loss: 0.6297   valid/loss: 0.7639   train/acc: 0.6094   valid/acc: 0.4375\n",
      "Epoch 38:    train/loss: 0.5930   valid/loss: 0.7549   train/acc: 0.6719   valid/acc: 0.4375\n",
      "Epoch 39:    train/loss: 0.6021   valid/loss: 0.7519   train/acc: 0.6406   valid/acc: 0.5000\n",
      "Epoch 40:    train/loss: 0.6055   valid/loss: 0.7531   train/acc: 0.7031   valid/acc: 0.5000\n",
      "Epoch 41:    train/loss: 0.6104   valid/loss: 0.7445   train/acc: 0.5781   valid/acc: 0.5000\n",
      "Epoch 42:    train/loss: 0.5949   valid/loss: 0.7425   train/acc: 0.7031   valid/acc: 0.5000\n",
      "Epoch 43:    train/loss: 0.6056   valid/loss: 0.7366   train/acc: 0.6875   valid/acc: 0.4375\n",
      "Epoch 44:    train/loss: 0.6045   valid/loss: 0.7395   train/acc: 0.6719   valid/acc: 0.5000\n",
      "Epoch 45:    train/loss: 0.6303   valid/loss: 0.7469   train/acc: 0.6094   valid/acc: 0.5000\n",
      "Epoch 46:    train/loss: 0.6383   valid/loss: 0.7409   train/acc: 0.5781   valid/acc: 0.5000\n",
      "Epoch 47:    train/loss: 0.5857   valid/loss: 0.7440   train/acc: 0.6562   valid/acc: 0.5000\n",
      "Epoch 48:    train/loss: 0.6031   valid/loss: 0.7335   train/acc: 0.6406   valid/acc: 0.4375\n",
      "Epoch 49:    train/loss: 0.6276   valid/loss: 0.7288   train/acc: 0.6562   valid/acc: 0.4375\n",
      "Epoch 50:    train/loss: 0.6232   valid/loss: 0.7276   train/acc: 0.6094   valid/acc: 0.4375\n",
      "Epoch 51:    train/loss: 0.6040   valid/loss: 0.7271   train/acc: 0.6562   valid/acc: 0.4375\n",
      "Epoch 52:    train/loss: 0.5778   valid/loss: 0.7247   train/acc: 0.7344   valid/acc: 0.4375\n",
      "Epoch 53:    train/loss: 0.6070   valid/loss: 0.7208   train/acc: 0.6719   valid/acc: 0.4375\n",
      "Epoch 54:    train/loss: 0.5936   valid/loss: 0.7194   train/acc: 0.6875   valid/acc: 0.4375\n",
      "Epoch 55:    train/loss: 0.5940   valid/loss: 0.7218   train/acc: 0.6562   valid/acc: 0.4375\n",
      "Epoch 56:    train/loss: 0.5991   valid/loss: 0.7274   train/acc: 0.5781   valid/acc: 0.4375\n",
      "Epoch 57:    train/loss: 0.6045   valid/loss: 0.7188   train/acc: 0.6875   valid/acc: 0.4375\n",
      "Epoch 58:    train/loss: 0.5874   valid/loss: 0.7215   train/acc: 0.6562   valid/acc: 0.4375\n",
      "Epoch 59:    train/loss: 0.5831   valid/loss: 0.7207   train/acc: 0.7344   valid/acc: 0.4375\n",
      "Epoch 60:    train/loss: 0.5940   valid/loss: 0.7188   train/acc: 0.6875   valid/acc: 0.4375\n",
      "Epoch 61:    train/loss: 0.5988   valid/loss: 0.7107   train/acc: 0.6875   valid/acc: 0.4375\n",
      "Epoch 62:    train/loss: 0.6031   valid/loss: 0.7126   train/acc: 0.6719   valid/acc: 0.4375\n",
      "Epoch 63:    train/loss: 0.5818   valid/loss: 0.7185   train/acc: 0.7031   valid/acc: 0.4375\n",
      "Epoch 64:    train/loss: 0.5795   valid/loss: 0.7200   train/acc: 0.6406   valid/acc: 0.4375\n",
      "Epoch 65:    train/loss: 0.6050   valid/loss: 0.7191   train/acc: 0.6875   valid/acc: 0.4375\n",
      "Epoch 66:    train/loss: 0.5770   valid/loss: 0.7119   train/acc: 0.7344   valid/acc: 0.4375\n",
      "Epoch 67:    train/loss: 0.5892   valid/loss: 0.6976   train/acc: 0.7656   valid/acc: 0.4375\n",
      "Epoch 68:    train/loss: 0.5936   valid/loss: 0.6964   train/acc: 0.6719   valid/acc: 0.4375\n",
      "Epoch 69:    train/loss: 0.5945   valid/loss: 0.6892   train/acc: 0.6094   valid/acc: 0.5000\n",
      "Epoch 70:    train/loss: 0.5509   valid/loss: 0.6954   train/acc: 0.7500   valid/acc: 0.4375\n",
      "Epoch 71:    train/loss: 0.5891   valid/loss: 0.6989   train/acc: 0.7031   valid/acc: 0.4375\n",
      "Epoch 72:    train/loss: 0.5586   valid/loss: 0.6952   train/acc: 0.7188   valid/acc: 0.4375\n",
      "Epoch 73:    train/loss: 0.5768   valid/loss: 0.6873   train/acc: 0.7344   valid/acc: 0.4375\n",
      "Epoch 74:    train/loss: 0.6007   valid/loss: 0.6621   train/acc: 0.6719   valid/acc: 0.5000\n",
      "Epoch 75:    train/loss: 0.5602   valid/loss: 0.6625   train/acc: 0.7344   valid/acc: 0.5000\n",
      "Epoch 76:    train/loss: 0.5929   valid/loss: 0.6544   train/acc: 0.7656   valid/acc: 0.5625\n",
      "Epoch 77:    train/loss: 0.5769   valid/loss: 0.6568   train/acc: 0.7656   valid/acc: 0.5625\n",
      "Epoch 78:    train/loss: 0.5632   valid/loss: 0.6599   train/acc: 0.7031   valid/acc: 0.5625\n",
      "Epoch 79:    train/loss: 0.5351   valid/loss: 0.6560   train/acc: 0.7969   valid/acc: 0.5625\n",
      "Epoch 80:    train/loss: 0.5555   valid/loss: 0.6612   train/acc: 0.7812   valid/acc: 0.5625\n",
      "Epoch 81:    train/loss: 0.5448   valid/loss: 0.6615   train/acc: 0.7344   valid/acc: 0.5625\n",
      "Epoch 82:    train/loss: 0.5328   valid/loss: 0.6641   train/acc: 0.8125   valid/acc: 0.5625\n",
      "Epoch 83:    train/loss: 0.5762   valid/loss: 0.6705   train/acc: 0.7344   valid/acc: 0.5625\n",
      "Epoch 84:    train/loss: 0.5420   valid/loss: 0.6800   train/acc: 0.7812   valid/acc: 0.5625\n",
      "Epoch 85:    train/loss: 0.5369   valid/loss: 0.6816   train/acc: 0.8438   valid/acc: 0.5625\n",
      "Epoch 86:    train/loss: 0.5323   valid/loss: 0.6902   train/acc: 0.8125   valid/acc: 0.5625\n",
      "Epoch 87:    train/loss: 0.5473   valid/loss: 0.7014   train/acc: 0.8438   valid/acc: 0.5625\n",
      "Epoch 88:    train/loss: 0.5519   valid/loss: 0.6999   train/acc: 0.7969   valid/acc: 0.5625\n",
      "Epoch 89:    train/loss: 0.5482   valid/loss: 0.6850   train/acc: 0.8281   valid/acc: 0.5625\n",
      "Epoch 90:    train/loss: 0.5499   valid/loss: 0.6842   train/acc: 0.7969   valid/acc: 0.5625\n",
      "Epoch 91:    train/loss: 0.5125   valid/loss: 0.6765   train/acc: 0.8438   valid/acc: 0.5625\n",
      "Epoch 92:    train/loss: 0.5280   valid/loss: 0.6671   train/acc: 0.8594   valid/acc: 0.5625\n",
      "Epoch 93:    train/loss: 0.5192   valid/loss: 0.6658   train/acc: 0.8906   valid/acc: 0.5625\n",
      "Epoch 94:    train/loss: 0.5462   valid/loss: 0.6639   train/acc: 0.7656   valid/acc: 0.5625\n",
      "Epoch 95:    train/loss: 0.5717   valid/loss: 0.6428   train/acc: 0.7031   valid/acc: 0.5625\n",
      "Epoch 96:    train/loss: 0.5268   valid/loss: 0.6469   train/acc: 0.7812   valid/acc: 0.5625\n",
      "Epoch 97:    train/loss: 0.5398   valid/loss: 0.6429   train/acc: 0.8125   valid/acc: 0.5625\n",
      "Epoch 98:    train/loss: 0.4958   valid/loss: 0.6286   train/acc: 0.8594   valid/acc: 0.5625\n",
      "Epoch 99:    train/loss: 0.5246   valid/loss: 0.6306   train/acc: 0.8438   valid/acc: 0.5625\n",
      "Epoch 100:   train/loss: 0.4920   valid/loss: 0.6287   train/acc: 0.8438   valid/acc: 0.5625\n",
      "Epoch 101:   train/loss: 0.4996   valid/loss: 0.6235   train/acc: 0.8594   valid/acc: 0.5625\n",
      "Epoch 102:   train/loss: 0.5182   valid/loss: 0.6141   train/acc: 0.8750   valid/acc: 0.5625\n",
      "Epoch 103:   train/loss: 0.5089   valid/loss: 0.6161   train/acc: 0.8438   valid/acc: 0.5625\n",
      "Epoch 104:   train/loss: 0.5028   valid/loss: 0.6067   train/acc: 0.8750   valid/acc: 0.5625\n",
      "Epoch 105:   train/loss: 0.5238   valid/loss: 0.6002   train/acc: 0.8438   valid/acc: 0.5625\n",
      "Epoch 106:   train/loss: 0.5065   valid/loss: 0.6005   train/acc: 0.8750   valid/acc: 0.5625\n",
      "Epoch 107:   train/loss: 0.5492   valid/loss: 0.5963   train/acc: 0.7500   valid/acc: 0.5625\n",
      "Epoch 108:   train/loss: 0.5190   valid/loss: 0.5910   train/acc: 0.8750   valid/acc: 0.5625\n",
      "Epoch 109:   train/loss: 0.5250   valid/loss: 0.5830   train/acc: 0.8750   valid/acc: 0.5625\n",
      "Epoch 110:   train/loss: 0.5008   valid/loss: 0.5802   train/acc: 0.8906   valid/acc: 0.5625\n",
      "Epoch 111:   train/loss: 0.5318   valid/loss: 0.5579   train/acc: 0.8750   valid/acc: 0.5625\n",
      "Epoch 112:   train/loss: 0.5118   valid/loss: 0.5592   train/acc: 0.9062   valid/acc: 0.5625\n",
      "Epoch 113:   train/loss: 0.4999   valid/loss: 0.5593   train/acc: 0.8594   valid/acc: 0.5625\n",
      "Epoch 114:   train/loss: 0.5221   valid/loss: 0.5542   train/acc: 0.9062   valid/acc: 0.5625\n",
      "Epoch 115:   train/loss: 0.4911   valid/loss: 0.5533   train/acc: 0.8438   valid/acc: 0.5625\n",
      "Epoch 116:   train/loss: 0.5073   valid/loss: 0.5537   train/acc: 0.8906   valid/acc: 0.5625\n",
      "Epoch 117:   train/loss: 0.5194   valid/loss: 0.5580   train/acc: 0.8125   valid/acc: 0.5625\n",
      "Epoch 118:   train/loss: 0.4744   valid/loss: 0.5607   train/acc: 0.9375   valid/acc: 0.5625\n",
      "Epoch 119:   train/loss: 0.5350   valid/loss: 0.5645   train/acc: 0.8750   valid/acc: 0.5625\n",
      "Epoch 120:   train/loss: 0.4774   valid/loss: 0.5665   train/acc: 0.9219   valid/acc: 0.5625\n",
      "Epoch 121:   train/loss: 0.4994   valid/loss: 0.5649   train/acc: 0.8906   valid/acc: 0.5625\n",
      "Epoch 122:   train/loss: 0.4852   valid/loss: 0.5669   train/acc: 0.9062   valid/acc: 0.5625\n",
      "Epoch 123:   train/loss: 0.4566   valid/loss: 0.5675   train/acc: 0.9219   valid/acc: 0.5625\n",
      "Epoch 124:   train/loss: 0.4917   valid/loss: 0.5603   train/acc: 0.9219   valid/acc: 0.5625\n",
      "Epoch 125:   train/loss: 0.4716   valid/loss: 0.5466   train/acc: 0.9219   valid/acc: 0.5625\n",
      "Epoch 126:   train/loss: 0.4859   valid/loss: 0.5446   train/acc: 0.9531   valid/acc: 0.5625\n",
      "Epoch 127:   train/loss: 0.4724   valid/loss: 0.5348   train/acc: 0.9062   valid/acc: 0.5625\n",
      "Epoch 128:   train/loss: 0.4456   valid/loss: 0.5354   train/acc: 0.9219   valid/acc: 0.5625\n",
      "Epoch 129:   train/loss: 0.4614   valid/loss: 0.5358   train/acc: 0.9219   valid/acc: 0.5625\n",
      "Epoch 130:   train/loss: 0.4733   valid/loss: 0.5372   train/acc: 0.9062   valid/acc: 0.5625\n",
      "Epoch 131:   train/loss: 0.4815   valid/loss: 0.5329   train/acc: 0.8594   valid/acc: 0.5625\n",
      "Epoch 132:   train/loss: 0.4681   valid/loss: 0.5371   train/acc: 0.8750   valid/acc: 0.5625\n",
      "Epoch 133:   train/loss: 0.4829   valid/loss: 0.5384   train/acc: 0.9219   valid/acc: 0.5625\n",
      "Epoch 134:   train/loss: 0.4718   valid/loss: 0.5370   train/acc: 0.9531   valid/acc: 0.5625\n",
      "Epoch 135:   train/loss: 0.5053   valid/loss: 0.5442   train/acc: 0.8906   valid/acc: 0.5625\n",
      "Epoch 136:   train/loss: 0.4929   valid/loss: 0.5405   train/acc: 0.9375   valid/acc: 0.5625\n",
      "Epoch 137:   train/loss: 0.4851   valid/loss: 0.5385   train/acc: 0.9062   valid/acc: 0.5625\n",
      "Epoch 138:   train/loss: 0.4468   valid/loss: 0.5399   train/acc: 0.8750   valid/acc: 0.5625\n",
      "Epoch 139:   train/loss: 0.4351   valid/loss: 0.5334   train/acc: 0.9219   valid/acc: 0.5625\n",
      "Epoch 140:   train/loss: 0.4665   valid/loss: 0.5284   train/acc: 0.9219   valid/acc: 0.5625\n",
      "Epoch 141:   train/loss: 0.4709   valid/loss: 0.5274   train/acc: 0.9219   valid/acc: 0.5625\n",
      "Epoch 142:   train/loss: 0.4524   valid/loss: 0.5115   train/acc: 0.9375   valid/acc: 0.5625\n",
      "Epoch 143:   train/loss: 0.4685   valid/loss: 0.5113   train/acc: 0.9375   valid/acc: 0.5625\n",
      "Epoch 144:   train/loss: 0.4611   valid/loss: 0.5082   train/acc: 0.9219   valid/acc: 0.5625\n",
      "Epoch 145:   train/loss: 0.4708   valid/loss: 0.5090   train/acc: 0.9062   valid/acc: 0.5625\n",
      "Epoch 146:   train/loss: 0.5127   valid/loss: 0.5050   train/acc: 0.8594   valid/acc: 0.5625\n",
      "Epoch 147:   train/loss: 0.4749   valid/loss: 0.5049   train/acc: 0.8438   valid/acc: 0.5625\n",
      "Epoch 148:   train/loss: 0.4306   valid/loss: 0.5072   train/acc: 0.9219   valid/acc: 0.5625\n",
      "Epoch 149:   train/loss: 0.4526   valid/loss: 0.4979   train/acc: 0.9219   valid/acc: 0.5625\n",
      "Epoch 150:   train/loss: 0.4462   valid/loss: 0.4984   train/acc: 0.9219   valid/acc: 0.5625\n",
      "Epoch 151:   train/loss: 0.4347   valid/loss: 0.4971   train/acc: 0.9375   valid/acc: 0.5625\n",
      "Epoch 152:   train/loss: 0.4617   valid/loss: 0.4959   train/acc: 0.9375   valid/acc: 0.5625\n",
      "Epoch 153:   train/loss: 0.4455   valid/loss: 0.4942   train/acc: 0.9219   valid/acc: 0.5625\n",
      "Epoch 154:   train/loss: 0.4043   valid/loss: 0.4955   train/acc: 0.9219   valid/acc: 0.5625\n",
      "Epoch 155:   train/loss: 0.4339   valid/loss: 0.5045   train/acc: 0.9375   valid/acc: 0.5625\n",
      "Epoch 156:   train/loss: 0.4457   valid/loss: 0.5056   train/acc: 0.9062   valid/acc: 0.6250\n",
      "Epoch 157:   train/loss: 0.4328   valid/loss: 0.5083   train/acc: 0.9219   valid/acc: 0.5625\n",
      "Epoch 158:   train/loss: 0.4407   valid/loss: 0.5061   train/acc: 0.9062   valid/acc: 0.5625\n",
      "Epoch 159:   train/loss: 0.4264   valid/loss: 0.5058   train/acc: 0.9219   valid/acc: 0.5625\n",
      "Epoch 160:   train/loss: 0.4444   valid/loss: 0.5071   train/acc: 0.9375   valid/acc: 0.5625\n",
      "Epoch 161:   train/loss: 0.4870   valid/loss: 0.5033   train/acc: 0.8750   valid/acc: 0.5625\n",
      "Epoch 162:   train/loss: 0.4762   valid/loss: 0.5009   train/acc: 0.8750   valid/acc: 0.6250\n",
      "Epoch 163:   train/loss: 0.4242   valid/loss: 0.4962   train/acc: 0.9219   valid/acc: 0.6250\n",
      "Epoch 164:   train/loss: 0.4546   valid/loss: 0.4920   train/acc: 0.9375   valid/acc: 0.6875\n",
      "Epoch 165:   train/loss: 0.4404   valid/loss: 0.4845   train/acc: 0.9062   valid/acc: 0.6250\n",
      "Epoch 166:   train/loss: 0.4440   valid/loss: 0.4854   train/acc: 0.9062   valid/acc: 0.6875\n",
      "Epoch 167:   train/loss: 0.4374   valid/loss: 0.4826   train/acc: 0.9531   valid/acc: 0.6875\n",
      "Epoch 168:   train/loss: 0.4516   valid/loss: 0.4848   train/acc: 0.9062   valid/acc: 0.6875\n",
      "Epoch 169:   train/loss: 0.4414   valid/loss: 0.4786   train/acc: 0.9219   valid/acc: 0.6875\n",
      "Epoch 170:   train/loss: 0.4854   valid/loss: 0.4752   train/acc: 0.9062   valid/acc: 0.6875\n",
      "Epoch 171:   train/loss: 0.4399   valid/loss: 0.4738   train/acc: 0.9062   valid/acc: 0.6875\n",
      "Epoch 172:   train/loss: 0.4610   valid/loss: 0.4618   train/acc: 0.8906   valid/acc: 0.6250\n",
      "Epoch 173:   train/loss: 0.4029   valid/loss: 0.4620   train/acc: 0.8906   valid/acc: 0.6250\n",
      "Epoch 174:   train/loss: 0.4326   valid/loss: 0.4600   train/acc: 0.9219   valid/acc: 0.6875\n",
      "Epoch 175:   train/loss: 0.4133   valid/loss: 0.4586   train/acc: 0.9219   valid/acc: 0.6875\n",
      "Epoch 176:   train/loss: 0.4239   valid/loss: 0.4599   train/acc: 0.9219   valid/acc: 0.6875\n",
      "Epoch 177:   train/loss: 0.4327   valid/loss: 0.4558   train/acc: 0.9219   valid/acc: 0.8750\n",
      "Epoch 178:   train/loss: 0.4325   valid/loss: 0.4540   train/acc: 0.9219   valid/acc: 0.8750\n",
      "Epoch 179:   train/loss: 0.4255   valid/loss: 0.4544   train/acc: 0.9219   valid/acc: 0.8750\n",
      "Epoch 180:   train/loss: 0.4396   valid/loss: 0.4455   train/acc: 0.9219   valid/acc: 0.8750\n",
      "Epoch 181:   train/loss: 0.4056   valid/loss: 0.4464   train/acc: 0.9375   valid/acc: 0.8750\n",
      "Epoch 182:   train/loss: 0.3790   valid/loss: 0.4439   train/acc: 0.9219   valid/acc: 0.8750\n",
      "Epoch 183:   train/loss: 0.4368   valid/loss: 0.4330   train/acc: 0.9219   valid/acc: 0.8750\n",
      "Epoch 184:   train/loss: 0.4432   valid/loss: 0.4335   train/acc: 0.9531   valid/acc: 0.8750\n",
      "Epoch 185:   train/loss: 0.4136   valid/loss: 0.4246   train/acc: 0.9531   valid/acc: 0.8750\n",
      "Epoch 186:   train/loss: 0.3880   valid/loss: 0.4226   train/acc: 0.9375   valid/acc: 0.8750\n",
      "Epoch 187:   train/loss: 0.3918   valid/loss: 0.4226   train/acc: 0.9375   valid/acc: 0.8750\n",
      "Epoch 188:   train/loss: 0.3954   valid/loss: 0.4237   train/acc: 0.9531   valid/acc: 0.8750\n",
      "Epoch 189:   train/loss: 0.4102   valid/loss: 0.4232   train/acc: 0.9219   valid/acc: 0.8750\n",
      "Epoch 190:   train/loss: 0.3686   valid/loss: 0.4181   train/acc: 0.9375   valid/acc: 0.8750\n",
      "Epoch 191:   train/loss: 0.4176   valid/loss: 0.4185   train/acc: 0.9375   valid/acc: 0.8750\n",
      "Epoch 192:   train/loss: 0.4091   valid/loss: 0.4187   train/acc: 0.9375   valid/acc: 0.8750\n",
      "Epoch 193:   train/loss: 0.3838   valid/loss: 0.4194   train/acc: 0.9375   valid/acc: 0.8750\n",
      "Epoch 194:   train/loss: 0.4124   valid/loss: 0.4205   train/acc: 0.9375   valid/acc: 0.8750\n",
      "Epoch 195:   train/loss: 0.3999   valid/loss: 0.4183   train/acc: 0.9219   valid/acc: 0.8750\n",
      "Epoch 196:   train/loss: 0.3930   valid/loss: 0.4178   train/acc: 0.9375   valid/acc: 0.8750\n",
      "Epoch 197:   train/loss: 0.3895   valid/loss: 0.4147   train/acc: 0.9375   valid/acc: 0.8750\n",
      "Epoch 198:   train/loss: 0.4078   valid/loss: 0.4144   train/acc: 0.9531   valid/acc: 0.8750\n",
      "Epoch 199:   train/loss: 0.4201   valid/loss: 0.4148   train/acc: 0.9375   valid/acc: 0.8750\n",
      "Epoch 200:   train/loss: 0.3851   valid/loss: 0.4127   train/acc: 0.9531   valid/acc: 0.8750\n",
      "Epoch 201:   train/loss: 0.4099   valid/loss: 0.4122   train/acc: 0.9375   valid/acc: 0.8750\n",
      "Epoch 202:   train/loss: 0.4149   valid/loss: 0.4084   train/acc: 0.9688   valid/acc: 0.8750\n",
      "Epoch 203:   train/loss: 0.4105   valid/loss: 0.4065   train/acc: 0.9375   valid/acc: 0.8750\n",
      "Epoch 204:   train/loss: 0.4333   valid/loss: 0.4056   train/acc: 0.9219   valid/acc: 0.8750\n",
      "Epoch 205:   train/loss: 0.4401   valid/loss: 0.4063   train/acc: 0.9219   valid/acc: 0.8750\n",
      "Epoch 206:   train/loss: 0.4323   valid/loss: 0.4076   train/acc: 0.9375   valid/acc: 0.8750\n",
      "Epoch 207:   train/loss: 0.3641   valid/loss: 0.4091   train/acc: 0.9375   valid/acc: 0.8750\n",
      "Epoch 208:   train/loss: 0.3981   valid/loss: 0.4079   train/acc: 0.9688   valid/acc: 0.8750\n",
      "Epoch 209:   train/loss: 0.4111   valid/loss: 0.4088   train/acc: 0.9219   valid/acc: 0.8750\n",
      "Epoch 210:   train/loss: 0.4135   valid/loss: 0.4073   train/acc: 0.9375   valid/acc: 0.8750\n",
      "Epoch 211:   train/loss: 0.4248   valid/loss: 0.4097   train/acc: 0.9375   valid/acc: 0.8750\n",
      "Epoch 212:   train/loss: 0.4054   valid/loss: 0.4061   train/acc: 0.9531   valid/acc: 0.8750\n",
      "Epoch 213:   train/loss: 0.4645   valid/loss: 0.4058   train/acc: 0.8750   valid/acc: 0.8750\n",
      "Epoch 214:   train/loss: 0.3689   valid/loss: 0.4040   train/acc: 0.9531   valid/acc: 0.8750\n",
      "Epoch 215:   train/loss: 0.4044   valid/loss: 0.4009   train/acc: 0.9688   valid/acc: 0.8750\n",
      "Epoch 216:   train/loss: 0.3627   valid/loss: 0.3997   train/acc: 0.9219   valid/acc: 0.8750\n",
      "Epoch 217:   train/loss: 0.4052   valid/loss: 0.3980   train/acc: 0.9531   valid/acc: 0.8750\n",
      "Epoch 218:   train/loss: 0.4019   valid/loss: 0.3988   train/acc: 0.9688   valid/acc: 0.8750\n",
      "Epoch 219:   train/loss: 0.3946   valid/loss: 0.3901   train/acc: 0.9688   valid/acc: 0.8750\n",
      "Epoch 220:   train/loss: 0.3781   valid/loss: 0.3952   train/acc: 0.9531   valid/acc: 0.8750\n",
      "Epoch 221:   train/loss: 0.3729   valid/loss: 0.3878   train/acc: 0.9531   valid/acc: 0.8750\n",
      "Epoch 222:   train/loss: 0.3609   valid/loss: 0.3823   train/acc: 1.0000   valid/acc: 0.8750\n",
      "Epoch 223:   train/loss: 0.3559   valid/loss: 0.3763   train/acc: 0.9688   valid/acc: 0.8750\n",
      "Epoch 224:   train/loss: 0.4102   valid/loss: 0.3669   train/acc: 0.9375   valid/acc: 0.8750\n",
      "Epoch 225:   train/loss: 0.3846   valid/loss: 0.3630   train/acc: 0.9531   valid/acc: 0.8750\n",
      "Epoch 226:   train/loss: 0.3849   valid/loss: 0.3617   train/acc: 0.9688   valid/acc: 0.8750\n",
      "Epoch 227:   train/loss: 0.4011   valid/loss: 0.3594   train/acc: 0.9375   valid/acc: 0.8750\n",
      "Epoch 228:   train/loss: 0.4112   valid/loss: 0.3583   train/acc: 0.9844   valid/acc: 0.8750\n",
      "Epoch 229:   train/loss: 0.4141   valid/loss: 0.3681   train/acc: 0.9531   valid/acc: 0.8750\n",
      "Epoch 230:   train/loss: 0.3335   valid/loss: 0.3632   train/acc: 0.9688   valid/acc: 0.8750\n",
      "Epoch 231:   train/loss: 0.3397   valid/loss: 0.3632   train/acc: 0.9688   valid/acc: 0.8750\n",
      "Epoch 232:   train/loss: 0.4058   valid/loss: 0.3631   train/acc: 0.9531   valid/acc: 0.8750\n",
      "Epoch 233:   train/loss: 0.4022   valid/loss: 0.3580   train/acc: 0.9688   valid/acc: 0.8750\n",
      "Epoch 234:   train/loss: 0.3464   valid/loss: 0.3498   train/acc: 1.0000   valid/acc: 0.8750\n",
      "Epoch 235:   train/loss: 0.3626   valid/loss: 0.3479   train/acc: 0.9375   valid/acc: 0.8750\n",
      "Epoch 236:   train/loss: 0.4007   valid/loss: 0.3489   train/acc: 0.9375   valid/acc: 0.8750\n",
      "Epoch 237:   train/loss: 0.3739   valid/loss: 0.3513   train/acc: 0.9844   valid/acc: 0.8750\n",
      "Epoch 238:   train/loss: 0.3670   valid/loss: 0.3508   train/acc: 0.9531   valid/acc: 0.8750\n",
      "Epoch 239:   train/loss: 0.3771   valid/loss: 0.3462   train/acc: 0.9844   valid/acc: 0.8750\n",
      "Epoch 240:   train/loss: 0.3851   valid/loss: 0.3457   train/acc: 1.0000   valid/acc: 0.8750\n",
      "Epoch 241:   train/loss: 0.3695   valid/loss: 0.3450   train/acc: 0.9844   valid/acc: 0.8750\n",
      "Epoch 242:   train/loss: 0.3781   valid/loss: 0.3448   train/acc: 0.9688   valid/acc: 0.8750\n",
      "Epoch 243:   train/loss: 0.3537   valid/loss: 0.3391   train/acc: 1.0000   valid/acc: 0.8750\n",
      "Epoch 244:   train/loss: 0.3321   valid/loss: 0.3349   train/acc: 0.9844   valid/acc: 0.8750\n",
      "Epoch 245:   train/loss: 0.3741   valid/loss: 0.3344   train/acc: 1.0000   valid/acc: 0.8750\n",
      "Epoch 246:   train/loss: 0.4023   valid/loss: 0.3344   train/acc: 0.9531   valid/acc: 0.8750\n",
      "Epoch 247:   train/loss: 0.3878   valid/loss: 0.3347   train/acc: 0.9375   valid/acc: 0.8750\n",
      "Epoch 248:   train/loss: 0.3449   valid/loss: 0.3294   train/acc: 0.9688   valid/acc: 0.8750\n",
      "Epoch 249:   train/loss: 0.3539   valid/loss: 0.3275   train/acc: 0.9844   valid/acc: 0.8750\n",
      "Epoch 250:   train/loss: 0.3552   valid/loss: 0.3281   train/acc: 0.9688   valid/acc: 0.8750\n",
      "Epoch 251:   train/loss: 0.3427   valid/loss: 0.3259   train/acc: 0.9688   valid/acc: 0.8750\n",
      "Epoch 252:   train/loss: 0.3831   valid/loss: 0.3275   train/acc: 1.0000   valid/acc: 0.8750\n",
      "Epoch 253:   train/loss: 0.4012   valid/loss: 0.3246   train/acc: 0.9688   valid/acc: 0.8750\n",
      "Epoch 254:   train/loss: 0.3548   valid/loss: 0.3215   train/acc: 0.9844   valid/acc: 0.8750\n",
      "Epoch 255:   train/loss: 0.3835   valid/loss: 0.3114   train/acc: 0.9531   valid/acc: 0.8750\n",
      "Epoch 256:   train/loss: 0.3386   valid/loss: 0.3115   train/acc: 0.9688   valid/acc: 0.8750\n",
      "Epoch 257:   train/loss: 0.3338   valid/loss: 0.3117   train/acc: 0.9844   valid/acc: 0.8750\n",
      "Epoch 258:   train/loss: 0.3177   valid/loss: 0.3125   train/acc: 0.9844   valid/acc: 0.8750\n",
      "Epoch 259:   train/loss: 0.3267   valid/loss: 0.3132   train/acc: 1.0000   valid/acc: 0.8750\n",
      "Epoch 260:   train/loss: 0.3598   valid/loss: 0.3128   train/acc: 0.9688   valid/acc: 0.8750\n",
      "Epoch 261:   train/loss: 0.3853   valid/loss: 0.3117   train/acc: 0.9844   valid/acc: 0.8750\n",
      "Epoch 262:   train/loss: 0.3441   valid/loss: 0.3111   train/acc: 0.9688   valid/acc: 0.8750\n",
      "Epoch 263:   train/loss: 0.3266   valid/loss: 0.2941   train/acc: 1.0000   valid/acc: 0.9375\n",
      "Epoch 264:   train/loss: 0.3329   valid/loss: 0.2937   train/acc: 0.9688   valid/acc: 0.9375\n",
      "Epoch 265:   train/loss: 0.3306   valid/loss: 0.2925   train/acc: 0.9531   valid/acc: 0.9375\n",
      "Epoch 266:   train/loss: 0.3436   valid/loss: 0.2908   train/acc: 0.9844   valid/acc: 0.9375\n",
      "Epoch 267:   train/loss: 0.3506   valid/loss: 0.2917   train/acc: 0.9844   valid/acc: 0.9375\n",
      "Epoch 268:   train/loss: 0.3592   valid/loss: 0.2906   train/acc: 0.9844   valid/acc: 0.9375\n",
      "Epoch 269:   train/loss: 0.3313   valid/loss: 0.2893   train/acc: 0.9688   valid/acc: 0.9375\n",
      "Epoch 270:   train/loss: 0.3703   valid/loss: 0.2882   train/acc: 0.9688   valid/acc: 0.9375\n",
      "Epoch 271:   train/loss: 0.3496   valid/loss: 0.2875   train/acc: 0.9688   valid/acc: 0.9375\n",
      "Epoch 272:   train/loss: 0.3586   valid/loss: 0.2883   train/acc: 0.9688   valid/acc: 0.9375\n",
      "Epoch 273:   train/loss: 0.3499   valid/loss: 0.2886   train/acc: 0.9688   valid/acc: 0.9375\n",
      "Epoch 274:   train/loss: 0.3226   valid/loss: 0.2870   train/acc: 1.0000   valid/acc: 0.9375\n",
      "Epoch 275:   train/loss: 0.3485   valid/loss: 0.2855   train/acc: 0.9688   valid/acc: 0.9375\n",
      "Epoch 276:   train/loss: 0.3482   valid/loss: 0.2868   train/acc: 0.9844   valid/acc: 0.9375\n",
      "Epoch 277:   train/loss: 0.3283   valid/loss: 0.2879   train/acc: 0.9688   valid/acc: 0.9375\n",
      "Epoch 278:   train/loss: 0.3304   valid/loss: 0.2883   train/acc: 0.9844   valid/acc: 0.9375\n",
      "Epoch 279:   train/loss: 0.3410   valid/loss: 0.2921   train/acc: 0.9844   valid/acc: 1.0000\n",
      "Epoch 280:   train/loss: 0.3582   valid/loss: 0.2917   train/acc: 0.9688   valid/acc: 1.0000\n",
      "Epoch 281:   train/loss: 0.3181   valid/loss: 0.2919   train/acc: 0.9688   valid/acc: 1.0000\n",
      "Epoch 282:   train/loss: 0.3385   valid/loss: 0.2884   train/acc: 0.9688   valid/acc: 1.0000\n",
      "Epoch 283:   train/loss: 0.3552   valid/loss: 0.2825   train/acc: 0.9844   valid/acc: 1.0000\n",
      "Epoch 284:   train/loss: 0.3530   valid/loss: 0.2838   train/acc: 0.9688   valid/acc: 1.0000\n",
      "Epoch 285:   train/loss: 0.3344   valid/loss: 0.2823   train/acc: 0.9688   valid/acc: 1.0000\n",
      "Epoch 286:   train/loss: 0.2989   valid/loss: 0.2794   train/acc: 0.9531   valid/acc: 1.0000\n",
      "Epoch 287:   train/loss: 0.3105   valid/loss: 0.2771   train/acc: 0.9688   valid/acc: 1.0000\n",
      "Epoch 288:   train/loss: 0.3403   valid/loss: 0.2760   train/acc: 1.0000   valid/acc: 1.0000\n",
      "Epoch 289:   train/loss: 0.2937   valid/loss: 0.2707   train/acc: 0.9844   valid/acc: 1.0000\n",
      "Epoch 290:   train/loss: 0.2820   valid/loss: 0.2692   train/acc: 0.9688   valid/acc: 1.0000\n",
      "Epoch 291:   train/loss: 0.3217   valid/loss: 0.2683   train/acc: 0.9844   valid/acc: 1.0000\n",
      "Epoch 292:   train/loss: 0.3309   valid/loss: 0.2643   train/acc: 0.9688   valid/acc: 1.0000\n",
      "Epoch 293:   train/loss: 0.2991   valid/loss: 0.2525   train/acc: 0.9844   valid/acc: 1.0000\n",
      "Epoch 294:   train/loss: 0.2932   valid/loss: 0.2528   train/acc: 0.9844   valid/acc: 1.0000\n",
      "Epoch 295:   train/loss: 0.2803   valid/loss: 0.2513   train/acc: 1.0000   valid/acc: 1.0000\n",
      "Epoch 296:   train/loss: 0.3324   valid/loss: 0.2516   train/acc: 0.9688   valid/acc: 1.0000\n",
      "Epoch 297:   train/loss: 0.3259   valid/loss: 0.2442   train/acc: 1.0000   valid/acc: 1.0000\n",
      "Epoch 298:   train/loss: 0.2771   valid/loss: 0.2375   train/acc: 0.9844   valid/acc: 1.0000\n",
      "Epoch 299:   train/loss: 0.2954   valid/loss: 0.2354   train/acc: 1.0000   valid/acc: 1.0000\n",
      "Epoch 300:   train/loss: 0.2870   valid/loss: 0.2289   train/acc: 0.9844   valid/acc: 1.0000\n",
      "Epoch 301:   train/loss: 0.3433   valid/loss: 0.2259   train/acc: 0.9688   valid/acc: 1.0000\n",
      "Epoch 302:   train/loss: 0.3089   valid/loss: 0.2169   train/acc: 1.0000   valid/acc: 1.0000\n",
      "Epoch 303:   train/loss: 0.2492   valid/loss: 0.2145   train/acc: 1.0000   valid/acc: 1.0000\n",
      "Epoch 304:   train/loss: 0.2752   valid/loss: 0.2147   train/acc: 1.0000   valid/acc: 1.0000\n",
      "Epoch 305:   train/loss: 0.2976   valid/loss: 0.2106   train/acc: 0.9844   valid/acc: 1.0000\n",
      "Epoch 306:   train/loss: 0.2836   valid/loss: 0.2092   train/acc: 1.0000   valid/acc: 1.0000\n",
      "Epoch 307:   train/loss: 0.3138   valid/loss: 0.2052   train/acc: 1.0000   valid/acc: 1.0000\n",
      "Epoch 308:   train/loss: 0.2849   valid/loss: 0.2030   train/acc: 1.0000   valid/acc: 1.0000\n",
      "Epoch 309:   train/loss: 0.2840   valid/loss: 0.2027   train/acc: 0.9844   valid/acc: 1.0000\n",
      "Epoch 310:   train/loss: 0.3074   valid/loss: 0.2019   train/acc: 0.9844   valid/acc: 1.0000\n",
      "Epoch 311:   train/loss: 0.3133   valid/loss: 0.1980   train/acc: 0.9844   valid/acc: 1.0000\n",
      "Epoch 312:   train/loss: 0.2728   valid/loss: 0.1915   train/acc: 1.0000   valid/acc: 1.0000\n",
      "Epoch 313:   train/loss: 0.2882   valid/loss: 0.1916   train/acc: 1.0000   valid/acc: 1.0000\n",
      "Epoch 314:   train/loss: 0.2742   valid/loss: 0.1911   train/acc: 1.0000   valid/acc: 1.0000\n",
      "Epoch 315:   train/loss: 0.2584   valid/loss: 0.1862   train/acc: 1.0000   valid/acc: 1.0000\n",
      "Epoch 316:   train/loss: 0.2793   valid/loss: 0.1791   train/acc: 1.0000   valid/acc: 1.0000\n",
      "Epoch 317:   train/loss: 0.2504   valid/loss: 0.1787   train/acc: 0.9844   valid/acc: 1.0000\n",
      "Epoch 318:   train/loss: 0.2986   valid/loss: 0.1794   train/acc: 1.0000   valid/acc: 1.0000\n",
      "Epoch 319:   train/loss: 0.3111   valid/loss: 0.1792   train/acc: 0.9688   valid/acc: 1.0000\n",
      "Epoch 320:   train/loss: 0.2901   valid/loss: 0.1795   train/acc: 1.0000   valid/acc: 1.0000\n",
      "Epoch 321:   train/loss: 0.3419   valid/loss: 0.1784   train/acc: 1.0000   valid/acc: 1.0000\n",
      "Epoch 322:   train/loss: 0.3170   valid/loss: 0.1779   train/acc: 1.0000   valid/acc: 1.0000\n",
      "Epoch 323:   train/loss: 0.2532   valid/loss: 0.1776   train/acc: 1.0000   valid/acc: 1.0000\n",
      "Epoch 324:   train/loss: 0.2618   valid/loss: 0.1752   train/acc: 1.0000   valid/acc: 1.0000\n",
      "Epoch 325:   train/loss: 0.2606   valid/loss: 0.1772   train/acc: 1.0000   valid/acc: 1.0000\n",
      "Epoch 326:   train/loss: 0.2686   valid/loss: 0.1756   train/acc: 1.0000   valid/acc: 1.0000\n",
      "Epoch 327:   train/loss: 0.2983   valid/loss: 0.1647   train/acc: 1.0000   valid/acc: 1.0000\n",
      "Epoch 328:   train/loss: 0.2594   valid/loss: 0.1615   train/acc: 1.0000   valid/acc: 1.0000\n",
      "Epoch 329:   train/loss: 0.2649   valid/loss: 0.1587   train/acc: 1.0000   valid/acc: 1.0000\n",
      "Epoch 330:   train/loss: 0.2627   valid/loss: 0.1586   train/acc: 1.0000   valid/acc: 1.0000\n",
      "Epoch 331:   train/loss: 0.2579   valid/loss: 0.1585   train/acc: 1.0000   valid/acc: 1.0000\n",
      "Epoch 332:   train/loss: 0.2925   valid/loss: 0.1595   train/acc: 1.0000   valid/acc: 1.0000\n",
      "Epoch 333:   train/loss: 0.2812   valid/loss: 0.1585   train/acc: 1.0000   valid/acc: 1.0000\n",
      "Epoch 334:   train/loss: 0.2569   valid/loss: 0.1586   train/acc: 1.0000   valid/acc: 1.0000\n",
      "Epoch 335:   train/loss: 0.2518   valid/loss: 0.1587   train/acc: 1.0000   valid/acc: 1.0000\n",
      "Epoch 336:   train/loss: 0.2763   valid/loss: 0.1559   train/acc: 1.0000   valid/acc: 1.0000\n",
      "Epoch 337:   train/loss: 0.2977   valid/loss: 0.1545   train/acc: 1.0000   valid/acc: 1.0000\n",
      "Epoch 338:   train/loss: 0.2589   valid/loss: 0.1555   train/acc: 1.0000   valid/acc: 1.0000\n",
      "Epoch 339:   train/loss: 0.2593   valid/loss: 0.1561   train/acc: 1.0000   valid/acc: 1.0000\n",
      "Epoch 340:   train/loss: 0.2658   valid/loss: 0.1586   train/acc: 1.0000   valid/acc: 1.0000\n",
      "Epoch 341:   train/loss: 0.2762   valid/loss: 0.1581   train/acc: 1.0000   valid/acc: 1.0000\n",
      "Epoch 342:   train/loss: 0.2536   valid/loss: 0.1594   train/acc: 1.0000   valid/acc: 1.0000\n",
      "Epoch 343:   train/loss: 0.2382   valid/loss: 0.1595   train/acc: 1.0000   valid/acc: 1.0000\n",
      "Epoch 344:   train/loss: 0.2519   valid/loss: 0.1570   train/acc: 1.0000   valid/acc: 1.0000\n",
      "Epoch 345:   train/loss: 0.2602   valid/loss: 0.1567   train/acc: 1.0000   valid/acc: 1.0000\n",
      "Epoch 346:   train/loss: 0.3202   valid/loss: 0.1567   train/acc: 0.9844   valid/acc: 1.0000\n",
      "Epoch 347:   train/loss: 0.2856   valid/loss: 0.1565   train/acc: 1.0000   valid/acc: 1.0000\n",
      "Epoch 348:   train/loss: 0.2508   valid/loss: 0.1547   train/acc: 1.0000   valid/acc: 1.0000\n",
      "Epoch 349:   train/loss: 0.2402   valid/loss: 0.1525   train/acc: 1.0000   valid/acc: 1.0000\n",
      "Epoch 350:   train/loss: 0.3148   valid/loss: 0.1466   train/acc: 1.0000   valid/acc: 1.0000\n",
      "Epoch 351:   train/loss: 0.2296   valid/loss: 0.1492   train/acc: 1.0000   valid/acc: 1.0000\n",
      "Epoch 352:   train/loss: 0.2641   valid/loss: 0.1501   train/acc: 1.0000   valid/acc: 1.0000\n",
      "Epoch 353:   train/loss: 0.2372   valid/loss: 0.1461   train/acc: 1.0000   valid/acc: 1.0000\n",
      "Epoch 354:   train/loss: 0.2426   valid/loss: 0.1398   train/acc: 1.0000   valid/acc: 1.0000\n",
      "Epoch 355:   train/loss: 0.2731   valid/loss: 0.1400   train/acc: 1.0000   valid/acc: 1.0000\n",
      "Epoch 356:   train/loss: 0.2874   valid/loss: 0.1414   train/acc: 1.0000   valid/acc: 1.0000\n",
      "Epoch 357:   train/loss: 0.3012   valid/loss: 0.1414   train/acc: 1.0000   valid/acc: 1.0000\n",
      "Epoch 358:   train/loss: 0.2631   valid/loss: 0.1393   train/acc: 1.0000   valid/acc: 1.0000\n",
      "Epoch 359:   train/loss: 0.2775   valid/loss: 0.1389   train/acc: 1.0000   valid/acc: 1.0000\n",
      "Epoch 360:   train/loss: 0.2972   valid/loss: 0.1393   train/acc: 1.0000   valid/acc: 1.0000\n",
      "Epoch 361:   train/loss: 0.2856   valid/loss: 0.1403   train/acc: 1.0000   valid/acc: 1.0000\n",
      "Epoch 362:   train/loss: 0.1839   valid/loss: 0.1396   train/acc: 1.0000   valid/acc: 1.0000\n",
      "Epoch 363:   train/loss: 0.2732   valid/loss: 0.1349   train/acc: 1.0000   valid/acc: 1.0000\n",
      "Epoch 364:   train/loss: 0.2565   valid/loss: 0.1268   train/acc: 1.0000   valid/acc: 1.0000\n",
      "Epoch 365:   train/loss: 0.2466   valid/loss: 0.1169   train/acc: 1.0000   valid/acc: 1.0000\n",
      "Epoch 366:   train/loss: 0.2382   valid/loss: 0.1172   train/acc: 1.0000   valid/acc: 1.0000\n",
      "Epoch 367:   train/loss: 0.2457   valid/loss: 0.1168   train/acc: 1.0000   valid/acc: 1.0000\n",
      "Epoch 368:   train/loss: 0.2264   valid/loss: 0.1195   train/acc: 1.0000   valid/acc: 1.0000\n",
      "Epoch 369:   train/loss: 0.2135   valid/loss: 0.1194   train/acc: 1.0000   valid/acc: 1.0000\n",
      "Epoch 370:   train/loss: 0.2740   valid/loss: 0.1187   train/acc: 1.0000   valid/acc: 1.0000\n",
      "Epoch 371:   train/loss: 0.2747   valid/loss: 0.1123   train/acc: 1.0000   valid/acc: 1.0000\n",
      "Epoch 372:   train/loss: 0.2059   valid/loss: 0.1111   train/acc: 1.0000   valid/acc: 1.0000\n",
      "Epoch 373:   train/loss: 0.3095   valid/loss: 0.1112   train/acc: 1.0000   valid/acc: 1.0000\n",
      "Epoch 374:   train/loss: 0.2788   valid/loss: 0.1095   train/acc: 1.0000   valid/acc: 1.0000\n",
      "Epoch 375:   train/loss: 0.2835   valid/loss: 0.1067   train/acc: 1.0000   valid/acc: 1.0000\n",
      "Epoch 376:   train/loss: 0.2014   valid/loss: 0.1070   train/acc: 1.0000   valid/acc: 1.0000\n",
      "Epoch 377:   train/loss: 0.2364   valid/loss: 0.1065   train/acc: 1.0000   valid/acc: 1.0000\n",
      "Epoch 378:   train/loss: 0.2244   valid/loss: 0.1060   train/acc: 1.0000   valid/acc: 1.0000\n",
      "Epoch 379:   train/loss: 0.2339   valid/loss: 0.1052   train/acc: 1.0000   valid/acc: 1.0000\n",
      "Epoch 380:   train/loss: 0.2671   valid/loss: 0.1034   train/acc: 1.0000   valid/acc: 1.0000\n",
      "Epoch 381:   train/loss: 0.2529   valid/loss: 0.1047   train/acc: 1.0000   valid/acc: 1.0000\n",
      "Epoch 382:   train/loss: 0.2685   valid/loss: 0.1038   train/acc: 1.0000   valid/acc: 1.0000\n",
      "Epoch 383:   train/loss: 0.2618   valid/loss: 0.1039   train/acc: 1.0000   valid/acc: 1.0000\n",
      "Epoch 384:   train/loss: 0.1987   valid/loss: 0.1046   train/acc: 1.0000   valid/acc: 1.0000\n",
      "Epoch 385:   train/loss: 0.2620   valid/loss: 0.1042   train/acc: 1.0000   valid/acc: 1.0000\n",
      "Epoch 386:   train/loss: 0.1978   valid/loss: 0.1035   train/acc: 1.0000   valid/acc: 1.0000\n",
      "Epoch 387:   train/loss: 0.2057   valid/loss: 0.1033   train/acc: 1.0000   valid/acc: 1.0000\n",
      "Epoch 388:   train/loss: 0.2531   valid/loss: 0.1030   train/acc: 1.0000   valid/acc: 1.0000\n",
      "Epoch 389:   train/loss: 0.2209   valid/loss: 0.1005   train/acc: 1.0000   valid/acc: 1.0000\n",
      "Epoch 390:   train/loss: 0.2703   valid/loss: 0.1011   train/acc: 1.0000   valid/acc: 1.0000\n",
      "Epoch 391:   train/loss: 0.2453   valid/loss: 0.1015   train/acc: 1.0000   valid/acc: 1.0000\n",
      "Epoch 392:   train/loss: 0.2620   valid/loss: 0.0925   train/acc: 1.0000   valid/acc: 1.0000\n",
      "Epoch 393:   train/loss: 0.2525   valid/loss: 0.0919   train/acc: 1.0000   valid/acc: 1.0000\n",
      "Epoch 394:   train/loss: 0.2275   valid/loss: 0.0915   train/acc: 1.0000   valid/acc: 1.0000\n",
      "Epoch 395:   train/loss: 0.2491   valid/loss: 0.0868   train/acc: 1.0000   valid/acc: 1.0000\n",
      "Epoch 396:   train/loss: 0.2670   valid/loss: 0.0872   train/acc: 1.0000   valid/acc: 1.0000\n",
      "Epoch 397:   train/loss: 0.2250   valid/loss: 0.0843   train/acc: 1.0000   valid/acc: 1.0000\n",
      "Epoch 398:   train/loss: 0.2449   valid/loss: 0.0836   train/acc: 1.0000   valid/acc: 1.0000\n",
      "Epoch 399:   train/loss: 0.2122   valid/loss: 0.0842   train/acc: 1.0000   valid/acc: 1.0000\n",
      "Epoch 400:   train/loss: 0.2746   valid/loss: 0.0854   train/acc: 1.0000   valid/acc: 1.0000\n",
      "Epoch 401:   train/loss: 0.2047   valid/loss: 0.0815   train/acc: 1.0000   valid/acc: 1.0000\n",
      "Epoch 402:   train/loss: 0.2170   valid/loss: 0.0813   train/acc: 1.0000   valid/acc: 1.0000\n",
      "Epoch 403:   train/loss: 0.2400   valid/loss: 0.0809   train/acc: 1.0000   valid/acc: 1.0000\n",
      "Epoch 404:   train/loss: 0.2809   valid/loss: 0.0816   train/acc: 1.0000   valid/acc: 1.0000\n",
      "Epoch 405:   train/loss: 0.2424   valid/loss: 0.0803   train/acc: 1.0000   valid/acc: 1.0000\n",
      "Epoch 406:   train/loss: 0.2344   valid/loss: 0.0819   train/acc: 1.0000   valid/acc: 1.0000\n",
      "Epoch 407:   train/loss: 0.2328   valid/loss: 0.0755   train/acc: 1.0000   valid/acc: 1.0000\n",
      "Epoch 408:   train/loss: 0.2020   valid/loss: 0.0753   train/acc: 1.0000   valid/acc: 1.0000\n",
      "Epoch 409:   train/loss: 0.1927   valid/loss: 0.0738   train/acc: 1.0000   valid/acc: 1.0000\n",
      "Epoch 410:   train/loss: 0.2305   valid/loss: 0.0760   train/acc: 1.0000   valid/acc: 1.0000\n",
      "Epoch 411:   train/loss: 0.2223   valid/loss: 0.0756   train/acc: 1.0000   valid/acc: 1.0000\n",
      "Epoch 412:   train/loss: 0.2807   valid/loss: 0.0764   train/acc: 1.0000   valid/acc: 1.0000\n",
      "Epoch 413:   train/loss: 0.2325   valid/loss: 0.0780   train/acc: 1.0000   valid/acc: 1.0000\n",
      "Epoch 414:   train/loss: 0.2556   valid/loss: 0.0770   train/acc: 1.0000   valid/acc: 1.0000\n",
      "Epoch 415:   train/loss: 0.2653   valid/loss: 0.0782   train/acc: 1.0000   valid/acc: 1.0000\n",
      "Epoch 416:   train/loss: 0.2429   valid/loss: 0.0774   train/acc: 1.0000   valid/acc: 1.0000\n",
      "Epoch 417:   train/loss: 0.2595   valid/loss: 0.0778   train/acc: 1.0000   valid/acc: 1.0000\n",
      "Epoch 418:   train/loss: 0.2567   valid/loss: 0.0775   train/acc: 1.0000   valid/acc: 1.0000\n",
      "Epoch 419:   train/loss: 0.2290   valid/loss: 0.0776   train/acc: 1.0000   valid/acc: 1.0000\n",
      "Epoch 420:   train/loss: 0.1585   valid/loss: 0.0772   train/acc: 1.0000   valid/acc: 1.0000\n",
      "Epoch 421:   train/loss: 0.2191   valid/loss: 0.0758   train/acc: 1.0000   valid/acc: 1.0000\n",
      "Epoch 422:   train/loss: 0.2270   valid/loss: 0.0755   train/acc: 1.0000   valid/acc: 1.0000\n",
      "Epoch 423:   train/loss: 0.2380   valid/loss: 0.0741   train/acc: 1.0000   valid/acc: 1.0000\n",
      "Epoch 424:   train/loss: 0.1931   valid/loss: 0.0714   train/acc: 1.0000   valid/acc: 1.0000\n",
      "Epoch 425:   train/loss: 0.1692   valid/loss: 0.0715   train/acc: 1.0000   valid/acc: 1.0000\n",
      "Epoch 426:   train/loss: 0.2272   valid/loss: 0.0692   train/acc: 1.0000   valid/acc: 1.0000\n",
      "Epoch 427:   train/loss: 0.2065   valid/loss: 0.0698   train/acc: 1.0000   valid/acc: 1.0000\n",
      "Epoch 428:   train/loss: 0.1984   valid/loss: 0.0691   train/acc: 1.0000   valid/acc: 1.0000\n",
      "Epoch 429:   train/loss: 0.2741   valid/loss: 0.0697   train/acc: 1.0000   valid/acc: 1.0000\n",
      "Epoch 430:   train/loss: 0.2761   valid/loss: 0.0701   train/acc: 1.0000   valid/acc: 1.0000\n",
      "Epoch 431:   train/loss: 0.1743   valid/loss: 0.0722   train/acc: 1.0000   valid/acc: 1.0000\n",
      "Epoch 432:   train/loss: 0.1789   valid/loss: 0.0721   train/acc: 1.0000   valid/acc: 1.0000\n",
      "Epoch 433:   train/loss: 0.2151   valid/loss: 0.0679   train/acc: 1.0000   valid/acc: 1.0000\n",
      "Epoch 434:   train/loss: 0.1595   valid/loss: 0.0675   train/acc: 1.0000   valid/acc: 1.0000\n",
      "Epoch 435:   train/loss: 0.2765   valid/loss: 0.0617   train/acc: 1.0000   valid/acc: 1.0000\n",
      "Epoch 436:   train/loss: 0.2343   valid/loss: 0.0637   train/acc: 1.0000   valid/acc: 1.0000\n",
      "Epoch 437:   train/loss: 0.2576   valid/loss: 0.0608   train/acc: 1.0000   valid/acc: 1.0000\n",
      "Epoch 438:   train/loss: 0.2087   valid/loss: 0.0560   train/acc: 1.0000   valid/acc: 1.0000\n",
      "Epoch 439:   train/loss: 0.2429   valid/loss: 0.0572   train/acc: 1.0000   valid/acc: 1.0000\n",
      "Epoch 440:   train/loss: 0.1762   valid/loss: 0.0570   train/acc: 1.0000   valid/acc: 1.0000\n",
      "Epoch 441:   train/loss: 0.2036   valid/loss: 0.0578   train/acc: 1.0000   valid/acc: 1.0000\n",
      "Epoch 442:   train/loss: 0.1802   valid/loss: 0.0575   train/acc: 1.0000   valid/acc: 1.0000\n",
      "Epoch 443:   train/loss: 0.2171   valid/loss: 0.0596   train/acc: 1.0000   valid/acc: 1.0000\n",
      "Epoch 444:   train/loss: 0.2175   valid/loss: 0.0616   train/acc: 1.0000   valid/acc: 1.0000\n",
      "Epoch 445:   train/loss: 0.2083   valid/loss: 0.0599   train/acc: 1.0000   valid/acc: 1.0000\n",
      "Epoch 446:   train/loss: 0.2269   valid/loss: 0.0610   train/acc: 1.0000   valid/acc: 1.0000\n",
      "Epoch 447:   train/loss: 0.2213   valid/loss: 0.0613   train/acc: 1.0000   valid/acc: 1.0000\n",
      "Epoch 448:   train/loss: 0.1919   valid/loss: 0.0607   train/acc: 1.0000   valid/acc: 1.0000\n",
      "Epoch 449:   train/loss: 0.2605   valid/loss: 0.0605   train/acc: 1.0000   valid/acc: 1.0000\n",
      "Epoch 450:   train/loss: 0.1909   valid/loss: 0.0597   train/acc: 1.0000   valid/acc: 1.0000\n",
      "Epoch 451:   train/loss: 0.2449   valid/loss: 0.0575   train/acc: 1.0000   valid/acc: 1.0000\n",
      "Epoch 452:   train/loss: 0.2017   valid/loss: 0.0575   train/acc: 1.0000   valid/acc: 1.0000\n",
      "Epoch 453:   train/loss: 0.1991   valid/loss: 0.0569   train/acc: 1.0000   valid/acc: 1.0000\n",
      "Epoch 454:   train/loss: 0.2328   valid/loss: 0.0590   train/acc: 1.0000   valid/acc: 1.0000\n",
      "Epoch 455:   train/loss: 0.2273   valid/loss: 0.0604   train/acc: 1.0000   valid/acc: 1.0000\n",
      "Epoch 456:   train/loss: 0.2565   valid/loss: 0.0619   train/acc: 1.0000   valid/acc: 1.0000\n",
      "Epoch 457:   train/loss: 0.2376   valid/loss: 0.0610   train/acc: 1.0000   valid/acc: 1.0000\n",
      "Epoch 458:   train/loss: 0.2042   valid/loss: 0.0593   train/acc: 1.0000   valid/acc: 1.0000\n",
      "Epoch 459:   train/loss: 0.1725   valid/loss: 0.0587   train/acc: 1.0000   valid/acc: 1.0000\n",
      "Epoch 460:   train/loss: 0.2212   valid/loss: 0.0555   train/acc: 1.0000   valid/acc: 1.0000\n",
      "Epoch 461:   train/loss: 0.2317   valid/loss: 0.0558   train/acc: 1.0000   valid/acc: 1.0000\n",
      "Epoch 462:   train/loss: 0.1881   valid/loss: 0.0536   train/acc: 1.0000   valid/acc: 1.0000\n",
      "Epoch 463:   train/loss: 0.2468   valid/loss: 0.0531   train/acc: 1.0000   valid/acc: 1.0000\n",
      "Epoch 464:   train/loss: 0.1788   valid/loss: 0.0537   train/acc: 1.0000   valid/acc: 1.0000\n",
      "Epoch 465:   train/loss: 0.1892   valid/loss: 0.0505   train/acc: 1.0000   valid/acc: 1.0000\n",
      "Epoch 466:   train/loss: 0.2510   valid/loss: 0.0489   train/acc: 1.0000   valid/acc: 1.0000\n",
      "Epoch 467:   train/loss: 0.1789   valid/loss: 0.0489   train/acc: 1.0000   valid/acc: 1.0000\n",
      "Epoch 468:   train/loss: 0.2795   valid/loss: 0.0492   train/acc: 1.0000   valid/acc: 1.0000\n",
      "Epoch 469:   train/loss: 0.2263   valid/loss: 0.0487   train/acc: 1.0000   valid/acc: 1.0000\n",
      "Epoch 470:   train/loss: 0.2347   valid/loss: 0.0503   train/acc: 1.0000   valid/acc: 1.0000\n",
      "Epoch 471:   train/loss: 0.1901   valid/loss: 0.0502   train/acc: 1.0000   valid/acc: 1.0000\n",
      "Epoch 472:   train/loss: 0.2544   valid/loss: 0.0506   train/acc: 1.0000   valid/acc: 1.0000\n",
      "Epoch 473:   train/loss: 0.2700   valid/loss: 0.0498   train/acc: 1.0000   valid/acc: 1.0000\n",
      "Epoch 474:   train/loss: 0.2207   valid/loss: 0.0506   train/acc: 1.0000   valid/acc: 1.0000\n",
      "Epoch 475:   train/loss: 0.2210   valid/loss: 0.0500   train/acc: 1.0000   valid/acc: 1.0000\n",
      "Epoch 476:   train/loss: 0.1808   valid/loss: 0.0495   train/acc: 1.0000   valid/acc: 1.0000\n",
      "Epoch 477:   train/loss: 0.1878   valid/loss: 0.0466   train/acc: 1.0000   valid/acc: 1.0000\n",
      "Epoch 478:   train/loss: 0.2149   valid/loss: 0.0465   train/acc: 1.0000   valid/acc: 1.0000\n",
      "Epoch 479:   train/loss: 0.1855   valid/loss: 0.0477   train/acc: 1.0000   valid/acc: 1.0000\n",
      "Epoch 480:   train/loss: 0.2037   valid/loss: 0.0497   train/acc: 1.0000   valid/acc: 1.0000\n",
      "Epoch 481:   train/loss: 0.2655   valid/loss: 0.0489   train/acc: 1.0000   valid/acc: 1.0000\n",
      "Epoch 482:   train/loss: 0.2151   valid/loss: 0.0441   train/acc: 1.0000   valid/acc: 1.0000\n",
      "Epoch 483:   train/loss: 0.2170   valid/loss: 0.0458   train/acc: 1.0000   valid/acc: 1.0000\n",
      "Epoch 484:   train/loss: 0.1952   valid/loss: 0.0469   train/acc: 1.0000   valid/acc: 1.0000\n",
      "Epoch 485:   train/loss: 0.1647   valid/loss: 0.0475   train/acc: 1.0000   valid/acc: 1.0000\n",
      "Epoch 486:   train/loss: 0.2271   valid/loss: 0.0468   train/acc: 1.0000   valid/acc: 1.0000\n",
      "Epoch 487:   train/loss: 0.2079   valid/loss: 0.0460   train/acc: 1.0000   valid/acc: 1.0000\n",
      "Epoch 488:   train/loss: 0.2399   valid/loss: 0.0436   train/acc: 1.0000   valid/acc: 1.0000\n",
      "Epoch 489:   train/loss: 0.2005   valid/loss: 0.0426   train/acc: 1.0000   valid/acc: 1.0000\n",
      "Epoch 490:   train/loss: 0.1921   valid/loss: 0.0430   train/acc: 1.0000   valid/acc: 1.0000\n",
      "Epoch 491:   train/loss: 0.2247   valid/loss: 0.0432   train/acc: 1.0000   valid/acc: 1.0000\n",
      "Epoch 492:   train/loss: 0.1882   valid/loss: 0.0441   train/acc: 1.0000   valid/acc: 1.0000\n",
      "Epoch 493:   train/loss: 0.2155   valid/loss: 0.0434   train/acc: 1.0000   valid/acc: 1.0000\n",
      "Epoch 494:   train/loss: 0.2310   valid/loss: 0.0438   train/acc: 1.0000   valid/acc: 1.0000\n",
      "Epoch 495:   train/loss: 0.2473   valid/loss: 0.0441   train/acc: 1.0000   valid/acc: 1.0000\n",
      "Epoch 496:   train/loss: 0.2401   valid/loss: 0.0452   train/acc: 1.0000   valid/acc: 1.0000\n",
      "Epoch 497:   train/loss: 0.2141   valid/loss: 0.0441   train/acc: 1.0000   valid/acc: 1.0000\n",
      "Epoch 498:   train/loss: 0.1854   valid/loss: 0.0441   train/acc: 1.0000   valid/acc: 1.0000\n",
      "Epoch 499:   train/loss: 0.2507   valid/loss: 0.0438   train/acc: 1.0000   valid/acc: 1.0000\n",
      "Epoch 500:   train/loss: 0.2200   valid/loss: 0.0435   train/acc: 1.0000   valid/acc: 1.0000\n",
      "Epoch 501:   train/loss: 0.1989   valid/loss: 0.0434   train/acc: 1.0000   valid/acc: 1.0000\n",
      "Epoch 502:   train/loss: 0.1917   valid/loss: 0.0443   train/acc: 1.0000   valid/acc: 1.0000\n",
      "Epoch 503:   train/loss: 0.1793   valid/loss: 0.0443   train/acc: 1.0000   valid/acc: 1.0000\n",
      "Epoch 504:   train/loss: 0.1571   valid/loss: 0.0442   train/acc: 1.0000   valid/acc: 1.0000\n",
      "Epoch 505:   train/loss: 0.1641   valid/loss: 0.0442   train/acc: 1.0000   valid/acc: 1.0000\n",
      "Epoch 506:   train/loss: 0.1950   valid/loss: 0.0439   train/acc: 1.0000   valid/acc: 1.0000\n",
      "Epoch 507:   train/loss: 0.1861   valid/loss: 0.0439   train/acc: 1.0000   valid/acc: 1.0000\n",
      "Epoch 508:   train/loss: 0.2380   valid/loss: 0.0438   train/acc: 1.0000   valid/acc: 1.0000\n",
      "Epoch 509:   train/loss: 0.2609   valid/loss: 0.0432   train/acc: 1.0000   valid/acc: 1.0000\n",
      "Epoch 510:   train/loss: 0.2505   valid/loss: 0.0421   train/acc: 1.0000   valid/acc: 1.0000\n",
      "Epoch 511:   train/loss: 0.1827   valid/loss: 0.0416   train/acc: 1.0000   valid/acc: 1.0000\n",
      "Epoch 512:   train/loss: 0.2271   valid/loss: 0.0422   train/acc: 1.0000   valid/acc: 1.0000\n",
      "Epoch 513:   train/loss: 0.2320   valid/loss: 0.0426   train/acc: 1.0000   valid/acc: 1.0000\n",
      "Epoch 514:   train/loss: 0.2246   valid/loss: 0.0443   train/acc: 1.0000   valid/acc: 1.0000\n",
      "Epoch 515:   train/loss: 0.2326   valid/loss: 0.0466   train/acc: 1.0000   valid/acc: 1.0000\n",
      "Epoch 516:   train/loss: 0.2167   valid/loss: 0.0455   train/acc: 1.0000   valid/acc: 1.0000\n",
      "Epoch 517:   train/loss: 0.1559   valid/loss: 0.0455   train/acc: 1.0000   valid/acc: 1.0000\n",
      "Epoch 518:   train/loss: 0.2233   valid/loss: 0.0456   train/acc: 1.0000   valid/acc: 1.0000\n",
      "Epoch 519:   train/loss: 0.1876   valid/loss: 0.0421   train/acc: 1.0000   valid/acc: 1.0000\n",
      "Epoch 520:   train/loss: 0.2034   valid/loss: 0.0427   train/acc: 1.0000   valid/acc: 1.0000\n",
      "Epoch 521:   train/loss: 0.1907   valid/loss: 0.0422   train/acc: 1.0000   valid/acc: 1.0000\n",
      "Epoch 522:   train/loss: 0.2413   valid/loss: 0.0441   train/acc: 1.0000   valid/acc: 1.0000\n",
      "Epoch 523:   train/loss: 0.2106   valid/loss: 0.0421   train/acc: 1.0000   valid/acc: 1.0000\n",
      "Epoch 524:   train/loss: 0.2376   valid/loss: 0.0422   train/acc: 1.0000   valid/acc: 1.0000\n",
      "Epoch 525:   train/loss: 0.2279   valid/loss: 0.0423   train/acc: 1.0000   valid/acc: 1.0000\n",
      "Epoch 526:   train/loss: 0.2295   valid/loss: 0.0414   train/acc: 1.0000   valid/acc: 1.0000\n",
      "Epoch 527:   train/loss: 0.2522   valid/loss: 0.0402   train/acc: 1.0000   valid/acc: 1.0000\n",
      "Epoch 528:   train/loss: 0.2031   valid/loss: 0.0409   train/acc: 1.0000   valid/acc: 1.0000\n",
      "Epoch 529:   train/loss: 0.2024   valid/loss: 0.0396   train/acc: 1.0000   valid/acc: 1.0000\n",
      "Epoch 530:   train/loss: 0.1889   valid/loss: 0.0395   train/acc: 1.0000   valid/acc: 1.0000\n",
      "Epoch 531:   train/loss: 0.1820   valid/loss: 0.0390   train/acc: 1.0000   valid/acc: 1.0000\n",
      "Epoch 532:   train/loss: 0.1768   valid/loss: 0.0386   train/acc: 1.0000   valid/acc: 1.0000\n",
      "Epoch 533:   train/loss: 0.2013   valid/loss: 0.0391   train/acc: 1.0000   valid/acc: 1.0000\n",
      "Epoch 534:   train/loss: 0.2420   valid/loss: 0.0439   train/acc: 1.0000   valid/acc: 1.0000\n",
      "Epoch 535:   train/loss: 0.2382   valid/loss: 0.0419   train/acc: 1.0000   valid/acc: 1.0000\n",
      "Epoch 536:   train/loss: 0.2189   valid/loss: 0.0421   train/acc: 1.0000   valid/acc: 1.0000\n",
      "Epoch 537:   train/loss: 0.2012   valid/loss: 0.0423   train/acc: 1.0000   valid/acc: 1.0000\n",
      "Epoch 538:   train/loss: 0.2072   valid/loss: 0.0412   train/acc: 1.0000   valid/acc: 1.0000\n",
      "Epoch 539:   train/loss: 0.1984   valid/loss: 0.0403   train/acc: 1.0000   valid/acc: 1.0000\n",
      "Epoch 540:   train/loss: 0.2133   valid/loss: 0.0362   train/acc: 1.0000   valid/acc: 1.0000\n",
      "Epoch 541:   train/loss: 0.2596   valid/loss: 0.0365   train/acc: 1.0000   valid/acc: 1.0000\n",
      "Epoch 542:   train/loss: 0.2092   valid/loss: 0.0369   train/acc: 1.0000   valid/acc: 1.0000\n",
      "Epoch 543:   train/loss: 0.1880   valid/loss: 0.0370   train/acc: 1.0000   valid/acc: 1.0000\n",
      "Epoch 544:   train/loss: 0.1878   valid/loss: 0.0370   train/acc: 1.0000   valid/acc: 1.0000\n",
      "Epoch 545:   train/loss: 0.2193   valid/loss: 0.0386   train/acc: 1.0000   valid/acc: 1.0000\n",
      "Epoch 546:   train/loss: 0.2359   valid/loss: 0.0374   train/acc: 1.0000   valid/acc: 1.0000\n",
      "Epoch 547:   train/loss: 0.2253   valid/loss: 0.0385   train/acc: 1.0000   valid/acc: 1.0000\n",
      "Epoch 548:   train/loss: 0.2295   valid/loss: 0.0380   train/acc: 1.0000   valid/acc: 1.0000\n",
      "Epoch 549:   train/loss: 0.2063   valid/loss: 0.0371   train/acc: 1.0000   valid/acc: 1.0000\n"
     ]
    },
    {
     "ename": "KeyboardInterrupt",
     "evalue": "",
     "output_type": "error",
     "traceback": [
      "\u001b[0;31m---------------------------------------------------------------------------\u001b[0m",
      "\u001b[0;31mKeyboardInterrupt\u001b[0m                         Traceback (most recent call last)",
      "Input \u001b[0;32mIn [138]\u001b[0m, in \u001b[0;36m<cell line: 1>\u001b[0;34m()\u001b[0m\n\u001b[0;32m----> 1\u001b[0m \u001b[43mnpy_trainer\u001b[49m\u001b[38;5;241;43m.\u001b[39;49m\u001b[43mfit\u001b[49m\u001b[43m(\u001b[49m\u001b[43mtrain_dataset\u001b[49m\u001b[43m,\u001b[49m\u001b[43m \u001b[49m\u001b[43mval_dataset\u001b[49m\u001b[43m,\u001b[49m\u001b[43m \u001b[49m\u001b[43mevaluation_step\u001b[49m\u001b[38;5;241;43m=\u001b[39;49m\u001b[38;5;241;43m1\u001b[39;49m\u001b[43m,\u001b[49m\u001b[43m \u001b[49m\u001b[43mlogging_step\u001b[49m\u001b[38;5;241;43m=\u001b[39;49m\u001b[38;5;241;43m1\u001b[39;49m\u001b[43m)\u001b[49m\n",
      "File \u001b[0;32m~/.qbraid/environments/womanium_go14xk/pyenv/lib/python3.9/site-packages/lambeq/training/trainer.py:371\u001b[0m, in \u001b[0;36mTrainer.fit\u001b[0;34m(self, train_dataset, val_dataset, evaluation_step, logging_step)\u001b[0m\n\u001b[1;32m    369\u001b[0m step \u001b[38;5;241m+\u001b[39m\u001b[38;5;241m=\u001b[39m \u001b[38;5;241m1\u001b[39m\n\u001b[1;32m    370\u001b[0m x, y_label \u001b[38;5;241m=\u001b[39m batch\n\u001b[0;32m--> 371\u001b[0m y_hat, loss \u001b[38;5;241m=\u001b[39m \u001b[38;5;28;43mself\u001b[39;49m\u001b[38;5;241;43m.\u001b[39;49m\u001b[43mtraining_step\u001b[49m\u001b[43m(\u001b[49m\u001b[43mbatch\u001b[49m\u001b[43m)\u001b[49m\n\u001b[1;32m    372\u001b[0m \u001b[38;5;28;01mif\u001b[39;00m (\u001b[38;5;28mself\u001b[39m\u001b[38;5;241m.\u001b[39mevaluate_on_train\n\u001b[1;32m    373\u001b[0m         \u001b[38;5;129;01mand\u001b[39;00m \u001b[38;5;28mself\u001b[39m\u001b[38;5;241m.\u001b[39mevaluate_functions \u001b[38;5;129;01mis\u001b[39;00m \u001b[38;5;129;01mnot\u001b[39;00m \u001b[38;5;28;01mNone\u001b[39;00m):\n\u001b[1;32m    374\u001b[0m     \u001b[38;5;28;01mfor\u001b[39;00m metr, func \u001b[38;5;129;01min\u001b[39;00m \u001b[38;5;28mself\u001b[39m\u001b[38;5;241m.\u001b[39mevaluate_functions\u001b[38;5;241m.\u001b[39mitems():\n",
      "File \u001b[0;32m~/.qbraid/environments/womanium_go14xk/pyenv/lib/python3.9/site-packages/lambeq/training/quantum_trainer.py:153\u001b[0m, in \u001b[0;36mQuantumTrainer.training_step\u001b[0;34m(self, batch)\u001b[0m\n\u001b[1;32m    137\u001b[0m \u001b[38;5;28;01mdef\u001b[39;00m \u001b[38;5;21mtraining_step\u001b[39m(\n\u001b[1;32m    138\u001b[0m         \u001b[38;5;28mself\u001b[39m,\n\u001b[1;32m    139\u001b[0m         batch: \u001b[38;5;28mtuple\u001b[39m[\u001b[38;5;28mlist\u001b[39m[Any], np\u001b[38;5;241m.\u001b[39mndarray]) \u001b[38;5;241m-\u001b[39m\u001b[38;5;241m>\u001b[39m \u001b[38;5;28mtuple\u001b[39m[np\u001b[38;5;241m.\u001b[39mndarray, \u001b[38;5;28mfloat\u001b[39m]:\n\u001b[1;32m    140\u001b[0m     \u001b[38;5;124;03m\"\"\"Perform a training step.\u001b[39;00m\n\u001b[1;32m    141\u001b[0m \n\u001b[1;32m    142\u001b[0m \u001b[38;5;124;03m    Parameters\u001b[39;00m\n\u001b[0;32m   (...)\u001b[0m\n\u001b[1;32m    151\u001b[0m \n\u001b[1;32m    152\u001b[0m \u001b[38;5;124;03m    \"\"\"\u001b[39;00m\n\u001b[0;32m--> 153\u001b[0m     y_hat, loss \u001b[38;5;241m=\u001b[39m \u001b[38;5;28;43mself\u001b[39;49m\u001b[38;5;241;43m.\u001b[39;49m\u001b[43moptimizer\u001b[49m\u001b[38;5;241;43m.\u001b[39;49m\u001b[43mbackward\u001b[49m\u001b[43m(\u001b[49m\u001b[43mbatch\u001b[49m\u001b[43m)\u001b[49m\n\u001b[1;32m    154\u001b[0m     \u001b[38;5;28mself\u001b[39m\u001b[38;5;241m.\u001b[39mtrain_costs\u001b[38;5;241m.\u001b[39mappend(loss)\n\u001b[1;32m    155\u001b[0m     \u001b[38;5;28mself\u001b[39m\u001b[38;5;241m.\u001b[39moptimizer\u001b[38;5;241m.\u001b[39mstep()\n",
      "File \u001b[0;32m~/.qbraid/environments/womanium_go14xk/pyenv/lib/python3.9/site-packages/lambeq/training/spsa_optimizer.py:134\u001b[0m, in \u001b[0;36mSPSAOptimizer.backward\u001b[0;34m(self, batch)\u001b[0m\n\u001b[1;32m    132\u001b[0m xplus \u001b[38;5;241m=\u001b[39m \u001b[38;5;28mself\u001b[39m\u001b[38;5;241m.\u001b[39mproject(x \u001b[38;5;241m+\u001b[39m \u001b[38;5;28mself\u001b[39m\u001b[38;5;241m.\u001b[39mck \u001b[38;5;241m*\u001b[39m delta)\n\u001b[1;32m    133\u001b[0m \u001b[38;5;28mself\u001b[39m\u001b[38;5;241m.\u001b[39mmodel\u001b[38;5;241m.\u001b[39mweights \u001b[38;5;241m=\u001b[39m xplus\n\u001b[0;32m--> 134\u001b[0m y0 \u001b[38;5;241m=\u001b[39m \u001b[38;5;28;43mself\u001b[39;49m\u001b[38;5;241;43m.\u001b[39;49m\u001b[43mmodel\u001b[49m\u001b[43m(\u001b[49m\u001b[43mdiagrams\u001b[49m\u001b[43m)\u001b[49m\n\u001b[1;32m    135\u001b[0m loss0 \u001b[38;5;241m=\u001b[39m \u001b[38;5;28mself\u001b[39m\u001b[38;5;241m.\u001b[39mloss_fn(y0, targets)\n\u001b[1;32m    136\u001b[0m xminus \u001b[38;5;241m=\u001b[39m \u001b[38;5;28mself\u001b[39m\u001b[38;5;241m.\u001b[39mproject(x \u001b[38;5;241m-\u001b[39m \u001b[38;5;28mself\u001b[39m\u001b[38;5;241m.\u001b[39mck \u001b[38;5;241m*\u001b[39m delta)\n",
      "File \u001b[0;32m~/.qbraid/environments/womanium_go14xk/pyenv/lib/python3.9/site-packages/lambeq/training/model.py:64\u001b[0m, in \u001b[0;36mModel.__call__\u001b[0;34m(self, *args, **kwds)\u001b[0m\n\u001b[1;32m     63\u001b[0m \u001b[38;5;28;01mdef\u001b[39;00m \u001b[38;5;21m__call__\u001b[39m(\u001b[38;5;28mself\u001b[39m, \u001b[38;5;241m*\u001b[39margs: Any, \u001b[38;5;241m*\u001b[39m\u001b[38;5;241m*\u001b[39mkwds: Any) \u001b[38;5;241m-\u001b[39m\u001b[38;5;241m>\u001b[39m Any:\n\u001b[0;32m---> 64\u001b[0m     \u001b[38;5;28;01mreturn\u001b[39;00m \u001b[38;5;28;43mself\u001b[39;49m\u001b[38;5;241;43m.\u001b[39;49m\u001b[43mforward\u001b[49m\u001b[43m(\u001b[49m\u001b[38;5;241;43m*\u001b[39;49m\u001b[43margs\u001b[49m\u001b[43m,\u001b[49m\u001b[43m \u001b[49m\u001b[38;5;241;43m*\u001b[39;49m\u001b[38;5;241;43m*\u001b[39;49m\u001b[43mkwds\u001b[49m\u001b[43m)\u001b[49m\n",
      "Input \u001b[0;32mIn [125]\u001b[0m, in \u001b[0;36mCustomNumpyModel.forward\u001b[0;34m(self, x)\u001b[0m\n\u001b[1;32m      8\u001b[0m     s1_diagrams\u001b[38;5;241m.\u001b[39mappend(s1d)\n\u001b[1;32m      9\u001b[0m     s2_diagrams\u001b[38;5;241m.\u001b[39mappend(s2d)\n\u001b[0;32m---> 11\u001b[0m s1_output \u001b[38;5;241m=\u001b[39m \u001b[38;5;28;43mself\u001b[39;49m\u001b[38;5;241;43m.\u001b[39;49m\u001b[43mget_diagram_output\u001b[49m\u001b[43m(\u001b[49m\u001b[43ms1_diagrams\u001b[49m\u001b[43m)\u001b[49m\n\u001b[1;32m     12\u001b[0m s2_output \u001b[38;5;241m=\u001b[39m \u001b[38;5;28mself\u001b[39m\u001b[38;5;241m.\u001b[39mget_diagram_output(s2_diagrams)\n\u001b[1;32m     14\u001b[0m s1_dot_s2 \u001b[38;5;241m=\u001b[39m np\u001b[38;5;241m.\u001b[39msum(s1_output \u001b[38;5;241m*\u001b[39m s2_output, axis\u001b[38;5;241m=\u001b[39m\u001b[38;5;241m1\u001b[39m)\n",
      "File \u001b[0;32m~/.qbraid/environments/womanium_go14xk/pyenv/lib/python3.9/site-packages/lambeq/training/numpy_model.py:166\u001b[0m, in \u001b[0;36mNumpyModel.get_diagram_output\u001b[0;34m(self, diagrams)\u001b[0m\n\u001b[1;32m    159\u001b[0m     \u001b[38;5;28;01mraise\u001b[39;00m \u001b[38;5;167;01mValueError\u001b[39;00m(\u001b[38;5;124m'\u001b[39m\u001b[38;5;124mWeights and/or symbols not initialised. \u001b[39m\u001b[38;5;124m'\u001b[39m\n\u001b[1;32m    160\u001b[0m                      \u001b[38;5;124m'\u001b[39m\u001b[38;5;124mInstantiate through \u001b[39m\u001b[38;5;124m'\u001b[39m\n\u001b[1;32m    161\u001b[0m                      \u001b[38;5;124m'\u001b[39m\u001b[38;5;124m`NumpyModel.from_diagrams()` first, \u001b[39m\u001b[38;5;124m'\u001b[39m\n\u001b[1;32m    162\u001b[0m                      \u001b[38;5;124m'\u001b[39m\u001b[38;5;124mthen call `initialise_weights()`, or load \u001b[39m\u001b[38;5;124m'\u001b[39m\n\u001b[1;32m    163\u001b[0m                      \u001b[38;5;124m'\u001b[39m\u001b[38;5;124mfrom pre-trained checkpoint.\u001b[39m\u001b[38;5;124m'\u001b[39m)\n\u001b[1;32m    165\u001b[0m \u001b[38;5;28;01mif\u001b[39;00m \u001b[38;5;28mself\u001b[39m\u001b[38;5;241m.\u001b[39muse_jit:\n\u001b[0;32m--> 166\u001b[0m     lambdified_diagrams \u001b[38;5;241m=\u001b[39m [\u001b[38;5;28mself\u001b[39m\u001b[38;5;241m.\u001b[39m_get_lambda(d) \u001b[38;5;28;01mfor\u001b[39;00m d \u001b[38;5;129;01min\u001b[39;00m diagrams]\n\u001b[1;32m    167\u001b[0m     \u001b[38;5;28;01mreturn\u001b[39;00m numpy\u001b[38;5;241m.\u001b[39marray([diag_f(\u001b[38;5;241m*\u001b[39m\u001b[38;5;28mself\u001b[39m\u001b[38;5;241m.\u001b[39mweights)\n\u001b[1;32m    168\u001b[0m                         \u001b[38;5;28;01mfor\u001b[39;00m diag_f \u001b[38;5;129;01min\u001b[39;00m lambdified_diagrams])\n\u001b[1;32m    170\u001b[0m diagrams \u001b[38;5;241m=\u001b[39m \u001b[38;5;28mself\u001b[39m\u001b[38;5;241m.\u001b[39m_fast_subs(diagrams, \u001b[38;5;28mself\u001b[39m\u001b[38;5;241m.\u001b[39mweights)\n",
      "File \u001b[0;32m~/.qbraid/environments/womanium_go14xk/pyenv/lib/python3.9/site-packages/lambeq/training/numpy_model.py:166\u001b[0m, in \u001b[0;36m<listcomp>\u001b[0;34m(.0)\u001b[0m\n\u001b[1;32m    159\u001b[0m     \u001b[38;5;28;01mraise\u001b[39;00m \u001b[38;5;167;01mValueError\u001b[39;00m(\u001b[38;5;124m'\u001b[39m\u001b[38;5;124mWeights and/or symbols not initialised. \u001b[39m\u001b[38;5;124m'\u001b[39m\n\u001b[1;32m    160\u001b[0m                      \u001b[38;5;124m'\u001b[39m\u001b[38;5;124mInstantiate through \u001b[39m\u001b[38;5;124m'\u001b[39m\n\u001b[1;32m    161\u001b[0m                      \u001b[38;5;124m'\u001b[39m\u001b[38;5;124m`NumpyModel.from_diagrams()` first, \u001b[39m\u001b[38;5;124m'\u001b[39m\n\u001b[1;32m    162\u001b[0m                      \u001b[38;5;124m'\u001b[39m\u001b[38;5;124mthen call `initialise_weights()`, or load \u001b[39m\u001b[38;5;124m'\u001b[39m\n\u001b[1;32m    163\u001b[0m                      \u001b[38;5;124m'\u001b[39m\u001b[38;5;124mfrom pre-trained checkpoint.\u001b[39m\u001b[38;5;124m'\u001b[39m)\n\u001b[1;32m    165\u001b[0m \u001b[38;5;28;01mif\u001b[39;00m \u001b[38;5;28mself\u001b[39m\u001b[38;5;241m.\u001b[39muse_jit:\n\u001b[0;32m--> 166\u001b[0m     lambdified_diagrams \u001b[38;5;241m=\u001b[39m [\u001b[38;5;28;43mself\u001b[39;49m\u001b[38;5;241;43m.\u001b[39;49m\u001b[43m_get_lambda\u001b[49m\u001b[43m(\u001b[49m\u001b[43md\u001b[49m\u001b[43m)\u001b[49m \u001b[38;5;28;01mfor\u001b[39;00m d \u001b[38;5;129;01min\u001b[39;00m diagrams]\n\u001b[1;32m    167\u001b[0m     \u001b[38;5;28;01mreturn\u001b[39;00m numpy\u001b[38;5;241m.\u001b[39marray([diag_f(\u001b[38;5;241m*\u001b[39m\u001b[38;5;28mself\u001b[39m\u001b[38;5;241m.\u001b[39mweights)\n\u001b[1;32m    168\u001b[0m                         \u001b[38;5;28;01mfor\u001b[39;00m diag_f \u001b[38;5;129;01min\u001b[39;00m lambdified_diagrams])\n\u001b[1;32m    170\u001b[0m diagrams \u001b[38;5;241m=\u001b[39m \u001b[38;5;28mself\u001b[39m\u001b[38;5;241m.\u001b[39m_fast_subs(diagrams, \u001b[38;5;28mself\u001b[39m\u001b[38;5;241m.\u001b[39mweights)\n",
      "File \u001b[0;32m~/.qbraid/environments/womanium_go14xk/pyenv/lib/python3.9/site-packages/lambeq/training/numpy_model.py:100\u001b[0m, in \u001b[0;36mNumpyModel._get_lambda\u001b[0;34m(self, diagram)\u001b[0m\n\u001b[1;32m     97\u001b[0m \u001b[38;5;28;01mif\u001b[39;00m \u001b[38;5;129;01mnot\u001b[39;00m \u001b[38;5;28mself\u001b[39m\u001b[38;5;241m.\u001b[39msymbols:\n\u001b[1;32m     98\u001b[0m     \u001b[38;5;28;01mraise\u001b[39;00m \u001b[38;5;167;01mValueError\u001b[39;00m(\u001b[38;5;124m'\u001b[39m\u001b[38;5;124mSymbols not initialised. Instantiate through \u001b[39m\u001b[38;5;124m'\u001b[39m\n\u001b[1;32m     99\u001b[0m                      \u001b[38;5;124m'\u001b[39m\u001b[38;5;124m`NumpyModel.from_diagrams()`.\u001b[39m\u001b[38;5;124m'\u001b[39m)\n\u001b[0;32m--> 100\u001b[0m \u001b[38;5;28;01mif\u001b[39;00m \u001b[43mdiagram\u001b[49m\u001b[43m \u001b[49m\u001b[38;5;129;43;01min\u001b[39;49;00m\u001b[43m \u001b[49m\u001b[38;5;28;43mself\u001b[39;49m\u001b[38;5;241;43m.\u001b[39;49m\u001b[43mlambdas\u001b[49m:\n\u001b[1;32m    101\u001b[0m     \u001b[38;5;28;01mreturn\u001b[39;00m \u001b[38;5;28mself\u001b[39m\u001b[38;5;241m.\u001b[39mlambdas[diagram]\n\u001b[1;32m    103\u001b[0m \u001b[38;5;28;01mdef\u001b[39;00m \u001b[38;5;21mdiagram_output\u001b[39m(\u001b[38;5;241m*\u001b[39mx):\n",
      "File \u001b[0;32m~/.qbraid/environments/womanium_go14xk/pyenv/lib/python3.9/site-packages/discopy/monoidal.py:484\u001b[0m, in \u001b[0;36mDiagram.__hash__\u001b[0;34m(self)\u001b[0m\n\u001b[1;32m    483\u001b[0m \u001b[38;5;28;01mdef\u001b[39;00m \u001b[38;5;21m__hash__\u001b[39m(\u001b[38;5;28mself\u001b[39m):\n\u001b[0;32m--> 484\u001b[0m     \u001b[38;5;28;01mreturn\u001b[39;00m \u001b[38;5;28mhash\u001b[39m(\u001b[38;5;28;43mrepr\u001b[39;49m\u001b[43m(\u001b[49m\u001b[38;5;28;43mself\u001b[39;49m\u001b[43m)\u001b[49m)\n",
      "File \u001b[0;32m~/.qbraid/environments/womanium_go14xk/pyenv/lib/python3.9/site-packages/discopy/quantum/circuit.py:177\u001b[0m, in \u001b[0;36mCircuit.__repr__\u001b[0;34m(self)\u001b[0m\n\u001b[1;32m    176\u001b[0m \u001b[38;5;28;01mdef\u001b[39;00m \u001b[38;5;21m__repr__\u001b[39m(\u001b[38;5;28mself\u001b[39m):\n\u001b[0;32m--> 177\u001b[0m     \u001b[38;5;28;01mreturn\u001b[39;00m \u001b[38;5;28;43msuper\u001b[39;49m\u001b[43m(\u001b[49m\u001b[43m)\u001b[49m\u001b[38;5;241;43m.\u001b[39;49m\u001b[38;5;21;43m__repr__\u001b[39;49m\u001b[43m(\u001b[49m\u001b[43m)\u001b[49m\u001b[38;5;241m.\u001b[39mreplace(\u001b[38;5;124m'\u001b[39m\u001b[38;5;124mDiagram\u001b[39m\u001b[38;5;124m'\u001b[39m, \u001b[38;5;124m'\u001b[39m\u001b[38;5;124mCircuit\u001b[39m\u001b[38;5;124m'\u001b[39m)\n",
      "File \u001b[0;32m~/.qbraid/environments/womanium_go14xk/pyenv/lib/python3.9/site-packages/discopy/monoidal.py:481\u001b[0m, in \u001b[0;36mDiagram.__repr__\u001b[0;34m(self)\u001b[0m\n\u001b[1;32m    477\u001b[0m \u001b[38;5;28;01mif\u001b[39;00m \u001b[38;5;28mlen\u001b[39m(\u001b[38;5;28mself\u001b[39m\u001b[38;5;241m.\u001b[39mboxes) \u001b[38;5;241m==\u001b[39m \u001b[38;5;241m1\u001b[39m \u001b[38;5;129;01mand\u001b[39;00m \u001b[38;5;28mself\u001b[39m\u001b[38;5;241m.\u001b[39mdom \u001b[38;5;241m==\u001b[39m \u001b[38;5;28mself\u001b[39m\u001b[38;5;241m.\u001b[39mboxes[\u001b[38;5;241m0\u001b[39m]\u001b[38;5;241m.\u001b[39mdom:\n\u001b[1;32m    478\u001b[0m     \u001b[38;5;28;01mreturn\u001b[39;00m \u001b[38;5;28mrepr\u001b[39m(\u001b[38;5;28mself\u001b[39m\u001b[38;5;241m.\u001b[39mboxes[\u001b[38;5;241m0\u001b[39m])  \u001b[38;5;66;03m# i.e. self is a generator.\u001b[39;00m\n\u001b[1;32m    479\u001b[0m \u001b[38;5;28;01mreturn\u001b[39;00m \u001b[38;5;124m\"\u001b[39m\u001b[38;5;124mDiagram(dom=\u001b[39m\u001b[38;5;132;01m{}\u001b[39;00m\u001b[38;5;124m, cod=\u001b[39m\u001b[38;5;132;01m{}\u001b[39;00m\u001b[38;5;124m, boxes=\u001b[39m\u001b[38;5;132;01m{}\u001b[39;00m\u001b[38;5;124m, offsets=\u001b[39m\u001b[38;5;132;01m{}\u001b[39;00m\u001b[38;5;124m)\u001b[39m\u001b[38;5;124m\"\u001b[39m\u001b[38;5;241m.\u001b[39mformat(\n\u001b[1;32m    480\u001b[0m     \u001b[38;5;28mrepr\u001b[39m(\u001b[38;5;28mself\u001b[39m\u001b[38;5;241m.\u001b[39mdom), \u001b[38;5;28mrepr\u001b[39m(\u001b[38;5;28mself\u001b[39m\u001b[38;5;241m.\u001b[39mcod),\n\u001b[0;32m--> 481\u001b[0m     \u001b[38;5;28;43mrepr\u001b[39;49m\u001b[43m(\u001b[49m\u001b[38;5;28;43mself\u001b[39;49m\u001b[38;5;241;43m.\u001b[39;49m\u001b[43mboxes\u001b[49m\u001b[43m)\u001b[49m, \u001b[38;5;28mrepr\u001b[39m(\u001b[38;5;28mself\u001b[39m\u001b[38;5;241m.\u001b[39moffsets))\n",
      "File \u001b[0;32m~/.qbraid/environments/womanium_go14xk/pyenv/lib/python3.9/site-packages/discopy/quantum/gates.py:455\u001b[0m, in \u001b[0;36mParametrized.__repr__\u001b[0;34m(self)\u001b[0m\n\u001b[1;32m    454\u001b[0m \u001b[38;5;28;01mdef\u001b[39;00m \u001b[38;5;21m__repr__\u001b[39m(\u001b[38;5;28mself\u001b[39m):\n\u001b[0;32m--> 455\u001b[0m     \u001b[38;5;28;01mreturn\u001b[39;00m \u001b[38;5;28;43mself\u001b[39;49m\u001b[38;5;241;43m.\u001b[39;49m\u001b[43mname\u001b[49m\n",
      "File \u001b[0;32m~/.qbraid/environments/womanium_go14xk/pyenv/lib/python3.9/site-packages/discopy/quantum/gates.py:452\u001b[0m, in \u001b[0;36mParametrized.name\u001b[0;34m(self)\u001b[0m\n\u001b[1;32m    450\u001b[0m \u001b[38;5;129m@property\u001b[39m\n\u001b[1;32m    451\u001b[0m \u001b[38;5;28;01mdef\u001b[39;00m \u001b[38;5;21mname\u001b[39m(\u001b[38;5;28mself\u001b[39m):\n\u001b[0;32m--> 452\u001b[0m     \u001b[38;5;28;01mreturn\u001b[39;00m \u001b[38;5;124;43m'\u001b[39;49m\u001b[38;5;132;43;01m{}\u001b[39;49;00m\u001b[38;5;124;43m(\u001b[39;49m\u001b[38;5;132;43;01m{}\u001b[39;49;00m\u001b[38;5;124;43m)\u001b[39;49m\u001b[38;5;124;43m'\u001b[39;49m\u001b[38;5;241;43m.\u001b[39;49m\u001b[43mformat\u001b[49m\u001b[43m(\u001b[49m\u001b[38;5;28;43mself\u001b[39;49m\u001b[38;5;241;43m.\u001b[39;49m\u001b[43m_name\u001b[49m\u001b[43m,\u001b[49m\u001b[43m \u001b[49m\u001b[43mformat_number\u001b[49m\u001b[43m(\u001b[49m\u001b[38;5;28;43mself\u001b[39;49m\u001b[38;5;241;43m.\u001b[39;49m\u001b[43mdata\u001b[49m\u001b[43m)\u001b[49m\u001b[43m)\u001b[49m\n",
      "File \u001b[0;32m~/.qbraid/environments/womanium_go14xk/pyenv/lib/python3.9/site-packages/sympy/core/_print_helpers.py:29\u001b[0m, in \u001b[0;36mPrintable.__str__\u001b[0;34m(self)\u001b[0m\n\u001b[1;32m     27\u001b[0m \u001b[38;5;28;01mdef\u001b[39;00m \u001b[38;5;21m__str__\u001b[39m(\u001b[38;5;28mself\u001b[39m):\n\u001b[1;32m     28\u001b[0m     \u001b[38;5;28;01mfrom\u001b[39;00m \u001b[38;5;21;01msympy\u001b[39;00m\u001b[38;5;21;01m.\u001b[39;00m\u001b[38;5;21;01mprinting\u001b[39;00m\u001b[38;5;21;01m.\u001b[39;00m\u001b[38;5;21;01mstr\u001b[39;00m \u001b[38;5;28;01mimport\u001b[39;00m sstr\n\u001b[0;32m---> 29\u001b[0m     \u001b[38;5;28;01mreturn\u001b[39;00m \u001b[43msstr\u001b[49m\u001b[43m(\u001b[49m\u001b[38;5;28;43mself\u001b[39;49m\u001b[43m,\u001b[49m\u001b[43m \u001b[49m\u001b[43morder\u001b[49m\u001b[38;5;241;43m=\u001b[39;49m\u001b[38;5;28;43;01mNone\u001b[39;49;00m\u001b[43m)\u001b[49m\n",
      "File \u001b[0;32m~/.qbraid/environments/womanium_go14xk/pyenv/lib/python3.9/site-packages/sympy/printing/printer.py:372\u001b[0m, in \u001b[0;36m_PrintFunction.__call__\u001b[0;34m(self, *args, **kwargs)\u001b[0m\n\u001b[1;32m    371\u001b[0m \u001b[38;5;28;01mdef\u001b[39;00m \u001b[38;5;21m__call__\u001b[39m(\u001b[38;5;28mself\u001b[39m, \u001b[38;5;241m*\u001b[39margs, \u001b[38;5;241m*\u001b[39m\u001b[38;5;241m*\u001b[39mkwargs):\n\u001b[0;32m--> 372\u001b[0m     \u001b[38;5;28;01mreturn\u001b[39;00m \u001b[38;5;28;43mself\u001b[39;49m\u001b[38;5;241;43m.\u001b[39;49m\u001b[43m__wrapped__\u001b[49m\u001b[43m(\u001b[49m\u001b[38;5;241;43m*\u001b[39;49m\u001b[43margs\u001b[49m\u001b[43m,\u001b[49m\u001b[43m \u001b[49m\u001b[38;5;241;43m*\u001b[39;49m\u001b[38;5;241;43m*\u001b[39;49m\u001b[43mkwargs\u001b[49m\u001b[43m)\u001b[49m\n",
      "File \u001b[0;32m~/.qbraid/environments/womanium_go14xk/pyenv/lib/python3.9/site-packages/sympy/printing/str.py:1001\u001b[0m, in \u001b[0;36msstr\u001b[0;34m(expr, **settings)\u001b[0m\n\u001b[1;32m    985\u001b[0m \u001b[38;5;124;03m\"\"\"Returns the expression as a string.\u001b[39;00m\n\u001b[1;32m    986\u001b[0m \n\u001b[1;32m    987\u001b[0m \u001b[38;5;124;03mFor large expressions where speed is a concern, use the setting\u001b[39;00m\n\u001b[0;32m   (...)\u001b[0m\n\u001b[1;32m    997\u001b[0m \u001b[38;5;124;03m'Eq(a + b, 0)'\u001b[39;00m\n\u001b[1;32m    998\u001b[0m \u001b[38;5;124;03m\"\"\"\u001b[39;00m\n\u001b[1;32m   1000\u001b[0m p \u001b[38;5;241m=\u001b[39m StrPrinter(settings)\n\u001b[0;32m-> 1001\u001b[0m s \u001b[38;5;241m=\u001b[39m \u001b[43mp\u001b[49m\u001b[38;5;241;43m.\u001b[39;49m\u001b[43mdoprint\u001b[49m\u001b[43m(\u001b[49m\u001b[43mexpr\u001b[49m\u001b[43m)\u001b[49m\n\u001b[1;32m   1003\u001b[0m \u001b[38;5;28;01mreturn\u001b[39;00m s\n",
      "File \u001b[0;32m~/.qbraid/environments/womanium_go14xk/pyenv/lib/python3.9/site-packages/sympy/printing/printer.py:292\u001b[0m, in \u001b[0;36mPrinter.doprint\u001b[0;34m(self, expr)\u001b[0m\n\u001b[1;32m    290\u001b[0m \u001b[38;5;28;01mdef\u001b[39;00m \u001b[38;5;21mdoprint\u001b[39m(\u001b[38;5;28mself\u001b[39m, expr):\n\u001b[1;32m    291\u001b[0m     \u001b[38;5;124;03m\"\"\"Returns printer's representation for expr (as a string)\"\"\"\u001b[39;00m\n\u001b[0;32m--> 292\u001b[0m     \u001b[38;5;28;01mreturn\u001b[39;00m \u001b[38;5;28mself\u001b[39m\u001b[38;5;241m.\u001b[39m_str(\u001b[38;5;28;43mself\u001b[39;49m\u001b[38;5;241;43m.\u001b[39;49m\u001b[43m_print\u001b[49m\u001b[43m(\u001b[49m\u001b[43mexpr\u001b[49m\u001b[43m)\u001b[49m)\n",
      "File \u001b[0;32m~/.qbraid/environments/womanium_go14xk/pyenv/lib/python3.9/site-packages/sympy/printing/printer.py:327\u001b[0m, in \u001b[0;36mPrinter._print\u001b[0;34m(self, expr, **kwargs)\u001b[0m\n\u001b[1;32m    323\u001b[0m     i \u001b[38;5;241m=\u001b[39m classes\u001b[38;5;241m.\u001b[39mindex(Function)\n\u001b[1;32m    324\u001b[0m     classes \u001b[38;5;241m=\u001b[39m \u001b[38;5;28mtuple\u001b[39m(c \u001b[38;5;28;01mfor\u001b[39;00m c \u001b[38;5;129;01min\u001b[39;00m classes[:i] \u001b[38;5;28;01mif\u001b[39;00m \\\n\u001b[1;32m    325\u001b[0m         c\u001b[38;5;241m.\u001b[39m\u001b[38;5;18m__name__\u001b[39m \u001b[38;5;241m==\u001b[39m classes[\u001b[38;5;241m0\u001b[39m]\u001b[38;5;241m.\u001b[39m\u001b[38;5;18m__name__\u001b[39m \u001b[38;5;129;01mor\u001b[39;00m \\\n\u001b[1;32m    326\u001b[0m         c\u001b[38;5;241m.\u001b[39m\u001b[38;5;18m__name__\u001b[39m\u001b[38;5;241m.\u001b[39mendswith(\u001b[38;5;124m\"\u001b[39m\u001b[38;5;124mBase\u001b[39m\u001b[38;5;124m\"\u001b[39m)) \u001b[38;5;241m+\u001b[39m classes[i:]\n\u001b[0;32m--> 327\u001b[0m \u001b[38;5;28;01mfor\u001b[39;00m \u001b[38;5;28mcls\u001b[39m \u001b[38;5;129;01min\u001b[39;00m \u001b[43mclasses\u001b[49m:\n\u001b[1;32m    328\u001b[0m     printmethodname \u001b[38;5;241m=\u001b[39m \u001b[38;5;124m'\u001b[39m\u001b[38;5;124m_print_\u001b[39m\u001b[38;5;124m'\u001b[39m \u001b[38;5;241m+\u001b[39m \u001b[38;5;28mcls\u001b[39m\u001b[38;5;241m.\u001b[39m\u001b[38;5;18m__name__\u001b[39m\n\u001b[1;32m    329\u001b[0m     printmethod \u001b[38;5;241m=\u001b[39m \u001b[38;5;28mgetattr\u001b[39m(\u001b[38;5;28mself\u001b[39m, printmethodname, \u001b[38;5;28;01mNone\u001b[39;00m)\n",
      "\u001b[0;31mKeyboardInterrupt\u001b[0m: "
     ]
    }
   ],
   "source": [
    "npy_trainer.fit(train_dataset, val_dataset, evaluation_step=1, logging_step=1)"
   ]
  },
  {
   "cell_type": "code",
   "execution_count": 138,
   "id": "d5ec0409-6f94-4321-8d0a-f79dac50e784",
   "metadata": {},
   "outputs": [
    {
     "name": "stderr",
     "output_type": "stream",
     "text": [
      "WARNING:absl:No GPU/TPU found, falling back to CPU. (Set TF_CPP_MIN_LOG_LEVEL=0 and rerun for more info.)\n",
      "Epoch 1:     train/loss: 0.6986   valid/loss: 0.7235   train/acc: 0.5469   valid/acc: 0.4375\n",
      "Epoch 2:     train/loss: 0.6637   valid/loss: 0.7144   train/acc: 0.6094   valid/acc: 0.4375\n",
      "Epoch 3:     train/loss: 0.6678   valid/loss: 0.7142   train/acc: 0.6250   valid/acc: 0.4375\n",
      "Epoch 4:     train/loss: 0.6883   valid/loss: 0.7283   train/acc: 0.5938   valid/acc: 0.3750\n",
      "Epoch 5:     train/loss: 0.6708   valid/loss: 0.7284   train/acc: 0.5625   valid/acc: 0.3750\n",
      "Epoch 6:     train/loss: 0.6648   valid/loss: 0.7240   train/acc: 0.5625   valid/acc: 0.4375\n",
      "Epoch 7:     train/loss: 0.6582   valid/loss: 0.7254   train/acc: 0.5938   valid/acc: 0.4375\n",
      "Epoch 8:     train/loss: 0.6409   valid/loss: 0.7188   train/acc: 0.7031   valid/acc: 0.5000\n",
      "Epoch 9:     train/loss: 0.6551   valid/loss: 0.7153   train/acc: 0.5938   valid/acc: 0.5000\n",
      "Epoch 10:    train/loss: 0.6620   valid/loss: 0.7191   train/acc: 0.5781   valid/acc: 0.4375\n",
      "Epoch 11:    train/loss: 0.6497   valid/loss: 0.7178   train/acc: 0.6250   valid/acc: 0.4375\n",
      "Epoch 12:    train/loss: 0.6506   valid/loss: 0.7168   train/acc: 0.5625   valid/acc: 0.4375\n",
      "Epoch 13:    train/loss: 0.6353   valid/loss: 0.7205   train/acc: 0.6562   valid/acc: 0.4375\n",
      "Epoch 14:    train/loss: 0.6425   valid/loss: 0.7061   train/acc: 0.5938   valid/acc: 0.4375\n",
      "Epoch 15:    train/loss: 0.6358   valid/loss: 0.7050   train/acc: 0.7188   valid/acc: 0.4375\n",
      "Epoch 16:    train/loss: 0.6620   valid/loss: 0.6974   train/acc: 0.5781   valid/acc: 0.4375\n",
      "Epoch 17:    train/loss: 0.6592   valid/loss: 0.7153   train/acc: 0.6406   valid/acc: 0.4375\n",
      "Epoch 18:    train/loss: 0.6341   valid/loss: 0.7069   train/acc: 0.6094   valid/acc: 0.4375\n",
      "Epoch 19:    train/loss: 0.6148   valid/loss: 0.7157   train/acc: 0.6094   valid/acc: 0.4375\n",
      "Epoch 20:    train/loss: 0.6391   valid/loss: 0.6995   train/acc: 0.6406   valid/acc: 0.4375\n",
      "Epoch 21:    train/loss: 0.6326   valid/loss: 0.6991   train/acc: 0.6250   valid/acc: 0.4375\n",
      "Epoch 22:    train/loss: 0.5953   valid/loss: 0.7024   train/acc: 0.6406   valid/acc: 0.4375\n",
      "Epoch 23:    train/loss: 0.6330   valid/loss: 0.7098   train/acc: 0.6719   valid/acc: 0.4375\n",
      "Epoch 24:    train/loss: 0.6644   valid/loss: 0.7168   train/acc: 0.6719   valid/acc: 0.4375\n",
      "Epoch 25:    train/loss: 0.6244   valid/loss: 0.7491   train/acc: 0.6094   valid/acc: 0.5000\n",
      "Epoch 26:    train/loss: 0.6063   valid/loss: 0.7531   train/acc: 0.6875   valid/acc: 0.5000\n",
      "Epoch 27:    train/loss: 0.6206   valid/loss: 0.7578   train/acc: 0.6562   valid/acc: 0.5000\n",
      "Epoch 28:    train/loss: 0.6150   valid/loss: 0.7545   train/acc: 0.6562   valid/acc: 0.5000\n",
      "Epoch 29:    train/loss: 0.6307   valid/loss: 0.7465   train/acc: 0.6719   valid/acc: 0.5000\n",
      "Epoch 30:    train/loss: 0.6323   valid/loss: 0.7345   train/acc: 0.6562   valid/acc: 0.5000\n",
      "Epoch 31:    train/loss: 0.6280   valid/loss: 0.7422   train/acc: 0.6406   valid/acc: 0.5000\n",
      "Epoch 32:    train/loss: 0.6084   valid/loss: 0.7423   train/acc: 0.6562   valid/acc: 0.5000\n",
      "Epoch 33:    train/loss: 0.6193   valid/loss: 0.7411   train/acc: 0.7031   valid/acc: 0.4375\n",
      "Epoch 34:    train/loss: 0.6348   valid/loss: 0.7331   train/acc: 0.6406   valid/acc: 0.5000\n",
      "Epoch 35:    train/loss: 0.6363   valid/loss: 0.7357   train/acc: 0.6562   valid/acc: 0.5000\n",
      "Epoch 36:    train/loss: 0.6095   valid/loss: 0.7597   train/acc: 0.6719   valid/acc: 0.4375\n",
      "Epoch 37:    train/loss: 0.6297   valid/loss: 0.7639   train/acc: 0.6094   valid/acc: 0.4375\n",
      "Epoch 38:    train/loss: 0.5930   valid/loss: 0.7549   train/acc: 0.6719   valid/acc: 0.4375\n",
      "Epoch 39:    train/loss: 0.6021   valid/loss: 0.7519   train/acc: 0.6406   valid/acc: 0.5000\n",
      "Epoch 40:    train/loss: 0.6055   valid/loss: 0.7531   train/acc: 0.7031   valid/acc: 0.5000\n",
      "Epoch 41:    train/loss: 0.6104   valid/loss: 0.7445   train/acc: 0.5781   valid/acc: 0.5000\n",
      "Epoch 42:    train/loss: 0.5949   valid/loss: 0.7425   train/acc: 0.7031   valid/acc: 0.5000\n",
      "Epoch 43:    train/loss: 0.6056   valid/loss: 0.7366   train/acc: 0.6875   valid/acc: 0.4375\n",
      "Epoch 44:    train/loss: 0.6045   valid/loss: 0.7395   train/acc: 0.6719   valid/acc: 0.5000\n",
      "Epoch 45:    train/loss: 0.6303   valid/loss: 0.7469   train/acc: 0.6094   valid/acc: 0.5000\n",
      "Epoch 46:    train/loss: 0.6383   valid/loss: 0.7409   train/acc: 0.5781   valid/acc: 0.5000\n",
      "Epoch 47:    train/loss: 0.5857   valid/loss: 0.7440   train/acc: 0.6562   valid/acc: 0.5000\n",
      "Epoch 48:    train/loss: 0.6031   valid/loss: 0.7335   train/acc: 0.6406   valid/acc: 0.4375\n",
      "Epoch 49:    train/loss: 0.6276   valid/loss: 0.7288   train/acc: 0.6562   valid/acc: 0.4375\n",
      "Epoch 50:    train/loss: 0.6232   valid/loss: 0.7276   train/acc: 0.6094   valid/acc: 0.4375\n",
      "Epoch 51:    train/loss: 0.6040   valid/loss: 0.7271   train/acc: 0.6562   valid/acc: 0.4375\n",
      "Epoch 52:    train/loss: 0.5778   valid/loss: 0.7247   train/acc: 0.7344   valid/acc: 0.4375\n",
      "Epoch 53:    train/loss: 0.6070   valid/loss: 0.7208   train/acc: 0.6719   valid/acc: 0.4375\n",
      "Epoch 54:    train/loss: 0.5936   valid/loss: 0.7194   train/acc: 0.6875   valid/acc: 0.4375\n",
      "Epoch 55:    train/loss: 0.5940   valid/loss: 0.7218   train/acc: 0.6562   valid/acc: 0.4375\n",
      "Epoch 56:    train/loss: 0.5991   valid/loss: 0.7274   train/acc: 0.5781   valid/acc: 0.4375\n",
      "Epoch 57:    train/loss: 0.6045   valid/loss: 0.7188   train/acc: 0.6875   valid/acc: 0.4375\n",
      "Epoch 58:    train/loss: 0.5874   valid/loss: 0.7215   train/acc: 0.6562   valid/acc: 0.4375\n",
      "Epoch 59:    train/loss: 0.5831   valid/loss: 0.7207   train/acc: 0.7344   valid/acc: 0.4375\n",
      "Epoch 60:    train/loss: 0.5940   valid/loss: 0.7188   train/acc: 0.6875   valid/acc: 0.4375\n",
      "Epoch 61:    train/loss: 0.5988   valid/loss: 0.7107   train/acc: 0.6875   valid/acc: 0.4375\n",
      "Epoch 62:    train/loss: 0.6031   valid/loss: 0.7126   train/acc: 0.6719   valid/acc: 0.4375\n",
      "Epoch 63:    train/loss: 0.5818   valid/loss: 0.7185   train/acc: 0.7031   valid/acc: 0.4375\n",
      "Epoch 64:    train/loss: 0.5795   valid/loss: 0.7200   train/acc: 0.6406   valid/acc: 0.4375\n",
      "Epoch 65:    train/loss: 0.6050   valid/loss: 0.7191   train/acc: 0.6875   valid/acc: 0.4375\n",
      "Epoch 66:    train/loss: 0.5770   valid/loss: 0.7119   train/acc: 0.7344   valid/acc: 0.4375\n",
      "Epoch 67:    train/loss: 0.5892   valid/loss: 0.6976   train/acc: 0.7656   valid/acc: 0.4375\n",
      "Epoch 68:    train/loss: 0.5936   valid/loss: 0.6964   train/acc: 0.6719   valid/acc: 0.4375\n",
      "Epoch 69:    train/loss: 0.5945   valid/loss: 0.6892   train/acc: 0.6094   valid/acc: 0.5000\n",
      "Epoch 70:    train/loss: 0.5509   valid/loss: 0.6954   train/acc: 0.7500   valid/acc: 0.4375\n",
      "Epoch 71:    train/loss: 0.5891   valid/loss: 0.6989   train/acc: 0.7031   valid/acc: 0.4375\n",
      "Epoch 72:    train/loss: 0.5586   valid/loss: 0.6952   train/acc: 0.7188   valid/acc: 0.4375\n",
      "Epoch 73:    train/loss: 0.5768   valid/loss: 0.6873   train/acc: 0.7344   valid/acc: 0.4375\n",
      "Epoch 74:    train/loss: 0.6007   valid/loss: 0.6621   train/acc: 0.6719   valid/acc: 0.5000\n",
      "Epoch 75:    train/loss: 0.5602   valid/loss: 0.6625   train/acc: 0.7344   valid/acc: 0.5000\n",
      "Epoch 76:    train/loss: 0.5929   valid/loss: 0.6544   train/acc: 0.7656   valid/acc: 0.5625\n",
      "Epoch 77:    train/loss: 0.5769   valid/loss: 0.6568   train/acc: 0.7656   valid/acc: 0.5625\n",
      "Epoch 78:    train/loss: 0.5632   valid/loss: 0.6599   train/acc: 0.7031   valid/acc: 0.5625\n",
      "Epoch 79:    train/loss: 0.5351   valid/loss: 0.6560   train/acc: 0.7969   valid/acc: 0.5625\n",
      "Epoch 80:    train/loss: 0.5555   valid/loss: 0.6612   train/acc: 0.7812   valid/acc: 0.5625\n",
      "Epoch 81:    train/loss: 0.5448   valid/loss: 0.6615   train/acc: 0.7344   valid/acc: 0.5625\n",
      "Epoch 82:    train/loss: 0.5328   valid/loss: 0.6641   train/acc: 0.8125   valid/acc: 0.5625\n",
      "Epoch 83:    train/loss: 0.5762   valid/loss: 0.6705   train/acc: 0.7344   valid/acc: 0.5625\n",
      "Epoch 84:    train/loss: 0.5420   valid/loss: 0.6800   train/acc: 0.7812   valid/acc: 0.5625\n",
      "Epoch 85:    train/loss: 0.5369   valid/loss: 0.6816   train/acc: 0.8438   valid/acc: 0.5625\n",
      "Epoch 86:    train/loss: 0.5323   valid/loss: 0.6902   train/acc: 0.8125   valid/acc: 0.5625\n",
      "Epoch 87:    train/loss: 0.5473   valid/loss: 0.7014   train/acc: 0.8438   valid/acc: 0.5625\n",
      "Epoch 88:    train/loss: 0.5519   valid/loss: 0.6999   train/acc: 0.7969   valid/acc: 0.5625\n",
      "Epoch 89:    train/loss: 0.5482   valid/loss: 0.6850   train/acc: 0.8281   valid/acc: 0.5625\n",
      "Epoch 90:    train/loss: 0.5499   valid/loss: 0.6842   train/acc: 0.7969   valid/acc: 0.5625\n",
      "Epoch 91:    train/loss: 0.5125   valid/loss: 0.6765   train/acc: 0.8438   valid/acc: 0.5625\n",
      "Epoch 92:    train/loss: 0.5280   valid/loss: 0.6671   train/acc: 0.8594   valid/acc: 0.5625\n",
      "Epoch 93:    train/loss: 0.5192   valid/loss: 0.6658   train/acc: 0.8906   valid/acc: 0.5625\n",
      "Epoch 94:    train/loss: 0.5462   valid/loss: 0.6639   train/acc: 0.7656   valid/acc: 0.5625\n",
      "Epoch 95:    train/loss: 0.5717   valid/loss: 0.6428   train/acc: 0.7031   valid/acc: 0.5625\n",
      "Epoch 96:    train/loss: 0.5268   valid/loss: 0.6469   train/acc: 0.7812   valid/acc: 0.5625\n",
      "Epoch 97:    train/loss: 0.5398   valid/loss: 0.6429   train/acc: 0.8125   valid/acc: 0.5625\n",
      "Epoch 98:    train/loss: 0.4958   valid/loss: 0.6286   train/acc: 0.8594   valid/acc: 0.5625\n",
      "Epoch 99:    train/loss: 0.5246   valid/loss: 0.6306   train/acc: 0.8438   valid/acc: 0.5625\n",
      "Epoch 100:   train/loss: 0.4920   valid/loss: 0.6287   train/acc: 0.8438   valid/acc: 0.5625\n",
      "Epoch 101:   train/loss: 0.4996   valid/loss: 0.6235   train/acc: 0.8594   valid/acc: 0.5625\n",
      "Epoch 102:   train/loss: 0.5182   valid/loss: 0.6141   train/acc: 0.8750   valid/acc: 0.5625\n",
      "Epoch 103:   train/loss: 0.5089   valid/loss: 0.6161   train/acc: 0.8438   valid/acc: 0.5625\n",
      "Epoch 104:   train/loss: 0.5028   valid/loss: 0.6067   train/acc: 0.8750   valid/acc: 0.5625\n",
      "Epoch 105:   train/loss: 0.5238   valid/loss: 0.6002   train/acc: 0.8438   valid/acc: 0.5625\n",
      "Epoch 106:   train/loss: 0.5065   valid/loss: 0.6005   train/acc: 0.8750   valid/acc: 0.5625\n",
      "Epoch 107:   train/loss: 0.5492   valid/loss: 0.5963   train/acc: 0.7500   valid/acc: 0.5625\n",
      "Epoch 108:   train/loss: 0.5190   valid/loss: 0.5910   train/acc: 0.8750   valid/acc: 0.5625\n",
      "Epoch 109:   train/loss: 0.5250   valid/loss: 0.5830   train/acc: 0.8750   valid/acc: 0.5625\n",
      "Epoch 110:   train/loss: 0.5008   valid/loss: 0.5802   train/acc: 0.8906   valid/acc: 0.5625\n",
      "Epoch 111:   train/loss: 0.5318   valid/loss: 0.5579   train/acc: 0.8750   valid/acc: 0.5625\n",
      "Epoch 112:   train/loss: 0.5118   valid/loss: 0.5592   train/acc: 0.9062   valid/acc: 0.5625\n",
      "Epoch 113:   train/loss: 0.4999   valid/loss: 0.5593   train/acc: 0.8594   valid/acc: 0.5625\n",
      "Epoch 114:   train/loss: 0.5221   valid/loss: 0.5542   train/acc: 0.9062   valid/acc: 0.5625\n",
      "Epoch 115:   train/loss: 0.4911   valid/loss: 0.5533   train/acc: 0.8438   valid/acc: 0.5625\n",
      "Epoch 116:   train/loss: 0.5073   valid/loss: 0.5537   train/acc: 0.8906   valid/acc: 0.5625\n",
      "Epoch 117:   train/loss: 0.5194   valid/loss: 0.5580   train/acc: 0.8125   valid/acc: 0.5625\n",
      "Epoch 118:   train/loss: 0.4744   valid/loss: 0.5607   train/acc: 0.9375   valid/acc: 0.5625\n",
      "Epoch 119:   train/loss: 0.5350   valid/loss: 0.5645   train/acc: 0.8750   valid/acc: 0.5625\n",
      "Epoch 120:   train/loss: 0.4774   valid/loss: 0.5665   train/acc: 0.9219   valid/acc: 0.5625\n",
      "Epoch 121:   train/loss: 0.4994   valid/loss: 0.5649   train/acc: 0.8906   valid/acc: 0.5625\n",
      "Epoch 122:   train/loss: 0.4852   valid/loss: 0.5669   train/acc: 0.9062   valid/acc: 0.5625\n",
      "Epoch 123:   train/loss: 0.4566   valid/loss: 0.5675   train/acc: 0.9219   valid/acc: 0.5625\n",
      "Epoch 124:   train/loss: 0.4917   valid/loss: 0.5603   train/acc: 0.9219   valid/acc: 0.5625\n",
      "Epoch 125:   train/loss: 0.4716   valid/loss: 0.5466   train/acc: 0.9219   valid/acc: 0.5625\n",
      "Epoch 126:   train/loss: 0.4859   valid/loss: 0.5446   train/acc: 0.9531   valid/acc: 0.5625\n",
      "Epoch 127:   train/loss: 0.4724   valid/loss: 0.5348   train/acc: 0.9062   valid/acc: 0.5625\n",
      "Epoch 128:   train/loss: 0.4456   valid/loss: 0.5354   train/acc: 0.9219   valid/acc: 0.5625\n",
      "Epoch 129:   train/loss: 0.4614   valid/loss: 0.5358   train/acc: 0.9219   valid/acc: 0.5625\n",
      "Epoch 130:   train/loss: 0.4733   valid/loss: 0.5372   train/acc: 0.9062   valid/acc: 0.5625\n",
      "Epoch 131:   train/loss: 0.4815   valid/loss: 0.5329   train/acc: 0.8594   valid/acc: 0.5625\n",
      "Epoch 132:   train/loss: 0.4681   valid/loss: 0.5371   train/acc: 0.8750   valid/acc: 0.5625\n",
      "Epoch 133:   train/loss: 0.4829   valid/loss: 0.5384   train/acc: 0.9219   valid/acc: 0.5625\n",
      "Epoch 134:   train/loss: 0.4718   valid/loss: 0.5370   train/acc: 0.9531   valid/acc: 0.5625\n",
      "Epoch 135:   train/loss: 0.5053   valid/loss: 0.5442   train/acc: 0.8906   valid/acc: 0.5625\n",
      "Epoch 136:   train/loss: 0.4929   valid/loss: 0.5405   train/acc: 0.9375   valid/acc: 0.5625\n",
      "Epoch 137:   train/loss: 0.4851   valid/loss: 0.5385   train/acc: 0.9062   valid/acc: 0.5625\n",
      "Epoch 138:   train/loss: 0.4468   valid/loss: 0.5399   train/acc: 0.8750   valid/acc: 0.5625\n",
      "Epoch 139:   train/loss: 0.4351   valid/loss: 0.5334   train/acc: 0.9219   valid/acc: 0.5625\n",
      "Epoch 140:   train/loss: 0.4665   valid/loss: 0.5284   train/acc: 0.9219   valid/acc: 0.5625\n",
      "Epoch 141:   train/loss: 0.4709   valid/loss: 0.5274   train/acc: 0.9219   valid/acc: 0.5625\n",
      "Epoch 142:   train/loss: 0.4524   valid/loss: 0.5115   train/acc: 0.9375   valid/acc: 0.5625\n",
      "Epoch 143:   train/loss: 0.4685   valid/loss: 0.5113   train/acc: 0.9375   valid/acc: 0.5625\n",
      "Epoch 144:   train/loss: 0.4611   valid/loss: 0.5082   train/acc: 0.9219   valid/acc: 0.5625\n",
      "Epoch 145:   train/loss: 0.4708   valid/loss: 0.5090   train/acc: 0.9062   valid/acc: 0.5625\n",
      "Epoch 146:   train/loss: 0.5127   valid/loss: 0.5050   train/acc: 0.8594   valid/acc: 0.5625\n",
      "Epoch 147:   train/loss: 0.4749   valid/loss: 0.5049   train/acc: 0.8438   valid/acc: 0.5625\n",
      "Epoch 148:   train/loss: 0.4306   valid/loss: 0.5072   train/acc: 0.9219   valid/acc: 0.5625\n",
      "Epoch 149:   train/loss: 0.4526   valid/loss: 0.4979   train/acc: 0.9219   valid/acc: 0.5625\n",
      "Epoch 150:   train/loss: 0.4462   valid/loss: 0.4984   train/acc: 0.9219   valid/acc: 0.5625\n",
      "Epoch 151:   train/loss: 0.4347   valid/loss: 0.4971   train/acc: 0.9375   valid/acc: 0.5625\n",
      "Epoch 152:   train/loss: 0.4617   valid/loss: 0.4959   train/acc: 0.9375   valid/acc: 0.5625\n",
      "Epoch 153:   train/loss: 0.4455   valid/loss: 0.4942   train/acc: 0.9219   valid/acc: 0.5625\n",
      "Epoch 154:   train/loss: 0.4043   valid/loss: 0.4955   train/acc: 0.9219   valid/acc: 0.5625\n",
      "Epoch 155:   train/loss: 0.4339   valid/loss: 0.5045   train/acc: 0.9375   valid/acc: 0.5625\n",
      "Epoch 156:   train/loss: 0.4457   valid/loss: 0.5056   train/acc: 0.9062   valid/acc: 0.6250\n",
      "Epoch 157:   train/loss: 0.4328   valid/loss: 0.5083   train/acc: 0.9219   valid/acc: 0.5625\n",
      "Epoch 158:   train/loss: 0.4407   valid/loss: 0.5061   train/acc: 0.9062   valid/acc: 0.5625\n",
      "Epoch 159:   train/loss: 0.4264   valid/loss: 0.5058   train/acc: 0.9219   valid/acc: 0.5625\n",
      "Epoch 160:   train/loss: 0.4444   valid/loss: 0.5071   train/acc: 0.9375   valid/acc: 0.5625\n",
      "Epoch 161:   train/loss: 0.4870   valid/loss: 0.5033   train/acc: 0.8750   valid/acc: 0.5625\n",
      "Epoch 162:   train/loss: 0.4762   valid/loss: 0.5009   train/acc: 0.8750   valid/acc: 0.6250\n",
      "Epoch 163:   train/loss: 0.4242   valid/loss: 0.4962   train/acc: 0.9219   valid/acc: 0.6250\n",
      "Epoch 164:   train/loss: 0.4546   valid/loss: 0.4920   train/acc: 0.9375   valid/acc: 0.6875\n",
      "Epoch 165:   train/loss: 0.4404   valid/loss: 0.4845   train/acc: 0.9062   valid/acc: 0.6250\n",
      "Epoch 166:   train/loss: 0.4440   valid/loss: 0.4854   train/acc: 0.9062   valid/acc: 0.6875\n",
      "Epoch 167:   train/loss: 0.4374   valid/loss: 0.4826   train/acc: 0.9531   valid/acc: 0.6875\n",
      "Epoch 168:   train/loss: 0.4516   valid/loss: 0.4848   train/acc: 0.9062   valid/acc: 0.6875\n",
      "Epoch 169:   train/loss: 0.4414   valid/loss: 0.4786   train/acc: 0.9219   valid/acc: 0.6875\n",
      "Epoch 170:   train/loss: 0.4854   valid/loss: 0.4752   train/acc: 0.9062   valid/acc: 0.6875\n",
      "Epoch 171:   train/loss: 0.4399   valid/loss: 0.4738   train/acc: 0.9062   valid/acc: 0.6875\n",
      "Epoch 172:   train/loss: 0.4610   valid/loss: 0.4618   train/acc: 0.8906   valid/acc: 0.6250\n",
      "Epoch 173:   train/loss: 0.4029   valid/loss: 0.4620   train/acc: 0.8906   valid/acc: 0.6250\n",
      "Epoch 174:   train/loss: 0.4326   valid/loss: 0.4600   train/acc: 0.9219   valid/acc: 0.6875\n",
      "Epoch 175:   train/loss: 0.4133   valid/loss: 0.4586   train/acc: 0.9219   valid/acc: 0.6875\n",
      "Epoch 176:   train/loss: 0.4239   valid/loss: 0.4599   train/acc: 0.9219   valid/acc: 0.6875\n",
      "Epoch 177:   train/loss: 0.4327   valid/loss: 0.4558   train/acc: 0.9219   valid/acc: 0.8750\n",
      "Epoch 178:   train/loss: 0.4325   valid/loss: 0.4540   train/acc: 0.9219   valid/acc: 0.8750\n",
      "Epoch 179:   train/loss: 0.4255   valid/loss: 0.4544   train/acc: 0.9219   valid/acc: 0.8750\n",
      "Epoch 180:   train/loss: 0.4396   valid/loss: 0.4455   train/acc: 0.9219   valid/acc: 0.8750\n",
      "Epoch 181:   train/loss: 0.4056   valid/loss: 0.4464   train/acc: 0.9375   valid/acc: 0.8750\n",
      "Epoch 182:   train/loss: 0.3790   valid/loss: 0.4439   train/acc: 0.9219   valid/acc: 0.8750\n",
      "Epoch 183:   train/loss: 0.4368   valid/loss: 0.4330   train/acc: 0.9219   valid/acc: 0.8750\n",
      "Epoch 184:   train/loss: 0.4432   valid/loss: 0.4335   train/acc: 0.9531   valid/acc: 0.8750\n",
      "Epoch 185:   train/loss: 0.4136   valid/loss: 0.4246   train/acc: 0.9531   valid/acc: 0.8750\n",
      "Epoch 186:   train/loss: 0.3880   valid/loss: 0.4226   train/acc: 0.9375   valid/acc: 0.8750\n",
      "Epoch 187:   train/loss: 0.3918   valid/loss: 0.4226   train/acc: 0.9375   valid/acc: 0.8750\n",
      "Epoch 188:   train/loss: 0.3954   valid/loss: 0.4237   train/acc: 0.9531   valid/acc: 0.8750\n",
      "Epoch 189:   train/loss: 0.4102   valid/loss: 0.4232   train/acc: 0.9219   valid/acc: 0.8750\n",
      "Epoch 190:   train/loss: 0.3686   valid/loss: 0.4181   train/acc: 0.9375   valid/acc: 0.8750\n",
      "Epoch 191:   train/loss: 0.4176   valid/loss: 0.4185   train/acc: 0.9375   valid/acc: 0.8750\n",
      "Epoch 192:   train/loss: 0.4091   valid/loss: 0.4187   train/acc: 0.9375   valid/acc: 0.8750\n",
      "Epoch 193:   train/loss: 0.3838   valid/loss: 0.4194   train/acc: 0.9375   valid/acc: 0.8750\n",
      "Epoch 194:   train/loss: 0.4124   valid/loss: 0.4205   train/acc: 0.9375   valid/acc: 0.8750\n",
      "Epoch 195:   train/loss: 0.3999   valid/loss: 0.4183   train/acc: 0.9219   valid/acc: 0.8750\n",
      "Epoch 196:   train/loss: 0.3930   valid/loss: 0.4178   train/acc: 0.9375   valid/acc: 0.8750\n",
      "Epoch 197:   train/loss: 0.3895   valid/loss: 0.4147   train/acc: 0.9375   valid/acc: 0.8750\n",
      "Epoch 198:   train/loss: 0.4078   valid/loss: 0.4144   train/acc: 0.9531   valid/acc: 0.8750\n",
      "Epoch 199:   train/loss: 0.4201   valid/loss: 0.4148   train/acc: 0.9375   valid/acc: 0.8750\n",
      "Epoch 200:   train/loss: 0.3851   valid/loss: 0.4127   train/acc: 0.9531   valid/acc: 0.8750\n",
      "Epoch 201:   train/loss: 0.4099   valid/loss: 0.4122   train/acc: 0.9375   valid/acc: 0.8750\n",
      "Epoch 202:   train/loss: 0.4149   valid/loss: 0.4084   train/acc: 0.9688   valid/acc: 0.8750\n",
      "Epoch 203:   train/loss: 0.4105   valid/loss: 0.4065   train/acc: 0.9375   valid/acc: 0.8750\n",
      "Epoch 204:   train/loss: 0.4333   valid/loss: 0.4056   train/acc: 0.9219   valid/acc: 0.8750\n",
      "Epoch 205:   train/loss: 0.4401   valid/loss: 0.4063   train/acc: 0.9219   valid/acc: 0.8750\n",
      "Epoch 206:   train/loss: 0.4323   valid/loss: 0.4076   train/acc: 0.9375   valid/acc: 0.8750\n",
      "Epoch 207:   train/loss: 0.3641   valid/loss: 0.4091   train/acc: 0.9375   valid/acc: 0.8750\n",
      "Epoch 208:   train/loss: 0.3981   valid/loss: 0.4079   train/acc: 0.9688   valid/acc: 0.8750\n",
      "Epoch 209:   train/loss: 0.4111   valid/loss: 0.4088   train/acc: 0.9219   valid/acc: 0.8750\n",
      "Epoch 210:   train/loss: 0.4135   valid/loss: 0.4073   train/acc: 0.9375   valid/acc: 0.8750\n",
      "Epoch 211:   train/loss: 0.4248   valid/loss: 0.4097   train/acc: 0.9375   valid/acc: 0.8750\n",
      "Epoch 212:   train/loss: 0.4054   valid/loss: 0.4061   train/acc: 0.9531   valid/acc: 0.8750\n",
      "Epoch 213:   train/loss: 0.4645   valid/loss: 0.4058   train/acc: 0.8750   valid/acc: 0.8750\n",
      "Epoch 214:   train/loss: 0.3689   valid/loss: 0.4040   train/acc: 0.9531   valid/acc: 0.8750\n",
      "Epoch 215:   train/loss: 0.4044   valid/loss: 0.4009   train/acc: 0.9688   valid/acc: 0.8750\n",
      "Epoch 216:   train/loss: 0.3627   valid/loss: 0.3997   train/acc: 0.9219   valid/acc: 0.8750\n",
      "Epoch 217:   train/loss: 0.4052   valid/loss: 0.3980   train/acc: 0.9531   valid/acc: 0.8750\n",
      "Epoch 218:   train/loss: 0.4019   valid/loss: 0.3988   train/acc: 0.9688   valid/acc: 0.8750\n",
      "Epoch 219:   train/loss: 0.3946   valid/loss: 0.3901   train/acc: 0.9688   valid/acc: 0.8750\n",
      "Epoch 220:   train/loss: 0.3781   valid/loss: 0.3952   train/acc: 0.9531   valid/acc: 0.8750\n",
      "Epoch 221:   train/loss: 0.3729   valid/loss: 0.3878   train/acc: 0.9531   valid/acc: 0.8750\n",
      "Epoch 222:   train/loss: 0.3609   valid/loss: 0.3823   train/acc: 1.0000   valid/acc: 0.8750\n",
      "Epoch 223:   train/loss: 0.3559   valid/loss: 0.3763   train/acc: 0.9688   valid/acc: 0.8750\n",
      "Epoch 224:   train/loss: 0.4102   valid/loss: 0.3669   train/acc: 0.9375   valid/acc: 0.8750\n",
      "Epoch 225:   train/loss: 0.3846   valid/loss: 0.3630   train/acc: 0.9531   valid/acc: 0.8750\n",
      "Epoch 226:   train/loss: 0.3849   valid/loss: 0.3617   train/acc: 0.9688   valid/acc: 0.8750\n",
      "Epoch 227:   train/loss: 0.4011   valid/loss: 0.3594   train/acc: 0.9375   valid/acc: 0.8750\n",
      "Epoch 228:   train/loss: 0.4112   valid/loss: 0.3583   train/acc: 0.9844   valid/acc: 0.8750\n",
      "Epoch 229:   train/loss: 0.4141   valid/loss: 0.3681   train/acc: 0.9531   valid/acc: 0.8750\n",
      "Epoch 230:   train/loss: 0.3335   valid/loss: 0.3632   train/acc: 0.9688   valid/acc: 0.8750\n",
      "Epoch 231:   train/loss: 0.3397   valid/loss: 0.3632   train/acc: 0.9688   valid/acc: 0.8750\n",
      "Epoch 232:   train/loss: 0.4058   valid/loss: 0.3631   train/acc: 0.9531   valid/acc: 0.8750\n",
      "Epoch 233:   train/loss: 0.4022   valid/loss: 0.3580   train/acc: 0.9688   valid/acc: 0.8750\n",
      "Epoch 234:   train/loss: 0.3464   valid/loss: 0.3498   train/acc: 1.0000   valid/acc: 0.8750\n",
      "Epoch 235:   train/loss: 0.3626   valid/loss: 0.3479   train/acc: 0.9375   valid/acc: 0.8750\n",
      "Epoch 236:   train/loss: 0.4007   valid/loss: 0.3489   train/acc: 0.9375   valid/acc: 0.8750\n",
      "Epoch 237:   train/loss: 0.3739   valid/loss: 0.3513   train/acc: 0.9844   valid/acc: 0.8750\n",
      "Epoch 238:   train/loss: 0.3670   valid/loss: 0.3508   train/acc: 0.9531   valid/acc: 0.8750\n",
      "Epoch 239:   train/loss: 0.3771   valid/loss: 0.3462   train/acc: 0.9844   valid/acc: 0.8750\n",
      "Epoch 240:   train/loss: 0.3851   valid/loss: 0.3457   train/acc: 1.0000   valid/acc: 0.8750\n",
      "Epoch 241:   train/loss: 0.3695   valid/loss: 0.3450   train/acc: 0.9844   valid/acc: 0.8750\n",
      "Epoch 242:   train/loss: 0.3781   valid/loss: 0.3448   train/acc: 0.9688   valid/acc: 0.8750\n",
      "Epoch 243:   train/loss: 0.3537   valid/loss: 0.3391   train/acc: 1.0000   valid/acc: 0.8750\n",
      "Epoch 244:   train/loss: 0.3321   valid/loss: 0.3349   train/acc: 0.9844   valid/acc: 0.8750\n",
      "Epoch 245:   train/loss: 0.3741   valid/loss: 0.3344   train/acc: 1.0000   valid/acc: 0.8750\n",
      "Epoch 246:   train/loss: 0.4023   valid/loss: 0.3344   train/acc: 0.9531   valid/acc: 0.8750\n",
      "Epoch 247:   train/loss: 0.3878   valid/loss: 0.3347   train/acc: 0.9375   valid/acc: 0.8750\n",
      "Epoch 248:   train/loss: 0.3449   valid/loss: 0.3294   train/acc: 0.9688   valid/acc: 0.8750\n",
      "Epoch 249:   train/loss: 0.3539   valid/loss: 0.3275   train/acc: 0.9844   valid/acc: 0.8750\n",
      "Epoch 250:   train/loss: 0.3552   valid/loss: 0.3281   train/acc: 0.9688   valid/acc: 0.8750\n",
      "Epoch 251:   train/loss: 0.3427   valid/loss: 0.3259   train/acc: 0.9688   valid/acc: 0.8750\n",
      "Epoch 252:   train/loss: 0.3831   valid/loss: 0.3275   train/acc: 1.0000   valid/acc: 0.8750\n",
      "Epoch 253:   train/loss: 0.4012   valid/loss: 0.3246   train/acc: 0.9688   valid/acc: 0.8750\n",
      "Epoch 254:   train/loss: 0.3548   valid/loss: 0.3215   train/acc: 0.9844   valid/acc: 0.8750\n",
      "Epoch 255:   train/loss: 0.3835   valid/loss: 0.3114   train/acc: 0.9531   valid/acc: 0.8750\n",
      "Epoch 256:   train/loss: 0.3386   valid/loss: 0.3115   train/acc: 0.9688   valid/acc: 0.8750\n",
      "Epoch 257:   train/loss: 0.3338   valid/loss: 0.3117   train/acc: 0.9844   valid/acc: 0.8750\n",
      "Epoch 258:   train/loss: 0.3177   valid/loss: 0.3125   train/acc: 0.9844   valid/acc: 0.8750\n",
      "Epoch 259:   train/loss: 0.3267   valid/loss: 0.3132   train/acc: 1.0000   valid/acc: 0.8750\n",
      "Epoch 260:   train/loss: 0.3598   valid/loss: 0.3128   train/acc: 0.9688   valid/acc: 0.8750\n",
      "Epoch 261:   train/loss: 0.3853   valid/loss: 0.3117   train/acc: 0.9844   valid/acc: 0.8750\n",
      "Epoch 262:   train/loss: 0.3441   valid/loss: 0.3111   train/acc: 0.9688   valid/acc: 0.8750\n",
      "Epoch 263:   train/loss: 0.3266   valid/loss: 0.2941   train/acc: 1.0000   valid/acc: 0.9375\n",
      "Epoch 264:   train/loss: 0.3329   valid/loss: 0.2937   train/acc: 0.9688   valid/acc: 0.9375\n",
      "Epoch 265:   train/loss: 0.3306   valid/loss: 0.2925   train/acc: 0.9531   valid/acc: 0.9375\n",
      "Epoch 266:   train/loss: 0.3436   valid/loss: 0.2908   train/acc: 0.9844   valid/acc: 0.9375\n",
      "Epoch 267:   train/loss: 0.3506   valid/loss: 0.2917   train/acc: 0.9844   valid/acc: 0.9375\n",
      "Epoch 268:   train/loss: 0.3592   valid/loss: 0.2906   train/acc: 0.9844   valid/acc: 0.9375\n",
      "Epoch 269:   train/loss: 0.3313   valid/loss: 0.2893   train/acc: 0.9688   valid/acc: 0.9375\n",
      "Epoch 270:   train/loss: 0.3703   valid/loss: 0.2882   train/acc: 0.9688   valid/acc: 0.9375\n",
      "Epoch 271:   train/loss: 0.3496   valid/loss: 0.2875   train/acc: 0.9688   valid/acc: 0.9375\n",
      "Epoch 272:   train/loss: 0.3586   valid/loss: 0.2883   train/acc: 0.9688   valid/acc: 0.9375\n",
      "Epoch 273:   train/loss: 0.3499   valid/loss: 0.2886   train/acc: 0.9688   valid/acc: 0.9375\n",
      "Epoch 274:   train/loss: 0.3226   valid/loss: 0.2870   train/acc: 1.0000   valid/acc: 0.9375\n",
      "Epoch 275:   train/loss: 0.3485   valid/loss: 0.2855   train/acc: 0.9688   valid/acc: 0.9375\n",
      "Epoch 276:   train/loss: 0.3482   valid/loss: 0.2868   train/acc: 0.9844   valid/acc: 0.9375\n",
      "Epoch 277:   train/loss: 0.3283   valid/loss: 0.2879   train/acc: 0.9688   valid/acc: 0.9375\n",
      "Epoch 278:   train/loss: 0.3304   valid/loss: 0.2883   train/acc: 0.9844   valid/acc: 0.9375\n",
      "Epoch 279:   train/loss: 0.3410   valid/loss: 0.2921   train/acc: 0.9844   valid/acc: 1.0000\n",
      "Epoch 280:   train/loss: 0.3582   valid/loss: 0.2917   train/acc: 0.9688   valid/acc: 1.0000\n",
      "Epoch 281:   train/loss: 0.3181   valid/loss: 0.2919   train/acc: 0.9688   valid/acc: 1.0000\n",
      "Epoch 282:   train/loss: 0.3385   valid/loss: 0.2884   train/acc: 0.9688   valid/acc: 1.0000\n",
      "Epoch 283:   train/loss: 0.3552   valid/loss: 0.2825   train/acc: 0.9844   valid/acc: 1.0000\n",
      "Epoch 284:   train/loss: 0.3530   valid/loss: 0.2838   train/acc: 0.9688   valid/acc: 1.0000\n",
      "Epoch 285:   train/loss: 0.3344   valid/loss: 0.2823   train/acc: 0.9688   valid/acc: 1.0000\n",
      "Epoch 286:   train/loss: 0.2989   valid/loss: 0.2794   train/acc: 0.9531   valid/acc: 1.0000\n",
      "Epoch 287:   train/loss: 0.3105   valid/loss: 0.2771   train/acc: 0.9688   valid/acc: 1.0000\n",
      "Epoch 288:   train/loss: 0.3403   valid/loss: 0.2760   train/acc: 1.0000   valid/acc: 1.0000\n",
      "Epoch 289:   train/loss: 0.2937   valid/loss: 0.2707   train/acc: 0.9844   valid/acc: 1.0000\n",
      "Epoch 290:   train/loss: 0.2820   valid/loss: 0.2692   train/acc: 0.9688   valid/acc: 1.0000\n",
      "Epoch 291:   train/loss: 0.3217   valid/loss: 0.2683   train/acc: 0.9844   valid/acc: 1.0000\n",
      "Epoch 292:   train/loss: 0.3309   valid/loss: 0.2643   train/acc: 0.9688   valid/acc: 1.0000\n",
      "Epoch 293:   train/loss: 0.2991   valid/loss: 0.2525   train/acc: 0.9844   valid/acc: 1.0000\n",
      "Epoch 294:   train/loss: 0.2932   valid/loss: 0.2528   train/acc: 0.9844   valid/acc: 1.0000\n",
      "Epoch 295:   train/loss: 0.2803   valid/loss: 0.2513   train/acc: 1.0000   valid/acc: 1.0000\n",
      "Epoch 296:   train/loss: 0.3324   valid/loss: 0.2516   train/acc: 0.9688   valid/acc: 1.0000\n",
      "Epoch 297:   train/loss: 0.3259   valid/loss: 0.2442   train/acc: 1.0000   valid/acc: 1.0000\n",
      "Epoch 298:   train/loss: 0.2771   valid/loss: 0.2375   train/acc: 0.9844   valid/acc: 1.0000\n",
      "Epoch 299:   train/loss: 0.2954   valid/loss: 0.2354   train/acc: 1.0000   valid/acc: 1.0000\n",
      "Epoch 300:   train/loss: 0.2870   valid/loss: 0.2289   train/acc: 0.9844   valid/acc: 1.0000\n",
      "Epoch 301:   train/loss: 0.3433   valid/loss: 0.2259   train/acc: 0.9688   valid/acc: 1.0000\n",
      "Epoch 302:   train/loss: 0.3089   valid/loss: 0.2169   train/acc: 1.0000   valid/acc: 1.0000\n",
      "Epoch 303:   train/loss: 0.2492   valid/loss: 0.2145   train/acc: 1.0000   valid/acc: 1.0000\n",
      "Epoch 304:   train/loss: 0.2752   valid/loss: 0.2147   train/acc: 1.0000   valid/acc: 1.0000\n",
      "Epoch 305:   train/loss: 0.2976   valid/loss: 0.2106   train/acc: 0.9844   valid/acc: 1.0000\n",
      "Epoch 306:   train/loss: 0.2836   valid/loss: 0.2092   train/acc: 1.0000   valid/acc: 1.0000\n",
      "Epoch 307:   train/loss: 0.3138   valid/loss: 0.2052   train/acc: 1.0000   valid/acc: 1.0000\n",
      "Epoch 308:   train/loss: 0.2849   valid/loss: 0.2030   train/acc: 1.0000   valid/acc: 1.0000\n",
      "Epoch 309:   train/loss: 0.2840   valid/loss: 0.2027   train/acc: 0.9844   valid/acc: 1.0000\n",
      "Epoch 310:   train/loss: 0.3074   valid/loss: 0.2019   train/acc: 0.9844   valid/acc: 1.0000\n",
      "Epoch 311:   train/loss: 0.3133   valid/loss: 0.1980   train/acc: 0.9844   valid/acc: 1.0000\n",
      "Epoch 312:   train/loss: 0.2728   valid/loss: 0.1915   train/acc: 1.0000   valid/acc: 1.0000\n",
      "Epoch 313:   train/loss: 0.2882   valid/loss: 0.1916   train/acc: 1.0000   valid/acc: 1.0000\n",
      "Epoch 314:   train/loss: 0.2742   valid/loss: 0.1911   train/acc: 1.0000   valid/acc: 1.0000\n",
      "Epoch 315:   train/loss: 0.2584   valid/loss: 0.1862   train/acc: 1.0000   valid/acc: 1.0000\n",
      "Epoch 316:   train/loss: 0.2793   valid/loss: 0.1791   train/acc: 1.0000   valid/acc: 1.0000\n",
      "Epoch 317:   train/loss: 0.2504   valid/loss: 0.1787   train/acc: 0.9844   valid/acc: 1.0000\n",
      "Epoch 318:   train/loss: 0.2986   valid/loss: 0.1794   train/acc: 1.0000   valid/acc: 1.0000\n",
      "Epoch 319:   train/loss: 0.3111   valid/loss: 0.1792   train/acc: 0.9688   valid/acc: 1.0000\n",
      "Epoch 320:   train/loss: 0.2901   valid/loss: 0.1795   train/acc: 1.0000   valid/acc: 1.0000\n",
      "Epoch 321:   train/loss: 0.3419   valid/loss: 0.1784   train/acc: 1.0000   valid/acc: 1.0000\n",
      "Epoch 322:   train/loss: 0.3170   valid/loss: 0.1779   train/acc: 1.0000   valid/acc: 1.0000\n",
      "Epoch 323:   train/loss: 0.2532   valid/loss: 0.1776   train/acc: 1.0000   valid/acc: 1.0000\n",
      "Epoch 324:   train/loss: 0.2618   valid/loss: 0.1752   train/acc: 1.0000   valid/acc: 1.0000\n",
      "Epoch 325:   train/loss: 0.2606   valid/loss: 0.1772   train/acc: 1.0000   valid/acc: 1.0000\n",
      "Epoch 326:   train/loss: 0.2686   valid/loss: 0.1756   train/acc: 1.0000   valid/acc: 1.0000\n",
      "Epoch 327:   train/loss: 0.2983   valid/loss: 0.1647   train/acc: 1.0000   valid/acc: 1.0000\n",
      "Epoch 328:   train/loss: 0.2594   valid/loss: 0.1615   train/acc: 1.0000   valid/acc: 1.0000\n",
      "Epoch 329:   train/loss: 0.2649   valid/loss: 0.1587   train/acc: 1.0000   valid/acc: 1.0000\n",
      "Epoch 330:   train/loss: 0.2627   valid/loss: 0.1586   train/acc: 1.0000   valid/acc: 1.0000\n",
      "Epoch 331:   train/loss: 0.2579   valid/loss: 0.1585   train/acc: 1.0000   valid/acc: 1.0000\n",
      "Epoch 332:   train/loss: 0.2925   valid/loss: 0.1595   train/acc: 1.0000   valid/acc: 1.0000\n",
      "Epoch 333:   train/loss: 0.2812   valid/loss: 0.1585   train/acc: 1.0000   valid/acc: 1.0000\n",
      "Epoch 334:   train/loss: 0.2569   valid/loss: 0.1586   train/acc: 1.0000   valid/acc: 1.0000\n",
      "Epoch 335:   train/loss: 0.2518   valid/loss: 0.1587   train/acc: 1.0000   valid/acc: 1.0000\n",
      "Epoch 336:   train/loss: 0.2763   valid/loss: 0.1559   train/acc: 1.0000   valid/acc: 1.0000\n",
      "Epoch 337:   train/loss: 0.2977   valid/loss: 0.1545   train/acc: 1.0000   valid/acc: 1.0000\n",
      "Epoch 338:   train/loss: 0.2589   valid/loss: 0.1555   train/acc: 1.0000   valid/acc: 1.0000\n",
      "Epoch 339:   train/loss: 0.2593   valid/loss: 0.1561   train/acc: 1.0000   valid/acc: 1.0000\n",
      "Epoch 340:   train/loss: 0.2658   valid/loss: 0.1586   train/acc: 1.0000   valid/acc: 1.0000\n",
      "Epoch 341:   train/loss: 0.2762   valid/loss: 0.1581   train/acc: 1.0000   valid/acc: 1.0000\n",
      "Epoch 342:   train/loss: 0.2536   valid/loss: 0.1594   train/acc: 1.0000   valid/acc: 1.0000\n",
      "Epoch 343:   train/loss: 0.2382   valid/loss: 0.1595   train/acc: 1.0000   valid/acc: 1.0000\n",
      "Epoch 344:   train/loss: 0.2519   valid/loss: 0.1570   train/acc: 1.0000   valid/acc: 1.0000\n",
      "Epoch 345:   train/loss: 0.2602   valid/loss: 0.1567   train/acc: 1.0000   valid/acc: 1.0000\n",
      "Epoch 346:   train/loss: 0.3202   valid/loss: 0.1567   train/acc: 0.9844   valid/acc: 1.0000\n",
      "Epoch 347:   train/loss: 0.2856   valid/loss: 0.1565   train/acc: 1.0000   valid/acc: 1.0000\n",
      "Epoch 348:   train/loss: 0.2508   valid/loss: 0.1547   train/acc: 1.0000   valid/acc: 1.0000\n",
      "Epoch 349:   train/loss: 0.2402   valid/loss: 0.1525   train/acc: 1.0000   valid/acc: 1.0000\n",
      "Epoch 350:   train/loss: 0.3148   valid/loss: 0.1466   train/acc: 1.0000   valid/acc: 1.0000\n",
      "Epoch 351:   train/loss: 0.2296   valid/loss: 0.1492   train/acc: 1.0000   valid/acc: 1.0000\n",
      "Epoch 352:   train/loss: 0.2641   valid/loss: 0.1501   train/acc: 1.0000   valid/acc: 1.0000\n",
      "Epoch 353:   train/loss: 0.2372   valid/loss: 0.1461   train/acc: 1.0000   valid/acc: 1.0000\n",
      "Epoch 354:   train/loss: 0.2426   valid/loss: 0.1398   train/acc: 1.0000   valid/acc: 1.0000\n",
      "Epoch 355:   train/loss: 0.2731   valid/loss: 0.1400   train/acc: 1.0000   valid/acc: 1.0000\n",
      "Epoch 356:   train/loss: 0.2874   valid/loss: 0.1414   train/acc: 1.0000   valid/acc: 1.0000\n",
      "Epoch 357:   train/loss: 0.3012   valid/loss: 0.1414   train/acc: 1.0000   valid/acc: 1.0000\n",
      "Epoch 358:   train/loss: 0.2631   valid/loss: 0.1393   train/acc: 1.0000   valid/acc: 1.0000\n",
      "Epoch 359:   train/loss: 0.2775   valid/loss: 0.1389   train/acc: 1.0000   valid/acc: 1.0000\n",
      "Epoch 360:   train/loss: 0.2972   valid/loss: 0.1393   train/acc: 1.0000   valid/acc: 1.0000\n",
      "Epoch 361:   train/loss: 0.2856   valid/loss: 0.1403   train/acc: 1.0000   valid/acc: 1.0000\n",
      "Epoch 362:   train/loss: 0.1839   valid/loss: 0.1396   train/acc: 1.0000   valid/acc: 1.0000\n",
      "Epoch 363:   train/loss: 0.2732   valid/loss: 0.1349   train/acc: 1.0000   valid/acc: 1.0000\n",
      "Epoch 364:   train/loss: 0.2565   valid/loss: 0.1268   train/acc: 1.0000   valid/acc: 1.0000\n",
      "Epoch 365:   train/loss: 0.2466   valid/loss: 0.1169   train/acc: 1.0000   valid/acc: 1.0000\n",
      "Epoch 366:   train/loss: 0.2382   valid/loss: 0.1172   train/acc: 1.0000   valid/acc: 1.0000\n",
      "Epoch 367:   train/loss: 0.2457   valid/loss: 0.1168   train/acc: 1.0000   valid/acc: 1.0000\n",
      "Epoch 368:   train/loss: 0.2264   valid/loss: 0.1195   train/acc: 1.0000   valid/acc: 1.0000\n",
      "Epoch 369:   train/loss: 0.2135   valid/loss: 0.1194   train/acc: 1.0000   valid/acc: 1.0000\n",
      "Epoch 370:   train/loss: 0.2740   valid/loss: 0.1187   train/acc: 1.0000   valid/acc: 1.0000\n",
      "Epoch 371:   train/loss: 0.2747   valid/loss: 0.1123   train/acc: 1.0000   valid/acc: 1.0000\n",
      "Epoch 372:   train/loss: 0.2059   valid/loss: 0.1111   train/acc: 1.0000   valid/acc: 1.0000\n",
      "Epoch 373:   train/loss: 0.3095   valid/loss: 0.1112   train/acc: 1.0000   valid/acc: 1.0000\n",
      "Epoch 374:   train/loss: 0.2788   valid/loss: 0.1095   train/acc: 1.0000   valid/acc: 1.0000\n",
      "Epoch 375:   train/loss: 0.2835   valid/loss: 0.1067   train/acc: 1.0000   valid/acc: 1.0000\n",
      "Epoch 376:   train/loss: 0.2014   valid/loss: 0.1070   train/acc: 1.0000   valid/acc: 1.0000\n",
      "Epoch 377:   train/loss: 0.2364   valid/loss: 0.1065   train/acc: 1.0000   valid/acc: 1.0000\n",
      "Epoch 378:   train/loss: 0.2244   valid/loss: 0.1060   train/acc: 1.0000   valid/acc: 1.0000\n",
      "Epoch 379:   train/loss: 0.2339   valid/loss: 0.1052   train/acc: 1.0000   valid/acc: 1.0000\n",
      "Epoch 380:   train/loss: 0.2671   valid/loss: 0.1034   train/acc: 1.0000   valid/acc: 1.0000\n",
      "Epoch 381:   train/loss: 0.2529   valid/loss: 0.1047   train/acc: 1.0000   valid/acc: 1.0000\n",
      "Epoch 382:   train/loss: 0.2685   valid/loss: 0.1038   train/acc: 1.0000   valid/acc: 1.0000\n",
      "Epoch 383:   train/loss: 0.2618   valid/loss: 0.1039   train/acc: 1.0000   valid/acc: 1.0000\n",
      "Epoch 384:   train/loss: 0.1987   valid/loss: 0.1046   train/acc: 1.0000   valid/acc: 1.0000\n",
      "Epoch 385:   train/loss: 0.2620   valid/loss: 0.1042   train/acc: 1.0000   valid/acc: 1.0000\n",
      "Epoch 386:   train/loss: 0.1978   valid/loss: 0.1035   train/acc: 1.0000   valid/acc: 1.0000\n",
      "Epoch 387:   train/loss: 0.2057   valid/loss: 0.1033   train/acc: 1.0000   valid/acc: 1.0000\n",
      "Epoch 388:   train/loss: 0.2531   valid/loss: 0.1030   train/acc: 1.0000   valid/acc: 1.0000\n",
      "Epoch 389:   train/loss: 0.2209   valid/loss: 0.1005   train/acc: 1.0000   valid/acc: 1.0000\n",
      "Epoch 390:   train/loss: 0.2703   valid/loss: 0.1011   train/acc: 1.0000   valid/acc: 1.0000\n",
      "Epoch 391:   train/loss: 0.2453   valid/loss: 0.1015   train/acc: 1.0000   valid/acc: 1.0000\n",
      "Epoch 392:   train/loss: 0.2620   valid/loss: 0.0925   train/acc: 1.0000   valid/acc: 1.0000\n",
      "Epoch 393:   train/loss: 0.2525   valid/loss: 0.0919   train/acc: 1.0000   valid/acc: 1.0000\n",
      "Epoch 394:   train/loss: 0.2275   valid/loss: 0.0915   train/acc: 1.0000   valid/acc: 1.0000\n",
      "Epoch 395:   train/loss: 0.2491   valid/loss: 0.0868   train/acc: 1.0000   valid/acc: 1.0000\n",
      "Epoch 396:   train/loss: 0.2670   valid/loss: 0.0872   train/acc: 1.0000   valid/acc: 1.0000\n",
      "Epoch 397:   train/loss: 0.2250   valid/loss: 0.0843   train/acc: 1.0000   valid/acc: 1.0000\n",
      "Epoch 398:   train/loss: 0.2449   valid/loss: 0.0836   train/acc: 1.0000   valid/acc: 1.0000\n",
      "Epoch 399:   train/loss: 0.2122   valid/loss: 0.0842   train/acc: 1.0000   valid/acc: 1.0000\n",
      "Epoch 400:   train/loss: 0.2746   valid/loss: 0.0854   train/acc: 1.0000   valid/acc: 1.0000\n",
      "Epoch 401:   train/loss: 0.2047   valid/loss: 0.0815   train/acc: 1.0000   valid/acc: 1.0000\n",
      "Epoch 402:   train/loss: 0.2170   valid/loss: 0.0813   train/acc: 1.0000   valid/acc: 1.0000\n",
      "Epoch 403:   train/loss: 0.2400   valid/loss: 0.0809   train/acc: 1.0000   valid/acc: 1.0000\n",
      "Epoch 404:   train/loss: 0.2809   valid/loss: 0.0816   train/acc: 1.0000   valid/acc: 1.0000\n",
      "Epoch 405:   train/loss: 0.2424   valid/loss: 0.0803   train/acc: 1.0000   valid/acc: 1.0000\n",
      "Epoch 406:   train/loss: 0.2344   valid/loss: 0.0819   train/acc: 1.0000   valid/acc: 1.0000\n",
      "Epoch 407:   train/loss: 0.2328   valid/loss: 0.0755   train/acc: 1.0000   valid/acc: 1.0000\n",
      "Epoch 408:   train/loss: 0.2020   valid/loss: 0.0753   train/acc: 1.0000   valid/acc: 1.0000\n",
      "Epoch 409:   train/loss: 0.1927   valid/loss: 0.0738   train/acc: 1.0000   valid/acc: 1.0000\n",
      "Epoch 410:   train/loss: 0.2305   valid/loss: 0.0760   train/acc: 1.0000   valid/acc: 1.0000\n",
      "Epoch 411:   train/loss: 0.2223   valid/loss: 0.0756   train/acc: 1.0000   valid/acc: 1.0000\n",
      "Epoch 412:   train/loss: 0.2807   valid/loss: 0.0764   train/acc: 1.0000   valid/acc: 1.0000\n",
      "Epoch 413:   train/loss: 0.2325   valid/loss: 0.0780   train/acc: 1.0000   valid/acc: 1.0000\n",
      "Epoch 414:   train/loss: 0.2556   valid/loss: 0.0770   train/acc: 1.0000   valid/acc: 1.0000\n",
      "Epoch 415:   train/loss: 0.2653   valid/loss: 0.0782   train/acc: 1.0000   valid/acc: 1.0000\n",
      "Epoch 416:   train/loss: 0.2429   valid/loss: 0.0774   train/acc: 1.0000   valid/acc: 1.0000\n",
      "Epoch 417:   train/loss: 0.2595   valid/loss: 0.0778   train/acc: 1.0000   valid/acc: 1.0000\n",
      "Epoch 418:   train/loss: 0.2567   valid/loss: 0.0775   train/acc: 1.0000   valid/acc: 1.0000\n",
      "Epoch 419:   train/loss: 0.2290   valid/loss: 0.0776   train/acc: 1.0000   valid/acc: 1.0000\n",
      "Epoch 420:   train/loss: 0.1585   valid/loss: 0.0772   train/acc: 1.0000   valid/acc: 1.0000\n",
      "Epoch 421:   train/loss: 0.2191   valid/loss: 0.0758   train/acc: 1.0000   valid/acc: 1.0000\n",
      "Epoch 422:   train/loss: 0.2270   valid/loss: 0.0755   train/acc: 1.0000   valid/acc: 1.0000\n",
      "Epoch 423:   train/loss: 0.2380   valid/loss: 0.0741   train/acc: 1.0000   valid/acc: 1.0000\n",
      "Epoch 424:   train/loss: 0.1931   valid/loss: 0.0714   train/acc: 1.0000   valid/acc: 1.0000\n",
      "Epoch 425:   train/loss: 0.1692   valid/loss: 0.0715   train/acc: 1.0000   valid/acc: 1.0000\n",
      "Epoch 426:   train/loss: 0.2272   valid/loss: 0.0692   train/acc: 1.0000   valid/acc: 1.0000\n",
      "Epoch 427:   train/loss: 0.2065   valid/loss: 0.0698   train/acc: 1.0000   valid/acc: 1.0000\n",
      "Epoch 428:   train/loss: 0.1984   valid/loss: 0.0691   train/acc: 1.0000   valid/acc: 1.0000\n",
      "Epoch 429:   train/loss: 0.2741   valid/loss: 0.0697   train/acc: 1.0000   valid/acc: 1.0000\n",
      "Epoch 430:   train/loss: 0.2761   valid/loss: 0.0701   train/acc: 1.0000   valid/acc: 1.0000\n",
      "Epoch 431:   train/loss: 0.1743   valid/loss: 0.0722   train/acc: 1.0000   valid/acc: 1.0000\n",
      "Epoch 432:   train/loss: 0.1789   valid/loss: 0.0721   train/acc: 1.0000   valid/acc: 1.0000\n",
      "Epoch 433:   train/loss: 0.2151   valid/loss: 0.0679   train/acc: 1.0000   valid/acc: 1.0000\n",
      "Epoch 434:   train/loss: 0.1595   valid/loss: 0.0675   train/acc: 1.0000   valid/acc: 1.0000\n",
      "Epoch 435:   train/loss: 0.2765   valid/loss: 0.0617   train/acc: 1.0000   valid/acc: 1.0000\n",
      "Epoch 436:   train/loss: 0.2343   valid/loss: 0.0637   train/acc: 1.0000   valid/acc: 1.0000\n",
      "Epoch 437:   train/loss: 0.2576   valid/loss: 0.0608   train/acc: 1.0000   valid/acc: 1.0000\n",
      "Epoch 438:   train/loss: 0.2087   valid/loss: 0.0560   train/acc: 1.0000   valid/acc: 1.0000\n",
      "Epoch 439:   train/loss: 0.2429   valid/loss: 0.0572   train/acc: 1.0000   valid/acc: 1.0000\n",
      "Epoch 440:   train/loss: 0.1762   valid/loss: 0.0570   train/acc: 1.0000   valid/acc: 1.0000\n",
      "Epoch 441:   train/loss: 0.2036   valid/loss: 0.0578   train/acc: 1.0000   valid/acc: 1.0000\n",
      "Epoch 442:   train/loss: 0.1802   valid/loss: 0.0575   train/acc: 1.0000   valid/acc: 1.0000\n",
      "Epoch 443:   train/loss: 0.2171   valid/loss: 0.0596   train/acc: 1.0000   valid/acc: 1.0000\n",
      "Epoch 444:   train/loss: 0.2175   valid/loss: 0.0616   train/acc: 1.0000   valid/acc: 1.0000\n",
      "Epoch 445:   train/loss: 0.2083   valid/loss: 0.0599   train/acc: 1.0000   valid/acc: 1.0000\n",
      "Epoch 446:   train/loss: 0.2269   valid/loss: 0.0610   train/acc: 1.0000   valid/acc: 1.0000\n",
      "Epoch 447:   train/loss: 0.2213   valid/loss: 0.0613   train/acc: 1.0000   valid/acc: 1.0000\n",
      "Epoch 448:   train/loss: 0.1919   valid/loss: 0.0607   train/acc: 1.0000   valid/acc: 1.0000\n",
      "Epoch 449:   train/loss: 0.2605   valid/loss: 0.0605   train/acc: 1.0000   valid/acc: 1.0000\n",
      "Epoch 450:   train/loss: 0.1909   valid/loss: 0.0597   train/acc: 1.0000   valid/acc: 1.0000\n",
      "Epoch 451:   train/loss: 0.2449   valid/loss: 0.0575   train/acc: 1.0000   valid/acc: 1.0000\n",
      "Epoch 452:   train/loss: 0.2017   valid/loss: 0.0575   train/acc: 1.0000   valid/acc: 1.0000\n",
      "Epoch 453:   train/loss: 0.1991   valid/loss: 0.0569   train/acc: 1.0000   valid/acc: 1.0000\n",
      "Epoch 454:   train/loss: 0.2328   valid/loss: 0.0590   train/acc: 1.0000   valid/acc: 1.0000\n",
      "Epoch 455:   train/loss: 0.2273   valid/loss: 0.0604   train/acc: 1.0000   valid/acc: 1.0000\n",
      "Epoch 456:   train/loss: 0.2565   valid/loss: 0.0619   train/acc: 1.0000   valid/acc: 1.0000\n",
      "Epoch 457:   train/loss: 0.2376   valid/loss: 0.0610   train/acc: 1.0000   valid/acc: 1.0000\n",
      "Epoch 458:   train/loss: 0.2042   valid/loss: 0.0593   train/acc: 1.0000   valid/acc: 1.0000\n",
      "Epoch 459:   train/loss: 0.1725   valid/loss: 0.0587   train/acc: 1.0000   valid/acc: 1.0000\n",
      "Epoch 460:   train/loss: 0.2212   valid/loss: 0.0555   train/acc: 1.0000   valid/acc: 1.0000\n",
      "Epoch 461:   train/loss: 0.2317   valid/loss: 0.0558   train/acc: 1.0000   valid/acc: 1.0000\n",
      "Epoch 462:   train/loss: 0.1881   valid/loss: 0.0536   train/acc: 1.0000   valid/acc: 1.0000\n",
      "Epoch 463:   train/loss: 0.2468   valid/loss: 0.0531   train/acc: 1.0000   valid/acc: 1.0000\n",
      "Epoch 464:   train/loss: 0.1788   valid/loss: 0.0537   train/acc: 1.0000   valid/acc: 1.0000\n",
      "Epoch 465:   train/loss: 0.1892   valid/loss: 0.0505   train/acc: 1.0000   valid/acc: 1.0000\n",
      "Epoch 466:   train/loss: 0.2510   valid/loss: 0.0489   train/acc: 1.0000   valid/acc: 1.0000\n",
      "Epoch 467:   train/loss: 0.1789   valid/loss: 0.0489   train/acc: 1.0000   valid/acc: 1.0000\n",
      "Epoch 468:   train/loss: 0.2795   valid/loss: 0.0492   train/acc: 1.0000   valid/acc: 1.0000\n",
      "Epoch 469:   train/loss: 0.2263   valid/loss: 0.0487   train/acc: 1.0000   valid/acc: 1.0000\n",
      "Epoch 470:   train/loss: 0.2347   valid/loss: 0.0503   train/acc: 1.0000   valid/acc: 1.0000\n",
      "Epoch 471:   train/loss: 0.1901   valid/loss: 0.0502   train/acc: 1.0000   valid/acc: 1.0000\n",
      "Epoch 472:   train/loss: 0.2544   valid/loss: 0.0506   train/acc: 1.0000   valid/acc: 1.0000\n",
      "Epoch 473:   train/loss: 0.2700   valid/loss: 0.0498   train/acc: 1.0000   valid/acc: 1.0000\n",
      "Epoch 474:   train/loss: 0.2207   valid/loss: 0.0506   train/acc: 1.0000   valid/acc: 1.0000\n",
      "Epoch 475:   train/loss: 0.2210   valid/loss: 0.0500   train/acc: 1.0000   valid/acc: 1.0000\n",
      "Epoch 476:   train/loss: 0.1808   valid/loss: 0.0495   train/acc: 1.0000   valid/acc: 1.0000\n",
      "Epoch 477:   train/loss: 0.1878   valid/loss: 0.0466   train/acc: 1.0000   valid/acc: 1.0000\n",
      "Epoch 478:   train/loss: 0.2149   valid/loss: 0.0465   train/acc: 1.0000   valid/acc: 1.0000\n",
      "Epoch 479:   train/loss: 0.1855   valid/loss: 0.0477   train/acc: 1.0000   valid/acc: 1.0000\n",
      "Epoch 480:   train/loss: 0.2037   valid/loss: 0.0497   train/acc: 1.0000   valid/acc: 1.0000\n",
      "Epoch 481:   train/loss: 0.2655   valid/loss: 0.0489   train/acc: 1.0000   valid/acc: 1.0000\n",
      "Epoch 482:   train/loss: 0.2151   valid/loss: 0.0441   train/acc: 1.0000   valid/acc: 1.0000\n",
      "Epoch 483:   train/loss: 0.2170   valid/loss: 0.0458   train/acc: 1.0000   valid/acc: 1.0000\n",
      "Epoch 484:   train/loss: 0.1952   valid/loss: 0.0469   train/acc: 1.0000   valid/acc: 1.0000\n",
      "Epoch 485:   train/loss: 0.1647   valid/loss: 0.0475   train/acc: 1.0000   valid/acc: 1.0000\n",
      "Epoch 486:   train/loss: 0.2271   valid/loss: 0.0468   train/acc: 1.0000   valid/acc: 1.0000\n",
      "Epoch 487:   train/loss: 0.2079   valid/loss: 0.0460   train/acc: 1.0000   valid/acc: 1.0000\n",
      "Epoch 488:   train/loss: 0.2399   valid/loss: 0.0436   train/acc: 1.0000   valid/acc: 1.0000\n",
      "Epoch 489:   train/loss: 0.2005   valid/loss: 0.0426   train/acc: 1.0000   valid/acc: 1.0000\n",
      "Epoch 490:   train/loss: 0.1921   valid/loss: 0.0430   train/acc: 1.0000   valid/acc: 1.0000\n",
      "Epoch 491:   train/loss: 0.2247   valid/loss: 0.0432   train/acc: 1.0000   valid/acc: 1.0000\n",
      "Epoch 492:   train/loss: 0.1882   valid/loss: 0.0441   train/acc: 1.0000   valid/acc: 1.0000\n",
      "Epoch 493:   train/loss: 0.2155   valid/loss: 0.0434   train/acc: 1.0000   valid/acc: 1.0000\n",
      "Epoch 494:   train/loss: 0.2310   valid/loss: 0.0438   train/acc: 1.0000   valid/acc: 1.0000\n",
      "Epoch 495:   train/loss: 0.2473   valid/loss: 0.0441   train/acc: 1.0000   valid/acc: 1.0000\n",
      "Epoch 496:   train/loss: 0.2401   valid/loss: 0.0452   train/acc: 1.0000   valid/acc: 1.0000\n",
      "Epoch 497:   train/loss: 0.2141   valid/loss: 0.0441   train/acc: 1.0000   valid/acc: 1.0000\n",
      "Epoch 498:   train/loss: 0.1854   valid/loss: 0.0441   train/acc: 1.0000   valid/acc: 1.0000\n",
      "Epoch 499:   train/loss: 0.2507   valid/loss: 0.0438   train/acc: 1.0000   valid/acc: 1.0000\n",
      "Epoch 500:   train/loss: 0.2200   valid/loss: 0.0435   train/acc: 1.0000   valid/acc: 1.0000\n",
      "Epoch 501:   train/loss: 0.1989   valid/loss: 0.0434   train/acc: 1.0000   valid/acc: 1.0000\n",
      "Epoch 502:   train/loss: 0.1917   valid/loss: 0.0443   train/acc: 1.0000   valid/acc: 1.0000\n",
      "Epoch 503:   train/loss: 0.1793   valid/loss: 0.0443   train/acc: 1.0000   valid/acc: 1.0000\n",
      "Epoch 504:   train/loss: 0.1571   valid/loss: 0.0442   train/acc: 1.0000   valid/acc: 1.0000\n",
      "Epoch 505:   train/loss: 0.1641   valid/loss: 0.0442   train/acc: 1.0000   valid/acc: 1.0000\n",
      "Epoch 506:   train/loss: 0.1950   valid/loss: 0.0439   train/acc: 1.0000   valid/acc: 1.0000\n",
      "Epoch 507:   train/loss: 0.1861   valid/loss: 0.0439   train/acc: 1.0000   valid/acc: 1.0000\n",
      "Epoch 508:   train/loss: 0.2380   valid/loss: 0.0438   train/acc: 1.0000   valid/acc: 1.0000\n",
      "Epoch 509:   train/loss: 0.2609   valid/loss: 0.0432   train/acc: 1.0000   valid/acc: 1.0000\n",
      "Epoch 510:   train/loss: 0.2505   valid/loss: 0.0421   train/acc: 1.0000   valid/acc: 1.0000\n",
      "Epoch 511:   train/loss: 0.1827   valid/loss: 0.0416   train/acc: 1.0000   valid/acc: 1.0000\n",
      "Epoch 512:   train/loss: 0.2271   valid/loss: 0.0422   train/acc: 1.0000   valid/acc: 1.0000\n",
      "Epoch 513:   train/loss: 0.2320   valid/loss: 0.0426   train/acc: 1.0000   valid/acc: 1.0000\n",
      "Epoch 514:   train/loss: 0.2246   valid/loss: 0.0443   train/acc: 1.0000   valid/acc: 1.0000\n",
      "Epoch 515:   train/loss: 0.2326   valid/loss: 0.0466   train/acc: 1.0000   valid/acc: 1.0000\n",
      "Epoch 516:   train/loss: 0.2167   valid/loss: 0.0455   train/acc: 1.0000   valid/acc: 1.0000\n",
      "Epoch 517:   train/loss: 0.1559   valid/loss: 0.0455   train/acc: 1.0000   valid/acc: 1.0000\n",
      "Epoch 518:   train/loss: 0.2233   valid/loss: 0.0456   train/acc: 1.0000   valid/acc: 1.0000\n",
      "Epoch 519:   train/loss: 0.1876   valid/loss: 0.0421   train/acc: 1.0000   valid/acc: 1.0000\n",
      "Epoch 520:   train/loss: 0.2034   valid/loss: 0.0427   train/acc: 1.0000   valid/acc: 1.0000\n",
      "Epoch 521:   train/loss: 0.1907   valid/loss: 0.0422   train/acc: 1.0000   valid/acc: 1.0000\n",
      "Epoch 522:   train/loss: 0.2413   valid/loss: 0.0441   train/acc: 1.0000   valid/acc: 1.0000\n",
      "Epoch 523:   train/loss: 0.2106   valid/loss: 0.0421   train/acc: 1.0000   valid/acc: 1.0000\n",
      "Epoch 524:   train/loss: 0.2376   valid/loss: 0.0422   train/acc: 1.0000   valid/acc: 1.0000\n",
      "Epoch 525:   train/loss: 0.2279   valid/loss: 0.0423   train/acc: 1.0000   valid/acc: 1.0000\n",
      "Epoch 526:   train/loss: 0.2295   valid/loss: 0.0414   train/acc: 1.0000   valid/acc: 1.0000\n",
      "Epoch 527:   train/loss: 0.2522   valid/loss: 0.0402   train/acc: 1.0000   valid/acc: 1.0000\n",
      "Epoch 528:   train/loss: 0.2031   valid/loss: 0.0409   train/acc: 1.0000   valid/acc: 1.0000\n",
      "Epoch 529:   train/loss: 0.2024   valid/loss: 0.0396   train/acc: 1.0000   valid/acc: 1.0000\n",
      "Epoch 530:   train/loss: 0.1889   valid/loss: 0.0395   train/acc: 1.0000   valid/acc: 1.0000\n",
      "Epoch 531:   train/loss: 0.1820   valid/loss: 0.0390   train/acc: 1.0000   valid/acc: 1.0000\n",
      "Epoch 532:   train/loss: 0.1768   valid/loss: 0.0386   train/acc: 1.0000   valid/acc: 1.0000\n",
      "Epoch 533:   train/loss: 0.2013   valid/loss: 0.0391   train/acc: 1.0000   valid/acc: 1.0000\n",
      "Epoch 534:   train/loss: 0.2420   valid/loss: 0.0439   train/acc: 1.0000   valid/acc: 1.0000\n",
      "Epoch 535:   train/loss: 0.2382   valid/loss: 0.0419   train/acc: 1.0000   valid/acc: 1.0000\n",
      "Epoch 536:   train/loss: 0.2189   valid/loss: 0.0421   train/acc: 1.0000   valid/acc: 1.0000\n",
      "Epoch 537:   train/loss: 0.2012   valid/loss: 0.0423   train/acc: 1.0000   valid/acc: 1.0000\n",
      "Epoch 538:   train/loss: 0.2072   valid/loss: 0.0412   train/acc: 1.0000   valid/acc: 1.0000\n",
      "Epoch 539:   train/loss: 0.1984   valid/loss: 0.0403   train/acc: 1.0000   valid/acc: 1.0000\n",
      "Epoch 540:   train/loss: 0.2133   valid/loss: 0.0362   train/acc: 1.0000   valid/acc: 1.0000\n",
      "Epoch 541:   train/loss: 0.2596   valid/loss: 0.0365   train/acc: 1.0000   valid/acc: 1.0000\n",
      "Epoch 542:   train/loss: 0.2092   valid/loss: 0.0369   train/acc: 1.0000   valid/acc: 1.0000\n",
      "Epoch 543:   train/loss: 0.1880   valid/loss: 0.0370   train/acc: 1.0000   valid/acc: 1.0000\n",
      "Epoch 544:   train/loss: 0.1878   valid/loss: 0.0370   train/acc: 1.0000   valid/acc: 1.0000\n",
      "Epoch 545:   train/loss: 0.2193   valid/loss: 0.0386   train/acc: 1.0000   valid/acc: 1.0000\n",
      "Epoch 546:   train/loss: 0.2359   valid/loss: 0.0374   train/acc: 1.0000   valid/acc: 1.0000\n",
      "Epoch 547:   train/loss: 0.2253   valid/loss: 0.0385   train/acc: 1.0000   valid/acc: 1.0000\n",
      "Epoch 548:   train/loss: 0.2295   valid/loss: 0.0380   train/acc: 1.0000   valid/acc: 1.0000\n",
      "Epoch 549:   train/loss: 0.2063   valid/loss: 0.0371   train/acc: 1.0000   valid/acc: 1.0000\n"
     ]
    },
    {
     "ename": "KeyboardInterrupt",
     "evalue": "",
     "output_type": "error",
     "traceback": [
      "\u001b[0;31m---------------------------------------------------------------------------\u001b[0m",
      "\u001b[0;31mKeyboardInterrupt\u001b[0m                         Traceback (most recent call last)",
      "Input \u001b[0;32mIn [138]\u001b[0m, in \u001b[0;36m<cell line: 1>\u001b[0;34m()\u001b[0m\n\u001b[0;32m----> 1\u001b[0m \u001b[43mnpy_trainer\u001b[49m\u001b[38;5;241;43m.\u001b[39;49m\u001b[43mfit\u001b[49m\u001b[43m(\u001b[49m\u001b[43mtrain_dataset\u001b[49m\u001b[43m,\u001b[49m\u001b[43m \u001b[49m\u001b[43mval_dataset\u001b[49m\u001b[43m,\u001b[49m\u001b[43m \u001b[49m\u001b[43mevaluation_step\u001b[49m\u001b[38;5;241;43m=\u001b[39;49m\u001b[38;5;241;43m1\u001b[39;49m\u001b[43m,\u001b[49m\u001b[43m \u001b[49m\u001b[43mlogging_step\u001b[49m\u001b[38;5;241;43m=\u001b[39;49m\u001b[38;5;241;43m1\u001b[39;49m\u001b[43m)\u001b[49m\n",
      "File \u001b[0;32m~/.qbraid/environments/womanium_go14xk/pyenv/lib/python3.9/site-packages/lambeq/training/trainer.py:371\u001b[0m, in \u001b[0;36mTrainer.fit\u001b[0;34m(self, train_dataset, val_dataset, evaluation_step, logging_step)\u001b[0m\n\u001b[1;32m    369\u001b[0m step \u001b[38;5;241m+\u001b[39m\u001b[38;5;241m=\u001b[39m \u001b[38;5;241m1\u001b[39m\n\u001b[1;32m    370\u001b[0m x, y_label \u001b[38;5;241m=\u001b[39m batch\n\u001b[0;32m--> 371\u001b[0m y_hat, loss \u001b[38;5;241m=\u001b[39m \u001b[38;5;28;43mself\u001b[39;49m\u001b[38;5;241;43m.\u001b[39;49m\u001b[43mtraining_step\u001b[49m\u001b[43m(\u001b[49m\u001b[43mbatch\u001b[49m\u001b[43m)\u001b[49m\n\u001b[1;32m    372\u001b[0m \u001b[38;5;28;01mif\u001b[39;00m (\u001b[38;5;28mself\u001b[39m\u001b[38;5;241m.\u001b[39mevaluate_on_train\n\u001b[1;32m    373\u001b[0m         \u001b[38;5;129;01mand\u001b[39;00m \u001b[38;5;28mself\u001b[39m\u001b[38;5;241m.\u001b[39mevaluate_functions \u001b[38;5;129;01mis\u001b[39;00m \u001b[38;5;129;01mnot\u001b[39;00m \u001b[38;5;28;01mNone\u001b[39;00m):\n\u001b[1;32m    374\u001b[0m     \u001b[38;5;28;01mfor\u001b[39;00m metr, func \u001b[38;5;129;01min\u001b[39;00m \u001b[38;5;28mself\u001b[39m\u001b[38;5;241m.\u001b[39mevaluate_functions\u001b[38;5;241m.\u001b[39mitems():\n",
      "File \u001b[0;32m~/.qbraid/environments/womanium_go14xk/pyenv/lib/python3.9/site-packages/lambeq/training/quantum_trainer.py:153\u001b[0m, in \u001b[0;36mQuantumTrainer.training_step\u001b[0;34m(self, batch)\u001b[0m\n\u001b[1;32m    137\u001b[0m \u001b[38;5;28;01mdef\u001b[39;00m \u001b[38;5;21mtraining_step\u001b[39m(\n\u001b[1;32m    138\u001b[0m         \u001b[38;5;28mself\u001b[39m,\n\u001b[1;32m    139\u001b[0m         batch: \u001b[38;5;28mtuple\u001b[39m[\u001b[38;5;28mlist\u001b[39m[Any], np\u001b[38;5;241m.\u001b[39mndarray]) \u001b[38;5;241m-\u001b[39m\u001b[38;5;241m>\u001b[39m \u001b[38;5;28mtuple\u001b[39m[np\u001b[38;5;241m.\u001b[39mndarray, \u001b[38;5;28mfloat\u001b[39m]:\n\u001b[1;32m    140\u001b[0m     \u001b[38;5;124;03m\"\"\"Perform a training step.\u001b[39;00m\n\u001b[1;32m    141\u001b[0m \n\u001b[1;32m    142\u001b[0m \u001b[38;5;124;03m    Parameters\u001b[39;00m\n\u001b[0;32m   (...)\u001b[0m\n\u001b[1;32m    151\u001b[0m \n\u001b[1;32m    152\u001b[0m \u001b[38;5;124;03m    \"\"\"\u001b[39;00m\n\u001b[0;32m--> 153\u001b[0m     y_hat, loss \u001b[38;5;241m=\u001b[39m \u001b[38;5;28;43mself\u001b[39;49m\u001b[38;5;241;43m.\u001b[39;49m\u001b[43moptimizer\u001b[49m\u001b[38;5;241;43m.\u001b[39;49m\u001b[43mbackward\u001b[49m\u001b[43m(\u001b[49m\u001b[43mbatch\u001b[49m\u001b[43m)\u001b[49m\n\u001b[1;32m    154\u001b[0m     \u001b[38;5;28mself\u001b[39m\u001b[38;5;241m.\u001b[39mtrain_costs\u001b[38;5;241m.\u001b[39mappend(loss)\n\u001b[1;32m    155\u001b[0m     \u001b[38;5;28mself\u001b[39m\u001b[38;5;241m.\u001b[39moptimizer\u001b[38;5;241m.\u001b[39mstep()\n",
      "File \u001b[0;32m~/.qbraid/environments/womanium_go14xk/pyenv/lib/python3.9/site-packages/lambeq/training/spsa_optimizer.py:134\u001b[0m, in \u001b[0;36mSPSAOptimizer.backward\u001b[0;34m(self, batch)\u001b[0m\n\u001b[1;32m    132\u001b[0m xplus \u001b[38;5;241m=\u001b[39m \u001b[38;5;28mself\u001b[39m\u001b[38;5;241m.\u001b[39mproject(x \u001b[38;5;241m+\u001b[39m \u001b[38;5;28mself\u001b[39m\u001b[38;5;241m.\u001b[39mck \u001b[38;5;241m*\u001b[39m delta)\n\u001b[1;32m    133\u001b[0m \u001b[38;5;28mself\u001b[39m\u001b[38;5;241m.\u001b[39mmodel\u001b[38;5;241m.\u001b[39mweights \u001b[38;5;241m=\u001b[39m xplus\n\u001b[0;32m--> 134\u001b[0m y0 \u001b[38;5;241m=\u001b[39m \u001b[38;5;28;43mself\u001b[39;49m\u001b[38;5;241;43m.\u001b[39;49m\u001b[43mmodel\u001b[49m\u001b[43m(\u001b[49m\u001b[43mdiagrams\u001b[49m\u001b[43m)\u001b[49m\n\u001b[1;32m    135\u001b[0m loss0 \u001b[38;5;241m=\u001b[39m \u001b[38;5;28mself\u001b[39m\u001b[38;5;241m.\u001b[39mloss_fn(y0, targets)\n\u001b[1;32m    136\u001b[0m xminus \u001b[38;5;241m=\u001b[39m \u001b[38;5;28mself\u001b[39m\u001b[38;5;241m.\u001b[39mproject(x \u001b[38;5;241m-\u001b[39m \u001b[38;5;28mself\u001b[39m\u001b[38;5;241m.\u001b[39mck \u001b[38;5;241m*\u001b[39m delta)\n",
      "File \u001b[0;32m~/.qbraid/environments/womanium_go14xk/pyenv/lib/python3.9/site-packages/lambeq/training/model.py:64\u001b[0m, in \u001b[0;36mModel.__call__\u001b[0;34m(self, *args, **kwds)\u001b[0m\n\u001b[1;32m     63\u001b[0m \u001b[38;5;28;01mdef\u001b[39;00m \u001b[38;5;21m__call__\u001b[39m(\u001b[38;5;28mself\u001b[39m, \u001b[38;5;241m*\u001b[39margs: Any, \u001b[38;5;241m*\u001b[39m\u001b[38;5;241m*\u001b[39mkwds: Any) \u001b[38;5;241m-\u001b[39m\u001b[38;5;241m>\u001b[39m Any:\n\u001b[0;32m---> 64\u001b[0m     \u001b[38;5;28;01mreturn\u001b[39;00m \u001b[38;5;28;43mself\u001b[39;49m\u001b[38;5;241;43m.\u001b[39;49m\u001b[43mforward\u001b[49m\u001b[43m(\u001b[49m\u001b[38;5;241;43m*\u001b[39;49m\u001b[43margs\u001b[49m\u001b[43m,\u001b[49m\u001b[43m \u001b[49m\u001b[38;5;241;43m*\u001b[39;49m\u001b[38;5;241;43m*\u001b[39;49m\u001b[43mkwds\u001b[49m\u001b[43m)\u001b[49m\n",
      "Input \u001b[0;32mIn [125]\u001b[0m, in \u001b[0;36mCustomNumpyModel.forward\u001b[0;34m(self, x)\u001b[0m\n\u001b[1;32m      8\u001b[0m     s1_diagrams\u001b[38;5;241m.\u001b[39mappend(s1d)\n\u001b[1;32m      9\u001b[0m     s2_diagrams\u001b[38;5;241m.\u001b[39mappend(s2d)\n\u001b[0;32m---> 11\u001b[0m s1_output \u001b[38;5;241m=\u001b[39m \u001b[38;5;28;43mself\u001b[39;49m\u001b[38;5;241;43m.\u001b[39;49m\u001b[43mget_diagram_output\u001b[49m\u001b[43m(\u001b[49m\u001b[43ms1_diagrams\u001b[49m\u001b[43m)\u001b[49m\n\u001b[1;32m     12\u001b[0m s2_output \u001b[38;5;241m=\u001b[39m \u001b[38;5;28mself\u001b[39m\u001b[38;5;241m.\u001b[39mget_diagram_output(s2_diagrams)\n\u001b[1;32m     14\u001b[0m s1_dot_s2 \u001b[38;5;241m=\u001b[39m np\u001b[38;5;241m.\u001b[39msum(s1_output \u001b[38;5;241m*\u001b[39m s2_output, axis\u001b[38;5;241m=\u001b[39m\u001b[38;5;241m1\u001b[39m)\n",
      "File \u001b[0;32m~/.qbraid/environments/womanium_go14xk/pyenv/lib/python3.9/site-packages/lambeq/training/numpy_model.py:166\u001b[0m, in \u001b[0;36mNumpyModel.get_diagram_output\u001b[0;34m(self, diagrams)\u001b[0m\n\u001b[1;32m    159\u001b[0m     \u001b[38;5;28;01mraise\u001b[39;00m \u001b[38;5;167;01mValueError\u001b[39;00m(\u001b[38;5;124m'\u001b[39m\u001b[38;5;124mWeights and/or symbols not initialised. \u001b[39m\u001b[38;5;124m'\u001b[39m\n\u001b[1;32m    160\u001b[0m                      \u001b[38;5;124m'\u001b[39m\u001b[38;5;124mInstantiate through \u001b[39m\u001b[38;5;124m'\u001b[39m\n\u001b[1;32m    161\u001b[0m                      \u001b[38;5;124m'\u001b[39m\u001b[38;5;124m`NumpyModel.from_diagrams()` first, \u001b[39m\u001b[38;5;124m'\u001b[39m\n\u001b[1;32m    162\u001b[0m                      \u001b[38;5;124m'\u001b[39m\u001b[38;5;124mthen call `initialise_weights()`, or load \u001b[39m\u001b[38;5;124m'\u001b[39m\n\u001b[1;32m    163\u001b[0m                      \u001b[38;5;124m'\u001b[39m\u001b[38;5;124mfrom pre-trained checkpoint.\u001b[39m\u001b[38;5;124m'\u001b[39m)\n\u001b[1;32m    165\u001b[0m \u001b[38;5;28;01mif\u001b[39;00m \u001b[38;5;28mself\u001b[39m\u001b[38;5;241m.\u001b[39muse_jit:\n\u001b[0;32m--> 166\u001b[0m     lambdified_diagrams \u001b[38;5;241m=\u001b[39m [\u001b[38;5;28mself\u001b[39m\u001b[38;5;241m.\u001b[39m_get_lambda(d) \u001b[38;5;28;01mfor\u001b[39;00m d \u001b[38;5;129;01min\u001b[39;00m diagrams]\n\u001b[1;32m    167\u001b[0m     \u001b[38;5;28;01mreturn\u001b[39;00m numpy\u001b[38;5;241m.\u001b[39marray([diag_f(\u001b[38;5;241m*\u001b[39m\u001b[38;5;28mself\u001b[39m\u001b[38;5;241m.\u001b[39mweights)\n\u001b[1;32m    168\u001b[0m                         \u001b[38;5;28;01mfor\u001b[39;00m diag_f \u001b[38;5;129;01min\u001b[39;00m lambdified_diagrams])\n\u001b[1;32m    170\u001b[0m diagrams \u001b[38;5;241m=\u001b[39m \u001b[38;5;28mself\u001b[39m\u001b[38;5;241m.\u001b[39m_fast_subs(diagrams, \u001b[38;5;28mself\u001b[39m\u001b[38;5;241m.\u001b[39mweights)\n",
      "File \u001b[0;32m~/.qbraid/environments/womanium_go14xk/pyenv/lib/python3.9/site-packages/lambeq/training/numpy_model.py:166\u001b[0m, in \u001b[0;36m<listcomp>\u001b[0;34m(.0)\u001b[0m\n\u001b[1;32m    159\u001b[0m     \u001b[38;5;28;01mraise\u001b[39;00m \u001b[38;5;167;01mValueError\u001b[39;00m(\u001b[38;5;124m'\u001b[39m\u001b[38;5;124mWeights and/or symbols not initialised. \u001b[39m\u001b[38;5;124m'\u001b[39m\n\u001b[1;32m    160\u001b[0m                      \u001b[38;5;124m'\u001b[39m\u001b[38;5;124mInstantiate through \u001b[39m\u001b[38;5;124m'\u001b[39m\n\u001b[1;32m    161\u001b[0m                      \u001b[38;5;124m'\u001b[39m\u001b[38;5;124m`NumpyModel.from_diagrams()` first, \u001b[39m\u001b[38;5;124m'\u001b[39m\n\u001b[1;32m    162\u001b[0m                      \u001b[38;5;124m'\u001b[39m\u001b[38;5;124mthen call `initialise_weights()`, or load \u001b[39m\u001b[38;5;124m'\u001b[39m\n\u001b[1;32m    163\u001b[0m                      \u001b[38;5;124m'\u001b[39m\u001b[38;5;124mfrom pre-trained checkpoint.\u001b[39m\u001b[38;5;124m'\u001b[39m)\n\u001b[1;32m    165\u001b[0m \u001b[38;5;28;01mif\u001b[39;00m \u001b[38;5;28mself\u001b[39m\u001b[38;5;241m.\u001b[39muse_jit:\n\u001b[0;32m--> 166\u001b[0m     lambdified_diagrams \u001b[38;5;241m=\u001b[39m [\u001b[38;5;28;43mself\u001b[39;49m\u001b[38;5;241;43m.\u001b[39;49m\u001b[43m_get_lambda\u001b[49m\u001b[43m(\u001b[49m\u001b[43md\u001b[49m\u001b[43m)\u001b[49m \u001b[38;5;28;01mfor\u001b[39;00m d \u001b[38;5;129;01min\u001b[39;00m diagrams]\n\u001b[1;32m    167\u001b[0m     \u001b[38;5;28;01mreturn\u001b[39;00m numpy\u001b[38;5;241m.\u001b[39marray([diag_f(\u001b[38;5;241m*\u001b[39m\u001b[38;5;28mself\u001b[39m\u001b[38;5;241m.\u001b[39mweights)\n\u001b[1;32m    168\u001b[0m                         \u001b[38;5;28;01mfor\u001b[39;00m diag_f \u001b[38;5;129;01min\u001b[39;00m lambdified_diagrams])\n\u001b[1;32m    170\u001b[0m diagrams \u001b[38;5;241m=\u001b[39m \u001b[38;5;28mself\u001b[39m\u001b[38;5;241m.\u001b[39m_fast_subs(diagrams, \u001b[38;5;28mself\u001b[39m\u001b[38;5;241m.\u001b[39mweights)\n",
      "File \u001b[0;32m~/.qbraid/environments/womanium_go14xk/pyenv/lib/python3.9/site-packages/lambeq/training/numpy_model.py:100\u001b[0m, in \u001b[0;36mNumpyModel._get_lambda\u001b[0;34m(self, diagram)\u001b[0m\n\u001b[1;32m     97\u001b[0m \u001b[38;5;28;01mif\u001b[39;00m \u001b[38;5;129;01mnot\u001b[39;00m \u001b[38;5;28mself\u001b[39m\u001b[38;5;241m.\u001b[39msymbols:\n\u001b[1;32m     98\u001b[0m     \u001b[38;5;28;01mraise\u001b[39;00m \u001b[38;5;167;01mValueError\u001b[39;00m(\u001b[38;5;124m'\u001b[39m\u001b[38;5;124mSymbols not initialised. Instantiate through \u001b[39m\u001b[38;5;124m'\u001b[39m\n\u001b[1;32m     99\u001b[0m                      \u001b[38;5;124m'\u001b[39m\u001b[38;5;124m`NumpyModel.from_diagrams()`.\u001b[39m\u001b[38;5;124m'\u001b[39m)\n\u001b[0;32m--> 100\u001b[0m \u001b[38;5;28;01mif\u001b[39;00m \u001b[43mdiagram\u001b[49m\u001b[43m \u001b[49m\u001b[38;5;129;43;01min\u001b[39;49;00m\u001b[43m \u001b[49m\u001b[38;5;28;43mself\u001b[39;49m\u001b[38;5;241;43m.\u001b[39;49m\u001b[43mlambdas\u001b[49m:\n\u001b[1;32m    101\u001b[0m     \u001b[38;5;28;01mreturn\u001b[39;00m \u001b[38;5;28mself\u001b[39m\u001b[38;5;241m.\u001b[39mlambdas[diagram]\n\u001b[1;32m    103\u001b[0m \u001b[38;5;28;01mdef\u001b[39;00m \u001b[38;5;21mdiagram_output\u001b[39m(\u001b[38;5;241m*\u001b[39mx):\n",
      "File \u001b[0;32m~/.qbraid/environments/womanium_go14xk/pyenv/lib/python3.9/site-packages/discopy/monoidal.py:484\u001b[0m, in \u001b[0;36mDiagram.__hash__\u001b[0;34m(self)\u001b[0m\n\u001b[1;32m    483\u001b[0m \u001b[38;5;28;01mdef\u001b[39;00m \u001b[38;5;21m__hash__\u001b[39m(\u001b[38;5;28mself\u001b[39m):\n\u001b[0;32m--> 484\u001b[0m     \u001b[38;5;28;01mreturn\u001b[39;00m \u001b[38;5;28mhash\u001b[39m(\u001b[38;5;28;43mrepr\u001b[39;49m\u001b[43m(\u001b[49m\u001b[38;5;28;43mself\u001b[39;49m\u001b[43m)\u001b[49m)\n",
      "File \u001b[0;32m~/.qbraid/environments/womanium_go14xk/pyenv/lib/python3.9/site-packages/discopy/quantum/circuit.py:177\u001b[0m, in \u001b[0;36mCircuit.__repr__\u001b[0;34m(self)\u001b[0m\n\u001b[1;32m    176\u001b[0m \u001b[38;5;28;01mdef\u001b[39;00m \u001b[38;5;21m__repr__\u001b[39m(\u001b[38;5;28mself\u001b[39m):\n\u001b[0;32m--> 177\u001b[0m     \u001b[38;5;28;01mreturn\u001b[39;00m \u001b[38;5;28;43msuper\u001b[39;49m\u001b[43m(\u001b[49m\u001b[43m)\u001b[49m\u001b[38;5;241;43m.\u001b[39;49m\u001b[38;5;21;43m__repr__\u001b[39;49m\u001b[43m(\u001b[49m\u001b[43m)\u001b[49m\u001b[38;5;241m.\u001b[39mreplace(\u001b[38;5;124m'\u001b[39m\u001b[38;5;124mDiagram\u001b[39m\u001b[38;5;124m'\u001b[39m, \u001b[38;5;124m'\u001b[39m\u001b[38;5;124mCircuit\u001b[39m\u001b[38;5;124m'\u001b[39m)\n",
      "File \u001b[0;32m~/.qbraid/environments/womanium_go14xk/pyenv/lib/python3.9/site-packages/discopy/monoidal.py:481\u001b[0m, in \u001b[0;36mDiagram.__repr__\u001b[0;34m(self)\u001b[0m\n\u001b[1;32m    477\u001b[0m \u001b[38;5;28;01mif\u001b[39;00m \u001b[38;5;28mlen\u001b[39m(\u001b[38;5;28mself\u001b[39m\u001b[38;5;241m.\u001b[39mboxes) \u001b[38;5;241m==\u001b[39m \u001b[38;5;241m1\u001b[39m \u001b[38;5;129;01mand\u001b[39;00m \u001b[38;5;28mself\u001b[39m\u001b[38;5;241m.\u001b[39mdom \u001b[38;5;241m==\u001b[39m \u001b[38;5;28mself\u001b[39m\u001b[38;5;241m.\u001b[39mboxes[\u001b[38;5;241m0\u001b[39m]\u001b[38;5;241m.\u001b[39mdom:\n\u001b[1;32m    478\u001b[0m     \u001b[38;5;28;01mreturn\u001b[39;00m \u001b[38;5;28mrepr\u001b[39m(\u001b[38;5;28mself\u001b[39m\u001b[38;5;241m.\u001b[39mboxes[\u001b[38;5;241m0\u001b[39m])  \u001b[38;5;66;03m# i.e. self is a generator.\u001b[39;00m\n\u001b[1;32m    479\u001b[0m \u001b[38;5;28;01mreturn\u001b[39;00m \u001b[38;5;124m\"\u001b[39m\u001b[38;5;124mDiagram(dom=\u001b[39m\u001b[38;5;132;01m{}\u001b[39;00m\u001b[38;5;124m, cod=\u001b[39m\u001b[38;5;132;01m{}\u001b[39;00m\u001b[38;5;124m, boxes=\u001b[39m\u001b[38;5;132;01m{}\u001b[39;00m\u001b[38;5;124m, offsets=\u001b[39m\u001b[38;5;132;01m{}\u001b[39;00m\u001b[38;5;124m)\u001b[39m\u001b[38;5;124m\"\u001b[39m\u001b[38;5;241m.\u001b[39mformat(\n\u001b[1;32m    480\u001b[0m     \u001b[38;5;28mrepr\u001b[39m(\u001b[38;5;28mself\u001b[39m\u001b[38;5;241m.\u001b[39mdom), \u001b[38;5;28mrepr\u001b[39m(\u001b[38;5;28mself\u001b[39m\u001b[38;5;241m.\u001b[39mcod),\n\u001b[0;32m--> 481\u001b[0m     \u001b[38;5;28;43mrepr\u001b[39;49m\u001b[43m(\u001b[49m\u001b[38;5;28;43mself\u001b[39;49m\u001b[38;5;241;43m.\u001b[39;49m\u001b[43mboxes\u001b[49m\u001b[43m)\u001b[49m, \u001b[38;5;28mrepr\u001b[39m(\u001b[38;5;28mself\u001b[39m\u001b[38;5;241m.\u001b[39moffsets))\n",
      "File \u001b[0;32m~/.qbraid/environments/womanium_go14xk/pyenv/lib/python3.9/site-packages/discopy/quantum/gates.py:455\u001b[0m, in \u001b[0;36mParametrized.__repr__\u001b[0;34m(self)\u001b[0m\n\u001b[1;32m    454\u001b[0m \u001b[38;5;28;01mdef\u001b[39;00m \u001b[38;5;21m__repr__\u001b[39m(\u001b[38;5;28mself\u001b[39m):\n\u001b[0;32m--> 455\u001b[0m     \u001b[38;5;28;01mreturn\u001b[39;00m \u001b[38;5;28;43mself\u001b[39;49m\u001b[38;5;241;43m.\u001b[39;49m\u001b[43mname\u001b[49m\n",
      "File \u001b[0;32m~/.qbraid/environments/womanium_go14xk/pyenv/lib/python3.9/site-packages/discopy/quantum/gates.py:452\u001b[0m, in \u001b[0;36mParametrized.name\u001b[0;34m(self)\u001b[0m\n\u001b[1;32m    450\u001b[0m \u001b[38;5;129m@property\u001b[39m\n\u001b[1;32m    451\u001b[0m \u001b[38;5;28;01mdef\u001b[39;00m \u001b[38;5;21mname\u001b[39m(\u001b[38;5;28mself\u001b[39m):\n\u001b[0;32m--> 452\u001b[0m     \u001b[38;5;28;01mreturn\u001b[39;00m \u001b[38;5;124;43m'\u001b[39;49m\u001b[38;5;132;43;01m{}\u001b[39;49;00m\u001b[38;5;124;43m(\u001b[39;49m\u001b[38;5;132;43;01m{}\u001b[39;49;00m\u001b[38;5;124;43m)\u001b[39;49m\u001b[38;5;124;43m'\u001b[39;49m\u001b[38;5;241;43m.\u001b[39;49m\u001b[43mformat\u001b[49m\u001b[43m(\u001b[49m\u001b[38;5;28;43mself\u001b[39;49m\u001b[38;5;241;43m.\u001b[39;49m\u001b[43m_name\u001b[49m\u001b[43m,\u001b[49m\u001b[43m \u001b[49m\u001b[43mformat_number\u001b[49m\u001b[43m(\u001b[49m\u001b[38;5;28;43mself\u001b[39;49m\u001b[38;5;241;43m.\u001b[39;49m\u001b[43mdata\u001b[49m\u001b[43m)\u001b[49m\u001b[43m)\u001b[49m\n",
      "File \u001b[0;32m~/.qbraid/environments/womanium_go14xk/pyenv/lib/python3.9/site-packages/sympy/core/_print_helpers.py:29\u001b[0m, in \u001b[0;36mPrintable.__str__\u001b[0;34m(self)\u001b[0m\n\u001b[1;32m     27\u001b[0m \u001b[38;5;28;01mdef\u001b[39;00m \u001b[38;5;21m__str__\u001b[39m(\u001b[38;5;28mself\u001b[39m):\n\u001b[1;32m     28\u001b[0m     \u001b[38;5;28;01mfrom\u001b[39;00m \u001b[38;5;21;01msympy\u001b[39;00m\u001b[38;5;21;01m.\u001b[39;00m\u001b[38;5;21;01mprinting\u001b[39;00m\u001b[38;5;21;01m.\u001b[39;00m\u001b[38;5;21;01mstr\u001b[39;00m \u001b[38;5;28;01mimport\u001b[39;00m sstr\n\u001b[0;32m---> 29\u001b[0m     \u001b[38;5;28;01mreturn\u001b[39;00m \u001b[43msstr\u001b[49m\u001b[43m(\u001b[49m\u001b[38;5;28;43mself\u001b[39;49m\u001b[43m,\u001b[49m\u001b[43m \u001b[49m\u001b[43morder\u001b[49m\u001b[38;5;241;43m=\u001b[39;49m\u001b[38;5;28;43;01mNone\u001b[39;49;00m\u001b[43m)\u001b[49m\n",
      "File \u001b[0;32m~/.qbraid/environments/womanium_go14xk/pyenv/lib/python3.9/site-packages/sympy/printing/printer.py:372\u001b[0m, in \u001b[0;36m_PrintFunction.__call__\u001b[0;34m(self, *args, **kwargs)\u001b[0m\n\u001b[1;32m    371\u001b[0m \u001b[38;5;28;01mdef\u001b[39;00m \u001b[38;5;21m__call__\u001b[39m(\u001b[38;5;28mself\u001b[39m, \u001b[38;5;241m*\u001b[39margs, \u001b[38;5;241m*\u001b[39m\u001b[38;5;241m*\u001b[39mkwargs):\n\u001b[0;32m--> 372\u001b[0m     \u001b[38;5;28;01mreturn\u001b[39;00m \u001b[38;5;28;43mself\u001b[39;49m\u001b[38;5;241;43m.\u001b[39;49m\u001b[43m__wrapped__\u001b[49m\u001b[43m(\u001b[49m\u001b[38;5;241;43m*\u001b[39;49m\u001b[43margs\u001b[49m\u001b[43m,\u001b[49m\u001b[43m \u001b[49m\u001b[38;5;241;43m*\u001b[39;49m\u001b[38;5;241;43m*\u001b[39;49m\u001b[43mkwargs\u001b[49m\u001b[43m)\u001b[49m\n",
      "File \u001b[0;32m~/.qbraid/environments/womanium_go14xk/pyenv/lib/python3.9/site-packages/sympy/printing/str.py:1001\u001b[0m, in \u001b[0;36msstr\u001b[0;34m(expr, **settings)\u001b[0m\n\u001b[1;32m    985\u001b[0m \u001b[38;5;124;03m\"\"\"Returns the expression as a string.\u001b[39;00m\n\u001b[1;32m    986\u001b[0m \n\u001b[1;32m    987\u001b[0m \u001b[38;5;124;03mFor large expressions where speed is a concern, use the setting\u001b[39;00m\n\u001b[0;32m   (...)\u001b[0m\n\u001b[1;32m    997\u001b[0m \u001b[38;5;124;03m'Eq(a + b, 0)'\u001b[39;00m\n\u001b[1;32m    998\u001b[0m \u001b[38;5;124;03m\"\"\"\u001b[39;00m\n\u001b[1;32m   1000\u001b[0m p \u001b[38;5;241m=\u001b[39m StrPrinter(settings)\n\u001b[0;32m-> 1001\u001b[0m s \u001b[38;5;241m=\u001b[39m \u001b[43mp\u001b[49m\u001b[38;5;241;43m.\u001b[39;49m\u001b[43mdoprint\u001b[49m\u001b[43m(\u001b[49m\u001b[43mexpr\u001b[49m\u001b[43m)\u001b[49m\n\u001b[1;32m   1003\u001b[0m \u001b[38;5;28;01mreturn\u001b[39;00m s\n",
      "File \u001b[0;32m~/.qbraid/environments/womanium_go14xk/pyenv/lib/python3.9/site-packages/sympy/printing/printer.py:292\u001b[0m, in \u001b[0;36mPrinter.doprint\u001b[0;34m(self, expr)\u001b[0m\n\u001b[1;32m    290\u001b[0m \u001b[38;5;28;01mdef\u001b[39;00m \u001b[38;5;21mdoprint\u001b[39m(\u001b[38;5;28mself\u001b[39m, expr):\n\u001b[1;32m    291\u001b[0m     \u001b[38;5;124;03m\"\"\"Returns printer's representation for expr (as a string)\"\"\"\u001b[39;00m\n\u001b[0;32m--> 292\u001b[0m     \u001b[38;5;28;01mreturn\u001b[39;00m \u001b[38;5;28mself\u001b[39m\u001b[38;5;241m.\u001b[39m_str(\u001b[38;5;28;43mself\u001b[39;49m\u001b[38;5;241;43m.\u001b[39;49m\u001b[43m_print\u001b[49m\u001b[43m(\u001b[49m\u001b[43mexpr\u001b[49m\u001b[43m)\u001b[49m)\n",
      "File \u001b[0;32m~/.qbraid/environments/womanium_go14xk/pyenv/lib/python3.9/site-packages/sympy/printing/printer.py:327\u001b[0m, in \u001b[0;36mPrinter._print\u001b[0;34m(self, expr, **kwargs)\u001b[0m\n\u001b[1;32m    323\u001b[0m     i \u001b[38;5;241m=\u001b[39m classes\u001b[38;5;241m.\u001b[39mindex(Function)\n\u001b[1;32m    324\u001b[0m     classes \u001b[38;5;241m=\u001b[39m \u001b[38;5;28mtuple\u001b[39m(c \u001b[38;5;28;01mfor\u001b[39;00m c \u001b[38;5;129;01min\u001b[39;00m classes[:i] \u001b[38;5;28;01mif\u001b[39;00m \\\n\u001b[1;32m    325\u001b[0m         c\u001b[38;5;241m.\u001b[39m\u001b[38;5;18m__name__\u001b[39m \u001b[38;5;241m==\u001b[39m classes[\u001b[38;5;241m0\u001b[39m]\u001b[38;5;241m.\u001b[39m\u001b[38;5;18m__name__\u001b[39m \u001b[38;5;129;01mor\u001b[39;00m \\\n\u001b[1;32m    326\u001b[0m         c\u001b[38;5;241m.\u001b[39m\u001b[38;5;18m__name__\u001b[39m\u001b[38;5;241m.\u001b[39mendswith(\u001b[38;5;124m\"\u001b[39m\u001b[38;5;124mBase\u001b[39m\u001b[38;5;124m\"\u001b[39m)) \u001b[38;5;241m+\u001b[39m classes[i:]\n\u001b[0;32m--> 327\u001b[0m \u001b[38;5;28;01mfor\u001b[39;00m \u001b[38;5;28mcls\u001b[39m \u001b[38;5;129;01min\u001b[39;00m \u001b[43mclasses\u001b[49m:\n\u001b[1;32m    328\u001b[0m     printmethodname \u001b[38;5;241m=\u001b[39m \u001b[38;5;124m'\u001b[39m\u001b[38;5;124m_print_\u001b[39m\u001b[38;5;124m'\u001b[39m \u001b[38;5;241m+\u001b[39m \u001b[38;5;28mcls\u001b[39m\u001b[38;5;241m.\u001b[39m\u001b[38;5;18m__name__\u001b[39m\n\u001b[1;32m    329\u001b[0m     printmethod \u001b[38;5;241m=\u001b[39m \u001b[38;5;28mgetattr\u001b[39m(\u001b[38;5;28mself\u001b[39m, printmethodname, \u001b[38;5;28;01mNone\u001b[39;00m)\n",
      "\u001b[0;31mKeyboardInterrupt\u001b[0m: "
     ]
    }
   ],
   "source": [
    "npy_trainer.fit(train_dataset, val_dataset, evaluation_step=1, logging_step=1)"
   ]
  },
  {
   "cell_type": "code",
   "execution_count": 139,
   "id": "06828e0f-ac91-40d9-bd85-1e49e8656825",
   "metadata": {},
   "outputs": [],
   "source": [
    "import matplotlib.pyplot as plt"
   ]
  },
  {
   "cell_type": "code",
   "execution_count": 142,
   "id": "50f0027a-8300-447e-a397-9dbc889b53bd",
   "metadata": {},
   "outputs": [
    {
     "name": "stdout",
     "output_type": "stream",
     "text": [
      "Validation accuracy: 1.0\n"
     ]
    },
    {
     "data": {
      "image/png": "[encoded data removed]",
      "text/plain": [
       "<Figure size 864x432 with 4 Axes>"
      ]
     },
     "metadata": {
      "needs_background": "light"
     },
     "output_type": "display_data"
    }
   ],
   "source": [
    "fig, ((ax_tl, ax_tr), (ax_bl, ax_br)) = plt.subplots(2, 2,\n",
    "                                                     sharex=True,\n",
    "                                                     sharey=\"row\",\n",
    "                                                     figsize=(12, 6))\n",
    "\n",
    "ax_tl.set_title('Training set')\n",
    "ax_tr.set_title('Development set')\n",
    "ax_bl.set_xlabel('Iterations')\n",
    "ax_br.set_xlabel('Iterations')\n",
    "ax_bl.set_ylabel('Accuracy')\n",
    "ax_tl.set_ylabel('Loss')\n",
    "\n",
    "colours = iter(plt.rcParams['axes.prop_cycle'].by_key()['color'])\n",
    "ax_tl.plot(npy_trainer.train_epoch_costs[::], color=next(colours))\n",
    "ax_bl.plot(npy_trainer.train_results['acc'][::], color=next(colours))\n",
    "ax_tr.plot(npy_trainer.val_costs[::], color=next(colours))\n",
    "ax_br.plot(npy_trainer.val_results['acc'][::], color=next(colours))\n",
    "\n",
    "# print test accuracy\n",
    "test_acc = acc(npy_model(val_circuits), val_labels)\n",
    "print('Validation accuracy:', test_acc.item())"
   ]
  },
  {
   "cell_type": "code",
   "execution_count": 140,
   "id": "0403f29f-d616-44b0-8230-75028ab31e66",
   "metadata": {},
   "outputs": [
    {
     "name": "stdout",
     "output_type": "stream",
     "text": [
      "Validation accuracy: 1.0\n"
     ]
    },
    {
     "data": {
      "image/png": "[encoded data removed]",
      "text/plain": [
       "<Figure size 864x432 with 4 Axes>"
      ]
     },
     "metadata": {
      "needs_background": "light"
     },
     "output_type": "display_data"
    }
   ],
   "source": [
    "fig, ((ax_tl, ax_tr), (ax_bl, ax_br)) = plt.subplots(2, 2,\n",
    "                                                     sharex=True,\n",
    "                                                     sharey=\"row\",\n",
    "                                                     figsize=(12, 6))\n",
    "\n",
    "ax_tl.set_title('Training set')\n",
    "ax_tr.set_title('Development set')\n",
    "ax_bl.set_xlabel('Iterations')\n",
    "ax_br.set_xlabel('Iterations')\n",
    "ax_bl.set_ylabel('Accuracy')\n",
    "ax_tl.set_ylabel('Loss')\n",
    "\n",
    "colours = iter(plt.rcParams['axes.prop_cycle'].by_key()['color'])\n",
    "ax_tl.plot(trainer.train_epoch_costs[::10], color=next(colours))\n",
    "ax_bl.plot(trainer.train_results['acc'][::10], color=next(colours))\n",
    "ax_tr.plot(trainer.val_costs[::10], color=next(colours))\n",
    "ax_br.plot(trainer.val_results['acc'][::10], color=next(colours))\n",
    "\n",
    "# print test accuracy\n",
    "test_acc = acc(npy_model(val_circuits), val_labels)\n",
    "print('Validation accuracy:', test_acc.item())"
   ]
  },
  {
   "cell_type": "code",
   "execution_count": 89,
   "id": "961abd60-0add-4b8b-bc83-7a25a3078882",
   "metadata": {},
   "outputs": [
    {
     "data": {
      "text/plain": [
       "'runs/Aug12_15-04-37_jupyter-neiljohn-2eortega-40gmail-2ecom'"
      ]
     },
     "execution_count": 89,
     "metadata": {},
     "output_type": "execute_result"
    }
   ],
   "source": [
    "log_dir = trainer.log_dir\n",
    "log_dir"
   ]
  },
  {
   "cell_type": "code",
   "execution_count": null,
   "id": "fd5c72bf-d938-4e4b-b0f2-ba57d9c31ddd",
   "metadata": {},
   "outputs": [],
   "source": [
    "tket_model.make_checkpoint(\"./checkpoints\")"
   ]
  },
  {
   "cell_type": "markdown",
   "id": "2e409e8e-14f7-4edd-aec1-5344c4615507",
   "metadata": {},
   "source": [
    "### Aside: What happens during the forward pass?"
   ]
  },
  {
   "cell_type": "code",
   "execution_count": 55,
   "id": "b109ef5b-baeb-43ac-b714-a121cd3b0c4d",
   "metadata": {},
   "outputs": [],
   "source": [
    "from discopy.quantum import Circuit"
   ]
  },
  {
   "cell_type": "code",
   "execution_count": 52,
   "id": "cc525c0c-050b-4b47-b5b9-686a5c87fc2d",
   "metadata": {},
   "outputs": [
    {
     "data": {
      "text/plain": [
       "Circuit(dom=Ty(), cod=qubit, boxes=[Ket(0, 0, 0), H, H, H, Controlled(Rz(creates__n.r@s@n.l_0), distance=1), Controlled(Rz(creates__n.r@s@n.l_1), distance=1), Rx(hacker__n_2), Rz(hacker__n_1), Rx(hacker__n_0), Bra(0), Rx(code__n_2), Rz(code__n_1), Rx(code__n_0), Bra(0)], offsets=[0, 0, 1, 2, 0, 1, 0, 0, 0, 0, 1, 1, 1, 1])"
      ]
     },
     "execution_count": 52,
     "metadata": {},
     "output_type": "execute_result"
    }
   ],
   "source": [
    "all_circuits[0]"
   ]
  },
  {
   "cell_type": "code",
   "execution_count": 74,
   "id": "37c14699-2164-4c4f-a1d2-a3ba7a8d9a8f",
   "metadata": {},
   "outputs": [
    {
     "data": {
      "image/png": "[encoded data removed]",
      "text/plain": [
       "<Figure size 1152x648 with 1 Axes>"
      ]
     },
     "metadata": {},
     "output_type": "display_data"
    }
   ],
   "source": [
    "all_diagrams[0].draw(figsize=(16, 9), fontsize=12)"
   ]
  },
  {
   "cell_type": "code",
   "execution_count": 59,
   "id": "ed0e4266-57db-4c98-8526-a3c2e3b006e4",
   "metadata": {},
   "outputs": [
    {
     "data": {
      "image/png": "[encoded data removed]",
      "text/plain": [
       "<Figure size 1152x648 with 1 Axes>"
      ]
     },
     "metadata": {},
     "output_type": "display_data"
    }
   ],
   "source": [
    "all_circuits[0].draw(figsize=(16, 9), fontsize=12)"
   ]
  },
  {
   "cell_type": "code",
   "execution_count": 58,
   "id": "ebffb5f8-b3bf-4542-a979-5d64e7d1c67e",
   "metadata": {},
   "outputs": [
    {
     "data": {
      "text/html": [
       "\n",
       "\n",
       "\n",
       "\n",
       "\n",
       "\n",
       "<iframe srcdoc=\"\n",
       "&lt;!DOCTYPE html&gt;\n",
       "&lt;html lang=&#34;en&#34;&gt;\n",
       "&lt;head&gt;\n",
       "    &lt;meta charset=&#34;UTF-8&#34;&gt;\n",
       "\n",
       "    &lt;script type=&#34;application/javascript&#34; src=&#34;https://cdn.jsdelivr.net/npm/vue@3&#34;&gt;&lt;/script&gt;\n",
       "    &lt;script type=&#34;application/javascript&#34; src=&#34;https://unpkg.com/pytket-circuit-renderer@0.2/dist/pytket-circuit-renderer.umd.js&#34;&gt;&lt;/script&gt;\n",
       "    &lt;link rel=&#34;stylesheet&#34; href=&#34;https://unpkg.com/pytket-circuit-renderer@0.2/dist/pytket-circuit-renderer.css&#34;&gt;\n",
       "&lt;/head&gt;\n",
       "&lt;body&gt;\n",
       "    &lt;div id=&#34;circuit-display-vue-container-03b1f519-82e3-4706-b243-59b6cb37f690&#34; class=&#34;pytket-circuit-display-container&#34;&gt;\n",
       "        &lt;div style=&#34;display: none&#34;&gt;\n",
       "            &lt;div id=&#34;circuit-json-to-display&#34;&gt;{&#34;bits&#34;: [[&#34;c&#34;, [0]], [&#34;c&#34;, [1]]], &#34;commands&#34;: [{&#34;args&#34;: [[&#34;q&#34;, [0]]], &#34;op&#34;: {&#34;type&#34;: &#34;H&#34;}}, {&#34;args&#34;: [[&#34;q&#34;, [1]]], &#34;op&#34;: {&#34;type&#34;: &#34;H&#34;}}, {&#34;args&#34;: [[&#34;q&#34;, [2]]], &#34;op&#34;: {&#34;type&#34;: &#34;H&#34;}}, {&#34;args&#34;: [[&#34;q&#34;, [0]], [&#34;q&#34;, [1]]], &#34;op&#34;: {&#34;params&#34;: [&#34;2*creates__n.r@s@n.l_0&#34;], &#34;type&#34;: &#34;CRz&#34;}}, {&#34;args&#34;: [[&#34;q&#34;, [0]]], &#34;op&#34;: {&#34;params&#34;: [&#34;2*hacker__n_2&#34;], &#34;type&#34;: &#34;Rx&#34;}}, {&#34;args&#34;: [[&#34;q&#34;, [1]], [&#34;q&#34;, [2]]], &#34;op&#34;: {&#34;params&#34;: [&#34;2*creates__n.r@s@n.l_1&#34;], &#34;type&#34;: &#34;CRz&#34;}}, {&#34;args&#34;: [[&#34;q&#34;, [0]]], &#34;op&#34;: {&#34;params&#34;: [&#34;2*hacker__n_1&#34;], &#34;type&#34;: &#34;Rz&#34;}}, {&#34;args&#34;: [[&#34;q&#34;, [2]]], &#34;op&#34;: {&#34;params&#34;: [&#34;2*code__n_2&#34;], &#34;type&#34;: &#34;Rx&#34;}}, {&#34;args&#34;: [[&#34;q&#34;, [0]]], &#34;op&#34;: {&#34;params&#34;: [&#34;2*hacker__n_0&#34;], &#34;type&#34;: &#34;Rx&#34;}}, {&#34;args&#34;: [[&#34;q&#34;, [2]]], &#34;op&#34;: {&#34;params&#34;: [&#34;2*code__n_1&#34;], &#34;type&#34;: &#34;Rz&#34;}}, {&#34;args&#34;: [[&#34;q&#34;, [0]], [&#34;c&#34;, [0]]], &#34;op&#34;: {&#34;type&#34;: &#34;Measure&#34;}}, {&#34;args&#34;: [[&#34;q&#34;, [2]]], &#34;op&#34;: {&#34;params&#34;: [&#34;2*code__n_0&#34;], &#34;type&#34;: &#34;Rx&#34;}}, {&#34;args&#34;: [[&#34;q&#34;, [2]], [&#34;c&#34;, [1]]], &#34;op&#34;: {&#34;type&#34;: &#34;Measure&#34;}}], &#34;implicit_permutation&#34;: [[[&#34;q&#34;, [0]], [&#34;q&#34;, [0]]], [[&#34;q&#34;, [1]], [&#34;q&#34;, [1]]], [[&#34;q&#34;, [2]], [&#34;q&#34;, [2]]]], &#34;phase&#34;: &#34;0.0&#34;, &#34;qubits&#34;: [[&#34;q&#34;, [0]], [&#34;q&#34;, [1]], [&#34;q&#34;, [2]]]}&lt;/div&gt;\n",
       "        &lt;/div&gt;\n",
       "        &lt;circuit-display-container :circuit-element-str=&#34;&#39;#circuit-json-to-display&#39;&#34;&gt;&lt;/circuit-display-container&gt;\n",
       "    &lt;/div&gt;\n",
       "\n",
       "    &lt;script type=&#34;application/javascript&#34;&gt;\n",
       "        const { createApp } = Vue;\n",
       "        const circuitDisplayContainer = window[&#34;pytket-circuit-renderer&#34;].default;\n",
       "\n",
       "        // Init variables to be shared between circuit display instances\n",
       "        if (typeof window.pytketCircuitDisplays === &#34;undefined&#34;) {\n",
       "            window.pytketCircuitDisplays = {};\n",
       "        }\n",
       "\n",
       "        const uid = &#34;03b1f519-82e3-4706-b243-59b6cb37f690&#34;;\n",
       "\n",
       "        // Create the root Vue component\n",
       "        window.pytketCircuitDisplays[uid] = createApp({\n",
       "            delimiters: [&#39;[[#&#39;, &#39;#]]&#39;],\n",
       "            components: { circuitDisplayContainer },\n",
       "        }).mount(&#34;#circuit-display-vue-container-&#34;+uid);\n",
       "    &lt;/script&gt;\n",
       "&lt;/body&gt;\n",
       "&lt;/html&gt;\n",
       "\"\n",
       "        width=\"100%\" height=\"200px\"\n",
       "        style=\"border: none; outline: none; resize: vertical; overflow: auto\"></iframe>\n",
       "\n"
      ],
      "text/plain": [
       "<IPython.core.display.HTML object>"
      ]
     },
     "metadata": {},
     "output_type": "display_data"
    }
   ],
   "source": [
    "render_circuit_jupyter(all_circuits[0].to_tk())"
   ]
  },
  {
   "cell_type": "code",
   "execution_count": 54,
   "id": "66dde5b1-1397-4a59-b115-0bce56d10d2b",
   "metadata": {},
   "outputs": [],
   "source": [
    "lambdified_diagram = model._make_lambda(all_circuits[0])"
   ]
  },
  {
   "cell_type": "code",
   "execution_count": 62,
   "id": "c04eb1eb-c76b-43ad-a8cf-8b18f5081caa",
   "metadata": {},
   "outputs": [
    {
     "data": {
      "text/plain": [
       "function"
      ]
     },
     "execution_count": 62,
     "metadata": {},
     "output_type": "execute_result"
    }
   ],
   "source": [
    "type(lambdified_diagram)"
   ]
  },
  {
   "cell_type": "code",
   "execution_count": 68,
   "id": "48f0612f-a7cf-45dd-b86f-d465ad2a45d5",
   "metadata": {},
   "outputs": [
    {
     "data": {
      "text/plain": [
       "(33,)"
      ]
     },
     "execution_count": 68,
     "metadata": {},
     "output_type": "execute_result"
    }
   ],
   "source": [
    "model.weights.shape"
   ]
  },
  {
   "cell_type": "code",
   "execution_count": 72,
   "id": "28aec440-b4b8-4234-8218-7ba2a50de193",
   "metadata": {},
   "outputs": [
    {
     "data": {
      "text/plain": [
       "Circuit(dom=Ty(), cod=bit, boxes=[Ket(0, 0, 0), H, H, H, Controlled(Rz(0.14), distance=1), Controlled(Rz(0.798), distance=1), Rx(0.502), Rz(0.434), Rx(0.628), Bra(0), Rx(0.936), Rz(0.0306), Rx(0.563), Bra(0), Measure()], offsets=[0, 0, 1, 2, 0, 1, 0, 0, 0, 0, 1, 1, 1, 1, 0])"
      ]
     },
     "execution_count": 72,
     "metadata": {},
     "output_type": "execute_result"
    }
   ],
   "source": [
    "lambdified_diagram(*model.weights)"
   ]
  },
  {
   "cell_type": "code",
   "execution_count": 56,
   "id": "b264fb6b-1544-4849-8c6a-55bb5a4591e7",
   "metadata": {},
   "outputs": [],
   "source": [
    "tensors = Circuit.eval(\n",
    "    *lambdified_diagram(*model.weights),\n",
    "    **model.backend_config,\n",
    "    seed=model._randint(),\n",
    ")"
   ]
  },
  {
   "cell_type": "code",
   "execution_count": 61,
   "id": "80a79d5b-912a-4c0d-ac69-997fe0446c14",
   "metadata": {},
   "outputs": [
    {
     "data": {
      "text/plain": [
       "[Tensor(dom=Dim(1), cod=Dim(1), array=[1.+0.j]),\n",
       " Tensor(dom=Dim(1), cod=Dim(1), array=[1.+0.j]),\n",
       " Tensor(dom=Dim(1), cod=Dim(1), array=[1.+0.j]),\n",
       " Tensor(dom=Dim(1), cod=Dim(1), array=[1.+0.j]),\n",
       " Tensor(dom=Dim(1), cod=Dim(1), array=[1.+0.j]),\n",
       " Tensor(dom=Dim(1), cod=Dim(1), array=[1.+0.j]),\n",
       " Tensor(dom=Dim(1), cod=Dim(1), array=[1.+0.j]),\n",
       " Tensor(dom=Dim(1), cod=Dim(1), array=[1.+0.j]),\n",
       " Tensor(dom=Dim(1), cod=Dim(1), array=[1.+0.j]),\n",
       " Tensor(dom=Dim(1), cod=Dim(1), array=[1.+0.j]),\n",
       " Tensor(dom=Dim(1), cod=Dim(1), array=[1.+0.j]),\n",
       " Tensor(dom=Dim(1), cod=Dim(1), array=[1.+0.j]),\n",
       " Tensor(dom=Dim(1), cod=Dim(1), array=[1.+0.j]),\n",
       " Tensor(dom=Dim(1), cod=Dim(1), array=[1.+0.j]),\n",
       " Tensor(dom=Dim(1), cod=Dim(2), array=[1.+0.j, 0.+0.j])]"
      ]
     },
     "execution_count": 61,
     "metadata": {},
     "output_type": "execute_result"
    }
   ],
   "source": [
    "tensors"
   ]
  },
  {
   "cell_type": "code",
   "execution_count": 66,
   "id": "293f141f-bfb6-49fe-b2a3-c5457e295c34",
   "metadata": {},
   "outputs": [
    {
     "data": {
      "text/plain": [
       "array([1.0, 1.0, 1.0, 1.0, 1.0, 1.0, 1.0, 1.0, 1.0, 1.0, 1.0, 1.0, 1.0,\n",
       "       1.0, array([9.99999999e-01, 9.99999998e-10])], dtype=object)"
      ]
     },
     "execution_count": 66,
     "metadata": {},
     "output_type": "execute_result"
    }
   ],
   "source": [
    "np.array([model._normalise_vector(t.array) for t in tensors])"
   ]
  },
  {
   "cell_type": "markdown",
   "id": "3ec532af-98a5-482c-9402-104b83f00a03",
   "metadata": {},
   "source": [
    "## Questions/Notes"
   ]
  },
  {
   "cell_type": "markdown",
   "id": "4561234c-28a4-4725-8120-4691ece5ddb2",
   "metadata": {},
   "source": [
    "- What is getting measured?\n",
    "- Domain = input, codomain = output, box = function\n",
    "- Model must receive __ALL__ circuits during init - including all datasplits. This is similar to sequence models having a fixed sequence length during init."
   ]
  },
  {
   "cell_type": "markdown",
   "id": "5e24a05c-9c3e-4deb-948a-3fb4d060e29c",
   "metadata": {
    "tags": []
   },
   "source": [
    "### Debugging"
   ]
  },
  {
   "cell_type": "code",
   "execution_count": 52,
   "id": "b8dd063f-430a-4a3a-81f8-e5a1676e48c7",
   "metadata": {},
   "outputs": [
    {
     "ename": "NameError",
     "evalue": "name 'CustomNumpyModel' is not defined",
     "output_type": "error",
     "traceback": [
      "\u001b[0;31m---------------------------------------------------------------------------\u001b[0m",
      "\u001b[0;31mNameError\u001b[0m                                 Traceback (most recent call last)",
      "Input \u001b[0;32mIn [52]\u001b[0m, in \u001b[0;36m<cell line: 1>\u001b[0;34m()\u001b[0m\n\u001b[0;32m----> 1\u001b[0m model \u001b[38;5;241m=\u001b[39m \u001b[43mCustomNumpyModel\u001b[49m\u001b[38;5;241m.\u001b[39mfrom_diagrams(np\u001b[38;5;241m.\u001b[39marray(all_circuits)\u001b[38;5;241m.\u001b[39mreshape(\u001b[38;5;241m-\u001b[39m\u001b[38;5;241m1\u001b[39m),\n\u001b[1;32m      2\u001b[0m                                        use_jit\u001b[38;5;241m=\u001b[39m\u001b[38;5;28;01mTrue\u001b[39;00m,)\n",
      "\u001b[0;31mNameError\u001b[0m: name 'CustomNumpyModel' is not defined"
     ]
    }
   ],
   "source": [
    "model = CustomNumpyModel.from_diagrams(np.array(all_circuits).reshape(-1),\n",
    "                                       use_jit=True,)\n",
    "                                       # backend_config=backend_config)"
   ]
  },
  {
   "cell_type": "code",
   "execution_count": null,
   "id": "2af3446f-81bc-4c0b-a5b7-3978b9171aab",
   "metadata": {
    "tags": []
   },
   "outputs": [],
   "source": [
    "# Customize QuantumTrainer\n",
    "from abc import ABC, abstractmethod\n",
    "from collections.abc import Callable, Mapping\n",
    "from datetime import datetime\n",
    "from math import ceil\n",
    "import os\n",
    "import random\n",
    "import socket\n",
    "import sys\n",
    "from typing import Any, Optional, Union\n",
    "from typing import TYPE_CHECKING\n",
    "\n",
    "from discopy import Tensor\n",
    "from tqdm.notebook import tqdm, trange\n",
    "\n",
    "if TYPE_CHECKING:\n",
    "    from torch.utils.tensorboard import SummaryWriter\n",
    "\n",
    "from lambeq.core.globals import VerbosityLevel\n",
    "from lambeq.training.checkpoint import Checkpoint\n",
    "from lambeq.training.dataset import Dataset\n",
    "from lambeq.training.model import Model\n",
    "\n",
    "\n",
    "def _import_tensorboard_writer() -> None:\n",
    "    global SummaryWriter\n",
    "    try:\n",
    "        from torch.utils.tensorboard import SummaryWriter\n",
    "    except ImportError:  # pragma: no cover\n",
    "        raise ImportError('tensorboard not found. Please install it using '\n",
    "                          '`pip install tensorboard`.')\n",
    "\n",
    "\n",
    "_StrPathT = Union[str, 'os.PathLike[str]']\n",
    "\n",
    "\n",
    "class CustomQuantumTrainer(QuantumTrainer):\n",
    "    def fit(self,\n",
    "            train_dataset: Dataset,\n",
    "            val_dataset: Optional[Dataset] = None,\n",
    "            evaluation_step: int = 1,\n",
    "            logging_step: int = 1) -> None:\n",
    "        \"\"\"Fit the model on the training data and, optionally,\n",
    "        evaluate it on the validation data.\n",
    "\n",
    "        Parameters\n",
    "        ----------\n",
    "        train_dataset : :py:class:`Dataset`\n",
    "            Dataset used for training.\n",
    "        val_dataset : :py:class:`Dataset`, optional\n",
    "            Validation dataset.\n",
    "        evaluation_step : int, default: 1\n",
    "            Sets the intervals at which the metrics are evaluated on the\n",
    "            validation dataset.\n",
    "        logging_step : int, default: 1\n",
    "            Sets the intervals at which the training statistics are\n",
    "            printed if `verbose = 'text'` (otherwise ignored).\n",
    "\n",
    "        \"\"\"\n",
    "        if self.from_checkpoint:\n",
    "            self._load_extra_chkpoint_info(self.checkpoint)\n",
    "\n",
    "        def writer_helper(*args: Any) -> None:\n",
    "            if self.use_tensorboard:\n",
    "                self.writer.add_scalar(*args)\n",
    "            else:\n",
    "                print(*args)\n",
    "\n",
    "        # initialise progress bar\n",
    "        step = self.start_step\n",
    "        batches_per_epoch = ceil(len(train_dataset)/train_dataset.batch_size)\n",
    "        status_bar = tqdm(total=float('inf'),\n",
    "                          bar_format='{desc}',\n",
    "                          desc=self._generate_stat_report(),\n",
    "                          disable=(\n",
    "                                self.verbose != VerbosityLevel.PROGRESS.value),\n",
    "                          leave=True,\n",
    "                          position=0)\n",
    "\n",
    "        # start training loop\n",
    "        for epoch in trange(self.start_epoch,\n",
    "                            self.epochs,\n",
    "                            desc='Epoch',\n",
    "                            disable=(\n",
    "                                self.verbose != VerbosityLevel.PROGRESS.value),\n",
    "                            leave=False,\n",
    "                            position=1):\n",
    "            train_loss = 0.0\n",
    "            with Tensor.backend(self.backend):\n",
    "                for batch in tqdm(train_dataset,\n",
    "                                  desc='Batch',\n",
    "                                  total=batches_per_epoch,\n",
    "                                  disable=(self.verbose\n",
    "                                           != VerbosityLevel.PROGRESS.value),\n",
    "                                  leave=False,\n",
    "                                  position=2):\n",
    "                    step += 1\n",
    "                    x, y_label = batch\n",
    "                    y_hat, loss = self.training_step(batch)\n",
    "                    if (self.evaluate_on_train\n",
    "                            and self.evaluate_functions is not None):\n",
    "                        for metr, func in self.evaluate_functions.items():\n",
    "                            res = func(y_hat, y_label)\n",
    "                            metric = self._train_results_epoch[metr]\n",
    "                            metric.append(len(x) * res)\n",
    "                    train_loss += len(batch[0]) * loss\n",
    "                    writer_helper('train/step_loss', loss, step)\n",
    "                    status_bar.set_description(\n",
    "                            self._generate_stat_report(\n",
    "                                train_loss=loss,\n",
    "                                val_loss=(self.val_costs[-1] if self.val_costs\n",
    "                                          else None)))\n",
    "            train_loss /= len(train_dataset)\n",
    "            self.train_epoch_costs.append(train_loss)\n",
    "            writer_helper('train/epoch_loss', train_loss, epoch + 1)\n",
    "\n",
    "            # evaluate on train\n",
    "            if (self.evaluate_on_train\n",
    "                    and self.evaluate_functions is not None):\n",
    "                for name in self._train_results_epoch:\n",
    "                    self.train_results[name].append(\n",
    "                        sum(self._train_results_epoch[name])/len(train_dataset)\n",
    "                    )\n",
    "                    self._train_results_epoch[name] = []  # reset\n",
    "                    writer_helper(\n",
    "                        f'train/{name}', self.train_results[name][-1],\n",
    "                        epoch+1)\n",
    "                    if self.verbose == VerbosityLevel.PROGRESS.value:\n",
    "                        status_bar.set_description(\n",
    "                                self._generate_stat_report(\n",
    "                                    train_loss=train_loss,\n",
    "                                    val_loss=(self.val_costs[-1]\n",
    "                                              if self.val_costs else None)))\n",
    "\n",
    "            # evaluate metrics on validation data\n",
    "            if val_dataset is not None:\n",
    "                if epoch % evaluation_step == 0:\n",
    "                    val_loss = 0.0\n",
    "                    batches_per_validation = ceil(len(val_dataset)\n",
    "                                                  / val_dataset.batch_size)\n",
    "                    writer_helper('batches_per_validation', batches_per_validation, len(val_dataset), val_dataset.batch_size)\n",
    "                    with Tensor.backend(self.backend):\n",
    "                        disable_tqdm = (self.verbose\n",
    "                                        != VerbosityLevel.PROGRESS.value)\n",
    "                        for v_batch in tqdm(val_dataset,\n",
    "                                            desc='Validation batch',\n",
    "                                            total=batches_per_validation,\n",
    "                                            disable=disable_tqdm,\n",
    "                                            leave=False,\n",
    "                                            position=2):\n",
    "                            writer_helper(\"***\", v_batch)\n",
    "                            x_val, y_label_val = v_batch\n",
    "                            writer_helper(\"***\", x_val, y_label_val)\n",
    "                            y_hat_val, cur_loss = self.validation_step(v_batch)\n",
    "                            writer_helper(\"***\", y_hat_val, cur_loss)\n",
    "                            val_loss += cur_loss * len(x_val)\n",
    "                            if self.evaluate_functions is not None:\n",
    "                                for metr, func in (\n",
    "                                        self.evaluate_functions.items()):\n",
    "                                    res = func(y_hat_val, y_label_val)\n",
    "                                    self._val_results_epoch[metr].append(\n",
    "                                        len(x_val)*res)\n",
    "                            status_bar.set_description(\n",
    "                                    self._generate_stat_report(\n",
    "                                        train_loss=train_loss,\n",
    "                                        val_loss=val_loss))\n",
    "                        val_loss /= len(val_dataset)\n",
    "                        self.val_costs.append(val_loss)\n",
    "                        status_bar.set_description(\n",
    "                                self._generate_stat_report(\n",
    "                                    train_loss=train_loss,\n",
    "                                    val_loss=val_loss))\n",
    "                        writer_helper('val/loss', val_loss, epoch+1)\n",
    "\n",
    "                    if self.evaluate_functions is not None:\n",
    "                        for name in self._val_results_epoch:\n",
    "                            self.val_results[name].append(\n",
    "                                sum(self._val_results_epoch[name])\n",
    "                                / len(val_dataset))\n",
    "                            self._val_results_epoch[name] = []  # reset\n",
    "                            writer_helper(\n",
    "                                f'val/{name}', self.val_results[name][-1],\n",
    "                                epoch + 1)\n",
    "                            status_bar.set_description(\n",
    "                                    self._generate_stat_report(\n",
    "                                        train_loss=train_loss,\n",
    "                                        val_loss=val_loss))\n",
    "            # save checkpoint info\n",
    "            save_dict = {'epoch': epoch+1,\n",
    "                         'model_weights': self.model.weights,\n",
    "                         'model_symbols': self.model.symbols,\n",
    "                        'train_costs': self.train_costs,\n",
    "                         'train_epoch_costs': self.train_epoch_costs,\n",
    "                         'train_results': self.train_results,\n",
    "                         'val_costs': self.val_costs,\n",
    "                         'val_results': self.val_results,\n",
    "                         'random_state': random.getstate(),\n",
    "                         'step': step}\n",
    "            print(f\"save_dict: {save_dict}\")\n",
    "            self.save_checkpoint(save_dict, self.log_dir)\n",
    "            if self.verbose == VerbosityLevel.TEXT.value:\n",
    "                if epoch == 0 or (epoch+1) % logging_step == 0:\n",
    "                    space = (len(str(self.epochs))-len(str(epoch+1)) + 2) * ' '\n",
    "                    prefix = f'Epoch {epoch+1}:' + space\n",
    "                    print(prefix + self._generate_stat_report(\n",
    "                            train_loss=train_loss,\n",
    "                            val_loss=(self.val_costs[-1] if self.val_costs\n",
    "                                      else None)),\n",
    "                          file=sys.stderr)\n",
    "        status_bar.close()\n",
    "        if self.verbose == VerbosityLevel.TEXT.value:\n",
    "            print('\\nTraining completed!', file=sys.stderr)"
   ]
  },
  {
   "cell_type": "code",
   "execution_count": null,
   "id": "da59ed4b-1cec-4cf1-a135-0d86b5fe9a30",
   "metadata": {},
   "outputs": [],
   "source": []
  }
 ],
 "metadata": {
  "kernelspec": {
   "display_name": "Python 3 [Womanium]",
   "language": "python",
   "name": "python3_womanium_go14xk"
  },
  "language_info": {
   "codemirror_mode": {
    "name": "ipython",
    "version": 3
   },
   "file_extension": ".py",
   "mimetype": "text/x-python",
   "name": "python",
   "nbconvert_exporter": "python",
   "pygments_lexer": "ipython3",
   "version": "3.9.10"
  }
 },
 "nbformat": 4,
 "nbformat_minor": 5
}
